{
 "cells": [
  {
   "cell_type": "markdown",
   "metadata": {},
   "source": [
    "# IABAC™ EXAM - PROJECT"
   ]
  },
  {
   "cell_type": "raw",
   "metadata": {},
   "source": [
    "* Name                 : Saniya Saman\n",
    "* Mail                 : ss.saman.96@gmail.com\n",
    "* Contact              : 9986557300\n",
    "* Rep Name             : DataMites™ Solutions Pvt Ltd\n",
    "* Assessment ID        : E10901-PR2-V18\n",
    "* Module               : Certified Data Scientist - Project\n",
    "* Exam Format          : Open Project- IABAC™ Project Submission\n",
    "* Submission Date      : 08-Feb-2022 \n",
    "* Registered Trainer   : Ashok Kumar A\n",
    "* Project Assessment   : IABAC™ \n",
    "* Project Code         : 10281"
   ]
  },
  {
   "cell_type": "markdown",
   "metadata": {},
   "source": [
    "# INX Future Inc - Employee Performance Analysis"
   ]
  },
  {
   "cell_type": "markdown",
   "metadata": {},
   "source": [
    "# Project Summary\n",
    "\n",
    "The project given here is about one of the leading data analytics and automation solutions provider. The aim of project is to find the main causes of performance issues in the company to take the right course of actions and penalize the non-performing employees without affecting the morale of all the employees in general. And likewise, attracting the best talents to join the company.\n"
   ]
  },
  {
   "cell_type": "markdown",
   "metadata": {},
   "source": [
    "The insights expected from this project are:\n",
    "\n",
    "1. Top 3 important factors effecting performance of the employees\n",
    "2. Department wise performances\n",
    "3. A trained model which can predict the performance of employees based on the factors that will be used to hire the employees\n",
    "4. Recommendations to improve the employee performance based on insights from analysis"
   ]
  },
  {
   "cell_type": "markdown",
   "metadata": {},
   "source": [
    "We follow the steps of lifecycle for this Data Science Project\n",
    "\n",
    "1. Identifying the case and categorising the problem to be solved\n",
    "   Ex: Regression, Classification, Time Series\n",
    "\n",
    "2. Collection of data\n",
    "\n",
    "3. Identifying the dependent and independent variables\n",
    "\n",
    "4. Getting the insights from data and finding which variables are impacting the target variable with the help of domain knowledge (Exploratory Data Analysis)\n",
    "\n",
    "5. Processing the data as required by the dataset\n",
    "   a) Removing unwanted columns like ID's and columns with most missing values\n",
    "   b) Checking the missing values\n",
    "   c) Checking for outliers\n",
    "   d) Describing the categorical data and numerical data\n",
    "   e) Feature scaling\n",
    "   f) Handling the imbalance dataset\n",
    "   g) Formatting and cleaning the data\n",
    "   \n",
    "6. Performing feature selection operation\n",
    "   Ex: Pearson correlation, Extra tree classifier, Heat map, etc.\n",
    "\n",
    "7. Model selection an building.\n",
    "   There are 2 methods in selecting a model\n",
    "   a) Testing all the possible algorithms for the data to check which algorithm works the best\n",
    "   b) Trying to understand what the algorithm does before deciding if it is good fit for the scenario\n",
    "      Understanding how the algorithm works and it's limitations.   \n"
   ]
  },
  {
   "cell_type": "markdown",
   "metadata": {},
   "source": [
    "The dataset \"INX_Future_Inc_Employee_Performance_CDS_Project2_Data_V1.8.xls\" given is in the excel format. The structured data of employees has 1200 data for performing the Machine Learning Algorithms. The shape of the data is 1200,28. And the total number of features present in the data are 28. Out of which, there are 19 nummeric columns, 8 categoric columns and 1 alpha-numeric column (The column which represents the ID of the employees)."
   ]
  },
  {
   "cell_type": "markdown",
   "metadata": {},
   "source": [
    "# I. Identifying The Scenario"
   ]
  },
  {
   "cell_type": "markdown",
   "metadata": {},
   "source": [
    "The aim is to analyse the current employee data and list out the core underlying causes of performance issues in the company. The important Feature Selection is the use of target variables by removing the irrelevent variables present in the dataset (Dimensionally Reduction).\n",
    "\n",
    "Correlation technique is used to determine how one variable is positively correlated/ negatively correlated/ not correlated with the other variables in the dataset.\n",
    "\n",
    "We use the Classification type of Supervised Machine Learning Algorithms and group the conditions accordingly. The classified Machine Learning Models used in this project are - Random Forest and Gradient Booster Classifier as they predict considerably higher accuracy.\n",
    "\n",
    "Random Forest Algorithm creates decision trees on data samples and then gets the prediction from each of them and finally selects the best solution by means of voting i.e, an ensemble method, where it reduces the over-fitting by averaging the result.\n",
    "\n",
    "XGBoost (Extreme Gradient Boosting) is an implementation of gradient boosted decision trees designed for speed and performance. As it is used for our training data as it as multiple features to predict a target variable."
   ]
  },
  {
   "cell_type": "markdown",
   "metadata": {},
   "source": [
    "# II. Collection Of Data"
   ]
  },
  {
   "cell_type": "markdown",
   "metadata": {},
   "source": [
    "The source of the excel format dataset \"INX_Future_Inc_Employee_Performance_CDS_Project2_Data_V1.8.xls\" is given from IABAC. The dataset is the detailed information of the performance of employees in particular aspects of their work. The company and the employee details mentioned in the dataset is a fictional scenario."
   ]
  },
  {
   "cell_type": "markdown",
   "metadata": {},
   "source": [
    "# III. Identifying The Dependent and Independent Variables"
   ]
  },
  {
   "cell_type": "markdown",
   "metadata": {},
   "source": [
    "The dataset has 28 features about the employees which tells the relation between dependent and independent variables. The features can be divided into 3 types - Categorical, Numerical, Alpha-Numeric."
   ]
  },
  {
   "cell_type": "markdown",
   "metadata": {},
   "source": [
    "### Categorical Features: \n",
    "1. Gender\n",
    "2. Education Background\n",
    "3. Marital Status\n",
    "4. Emp Department\t\n",
    "5. Emp Job Role\t\n",
    "6. Business Travel Frequency\n",
    "7. Over Time\n",
    "8. Attrition"
   ]
  },
  {
   "cell_type": "markdown",
   "metadata": {},
   "source": [
    "### Numerical Features: \n",
    "1. Age\n",
    "2. Distance From Home\t\n",
    "3. Emp Education Level\t\n",
    "4. Emp Environment Satisfaction\n",
    "5. Emp Hourly Rate\t\n",
    "6. Emp Job Involvement\t\n",
    "7. Emp Job Level\t\n",
    "8. Emp Job Satisfaction\t\n",
    "9. Num Companies Worked\n",
    "10. Emp Last Salary Hike Percent\t\n",
    "11. Emp Relationship Satisfaction\t\n",
    "12. Total Work Experience In Years\t\n",
    "13. Training Times Last Year\t\n",
    "14. Emp Work Life Balance\t\n",
    "15. Experience Years At This Company\n",
    "16. Experience Years In Current Role\t\n",
    "17. Years Since Last Promotion\t\n",
    "18. Years With Curr Manager\n",
    "19. Performance Rating"
   ]
  },
  {
   "cell_type": "markdown",
   "metadata": {},
   "source": [
    "### Alpha - Numeric Features: \n",
    "1. EmpNumber"
   ]
  },
  {
   "cell_type": "markdown",
   "metadata": {},
   "source": [
    "# IV. Getting Insights From The Data (EDA - Exploratory Data Analysis)\n",
    "\n",
    "We get the insights by reading the dataset and finding which variables are impacting the target variable with the help of domain knowledge. Finding the Shape, Description, Identifying relationship in the dataset and Organising the dataset.\n"
   ]
  },
  {
   "cell_type": "markdown",
   "metadata": {},
   "source": [
    "# V. Processing The Data\n",
    "\n",
    "\n",
    "We remove the unwanted column i.e, EmpNumber (which indicates the ID of the employee). Then check for NAN and NULL values if any, but there are none. We made a list of categorical and numerical data and perform feature scaling to check the type of data present in it. As there are none NAN and Null values, there is no requirement of cleaning the data."
   ]
  },
  {
   "cell_type": "markdown",
   "metadata": {},
   "source": [
    "# VI. Feature Selection\n",
    "\n",
    "1. Reduce the number of input variables to develop a predictive model\n",
    "2. Checking for the features with high correlation that are more linearly dependent on each other\n",
    "3. Thereby performing analysis by visualising the heat map of correlation between all the numerical features present in the dataset\n",
    "4. The pandas dataframe conviniently provides the Pearson Correlation values of all the columns of numerical data in the form of pairs. Therefore, only the numerical features are going to be used\n",
    "5. The heat map indicates the level of numerical data correlating between 0 to 1\n",
    "\n",
    "Here, Age is an important criteria for the Total number of work experience an employee has. "
   ]
  },
  {
   "cell_type": "markdown",
   "metadata": {},
   "source": [
    "# VII. Model Selection and Building\n",
    "\n",
    "After checking for all the possible algorithms on the dataset the best 2 algorithms that are suitable are Random Forest and Gradient Boosted Algorithm. The dataset is divided into Training set and Test set before implementing into the Machine Learning Models."
   ]
  },
  {
   "cell_type": "markdown",
   "metadata": {},
   "source": [
    "# CODE FOR THE PROJECT"
   ]
  },
  {
   "cell_type": "markdown",
   "metadata": {},
   "source": [
    "### Import Packages"
   ]
  },
  {
   "cell_type": "code",
   "execution_count": 1,
   "metadata": {},
   "outputs": [],
   "source": [
    "import numpy as np\n",
    "import pandas as pd\n",
    "import random as rnd"
   ]
  },
  {
   "cell_type": "markdown",
   "metadata": {},
   "source": [
    "### Read the Data"
   ]
  },
  {
   "cell_type": "markdown",
   "metadata": {},
   "source": [
    "### Variable name - emp_data"
   ]
  },
  {
   "cell_type": "code",
   "execution_count": 2,
   "metadata": {},
   "outputs": [
    {
     "data": {
      "text/html": [
       "<div>\n",
       "<style scoped>\n",
       "    .dataframe tbody tr th:only-of-type {\n",
       "        vertical-align: middle;\n",
       "    }\n",
       "\n",
       "    .dataframe tbody tr th {\n",
       "        vertical-align: top;\n",
       "    }\n",
       "\n",
       "    .dataframe thead th {\n",
       "        text-align: right;\n",
       "    }\n",
       "</style>\n",
       "<table border=\"1\" class=\"dataframe\">\n",
       "  <thead>\n",
       "    <tr style=\"text-align: right;\">\n",
       "      <th></th>\n",
       "      <th>EmpNumber</th>\n",
       "      <th>Age</th>\n",
       "      <th>Gender</th>\n",
       "      <th>EducationBackground</th>\n",
       "      <th>MaritalStatus</th>\n",
       "      <th>EmpDepartment</th>\n",
       "      <th>EmpJobRole</th>\n",
       "      <th>BusinessTravelFrequency</th>\n",
       "      <th>DistanceFromHome</th>\n",
       "      <th>EmpEducationLevel</th>\n",
       "      <th>...</th>\n",
       "      <th>EmpRelationshipSatisfaction</th>\n",
       "      <th>TotalWorkExperienceInYears</th>\n",
       "      <th>TrainingTimesLastYear</th>\n",
       "      <th>EmpWorkLifeBalance</th>\n",
       "      <th>ExperienceYearsAtThisCompany</th>\n",
       "      <th>ExperienceYearsInCurrentRole</th>\n",
       "      <th>YearsSinceLastPromotion</th>\n",
       "      <th>YearsWithCurrManager</th>\n",
       "      <th>Attrition</th>\n",
       "      <th>PerformanceRating</th>\n",
       "    </tr>\n",
       "  </thead>\n",
       "  <tbody>\n",
       "    <tr>\n",
       "      <th>0</th>\n",
       "      <td>E1001000</td>\n",
       "      <td>32</td>\n",
       "      <td>Male</td>\n",
       "      <td>Marketing</td>\n",
       "      <td>Single</td>\n",
       "      <td>Sales</td>\n",
       "      <td>Sales Executive</td>\n",
       "      <td>Travel_Rarely</td>\n",
       "      <td>10</td>\n",
       "      <td>3</td>\n",
       "      <td>...</td>\n",
       "      <td>4</td>\n",
       "      <td>10</td>\n",
       "      <td>2</td>\n",
       "      <td>2</td>\n",
       "      <td>10</td>\n",
       "      <td>7</td>\n",
       "      <td>0</td>\n",
       "      <td>8</td>\n",
       "      <td>No</td>\n",
       "      <td>3</td>\n",
       "    </tr>\n",
       "    <tr>\n",
       "      <th>1</th>\n",
       "      <td>E1001006</td>\n",
       "      <td>47</td>\n",
       "      <td>Male</td>\n",
       "      <td>Marketing</td>\n",
       "      <td>Single</td>\n",
       "      <td>Sales</td>\n",
       "      <td>Sales Executive</td>\n",
       "      <td>Travel_Rarely</td>\n",
       "      <td>14</td>\n",
       "      <td>4</td>\n",
       "      <td>...</td>\n",
       "      <td>4</td>\n",
       "      <td>20</td>\n",
       "      <td>2</td>\n",
       "      <td>3</td>\n",
       "      <td>7</td>\n",
       "      <td>7</td>\n",
       "      <td>1</td>\n",
       "      <td>7</td>\n",
       "      <td>No</td>\n",
       "      <td>3</td>\n",
       "    </tr>\n",
       "    <tr>\n",
       "      <th>2</th>\n",
       "      <td>E1001007</td>\n",
       "      <td>40</td>\n",
       "      <td>Male</td>\n",
       "      <td>Life Sciences</td>\n",
       "      <td>Married</td>\n",
       "      <td>Sales</td>\n",
       "      <td>Sales Executive</td>\n",
       "      <td>Travel_Frequently</td>\n",
       "      <td>5</td>\n",
       "      <td>4</td>\n",
       "      <td>...</td>\n",
       "      <td>3</td>\n",
       "      <td>20</td>\n",
       "      <td>2</td>\n",
       "      <td>3</td>\n",
       "      <td>18</td>\n",
       "      <td>13</td>\n",
       "      <td>1</td>\n",
       "      <td>12</td>\n",
       "      <td>No</td>\n",
       "      <td>4</td>\n",
       "    </tr>\n",
       "    <tr>\n",
       "      <th>3</th>\n",
       "      <td>E1001009</td>\n",
       "      <td>41</td>\n",
       "      <td>Male</td>\n",
       "      <td>Human Resources</td>\n",
       "      <td>Divorced</td>\n",
       "      <td>Human Resources</td>\n",
       "      <td>Manager</td>\n",
       "      <td>Travel_Rarely</td>\n",
       "      <td>10</td>\n",
       "      <td>4</td>\n",
       "      <td>...</td>\n",
       "      <td>2</td>\n",
       "      <td>23</td>\n",
       "      <td>2</td>\n",
       "      <td>2</td>\n",
       "      <td>21</td>\n",
       "      <td>6</td>\n",
       "      <td>12</td>\n",
       "      <td>6</td>\n",
       "      <td>No</td>\n",
       "      <td>3</td>\n",
       "    </tr>\n",
       "    <tr>\n",
       "      <th>4</th>\n",
       "      <td>E1001010</td>\n",
       "      <td>60</td>\n",
       "      <td>Male</td>\n",
       "      <td>Marketing</td>\n",
       "      <td>Single</td>\n",
       "      <td>Sales</td>\n",
       "      <td>Sales Executive</td>\n",
       "      <td>Travel_Rarely</td>\n",
       "      <td>16</td>\n",
       "      <td>4</td>\n",
       "      <td>...</td>\n",
       "      <td>4</td>\n",
       "      <td>10</td>\n",
       "      <td>1</td>\n",
       "      <td>3</td>\n",
       "      <td>2</td>\n",
       "      <td>2</td>\n",
       "      <td>2</td>\n",
       "      <td>2</td>\n",
       "      <td>No</td>\n",
       "      <td>3</td>\n",
       "    </tr>\n",
       "    <tr>\n",
       "      <th>...</th>\n",
       "      <td>...</td>\n",
       "      <td>...</td>\n",
       "      <td>...</td>\n",
       "      <td>...</td>\n",
       "      <td>...</td>\n",
       "      <td>...</td>\n",
       "      <td>...</td>\n",
       "      <td>...</td>\n",
       "      <td>...</td>\n",
       "      <td>...</td>\n",
       "      <td>...</td>\n",
       "      <td>...</td>\n",
       "      <td>...</td>\n",
       "      <td>...</td>\n",
       "      <td>...</td>\n",
       "      <td>...</td>\n",
       "      <td>...</td>\n",
       "      <td>...</td>\n",
       "      <td>...</td>\n",
       "      <td>...</td>\n",
       "      <td>...</td>\n",
       "    </tr>\n",
       "    <tr>\n",
       "      <th>1195</th>\n",
       "      <td>E100992</td>\n",
       "      <td>27</td>\n",
       "      <td>Female</td>\n",
       "      <td>Medical</td>\n",
       "      <td>Divorced</td>\n",
       "      <td>Sales</td>\n",
       "      <td>Sales Executive</td>\n",
       "      <td>Travel_Frequently</td>\n",
       "      <td>3</td>\n",
       "      <td>1</td>\n",
       "      <td>...</td>\n",
       "      <td>2</td>\n",
       "      <td>6</td>\n",
       "      <td>3</td>\n",
       "      <td>3</td>\n",
       "      <td>6</td>\n",
       "      <td>5</td>\n",
       "      <td>0</td>\n",
       "      <td>4</td>\n",
       "      <td>No</td>\n",
       "      <td>4</td>\n",
       "    </tr>\n",
       "    <tr>\n",
       "      <th>1196</th>\n",
       "      <td>E100993</td>\n",
       "      <td>37</td>\n",
       "      <td>Male</td>\n",
       "      <td>Life Sciences</td>\n",
       "      <td>Single</td>\n",
       "      <td>Development</td>\n",
       "      <td>Senior Developer</td>\n",
       "      <td>Travel_Rarely</td>\n",
       "      <td>10</td>\n",
       "      <td>2</td>\n",
       "      <td>...</td>\n",
       "      <td>1</td>\n",
       "      <td>4</td>\n",
       "      <td>2</td>\n",
       "      <td>3</td>\n",
       "      <td>1</td>\n",
       "      <td>0</td>\n",
       "      <td>0</td>\n",
       "      <td>0</td>\n",
       "      <td>No</td>\n",
       "      <td>3</td>\n",
       "    </tr>\n",
       "    <tr>\n",
       "      <th>1197</th>\n",
       "      <td>E100994</td>\n",
       "      <td>50</td>\n",
       "      <td>Male</td>\n",
       "      <td>Medical</td>\n",
       "      <td>Married</td>\n",
       "      <td>Development</td>\n",
       "      <td>Senior Developer</td>\n",
       "      <td>Travel_Rarely</td>\n",
       "      <td>28</td>\n",
       "      <td>1</td>\n",
       "      <td>...</td>\n",
       "      <td>3</td>\n",
       "      <td>20</td>\n",
       "      <td>3</td>\n",
       "      <td>3</td>\n",
       "      <td>20</td>\n",
       "      <td>8</td>\n",
       "      <td>3</td>\n",
       "      <td>8</td>\n",
       "      <td>No</td>\n",
       "      <td>3</td>\n",
       "    </tr>\n",
       "    <tr>\n",
       "      <th>1198</th>\n",
       "      <td>E100995</td>\n",
       "      <td>34</td>\n",
       "      <td>Female</td>\n",
       "      <td>Medical</td>\n",
       "      <td>Single</td>\n",
       "      <td>Data Science</td>\n",
       "      <td>Data Scientist</td>\n",
       "      <td>Travel_Rarely</td>\n",
       "      <td>9</td>\n",
       "      <td>3</td>\n",
       "      <td>...</td>\n",
       "      <td>2</td>\n",
       "      <td>9</td>\n",
       "      <td>3</td>\n",
       "      <td>4</td>\n",
       "      <td>8</td>\n",
       "      <td>7</td>\n",
       "      <td>7</td>\n",
       "      <td>7</td>\n",
       "      <td>No</td>\n",
       "      <td>3</td>\n",
       "    </tr>\n",
       "    <tr>\n",
       "      <th>1199</th>\n",
       "      <td>E100998</td>\n",
       "      <td>24</td>\n",
       "      <td>Female</td>\n",
       "      <td>Life Sciences</td>\n",
       "      <td>Single</td>\n",
       "      <td>Sales</td>\n",
       "      <td>Sales Executive</td>\n",
       "      <td>Travel_Rarely</td>\n",
       "      <td>3</td>\n",
       "      <td>2</td>\n",
       "      <td>...</td>\n",
       "      <td>1</td>\n",
       "      <td>4</td>\n",
       "      <td>3</td>\n",
       "      <td>3</td>\n",
       "      <td>2</td>\n",
       "      <td>2</td>\n",
       "      <td>2</td>\n",
       "      <td>0</td>\n",
       "      <td>Yes</td>\n",
       "      <td>2</td>\n",
       "    </tr>\n",
       "  </tbody>\n",
       "</table>\n",
       "<p>1200 rows × 28 columns</p>\n",
       "</div>"
      ],
      "text/plain": [
       "     EmpNumber  Age  Gender EducationBackground MaritalStatus  \\\n",
       "0     E1001000   32    Male           Marketing        Single   \n",
       "1     E1001006   47    Male           Marketing        Single   \n",
       "2     E1001007   40    Male       Life Sciences       Married   \n",
       "3     E1001009   41    Male     Human Resources      Divorced   \n",
       "4     E1001010   60    Male           Marketing        Single   \n",
       "...        ...  ...     ...                 ...           ...   \n",
       "1195   E100992   27  Female             Medical      Divorced   \n",
       "1196   E100993   37    Male       Life Sciences        Single   \n",
       "1197   E100994   50    Male             Medical       Married   \n",
       "1198   E100995   34  Female             Medical        Single   \n",
       "1199   E100998   24  Female       Life Sciences        Single   \n",
       "\n",
       "        EmpDepartment        EmpJobRole BusinessTravelFrequency  \\\n",
       "0               Sales   Sales Executive           Travel_Rarely   \n",
       "1               Sales   Sales Executive           Travel_Rarely   \n",
       "2               Sales   Sales Executive       Travel_Frequently   \n",
       "3     Human Resources           Manager           Travel_Rarely   \n",
       "4               Sales   Sales Executive           Travel_Rarely   \n",
       "...               ...               ...                     ...   \n",
       "1195            Sales   Sales Executive       Travel_Frequently   \n",
       "1196      Development  Senior Developer           Travel_Rarely   \n",
       "1197      Development  Senior Developer           Travel_Rarely   \n",
       "1198     Data Science    Data Scientist           Travel_Rarely   \n",
       "1199            Sales   Sales Executive           Travel_Rarely   \n",
       "\n",
       "      DistanceFromHome  EmpEducationLevel  ...  EmpRelationshipSatisfaction  \\\n",
       "0                   10                  3  ...                            4   \n",
       "1                   14                  4  ...                            4   \n",
       "2                    5                  4  ...                            3   \n",
       "3                   10                  4  ...                            2   \n",
       "4                   16                  4  ...                            4   \n",
       "...                ...                ...  ...                          ...   \n",
       "1195                 3                  1  ...                            2   \n",
       "1196                10                  2  ...                            1   \n",
       "1197                28                  1  ...                            3   \n",
       "1198                 9                  3  ...                            2   \n",
       "1199                 3                  2  ...                            1   \n",
       "\n",
       "      TotalWorkExperienceInYears  TrainingTimesLastYear  EmpWorkLifeBalance  \\\n",
       "0                             10                      2                   2   \n",
       "1                             20                      2                   3   \n",
       "2                             20                      2                   3   \n",
       "3                             23                      2                   2   \n",
       "4                             10                      1                   3   \n",
       "...                          ...                    ...                 ...   \n",
       "1195                           6                      3                   3   \n",
       "1196                           4                      2                   3   \n",
       "1197                          20                      3                   3   \n",
       "1198                           9                      3                   4   \n",
       "1199                           4                      3                   3   \n",
       "\n",
       "      ExperienceYearsAtThisCompany  ExperienceYearsInCurrentRole  \\\n",
       "0                               10                             7   \n",
       "1                                7                             7   \n",
       "2                               18                            13   \n",
       "3                               21                             6   \n",
       "4                                2                             2   \n",
       "...                            ...                           ...   \n",
       "1195                             6                             5   \n",
       "1196                             1                             0   \n",
       "1197                            20                             8   \n",
       "1198                             8                             7   \n",
       "1199                             2                             2   \n",
       "\n",
       "     YearsSinceLastPromotion  YearsWithCurrManager  Attrition  \\\n",
       "0                          0                     8         No   \n",
       "1                          1                     7         No   \n",
       "2                          1                    12         No   \n",
       "3                         12                     6         No   \n",
       "4                          2                     2         No   \n",
       "...                      ...                   ...        ...   \n",
       "1195                       0                     4         No   \n",
       "1196                       0                     0         No   \n",
       "1197                       3                     8         No   \n",
       "1198                       7                     7         No   \n",
       "1199                       2                     0        Yes   \n",
       "\n",
       "      PerformanceRating  \n",
       "0                     3  \n",
       "1                     3  \n",
       "2                     4  \n",
       "3                     3  \n",
       "4                     3  \n",
       "...                 ...  \n",
       "1195                  4  \n",
       "1196                  3  \n",
       "1197                  3  \n",
       "1198                  3  \n",
       "1199                  2  \n",
       "\n",
       "[1200 rows x 28 columns]"
      ]
     },
     "execution_count": 2,
     "metadata": {},
     "output_type": "execute_result"
    }
   ],
   "source": [
    "document='INX_Future_Inc_Employee_Performance_CDS_Project2_Data_V1.8.xls'\n",
    "emp_data=pd.read_excel(document)\n",
    "emp_data"
   ]
  },
  {
   "cell_type": "markdown",
   "metadata": {},
   "source": [
    "### List out the Columns / Features"
   ]
  },
  {
   "cell_type": "code",
   "execution_count": 3,
   "metadata": {
    "scrolled": true
   },
   "outputs": [
    {
     "name": "stdout",
     "output_type": "stream",
     "text": [
      "['EmpNumber' 'Age' 'Gender' 'EducationBackground' 'MaritalStatus'\n",
      " 'EmpDepartment' 'EmpJobRole' 'BusinessTravelFrequency' 'DistanceFromHome'\n",
      " 'EmpEducationLevel' 'EmpEnvironmentSatisfaction' 'EmpHourlyRate'\n",
      " 'EmpJobInvolvement' 'EmpJobLevel' 'EmpJobSatisfaction'\n",
      " 'NumCompaniesWorked' 'OverTime' 'EmpLastSalaryHikePercent'\n",
      " 'EmpRelationshipSatisfaction' 'TotalWorkExperienceInYears'\n",
      " 'TrainingTimesLastYear' 'EmpWorkLifeBalance'\n",
      " 'ExperienceYearsAtThisCompany' 'ExperienceYearsInCurrentRole'\n",
      " 'YearsSinceLastPromotion' 'YearsWithCurrManager' 'Attrition'\n",
      " 'PerformanceRating']\n"
     ]
    }
   ],
   "source": [
    "print(emp_data.columns.values)"
   ]
  },
  {
   "cell_type": "markdown",
   "metadata": {},
   "source": [
    "### Shape of the Data"
   ]
  },
  {
   "cell_type": "code",
   "execution_count": 4,
   "metadata": {
    "scrolled": true
   },
   "outputs": [
    {
     "data": {
      "text/plain": [
       "(1200, 28)"
      ]
     },
     "execution_count": 4,
     "metadata": {},
     "output_type": "execute_result"
    }
   ],
   "source": [
    "emp_data.shape"
   ]
  },
  {
   "cell_type": "markdown",
   "metadata": {},
   "source": [
    "### Types of Data / Features Present in the Dataset"
   ]
  },
  {
   "cell_type": "code",
   "execution_count": 5,
   "metadata": {
    "scrolled": true
   },
   "outputs": [
    {
     "name": "stdout",
     "output_type": "stream",
     "text": [
      "<class 'pandas.core.frame.DataFrame'>\n",
      "RangeIndex: 1200 entries, 0 to 1199\n",
      "Data columns (total 28 columns):\n",
      " #   Column                        Non-Null Count  Dtype \n",
      "---  ------                        --------------  ----- \n",
      " 0   EmpNumber                     1200 non-null   object\n",
      " 1   Age                           1200 non-null   int64 \n",
      " 2   Gender                        1200 non-null   object\n",
      " 3   EducationBackground           1200 non-null   object\n",
      " 4   MaritalStatus                 1200 non-null   object\n",
      " 5   EmpDepartment                 1200 non-null   object\n",
      " 6   EmpJobRole                    1200 non-null   object\n",
      " 7   BusinessTravelFrequency       1200 non-null   object\n",
      " 8   DistanceFromHome              1200 non-null   int64 \n",
      " 9   EmpEducationLevel             1200 non-null   int64 \n",
      " 10  EmpEnvironmentSatisfaction    1200 non-null   int64 \n",
      " 11  EmpHourlyRate                 1200 non-null   int64 \n",
      " 12  EmpJobInvolvement             1200 non-null   int64 \n",
      " 13  EmpJobLevel                   1200 non-null   int64 \n",
      " 14  EmpJobSatisfaction            1200 non-null   int64 \n",
      " 15  NumCompaniesWorked            1200 non-null   int64 \n",
      " 16  OverTime                      1200 non-null   object\n",
      " 17  EmpLastSalaryHikePercent      1200 non-null   int64 \n",
      " 18  EmpRelationshipSatisfaction   1200 non-null   int64 \n",
      " 19  TotalWorkExperienceInYears    1200 non-null   int64 \n",
      " 20  TrainingTimesLastYear         1200 non-null   int64 \n",
      " 21  EmpWorkLifeBalance            1200 non-null   int64 \n",
      " 22  ExperienceYearsAtThisCompany  1200 non-null   int64 \n",
      " 23  ExperienceYearsInCurrentRole  1200 non-null   int64 \n",
      " 24  YearsSinceLastPromotion       1200 non-null   int64 \n",
      " 25  YearsWithCurrManager          1200 non-null   int64 \n",
      " 26  Attrition                     1200 non-null   object\n",
      " 27  PerformanceRating             1200 non-null   int64 \n",
      "dtypes: int64(19), object(9)\n",
      "memory usage: 262.6+ KB\n"
     ]
    }
   ],
   "source": [
    "emp_data.info()"
   ]
  },
  {
   "cell_type": "markdown",
   "metadata": {},
   "source": [
    "### Distribution of Categorical and Numerical data"
   ]
  },
  {
   "cell_type": "code",
   "execution_count": 6,
   "metadata": {
    "scrolled": true
   },
   "outputs": [
    {
     "data": {
      "text/html": [
       "<div>\n",
       "<style scoped>\n",
       "    .dataframe tbody tr th:only-of-type {\n",
       "        vertical-align: middle;\n",
       "    }\n",
       "\n",
       "    .dataframe tbody tr th {\n",
       "        vertical-align: top;\n",
       "    }\n",
       "\n",
       "    .dataframe thead th {\n",
       "        text-align: right;\n",
       "    }\n",
       "</style>\n",
       "<table border=\"1\" class=\"dataframe\">\n",
       "  <thead>\n",
       "    <tr style=\"text-align: right;\">\n",
       "      <th></th>\n",
       "      <th>Age</th>\n",
       "      <th>DistanceFromHome</th>\n",
       "      <th>EmpEducationLevel</th>\n",
       "      <th>EmpEnvironmentSatisfaction</th>\n",
       "      <th>EmpHourlyRate</th>\n",
       "      <th>EmpJobInvolvement</th>\n",
       "      <th>EmpJobLevel</th>\n",
       "      <th>EmpJobSatisfaction</th>\n",
       "      <th>NumCompaniesWorked</th>\n",
       "      <th>EmpLastSalaryHikePercent</th>\n",
       "      <th>EmpRelationshipSatisfaction</th>\n",
       "      <th>TotalWorkExperienceInYears</th>\n",
       "      <th>TrainingTimesLastYear</th>\n",
       "      <th>EmpWorkLifeBalance</th>\n",
       "      <th>ExperienceYearsAtThisCompany</th>\n",
       "      <th>ExperienceYearsInCurrentRole</th>\n",
       "      <th>YearsSinceLastPromotion</th>\n",
       "      <th>YearsWithCurrManager</th>\n",
       "      <th>PerformanceRating</th>\n",
       "    </tr>\n",
       "  </thead>\n",
       "  <tbody>\n",
       "    <tr>\n",
       "      <th>count</th>\n",
       "      <td>1200.000000</td>\n",
       "      <td>1200.000000</td>\n",
       "      <td>1200.00000</td>\n",
       "      <td>1200.000000</td>\n",
       "      <td>1200.000000</td>\n",
       "      <td>1200.000000</td>\n",
       "      <td>1200.000000</td>\n",
       "      <td>1200.000000</td>\n",
       "      <td>1200.000000</td>\n",
       "      <td>1200.000000</td>\n",
       "      <td>1200.000000</td>\n",
       "      <td>1200.000000</td>\n",
       "      <td>1200.000000</td>\n",
       "      <td>1200.000000</td>\n",
       "      <td>1200.000000</td>\n",
       "      <td>1200.000000</td>\n",
       "      <td>1200.000000</td>\n",
       "      <td>1200.000000</td>\n",
       "      <td>1200.000000</td>\n",
       "    </tr>\n",
       "    <tr>\n",
       "      <th>mean</th>\n",
       "      <td>36.918333</td>\n",
       "      <td>9.165833</td>\n",
       "      <td>2.89250</td>\n",
       "      <td>2.715833</td>\n",
       "      <td>65.981667</td>\n",
       "      <td>2.731667</td>\n",
       "      <td>2.067500</td>\n",
       "      <td>2.732500</td>\n",
       "      <td>2.665000</td>\n",
       "      <td>15.222500</td>\n",
       "      <td>2.725000</td>\n",
       "      <td>11.330000</td>\n",
       "      <td>2.785833</td>\n",
       "      <td>2.744167</td>\n",
       "      <td>7.077500</td>\n",
       "      <td>4.291667</td>\n",
       "      <td>2.194167</td>\n",
       "      <td>4.105000</td>\n",
       "      <td>2.948333</td>\n",
       "    </tr>\n",
       "    <tr>\n",
       "      <th>std</th>\n",
       "      <td>9.087289</td>\n",
       "      <td>8.176636</td>\n",
       "      <td>1.04412</td>\n",
       "      <td>1.090599</td>\n",
       "      <td>20.211302</td>\n",
       "      <td>0.707164</td>\n",
       "      <td>1.107836</td>\n",
       "      <td>1.100888</td>\n",
       "      <td>2.469384</td>\n",
       "      <td>3.625918</td>\n",
       "      <td>1.075642</td>\n",
       "      <td>7.797228</td>\n",
       "      <td>1.263446</td>\n",
       "      <td>0.699374</td>\n",
       "      <td>6.236899</td>\n",
       "      <td>3.613744</td>\n",
       "      <td>3.221560</td>\n",
       "      <td>3.541576</td>\n",
       "      <td>0.518866</td>\n",
       "    </tr>\n",
       "    <tr>\n",
       "      <th>min</th>\n",
       "      <td>18.000000</td>\n",
       "      <td>1.000000</td>\n",
       "      <td>1.00000</td>\n",
       "      <td>1.000000</td>\n",
       "      <td>30.000000</td>\n",
       "      <td>1.000000</td>\n",
       "      <td>1.000000</td>\n",
       "      <td>1.000000</td>\n",
       "      <td>0.000000</td>\n",
       "      <td>11.000000</td>\n",
       "      <td>1.000000</td>\n",
       "      <td>0.000000</td>\n",
       "      <td>0.000000</td>\n",
       "      <td>1.000000</td>\n",
       "      <td>0.000000</td>\n",
       "      <td>0.000000</td>\n",
       "      <td>0.000000</td>\n",
       "      <td>0.000000</td>\n",
       "      <td>2.000000</td>\n",
       "    </tr>\n",
       "    <tr>\n",
       "      <th>25%</th>\n",
       "      <td>30.000000</td>\n",
       "      <td>2.000000</td>\n",
       "      <td>2.00000</td>\n",
       "      <td>2.000000</td>\n",
       "      <td>48.000000</td>\n",
       "      <td>2.000000</td>\n",
       "      <td>1.000000</td>\n",
       "      <td>2.000000</td>\n",
       "      <td>1.000000</td>\n",
       "      <td>12.000000</td>\n",
       "      <td>2.000000</td>\n",
       "      <td>6.000000</td>\n",
       "      <td>2.000000</td>\n",
       "      <td>2.000000</td>\n",
       "      <td>3.000000</td>\n",
       "      <td>2.000000</td>\n",
       "      <td>0.000000</td>\n",
       "      <td>2.000000</td>\n",
       "      <td>3.000000</td>\n",
       "    </tr>\n",
       "    <tr>\n",
       "      <th>50%</th>\n",
       "      <td>36.000000</td>\n",
       "      <td>7.000000</td>\n",
       "      <td>3.00000</td>\n",
       "      <td>3.000000</td>\n",
       "      <td>66.000000</td>\n",
       "      <td>3.000000</td>\n",
       "      <td>2.000000</td>\n",
       "      <td>3.000000</td>\n",
       "      <td>2.000000</td>\n",
       "      <td>14.000000</td>\n",
       "      <td>3.000000</td>\n",
       "      <td>10.000000</td>\n",
       "      <td>3.000000</td>\n",
       "      <td>3.000000</td>\n",
       "      <td>5.000000</td>\n",
       "      <td>3.000000</td>\n",
       "      <td>1.000000</td>\n",
       "      <td>3.000000</td>\n",
       "      <td>3.000000</td>\n",
       "    </tr>\n",
       "    <tr>\n",
       "      <th>75%</th>\n",
       "      <td>43.000000</td>\n",
       "      <td>14.000000</td>\n",
       "      <td>4.00000</td>\n",
       "      <td>4.000000</td>\n",
       "      <td>83.000000</td>\n",
       "      <td>3.000000</td>\n",
       "      <td>3.000000</td>\n",
       "      <td>4.000000</td>\n",
       "      <td>4.000000</td>\n",
       "      <td>18.000000</td>\n",
       "      <td>4.000000</td>\n",
       "      <td>15.000000</td>\n",
       "      <td>3.000000</td>\n",
       "      <td>3.000000</td>\n",
       "      <td>10.000000</td>\n",
       "      <td>7.000000</td>\n",
       "      <td>3.000000</td>\n",
       "      <td>7.000000</td>\n",
       "      <td>3.000000</td>\n",
       "    </tr>\n",
       "    <tr>\n",
       "      <th>max</th>\n",
       "      <td>60.000000</td>\n",
       "      <td>29.000000</td>\n",
       "      <td>5.00000</td>\n",
       "      <td>4.000000</td>\n",
       "      <td>100.000000</td>\n",
       "      <td>4.000000</td>\n",
       "      <td>5.000000</td>\n",
       "      <td>4.000000</td>\n",
       "      <td>9.000000</td>\n",
       "      <td>25.000000</td>\n",
       "      <td>4.000000</td>\n",
       "      <td>40.000000</td>\n",
       "      <td>6.000000</td>\n",
       "      <td>4.000000</td>\n",
       "      <td>40.000000</td>\n",
       "      <td>18.000000</td>\n",
       "      <td>15.000000</td>\n",
       "      <td>17.000000</td>\n",
       "      <td>4.000000</td>\n",
       "    </tr>\n",
       "  </tbody>\n",
       "</table>\n",
       "</div>"
      ],
      "text/plain": [
       "               Age  DistanceFromHome  EmpEducationLevel  \\\n",
       "count  1200.000000       1200.000000         1200.00000   \n",
       "mean     36.918333          9.165833            2.89250   \n",
       "std       9.087289          8.176636            1.04412   \n",
       "min      18.000000          1.000000            1.00000   \n",
       "25%      30.000000          2.000000            2.00000   \n",
       "50%      36.000000          7.000000            3.00000   \n",
       "75%      43.000000         14.000000            4.00000   \n",
       "max      60.000000         29.000000            5.00000   \n",
       "\n",
       "       EmpEnvironmentSatisfaction  EmpHourlyRate  EmpJobInvolvement  \\\n",
       "count                 1200.000000    1200.000000        1200.000000   \n",
       "mean                     2.715833      65.981667           2.731667   \n",
       "std                      1.090599      20.211302           0.707164   \n",
       "min                      1.000000      30.000000           1.000000   \n",
       "25%                      2.000000      48.000000           2.000000   \n",
       "50%                      3.000000      66.000000           3.000000   \n",
       "75%                      4.000000      83.000000           3.000000   \n",
       "max                      4.000000     100.000000           4.000000   \n",
       "\n",
       "       EmpJobLevel  EmpJobSatisfaction  NumCompaniesWorked  \\\n",
       "count  1200.000000         1200.000000         1200.000000   \n",
       "mean      2.067500            2.732500            2.665000   \n",
       "std       1.107836            1.100888            2.469384   \n",
       "min       1.000000            1.000000            0.000000   \n",
       "25%       1.000000            2.000000            1.000000   \n",
       "50%       2.000000            3.000000            2.000000   \n",
       "75%       3.000000            4.000000            4.000000   \n",
       "max       5.000000            4.000000            9.000000   \n",
       "\n",
       "       EmpLastSalaryHikePercent  EmpRelationshipSatisfaction  \\\n",
       "count               1200.000000                  1200.000000   \n",
       "mean                  15.222500                     2.725000   \n",
       "std                    3.625918                     1.075642   \n",
       "min                   11.000000                     1.000000   \n",
       "25%                   12.000000                     2.000000   \n",
       "50%                   14.000000                     3.000000   \n",
       "75%                   18.000000                     4.000000   \n",
       "max                   25.000000                     4.000000   \n",
       "\n",
       "       TotalWorkExperienceInYears  TrainingTimesLastYear  EmpWorkLifeBalance  \\\n",
       "count                 1200.000000            1200.000000         1200.000000   \n",
       "mean                    11.330000               2.785833            2.744167   \n",
       "std                      7.797228               1.263446            0.699374   \n",
       "min                      0.000000               0.000000            1.000000   \n",
       "25%                      6.000000               2.000000            2.000000   \n",
       "50%                     10.000000               3.000000            3.000000   \n",
       "75%                     15.000000               3.000000            3.000000   \n",
       "max                     40.000000               6.000000            4.000000   \n",
       "\n",
       "       ExperienceYearsAtThisCompany  ExperienceYearsInCurrentRole  \\\n",
       "count                   1200.000000                   1200.000000   \n",
       "mean                       7.077500                      4.291667   \n",
       "std                        6.236899                      3.613744   \n",
       "min                        0.000000                      0.000000   \n",
       "25%                        3.000000                      2.000000   \n",
       "50%                        5.000000                      3.000000   \n",
       "75%                       10.000000                      7.000000   \n",
       "max                       40.000000                     18.000000   \n",
       "\n",
       "       YearsSinceLastPromotion  YearsWithCurrManager  PerformanceRating  \n",
       "count              1200.000000           1200.000000        1200.000000  \n",
       "mean                  2.194167              4.105000           2.948333  \n",
       "std                   3.221560              3.541576           0.518866  \n",
       "min                   0.000000              0.000000           2.000000  \n",
       "25%                   0.000000              2.000000           3.000000  \n",
       "50%                   1.000000              3.000000           3.000000  \n",
       "75%                   3.000000              7.000000           3.000000  \n",
       "max                  15.000000             17.000000           4.000000  "
      ]
     },
     "execution_count": 6,
     "metadata": {},
     "output_type": "execute_result"
    }
   ],
   "source": [
    "emp_data.describe()"
   ]
  },
  {
   "cell_type": "markdown",
   "metadata": {},
   "source": [
    "### Checking for missing values - NAN and NULL values"
   ]
  },
  {
   "cell_type": "code",
   "execution_count": 7,
   "metadata": {},
   "outputs": [
    {
     "data": {
      "text/plain": [
       "False"
      ]
     },
     "execution_count": 7,
     "metadata": {},
     "output_type": "execute_result"
    }
   ],
   "source": [
    "emp_data.isna().values.any()"
   ]
  },
  {
   "cell_type": "code",
   "execution_count": 8,
   "metadata": {},
   "outputs": [
    {
     "data": {
      "text/plain": [
       "False"
      ]
     },
     "execution_count": 8,
     "metadata": {},
     "output_type": "execute_result"
    }
   ],
   "source": [
    "emp_data.isnull().values.any()"
   ]
  },
  {
   "cell_type": "markdown",
   "metadata": {},
   "source": [
    "### EDA - Exploratory Data Analysis\n",
    "### Importing Packages and Warnings for Visualisation"
   ]
  },
  {
   "cell_type": "code",
   "execution_count": 9,
   "metadata": {},
   "outputs": [],
   "source": [
    "import seaborn as sns\n",
    "import matplotlib.pyplot as plt\n",
    "%matplotlib inline\n",
    "\n",
    "import warnings\n",
    "warnings.filterwarnings('ignore')"
   ]
  },
  {
   "cell_type": "markdown",
   "metadata": {},
   "source": [
    "### Display the Top 3 Rows of Dataset"
   ]
  },
  {
   "cell_type": "code",
   "execution_count": 10,
   "metadata": {},
   "outputs": [
    {
     "data": {
      "text/html": [
       "<div>\n",
       "<style scoped>\n",
       "    .dataframe tbody tr th:only-of-type {\n",
       "        vertical-align: middle;\n",
       "    }\n",
       "\n",
       "    .dataframe tbody tr th {\n",
       "        vertical-align: top;\n",
       "    }\n",
       "\n",
       "    .dataframe thead th {\n",
       "        text-align: right;\n",
       "    }\n",
       "</style>\n",
       "<table border=\"1\" class=\"dataframe\">\n",
       "  <thead>\n",
       "    <tr style=\"text-align: right;\">\n",
       "      <th></th>\n",
       "      <th>EmpNumber</th>\n",
       "      <th>Age</th>\n",
       "      <th>Gender</th>\n",
       "      <th>EducationBackground</th>\n",
       "      <th>MaritalStatus</th>\n",
       "      <th>EmpDepartment</th>\n",
       "      <th>EmpJobRole</th>\n",
       "      <th>BusinessTravelFrequency</th>\n",
       "      <th>DistanceFromHome</th>\n",
       "      <th>EmpEducationLevel</th>\n",
       "      <th>...</th>\n",
       "      <th>EmpRelationshipSatisfaction</th>\n",
       "      <th>TotalWorkExperienceInYears</th>\n",
       "      <th>TrainingTimesLastYear</th>\n",
       "      <th>EmpWorkLifeBalance</th>\n",
       "      <th>ExperienceYearsAtThisCompany</th>\n",
       "      <th>ExperienceYearsInCurrentRole</th>\n",
       "      <th>YearsSinceLastPromotion</th>\n",
       "      <th>YearsWithCurrManager</th>\n",
       "      <th>Attrition</th>\n",
       "      <th>PerformanceRating</th>\n",
       "    </tr>\n",
       "  </thead>\n",
       "  <tbody>\n",
       "    <tr>\n",
       "      <th>0</th>\n",
       "      <td>E1001000</td>\n",
       "      <td>32</td>\n",
       "      <td>Male</td>\n",
       "      <td>Marketing</td>\n",
       "      <td>Single</td>\n",
       "      <td>Sales</td>\n",
       "      <td>Sales Executive</td>\n",
       "      <td>Travel_Rarely</td>\n",
       "      <td>10</td>\n",
       "      <td>3</td>\n",
       "      <td>...</td>\n",
       "      <td>4</td>\n",
       "      <td>10</td>\n",
       "      <td>2</td>\n",
       "      <td>2</td>\n",
       "      <td>10</td>\n",
       "      <td>7</td>\n",
       "      <td>0</td>\n",
       "      <td>8</td>\n",
       "      <td>No</td>\n",
       "      <td>3</td>\n",
       "    </tr>\n",
       "    <tr>\n",
       "      <th>1</th>\n",
       "      <td>E1001006</td>\n",
       "      <td>47</td>\n",
       "      <td>Male</td>\n",
       "      <td>Marketing</td>\n",
       "      <td>Single</td>\n",
       "      <td>Sales</td>\n",
       "      <td>Sales Executive</td>\n",
       "      <td>Travel_Rarely</td>\n",
       "      <td>14</td>\n",
       "      <td>4</td>\n",
       "      <td>...</td>\n",
       "      <td>4</td>\n",
       "      <td>20</td>\n",
       "      <td>2</td>\n",
       "      <td>3</td>\n",
       "      <td>7</td>\n",
       "      <td>7</td>\n",
       "      <td>1</td>\n",
       "      <td>7</td>\n",
       "      <td>No</td>\n",
       "      <td>3</td>\n",
       "    </tr>\n",
       "    <tr>\n",
       "      <th>2</th>\n",
       "      <td>E1001007</td>\n",
       "      <td>40</td>\n",
       "      <td>Male</td>\n",
       "      <td>Life Sciences</td>\n",
       "      <td>Married</td>\n",
       "      <td>Sales</td>\n",
       "      <td>Sales Executive</td>\n",
       "      <td>Travel_Frequently</td>\n",
       "      <td>5</td>\n",
       "      <td>4</td>\n",
       "      <td>...</td>\n",
       "      <td>3</td>\n",
       "      <td>20</td>\n",
       "      <td>2</td>\n",
       "      <td>3</td>\n",
       "      <td>18</td>\n",
       "      <td>13</td>\n",
       "      <td>1</td>\n",
       "      <td>12</td>\n",
       "      <td>No</td>\n",
       "      <td>4</td>\n",
       "    </tr>\n",
       "  </tbody>\n",
       "</table>\n",
       "<p>3 rows × 28 columns</p>\n",
       "</div>"
      ],
      "text/plain": [
       "  EmpNumber  Age Gender EducationBackground MaritalStatus EmpDepartment  \\\n",
       "0  E1001000   32   Male           Marketing        Single         Sales   \n",
       "1  E1001006   47   Male           Marketing        Single         Sales   \n",
       "2  E1001007   40   Male       Life Sciences       Married         Sales   \n",
       "\n",
       "        EmpJobRole BusinessTravelFrequency  DistanceFromHome  \\\n",
       "0  Sales Executive           Travel_Rarely                10   \n",
       "1  Sales Executive           Travel_Rarely                14   \n",
       "2  Sales Executive       Travel_Frequently                 5   \n",
       "\n",
       "   EmpEducationLevel  ...  EmpRelationshipSatisfaction  \\\n",
       "0                  3  ...                            4   \n",
       "1                  4  ...                            4   \n",
       "2                  4  ...                            3   \n",
       "\n",
       "   TotalWorkExperienceInYears  TrainingTimesLastYear  EmpWorkLifeBalance  \\\n",
       "0                          10                      2                   2   \n",
       "1                          20                      2                   3   \n",
       "2                          20                      2                   3   \n",
       "\n",
       "   ExperienceYearsAtThisCompany  ExperienceYearsInCurrentRole  \\\n",
       "0                            10                             7   \n",
       "1                             7                             7   \n",
       "2                            18                            13   \n",
       "\n",
       "  YearsSinceLastPromotion  YearsWithCurrManager  Attrition  PerformanceRating  \n",
       "0                       0                     8         No                  3  \n",
       "1                       1                     7         No                  3  \n",
       "2                       1                    12         No                  4  \n",
       "\n",
       "[3 rows x 28 columns]"
      ]
     },
     "execution_count": 10,
     "metadata": {},
     "output_type": "execute_result"
    }
   ],
   "source": [
    "emp_data.head(3)"
   ]
  },
  {
   "cell_type": "markdown",
   "metadata": {},
   "source": [
    "### Data Visualisation Library - Plotly"
   ]
  },
  {
   "cell_type": "code",
   "execution_count": 11,
   "metadata": {
    "scrolled": true
   },
   "outputs": [
    {
     "name": "stdout",
     "output_type": "stream",
     "text": [
      "Requirement already satisfied: plotly in c:\\users\\hp\\anaconda3\\lib\\site-packages (5.5.0)\n",
      "Requirement already satisfied: six in c:\\users\\hp\\anaconda3\\lib\\site-packages (from plotly) (1.15.0)\n",
      "Requirement already satisfied: tenacity>=6.2.0 in c:\\users\\hp\\anaconda3\\lib\\site-packages (from plotly) (8.0.1)\n"
     ]
    }
   ],
   "source": [
    "! pip install plotly"
   ]
  },
  {
   "cell_type": "markdown",
   "metadata": {},
   "source": [
    "### KDE Plots - For distributions observed in the dataset"
   ]
  },
  {
   "cell_type": "code",
   "execution_count": 12,
   "metadata": {},
   "outputs": [
    {
     "data": {
      "image/png": "[encoded data removed]",
      "text/plain": [
       "<Figure size 1080x720 with 9 Axes>"
      ]
     },
     "metadata": {
      "needs_background": "light"
     },
     "output_type": "display_data"
    }
   ],
   "source": [
    "f, axes = plt.subplots(3, 3, figsize=(15, 10), \n",
    "                       sharex=False, sharey=False)\n",
    "\n",
    "# Defining our colormap scheme\n",
    "s = np.linspace(0, 3, 10)\n",
    "\n",
    "cmap = sns.cubehelix_palette(start=0.0, light=1, as_cmap=True)\n",
    "# Generate and plot\n",
    "x = emp_data['Age'].values\n",
    "y = emp_data['TotalWorkExperienceInYears'].values\n",
    "sns.kdeplot(x, y, cmap=cmap, shade=True, cut=5, ax=axes[0,0])\n",
    "axes[0,0].set( title = 'Age against Total Work Experience In years')\n",
    "\n",
    "cmap = sns.cubehelix_palette(start=0.333333333333, light=1, as_cmap=True)\n",
    "# Generate and plot\n",
    "x = emp_data['Age'].values\n",
    "y = emp_data['EmpHourlyRate'].values\n",
    "sns.kdeplot(x, y, cmap=cmap, shade=True, ax=axes[0,1])\n",
    "axes[0,1].set( title = 'Age against Emp Hourly Rate')\n",
    "\n",
    "cmap = sns.cubehelix_palette(start=0.666666666667, light=1, as_cmap=True)\n",
    "# Generate and plot\n",
    "x = emp_data['Age'].values\n",
    "y = emp_data['ExperienceYearsInCurrentRole'].values\n",
    "sns.kdeplot(x, y, cmap=cmap, shade=True, ax=axes[0,2])\n",
    "axes[0,2].set( title = ' Age against Experience Years In Current Role ')\n",
    "\n",
    "cmap = sns.cubehelix_palette(start=1.0, light=1, as_cmap=True)\n",
    "# Generate and plot\n",
    "x = emp_data['EmpHourlyRate'].values\n",
    "y = emp_data['DistanceFromHome'].values\n",
    "sns.kdeplot(x, y, cmap=cmap, shade=True,  ax=axes[1,0])\n",
    "axes[1,0].set( title = 'Emp Hourly Rate against Distance From Home')\n",
    "\n",
    "cmap = sns.cubehelix_palette(start=1.333333333333, light=1, as_cmap=True)\n",
    "# Generate and plot\n",
    "x = emp_data['EmpHourlyRate'].values\n",
    "y = emp_data['EmpJobSatisfaction'].values\n",
    "sns.kdeplot(x, y, cmap=cmap, shade=True,  ax=axes[1,1])\n",
    "axes[1,1].set( title = 'Emp Hourly Rate against Job satisfaction')\n",
    "\n",
    "cmap = sns.cubehelix_palette(start=1.666666666667, light=1, as_cmap=True)\n",
    "# Generate and plot\n",
    "x = emp_data['EmpHourlyRate'].values\n",
    "y = emp_data['ExperienceYearsAtThisCompany'].values\n",
    "sns.kdeplot(x, y, cmap=cmap, shade=True,  ax=axes[1,2])\n",
    "axes[1,2].set( title = 'Emp Hourly Rate against Experience Years At This Company')\n",
    "\n",
    "cmap = sns.cubehelix_palette(start=2.0, light=1, as_cmap=True)\n",
    "# Generate and plot\n",
    "x = emp_data['EmpEducationLevel'].values\n",
    "y = emp_data['EmpHourlyRate'].values\n",
    "sns.kdeplot(x, y, cmap=cmap, shade=True,  ax=axes[2,0])\n",
    "axes[2,0].set( title = 'Emp Education Level against Emp Hourly Rate')\n",
    "\n",
    "cmap = sns.cubehelix_palette(start=2.333333333333, light=1, as_cmap=True)\n",
    "# Generate and plot\n",
    "x = emp_data['EmpEducationLevel'].values\n",
    "y = emp_data['EmpLastSalaryHikePercent'].values\n",
    "sns.kdeplot(x, y, cmap=cmap, shade=True,  ax=axes[2,1])\n",
    "axes[2,1].set( title = 'Emp Education Level Satisfaction vs Emp Last Salary Hike Percent')\n",
    "\n",
    "cmap = sns.cubehelix_palette(start=2.666666666667, light=1, as_cmap=True)\n",
    "# Generate and plot\n",
    "x = emp_data['EmpEducationLevel'].values\n",
    "y = emp_data['ExperienceYearsInCurrentRole'].values\n",
    "sns.kdeplot(x, y, cmap=cmap, shade=True,  ax=axes[2,2])\n",
    "axes[2,2].set( title = 'Emp Education Level against Experience Years In Current Role')\n",
    "\n",
    "f.tight_layout()\n"
   ]
  },
  {
   "cell_type": "markdown",
   "metadata": {},
   "source": [
    "## Correlation of Features\n",
    "### Creating a list of all the numerical columns"
   ]
  },
  {
   "cell_type": "code",
   "execution_count": 13,
   "metadata": {},
   "outputs": [],
   "source": [
    "numerical = [u'Age', u'DistanceFromHome', u'EmpEducationLevel', u'EmpEnvironmentSatisfaction', u'EmpHourlyRate'\n",
    " , u'EmpJobInvolvement', u'EmpJobLevel', u'EmpJobSatisfaction'\n",
    " , u'NumCompaniesWorked', u'EmpLastSalaryHikePercent'\n",
    " , u'EmpRelationshipSatisfaction', u'TotalWorkExperienceInYears'\n",
    " , u'Training Times Last Year', u'Emp Work Life Balance'\n",
    " , u'ExperienceYearsAtThisCompany', u'ExperienceYearsInCurrentRole'\n",
    " , u'YearsSinceLastPromotion', u'YearsWithCurrManager'\n",
    " , u'PerformanceRating']"
   ]
  },
  {
   "cell_type": "code",
   "execution_count": 14,
   "metadata": {},
   "outputs": [],
   "source": [
    "import sys"
   ]
  },
  {
   "cell_type": "code",
   "execution_count": 15,
   "metadata": {},
   "outputs": [
    {
     "data": {
      "text/plain": [
       "'cp1252'"
      ]
     },
     "execution_count": 15,
     "metadata": {},
     "output_type": "execute_result"
    }
   ],
   "source": [
    "sys.stdin.encoding"
   ]
  },
  {
   "cell_type": "code",
   "execution_count": 16,
   "metadata": {},
   "outputs": [],
   "source": [
    "from sklearn import preprocessing\n",
    "enc = preprocessing.LabelEncoder()"
   ]
  },
  {
   "cell_type": "code",
   "execution_count": 18,
   "metadata": {
    "scrolled": false
   },
   "outputs": [
    {
     "data": {
      "text/html": [
       "<div>\n",
       "<style scoped>\n",
       "    .dataframe tbody tr th:only-of-type {\n",
       "        vertical-align: middle;\n",
       "    }\n",
       "\n",
       "    .dataframe tbody tr th {\n",
       "        vertical-align: top;\n",
       "    }\n",
       "\n",
       "    .dataframe thead th {\n",
       "        text-align: right;\n",
       "    }\n",
       "</style>\n",
       "<table border=\"1\" class=\"dataframe\">\n",
       "  <thead>\n",
       "    <tr style=\"text-align: right;\">\n",
       "      <th></th>\n",
       "      <th>EmpNumber</th>\n",
       "      <th>Age</th>\n",
       "      <th>Gender</th>\n",
       "      <th>EducationBackground</th>\n",
       "      <th>MaritalStatus</th>\n",
       "      <th>EmpDepartment</th>\n",
       "      <th>EmpJobRole</th>\n",
       "      <th>BusinessTravelFrequency</th>\n",
       "      <th>DistanceFromHome</th>\n",
       "      <th>EmpEducationLevel</th>\n",
       "      <th>...</th>\n",
       "      <th>EmpRelationshipSatisfaction</th>\n",
       "      <th>TotalWorkExperienceInYears</th>\n",
       "      <th>TrainingTimesLastYear</th>\n",
       "      <th>EmpWorkLifeBalance</th>\n",
       "      <th>ExperienceYearsAtThisCompany</th>\n",
       "      <th>ExperienceYearsInCurrentRole</th>\n",
       "      <th>YearsSinceLastPromotion</th>\n",
       "      <th>YearsWithCurrManager</th>\n",
       "      <th>Attrition</th>\n",
       "      <th>PerformanceRating</th>\n",
       "    </tr>\n",
       "  </thead>\n",
       "  <tbody>\n",
       "    <tr>\n",
       "      <th>0</th>\n",
       "      <td>E1001000</td>\n",
       "      <td>32</td>\n",
       "      <td>1</td>\n",
       "      <td>2</td>\n",
       "      <td>2</td>\n",
       "      <td>5</td>\n",
       "      <td>13</td>\n",
       "      <td>2</td>\n",
       "      <td>10</td>\n",
       "      <td>3</td>\n",
       "      <td>...</td>\n",
       "      <td>4</td>\n",
       "      <td>10</td>\n",
       "      <td>2</td>\n",
       "      <td>2</td>\n",
       "      <td>10</td>\n",
       "      <td>7</td>\n",
       "      <td>0</td>\n",
       "      <td>8</td>\n",
       "      <td>0</td>\n",
       "      <td>3</td>\n",
       "    </tr>\n",
       "    <tr>\n",
       "      <th>1</th>\n",
       "      <td>E1001006</td>\n",
       "      <td>47</td>\n",
       "      <td>1</td>\n",
       "      <td>2</td>\n",
       "      <td>2</td>\n",
       "      <td>5</td>\n",
       "      <td>13</td>\n",
       "      <td>2</td>\n",
       "      <td>14</td>\n",
       "      <td>4</td>\n",
       "      <td>...</td>\n",
       "      <td>4</td>\n",
       "      <td>20</td>\n",
       "      <td>2</td>\n",
       "      <td>3</td>\n",
       "      <td>7</td>\n",
       "      <td>7</td>\n",
       "      <td>1</td>\n",
       "      <td>7</td>\n",
       "      <td>0</td>\n",
       "      <td>3</td>\n",
       "    </tr>\n",
       "    <tr>\n",
       "      <th>2</th>\n",
       "      <td>E1001007</td>\n",
       "      <td>40</td>\n",
       "      <td>1</td>\n",
       "      <td>1</td>\n",
       "      <td>1</td>\n",
       "      <td>5</td>\n",
       "      <td>13</td>\n",
       "      <td>1</td>\n",
       "      <td>5</td>\n",
       "      <td>4</td>\n",
       "      <td>...</td>\n",
       "      <td>3</td>\n",
       "      <td>20</td>\n",
       "      <td>2</td>\n",
       "      <td>3</td>\n",
       "      <td>18</td>\n",
       "      <td>13</td>\n",
       "      <td>1</td>\n",
       "      <td>12</td>\n",
       "      <td>0</td>\n",
       "      <td>4</td>\n",
       "    </tr>\n",
       "    <tr>\n",
       "      <th>3</th>\n",
       "      <td>E1001009</td>\n",
       "      <td>41</td>\n",
       "      <td>1</td>\n",
       "      <td>0</td>\n",
       "      <td>0</td>\n",
       "      <td>3</td>\n",
       "      <td>8</td>\n",
       "      <td>2</td>\n",
       "      <td>10</td>\n",
       "      <td>4</td>\n",
       "      <td>...</td>\n",
       "      <td>2</td>\n",
       "      <td>23</td>\n",
       "      <td>2</td>\n",
       "      <td>2</td>\n",
       "      <td>21</td>\n",
       "      <td>6</td>\n",
       "      <td>12</td>\n",
       "      <td>6</td>\n",
       "      <td>0</td>\n",
       "      <td>3</td>\n",
       "    </tr>\n",
       "    <tr>\n",
       "      <th>4</th>\n",
       "      <td>E1001010</td>\n",
       "      <td>60</td>\n",
       "      <td>1</td>\n",
       "      <td>2</td>\n",
       "      <td>2</td>\n",
       "      <td>5</td>\n",
       "      <td>13</td>\n",
       "      <td>2</td>\n",
       "      <td>16</td>\n",
       "      <td>4</td>\n",
       "      <td>...</td>\n",
       "      <td>4</td>\n",
       "      <td>10</td>\n",
       "      <td>1</td>\n",
       "      <td>3</td>\n",
       "      <td>2</td>\n",
       "      <td>2</td>\n",
       "      <td>2</td>\n",
       "      <td>2</td>\n",
       "      <td>0</td>\n",
       "      <td>3</td>\n",
       "    </tr>\n",
       "  </tbody>\n",
       "</table>\n",
       "<p>5 rows × 28 columns</p>\n",
       "</div>"
      ],
      "text/plain": [
       "  EmpNumber  Age  Gender  EducationBackground  MaritalStatus  EmpDepartment  \\\n",
       "0  E1001000   32       1                    2              2              5   \n",
       "1  E1001006   47       1                    2              2              5   \n",
       "2  E1001007   40       1                    1              1              5   \n",
       "3  E1001009   41       1                    0              0              3   \n",
       "4  E1001010   60       1                    2              2              5   \n",
       "\n",
       "   EmpJobRole  BusinessTravelFrequency  DistanceFromHome  EmpEducationLevel  \\\n",
       "0          13                        2                10                  3   \n",
       "1          13                        2                14                  4   \n",
       "2          13                        1                 5                  4   \n",
       "3           8                        2                10                  4   \n",
       "4          13                        2                16                  4   \n",
       "\n",
       "   ...  EmpRelationshipSatisfaction  TotalWorkExperienceInYears  \\\n",
       "0  ...                            4                          10   \n",
       "1  ...                            4                          20   \n",
       "2  ...                            3                          20   \n",
       "3  ...                            2                          23   \n",
       "4  ...                            4                          10   \n",
       "\n",
       "   TrainingTimesLastYear  EmpWorkLifeBalance  ExperienceYearsAtThisCompany  \\\n",
       "0                      2                   2                            10   \n",
       "1                      2                   3                             7   \n",
       "2                      2                   3                            18   \n",
       "3                      2                   2                            21   \n",
       "4                      1                   3                             2   \n",
       "\n",
       "   ExperienceYearsInCurrentRole  YearsSinceLastPromotion  \\\n",
       "0                             7                        0   \n",
       "1                             7                        1   \n",
       "2                            13                        1   \n",
       "3                             6                       12   \n",
       "4                             2                        2   \n",
       "\n",
       "   YearsWithCurrManager  Attrition  PerformanceRating  \n",
       "0                     8          0                  3  \n",
       "1                     7          0                  3  \n",
       "2                    12          0                  4  \n",
       "3                     6          0                  3  \n",
       "4                     2          0                  3  \n",
       "\n",
       "[5 rows x 28 columns]"
      ]
     },
     "execution_count": 18,
     "metadata": {},
     "output_type": "execute_result"
    }
   ],
   "source": [
    "for i in (2,3,4,5,6,7,16,26):\n",
    "    emp_data.iloc[:,i] = enc.fit_transform(emp_data.iloc[:,i])\n",
    "emp_data.head()"
   ]
  },
  {
   "cell_type": "markdown",
   "metadata": {},
   "source": [
    "### HEAT MAP"
   ]
  },
  {
   "cell_type": "markdown",
   "metadata": {},
   "source": [
    "### Generating the Pearson correlation"
   ]
  },
  {
   "cell_type": "code",
   "execution_count": 19,
   "metadata": {},
   "outputs": [
    {
     "data": {
      "text/plain": [
       "<AxesSubplot:>"
      ]
     },
     "execution_count": 19,
     "metadata": {},
     "output_type": "execute_result"
    },
    {
     "data": {
      "image/png": "[encoded data removed]",
      "text/plain": [
       "<Figure size 432x288 with 2 Axes>"
      ]
     },
     "metadata": {
      "needs_background": "light"
     },
     "output_type": "display_data"
    }
   ],
   "source": [
    "sns.heatmap(emp_data.corr('pearson'))"
   ]
  },
  {
   "cell_type": "code",
   "execution_count": 20,
   "metadata": {},
   "outputs": [
    {
     "data": {
      "text/plain": [
       "Age                            -0.040164\n",
       "Gender                         -0.001780\n",
       "EducationBackground             0.005607\n",
       "MaritalStatus                   0.024172\n",
       "EmpDepartment                  -0.162615\n",
       "EmpJobRole                     -0.096209\n",
       "BusinessTravelFrequency        -0.031025\n",
       "DistanceFromHome               -0.046142\n",
       "EmpEducationLevel               0.020529\n",
       "EmpEnvironmentSatisfaction      0.395561\n",
       "EmpHourlyRate                  -0.043116\n",
       "EmpJobInvolvement              -0.010539\n",
       "EmpJobLevel                    -0.076632\n",
       "EmpJobSatisfaction              0.000606\n",
       "NumCompaniesWorked              0.020980\n",
       "OverTime                        0.050206\n",
       "EmpLastSalaryHikePercent        0.333722\n",
       "EmpRelationshipSatisfaction    -0.019502\n",
       "TotalWorkExperienceInYears     -0.068141\n",
       "TrainingTimesLastYear          -0.005443\n",
       "EmpWorkLifeBalance              0.124429\n",
       "ExperienceYearsAtThisCompany   -0.111645\n",
       "ExperienceYearsInCurrentRole   -0.147638\n",
       "YearsSinceLastPromotion        -0.167629\n",
       "YearsWithCurrManager           -0.122313\n",
       "Attrition                      -0.039796\n",
       "PerformanceRating               1.000000\n",
       "Name: PerformanceRating, dtype: float64"
      ]
     },
     "execution_count": 20,
     "metadata": {},
     "output_type": "execute_result"
    }
   ],
   "source": [
    "emp_data.corr('pearson')['PerformanceRating']"
   ]
  },
  {
   "cell_type": "markdown",
   "metadata": {},
   "source": [
    "## Before training the model, eliminate those features which are irrelevant or those which do not contribute in the direct prediction of the target variable"
   ]
  },
  {
   "cell_type": "code",
   "execution_count": 21,
   "metadata": {},
   "outputs": [],
   "source": [
    "emp_data.drop(['EmpNumber'],inplace=True,axis=1)\n",
    "# Features are dropped where correlation is close to 0 \n",
    "emp_data.drop(['Gender'],inplace=True,axis=1)\n",
    "emp_data.drop(['EducationBackground'],inplace=True,axis=1)\n",
    "emp_data.drop(['EmpJobSatisfaction'],inplace=True,axis=1)\n",
    "emp_data.drop(['TrainingTimesLastYear'],inplace=True,axis=1)"
   ]
  },
  {
   "cell_type": "markdown",
   "metadata": {},
   "source": [
    "### Can drop the columns only once.\n",
    "### And once dropped, the above columns will be dropped and cannot be fetched again."
   ]
  },
  {
   "cell_type": "markdown",
   "metadata": {},
   "source": [
    "### Train The Model"
   ]
  },
  {
   "cell_type": "code",
   "execution_count": 22,
   "metadata": {},
   "outputs": [
    {
     "data": {
      "text/html": [
       "        <script type=\"text/javascript\">\n",
       "        window.PlotlyConfig = {MathJaxConfig: 'local'};\n",
       "        if (window.MathJax) {MathJax.Hub.Config({SVG: {font: \"STIX-Web\"}});}\n",
       "        if (typeof require !== 'undefined') {\n",
       "        require.undef(\"plotly\");\n",
       "        requirejs.config({\n",
       "            paths: {\n",
       "                'plotly': ['https://cdn.plot.ly/plotly-2.8.3.min']\n",
       "            }\n",
       "        });\n",
       "        require(['plotly'], function(Plotly) {\n",
       "            window._Plotly = Plotly;\n",
       "        });\n",
       "        }\n",
       "        </script>\n",
       "        "
      ]
     },
     "metadata": {},
     "output_type": "display_data"
    },
    {
     "data": {
      "text/html": [
       "        <script type=\"text/javascript\">\n",
       "        window.PlotlyConfig = {MathJaxConfig: 'local'};\n",
       "        if (window.MathJax) {MathJax.Hub.Config({SVG: {font: \"STIX-Web\"}});}\n",
       "        if (typeof require !== 'undefined') {\n",
       "        require.undef(\"plotly\");\n",
       "        requirejs.config({\n",
       "            paths: {\n",
       "                'plotly': ['https://cdn.plot.ly/plotly-2.8.3.min']\n",
       "            }\n",
       "        });\n",
       "        require(['plotly'], function(Plotly) {\n",
       "            window._Plotly = Plotly;\n",
       "        });\n",
       "        }\n",
       "        </script>\n",
       "        "
      ]
     },
     "metadata": {},
     "output_type": "display_data"
    }
   ],
   "source": [
    "# data analysis and wrangling\n",
    "import pandas as pd\n",
    "import numpy as np\n",
    "import random as rnd\n",
    "\n",
    "\n",
    "# visualization\n",
    "import seaborn as sns\n",
    "import matplotlib.pyplot as plt\n",
    "%matplotlib inline\n",
    "\n",
    "# Import statements required for Plotly \n",
    "import plotly.offline as py\n",
    "py.init_notebook_mode(connected=True)\n",
    "import plotly.graph_objs as go\n",
    "import plotly.tools as tls\n",
    "\n",
    "# machine learning\n",
    "from sklearn.linear_model import LogisticRegression\n",
    "from sklearn.svm import SVC, LinearSVC\n",
    "from sklearn.ensemble import RandomForestClassifier\n",
    "from sklearn.neighbors import KNeighborsClassifier\n",
    "from sklearn.naive_bayes import GaussianNB\n",
    "from sklearn.linear_model import Perceptron\n",
    "from sklearn.linear_model import SGDClassifier\n",
    "from sklearn.tree import DecisionTreeClassifier\n",
    "from sklearn.preprocessing import LabelEncoder\n",
    "\n",
    "# for warnings \n",
    "import warnings\n",
    "warnings.filterwarnings('ignore')\n",
    "\n",
    "import numpy as np # linear algebra\n",
    "import pandas as pd # data processing, CSV file I/O (e.g. pd.read_csv)\n",
    "import seaborn as sns\n",
    "import matplotlib.pyplot as plt\n",
    "%matplotlib inline\n",
    "\n",
    "# Import statements required for Plotly \n",
    "import plotly.offline as py\n",
    "py.init_notebook_mode(connected=True)\n",
    "import plotly.graph_objs as go\n",
    "import plotly.tools as tls\n",
    "\n",
    "\n",
    "from sklearn.ensemble import RandomForestClassifier, GradientBoostingClassifier\n",
    "from sklearn.linear_model import LogisticRegression\n",
    "from sklearn.metrics import accuracy_score, log_loss\n",
    "#import xgboost\n",
    "\n",
    "# Import and suppress warnings\n",
    "import warnings\n",
    "warnings.filterwarnings('ignore')"
   ]
  },
  {
   "cell_type": "markdown",
   "metadata": {},
   "source": [
    "### Display Numerical and Categorical columns"
   ]
  },
  {
   "cell_type": "code",
   "execution_count": 23,
   "metadata": {},
   "outputs": [
    {
     "name": "stdout",
     "output_type": "stream",
     "text": [
      "['Age', 'DistanceFromHome', 'EmpEducationLevel', 'EmpEnvironmentSatisfaction', 'EmpHourlyRate', 'EmpJobInvolvement', 'EmpJobLevel', 'EmpJobSatisfaction', 'NumCompaniesWorked', 'EmpLastSalaryHikePercent', 'EmpRelationshipSatisfaction', 'TotalWorkExperienceInYears', 'Training Times Last Year', 'Emp Work Life Balance', 'ExperienceYearsAtThisCompany', 'ExperienceYearsInCurrentRole', 'YearsSinceLastPromotion', 'YearsWithCurrManager', 'PerformanceRating']\n"
     ]
    }
   ],
   "source": [
    "numerical = [u'Age', u'DistanceFromHome', u'EmpEducationLevel', u'EmpEnvironmentSatisfaction', u'EmpHourlyRate'\n",
    " , u'EmpJobInvolvement', u'EmpJobLevel', u'EmpJobSatisfaction'\n",
    " , u'NumCompaniesWorked', u'EmpLastSalaryHikePercent'\n",
    " , u'EmpRelationshipSatisfaction', u'TotalWorkExperienceInYears'\n",
    " , u'Training Times Last Year', u'Emp Work Life Balance'\n",
    " , u'ExperienceYearsAtThisCompany', u'ExperienceYearsInCurrentRole'\n",
    " , u'YearsSinceLastPromotion', u'YearsWithCurrManager'\n",
    " , u'PerformanceRating']\n",
    "print(numerical)"
   ]
  },
  {
   "cell_type": "code",
   "execution_count": 24,
   "metadata": {},
   "outputs": [
    {
     "name": "stdout",
     "output_type": "stream",
     "text": [
      "Index(['Attrition', 'BusinessTravelFrequency', 'EmpDepartment', 'EmpJobRole',\n",
      "       'EmpWorkLifeBalance', 'MaritalStatus', 'OverTime'],\n",
      "      dtype='object')\n"
     ]
    }
   ],
   "source": [
    "categorical = emp_data.columns.difference(numerical)\n",
    "print(categorical)"
   ]
  },
  {
   "cell_type": "code",
   "execution_count": 25,
   "metadata": {},
   "outputs": [
    {
     "data": {
      "text/html": [
       "<div>\n",
       "<style scoped>\n",
       "    .dataframe tbody tr th:only-of-type {\n",
       "        vertical-align: middle;\n",
       "    }\n",
       "\n",
       "    .dataframe tbody tr th {\n",
       "        vertical-align: top;\n",
       "    }\n",
       "\n",
       "    .dataframe thead th {\n",
       "        text-align: right;\n",
       "    }\n",
       "</style>\n",
       "<table border=\"1\" class=\"dataframe\">\n",
       "  <thead>\n",
       "    <tr style=\"text-align: right;\">\n",
       "      <th></th>\n",
       "      <th>Age</th>\n",
       "      <th>MaritalStatus</th>\n",
       "      <th>EmpDepartment</th>\n",
       "      <th>EmpJobRole</th>\n",
       "      <th>BusinessTravelFrequency</th>\n",
       "      <th>DistanceFromHome</th>\n",
       "      <th>EmpEducationLevel</th>\n",
       "      <th>EmpEnvironmentSatisfaction</th>\n",
       "      <th>EmpHourlyRate</th>\n",
       "      <th>EmpJobInvolvement</th>\n",
       "      <th>...</th>\n",
       "      <th>EmpLastSalaryHikePercent</th>\n",
       "      <th>EmpRelationshipSatisfaction</th>\n",
       "      <th>TotalWorkExperienceInYears</th>\n",
       "      <th>EmpWorkLifeBalance</th>\n",
       "      <th>ExperienceYearsAtThisCompany</th>\n",
       "      <th>ExperienceYearsInCurrentRole</th>\n",
       "      <th>YearsSinceLastPromotion</th>\n",
       "      <th>YearsWithCurrManager</th>\n",
       "      <th>Attrition</th>\n",
       "      <th>PerformanceRating</th>\n",
       "    </tr>\n",
       "  </thead>\n",
       "  <tbody>\n",
       "    <tr>\n",
       "      <th>0</th>\n",
       "      <td>32</td>\n",
       "      <td>2</td>\n",
       "      <td>5</td>\n",
       "      <td>13</td>\n",
       "      <td>2</td>\n",
       "      <td>10</td>\n",
       "      <td>3</td>\n",
       "      <td>4</td>\n",
       "      <td>55</td>\n",
       "      <td>3</td>\n",
       "      <td>...</td>\n",
       "      <td>12</td>\n",
       "      <td>4</td>\n",
       "      <td>10</td>\n",
       "      <td>2</td>\n",
       "      <td>10</td>\n",
       "      <td>7</td>\n",
       "      <td>0</td>\n",
       "      <td>8</td>\n",
       "      <td>0</td>\n",
       "      <td>3</td>\n",
       "    </tr>\n",
       "    <tr>\n",
       "      <th>1</th>\n",
       "      <td>47</td>\n",
       "      <td>2</td>\n",
       "      <td>5</td>\n",
       "      <td>13</td>\n",
       "      <td>2</td>\n",
       "      <td>14</td>\n",
       "      <td>4</td>\n",
       "      <td>4</td>\n",
       "      <td>42</td>\n",
       "      <td>3</td>\n",
       "      <td>...</td>\n",
       "      <td>12</td>\n",
       "      <td>4</td>\n",
       "      <td>20</td>\n",
       "      <td>3</td>\n",
       "      <td>7</td>\n",
       "      <td>7</td>\n",
       "      <td>1</td>\n",
       "      <td>7</td>\n",
       "      <td>0</td>\n",
       "      <td>3</td>\n",
       "    </tr>\n",
       "    <tr>\n",
       "      <th>2</th>\n",
       "      <td>40</td>\n",
       "      <td>1</td>\n",
       "      <td>5</td>\n",
       "      <td>13</td>\n",
       "      <td>1</td>\n",
       "      <td>5</td>\n",
       "      <td>4</td>\n",
       "      <td>4</td>\n",
       "      <td>48</td>\n",
       "      <td>2</td>\n",
       "      <td>...</td>\n",
       "      <td>21</td>\n",
       "      <td>3</td>\n",
       "      <td>20</td>\n",
       "      <td>3</td>\n",
       "      <td>18</td>\n",
       "      <td>13</td>\n",
       "      <td>1</td>\n",
       "      <td>12</td>\n",
       "      <td>0</td>\n",
       "      <td>4</td>\n",
       "    </tr>\n",
       "    <tr>\n",
       "      <th>3</th>\n",
       "      <td>41</td>\n",
       "      <td>0</td>\n",
       "      <td>3</td>\n",
       "      <td>8</td>\n",
       "      <td>2</td>\n",
       "      <td>10</td>\n",
       "      <td>4</td>\n",
       "      <td>2</td>\n",
       "      <td>73</td>\n",
       "      <td>2</td>\n",
       "      <td>...</td>\n",
       "      <td>15</td>\n",
       "      <td>2</td>\n",
       "      <td>23</td>\n",
       "      <td>2</td>\n",
       "      <td>21</td>\n",
       "      <td>6</td>\n",
       "      <td>12</td>\n",
       "      <td>6</td>\n",
       "      <td>0</td>\n",
       "      <td>3</td>\n",
       "    </tr>\n",
       "    <tr>\n",
       "      <th>4</th>\n",
       "      <td>60</td>\n",
       "      <td>2</td>\n",
       "      <td>5</td>\n",
       "      <td>13</td>\n",
       "      <td>2</td>\n",
       "      <td>16</td>\n",
       "      <td>4</td>\n",
       "      <td>1</td>\n",
       "      <td>84</td>\n",
       "      <td>3</td>\n",
       "      <td>...</td>\n",
       "      <td>14</td>\n",
       "      <td>4</td>\n",
       "      <td>10</td>\n",
       "      <td>3</td>\n",
       "      <td>2</td>\n",
       "      <td>2</td>\n",
       "      <td>2</td>\n",
       "      <td>2</td>\n",
       "      <td>0</td>\n",
       "      <td>3</td>\n",
       "    </tr>\n",
       "  </tbody>\n",
       "</table>\n",
       "<p>5 rows × 23 columns</p>\n",
       "</div>"
      ],
      "text/plain": [
       "   Age  MaritalStatus  EmpDepartment  EmpJobRole  BusinessTravelFrequency  \\\n",
       "0   32              2              5          13                        2   \n",
       "1   47              2              5          13                        2   \n",
       "2   40              1              5          13                        1   \n",
       "3   41              0              3           8                        2   \n",
       "4   60              2              5          13                        2   \n",
       "\n",
       "   DistanceFromHome  EmpEducationLevel  EmpEnvironmentSatisfaction  \\\n",
       "0                10                  3                           4   \n",
       "1                14                  4                           4   \n",
       "2                 5                  4                           4   \n",
       "3                10                  4                           2   \n",
       "4                16                  4                           1   \n",
       "\n",
       "   EmpHourlyRate  EmpJobInvolvement  ...  EmpLastSalaryHikePercent  \\\n",
       "0             55                  3  ...                        12   \n",
       "1             42                  3  ...                        12   \n",
       "2             48                  2  ...                        21   \n",
       "3             73                  2  ...                        15   \n",
       "4             84                  3  ...                        14   \n",
       "\n",
       "   EmpRelationshipSatisfaction  TotalWorkExperienceInYears  \\\n",
       "0                            4                          10   \n",
       "1                            4                          20   \n",
       "2                            3                          20   \n",
       "3                            2                          23   \n",
       "4                            4                          10   \n",
       "\n",
       "   EmpWorkLifeBalance  ExperienceYearsAtThisCompany  \\\n",
       "0                   2                            10   \n",
       "1                   3                             7   \n",
       "2                   3                            18   \n",
       "3                   2                            21   \n",
       "4                   3                             2   \n",
       "\n",
       "   ExperienceYearsInCurrentRole  YearsSinceLastPromotion  \\\n",
       "0                             7                        0   \n",
       "1                             7                        1   \n",
       "2                            13                        1   \n",
       "3                             6                       12   \n",
       "4                             2                        2   \n",
       "\n",
       "   YearsWithCurrManager  Attrition  PerformanceRating  \n",
       "0                     8          0                  3  \n",
       "1                     7          0                  3  \n",
       "2                    12          0                  4  \n",
       "3                     6          0                  3  \n",
       "4                     2          0                  3  \n",
       "\n",
       "[5 rows x 23 columns]"
      ]
     },
     "execution_count": 25,
     "metadata": {},
     "output_type": "execute_result"
    }
   ],
   "source": [
    "emp_data.head()"
   ]
  },
  {
   "cell_type": "markdown",
   "metadata": {},
   "source": [
    "### Implementing Machine Learning Models\n",
    "### Splitting Data into Train and Test sets\n",
    "### Import the train_test_split method"
   ]
  },
  {
   "cell_type": "code",
   "execution_count": 26,
   "metadata": {},
   "outputs": [],
   "source": [
    "import random as rnd\n",
    "from sklearn.model_selection import train_test_split\n",
    "from sklearn.model_selection import StratifiedShuffleSplit"
   ]
  },
  {
   "cell_type": "markdown",
   "metadata": {},
   "source": [
    "### Splitting data into 70% Train and 30% Test Set"
   ]
  },
  {
   "cell_type": "code",
   "execution_count": 27,
   "metadata": {},
   "outputs": [],
   "source": [
    "train, test = train_test_split(emp_data,test_size=0.3 ,random_state=5)"
   ]
  },
  {
   "cell_type": "code",
   "execution_count": 28,
   "metadata": {},
   "outputs": [
    {
     "name": "stdout",
     "output_type": "stream",
     "text": [
      "Shape of train set: (840, 23)\n",
      "Shape of test set: (360, 23)\n"
     ]
    }
   ],
   "source": [
    "print(\"Shape of train set:\",train.shape)\n",
    "print(\"Shape of test set:\",test.shape)"
   ]
  },
  {
   "cell_type": "code",
   "execution_count": 29,
   "metadata": {},
   "outputs": [],
   "source": [
    "from sklearn.metrics import classification_report, accuracy_score,confusion_matrix\n",
    "import math"
   ]
  },
  {
   "cell_type": "markdown",
   "metadata": {},
   "source": [
    "### Separating the dependent variable from the rest of our dataset"
   ]
  },
  {
   "cell_type": "code",
   "execution_count": 30,
   "metadata": {},
   "outputs": [],
   "source": [
    "y_train = train['PerformanceRating']\n",
    "y_test = test['PerformanceRating']\n",
    "train.drop(['PerformanceRating'],axis=1, inplace=True)\n",
    "test.drop(['PerformanceRating'],axis=1, inplace=True)"
   ]
  },
  {
   "cell_type": "markdown",
   "metadata": {},
   "source": [
    "# A. RANDOM FOREST CLASSIFIER"
   ]
  },
  {
   "cell_type": "code",
   "execution_count": 31,
   "metadata": {},
   "outputs": [],
   "source": [
    "from sklearn.model_selection import GridSearchCV"
   ]
  },
  {
   "cell_type": "code",
   "execution_count": 32,
   "metadata": {},
   "outputs": [],
   "source": [
    "from sklearn.ensemble import RandomForestClassifier\n",
    "\n",
    "classifier_rfg=RandomForestClassifier(random_state=5,n_estimators=23)\n",
    "parameters=[{'min_samples_split':[2,3,4,5],'criterion':['gini','entropy'],'min_samples_leaf':[1,2,3]}]\n",
    "\n",
    "random_forest_grid=GridSearchCV(estimator=classifier_rfg, param_grid=parameters, scoring='accuracy',cv=10)"
   ]
  },
  {
   "cell_type": "markdown",
   "metadata": {},
   "source": [
    "### Fit the model"
   ]
  },
  {
   "cell_type": "code",
   "execution_count": 33,
   "metadata": {},
   "outputs": [
    {
     "data": {
      "text/plain": [
       "GridSearchCV(cv=10,\n",
       "             estimator=RandomForestClassifier(n_estimators=23, random_state=5),\n",
       "             param_grid=[{'criterion': ['gini', 'entropy'],\n",
       "                          'min_samples_leaf': [1, 2, 3],\n",
       "                          'min_samples_split': [2, 3, 4, 5]}],\n",
       "             scoring='accuracy')"
      ]
     },
     "execution_count": 33,
     "metadata": {},
     "output_type": "execute_result"
    }
   ],
   "source": [
    "random_forest_grid.fit(train,y_train)"
   ]
  },
  {
   "cell_type": "code",
   "execution_count": 34,
   "metadata": {},
   "outputs": [
    {
     "data": {
      "text/plain": [
       "{'criterion': 'entropy', 'min_samples_leaf': 1, 'min_samples_split': 5}"
      ]
     },
     "execution_count": 34,
     "metadata": {},
     "output_type": "execute_result"
    }
   ],
   "source": [
    "random_forest_grid.best_params_"
   ]
  },
  {
   "cell_type": "markdown",
   "metadata": {},
   "source": [
    "### Predicting the test dataset"
   ]
  },
  {
   "cell_type": "code",
   "execution_count": 35,
   "metadata": {
    "scrolled": true
   },
   "outputs": [
    {
     "name": "stdout",
     "output_type": "stream",
     "text": [
      "Accuracy 0.9333333333333333\n",
      "\n",
      "Classification Report\n",
      "               precision    recall  f1-score   support\n",
      "\n",
      "           2       0.88      0.88      0.88        59\n",
      "           3       0.94      0.97      0.96       267\n",
      "           4       0.96      0.71      0.81        34\n",
      "\n",
      "    accuracy                           0.93       360\n",
      "   macro avg       0.93      0.85      0.88       360\n",
      "weighted avg       0.93      0.93      0.93       360\n",
      "\n",
      "\n",
      "Confusion Matrix\n",
      " [[ 52   7   0]\n",
      " [  6 260   1]\n",
      " [  1   9  24]]\n"
     ]
    }
   ],
   "source": [
    "pred = random_forest_grid.predict(test)\n",
    "print(\"Accuracy\", accuracy_score(y_test,pred))\n",
    "print(\"\\nClassification Report\\n\", classification_report(y_test,pred))\n",
    "print(\"\\nConfusion Matrix\\n\", confusion_matrix(y_test,pred))\n"
   ]
  },
  {
   "cell_type": "markdown",
   "metadata": {},
   "source": [
    "## Random Forest Algorithm has 93.33% Accuracy"
   ]
  },
  {
   "cell_type": "code",
   "execution_count": 36,
   "metadata": {},
   "outputs": [
    {
     "name": "stdout",
     "output_type": "stream",
     "text": [
      "Requirement already satisfied: rfpimp in c:\\users\\hp\\anaconda3\\lib\\site-packages (1.3.7)\n",
      "Requirement already satisfied: pandas in c:\\users\\hp\\anaconda3\\lib\\site-packages (from rfpimp) (1.1.3)\n",
      "Requirement already satisfied: numpy in c:\\users\\hp\\anaconda3\\lib\\site-packages (from rfpimp) (1.19.2)\n",
      "Requirement already satisfied: matplotlib in c:\\users\\hp\\anaconda3\\lib\\site-packages (from rfpimp) (3.3.2)\n",
      "Requirement already satisfied: scikit-learn in c:\\users\\hp\\anaconda3\\lib\\site-packages (from rfpimp) (1.0.2)\n",
      "Requirement already satisfied: python-dateutil>=2.7.3 in c:\\users\\hp\\anaconda3\\lib\\site-packages (from pandas->rfpimp) (2.8.1)\n",
      "Requirement already satisfied: pytz>=2017.2 in c:\\users\\hp\\anaconda3\\lib\\site-packages (from pandas->rfpimp) (2020.1)\n",
      "Requirement already satisfied: cycler>=0.10 in c:\\users\\hp\\anaconda3\\lib\\site-packages (from matplotlib->rfpimp) (0.10.0)\n",
      "Requirement already satisfied: pillow>=6.2.0 in c:\\users\\hp\\anaconda3\\lib\\site-packages (from matplotlib->rfpimp) (8.0.1)\n",
      "Requirement already satisfied: kiwisolver>=1.0.1 in c:\\users\\hp\\anaconda3\\lib\\site-packages (from matplotlib->rfpimp) (1.3.0)\n",
      "Requirement already satisfied: pyparsing!=2.0.4,!=2.1.2,!=2.1.6,>=2.0.3 in c:\\users\\hp\\anaconda3\\lib\\site-packages (from matplotlib->rfpimp) (2.4.7)\n",
      "Requirement already satisfied: certifi>=2020.06.20 in c:\\users\\hp\\anaconda3\\lib\\site-packages (from matplotlib->rfpimp) (2020.6.20)\n",
      "Requirement already satisfied: threadpoolctl>=2.0.0 in c:\\users\\hp\\anaconda3\\lib\\site-packages (from scikit-learn->rfpimp) (2.1.0)\n",
      "Requirement already satisfied: joblib>=0.11 in c:\\users\\hp\\anaconda3\\lib\\site-packages (from scikit-learn->rfpimp) (0.17.0)\n",
      "Requirement already satisfied: scipy>=1.1.0 in c:\\users\\hp\\anaconda3\\lib\\site-packages (from scikit-learn->rfpimp) (1.5.2)\n",
      "Requirement already satisfied: six>=1.5 in c:\\users\\hp\\anaconda3\\lib\\site-packages (from python-dateutil>=2.7.3->pandas->rfpimp) (1.15.0)\n",
      "Note: you may need to restart the kernel to use updated packages.\n"
     ]
    }
   ],
   "source": [
    "pip install rfpimp"
   ]
  },
  {
   "cell_type": "markdown",
   "metadata": {},
   "source": [
    "### Feature Ranking in Random Forest\n",
    "### Bar Plot"
   ]
  },
  {
   "cell_type": "code",
   "execution_count": 37,
   "metadata": {},
   "outputs": [
    {
     "data": {
      "text/plain": [
       "Text(0.5, 1.0, 'Feature Importance')"
      ]
     },
     "execution_count": 37,
     "metadata": {},
     "output_type": "execute_result"
    },
    {
     "data": {
      "image/png": "[encoded data removed]",
      "text/plain": [
       "<Figure size 432x288 with 1 Axes>"
      ]
     },
     "metadata": {
      "needs_background": "light"
     },
     "output_type": "display_data"
    }
   ],
   "source": [
    "from sklearn.metrics import r2_score\n",
    "from rfpimp import permutation_importances\n",
    "\n",
    "def r2(random_forest_grid, train, y_train):\n",
    "    return r2_score(y_train, random_forest_grid.predict(train))\n",
    "\n",
    "perm_imp_rfpimp = permutation_importances(random_forest_grid, train, y_train, r2)\n",
    "\n",
    "perm_imp_rfpimp=perm_imp_rfpimp.iloc[:,0]\n",
    "\n",
    "df_plt = perm_imp_rfpimp[perm_imp_rfpimp>0]\n",
    "# Creating a bar plot\n",
    "sns.barplot(x=df_plt, y=df_plt.index)\n",
    "plt.xlabel('Feature Importance Score')\n",
    "plt.ylabel('Features')\n",
    "plt.title(\"Feature Importance\")"
   ]
  },
  {
   "cell_type": "markdown",
   "metadata": {},
   "source": [
    "## The Barplot shows the 3 Important factors affecting the employee performance\n",
    "\n",
    "### (1) Emp Environment Satisfaction\n",
    "### (2) Emp Last Salary Hike Percent\n",
    "### (3) Years Since Last Promotion"
   ]
  },
  {
   "cell_type": "markdown",
   "metadata": {},
   "source": [
    "# B. Gradient Boosted Classifier"
   ]
  },
  {
   "cell_type": "markdown",
   "metadata": {},
   "source": [
    "### Gradient Boosting Parameters"
   ]
  },
  {
   "cell_type": "code",
   "execution_count": 38,
   "metadata": {},
   "outputs": [],
   "source": [
    "gb_params ={\n",
    "    'n_estimators': 500,\n",
    "    'max_features': 0.9,\n",
    "    'learning_rate' : 0.2,\n",
    "    'max_depth': 11,\n",
    "    'min_samples_leaf': 2,\n",
    "    'subsample': 1,\n",
    "    'max_features' : 'sqrt',\n",
    "    'random_state' : 0,\n",
    "    'verbose': 0\n",
    "}"
   ]
  },
  {
   "cell_type": "markdown",
   "metadata": {},
   "source": [
    "### Model is predicted with various columns using scalar target"
   ]
  },
  {
   "cell_type": "code",
   "execution_count": 39,
   "metadata": {},
   "outputs": [],
   "source": [
    "gb = GradientBoostingClassifier(**gb_params)"
   ]
  },
  {
   "cell_type": "markdown",
   "metadata": {},
   "source": [
    "### Fit the Gradient Boosted Model"
   ]
  },
  {
   "cell_type": "code",
   "execution_count": 40,
   "metadata": {},
   "outputs": [
    {
     "data": {
      "text/plain": [
       "GradientBoostingClassifier(learning_rate=0.2, max_depth=11, max_features='sqrt',\n",
       "                           min_samples_leaf=2, n_estimators=500, random_state=0,\n",
       "                           subsample=1)"
      ]
     },
     "execution_count": 40,
     "metadata": {},
     "output_type": "execute_result"
    }
   ],
   "source": [
    "gb.fit(train, y_train)"
   ]
  },
  {
   "cell_type": "markdown",
   "metadata": {},
   "source": [
    "### Get the predictions"
   ]
  },
  {
   "cell_type": "code",
   "execution_count": 41,
   "metadata": {},
   "outputs": [],
   "source": [
    "gb_predictions = gb.predict(test)"
   ]
  },
  {
   "cell_type": "markdown",
   "metadata": {},
   "source": [
    "### Evaluation"
   ]
  },
  {
   "cell_type": "code",
   "execution_count": 42,
   "metadata": {},
   "outputs": [
    {
     "name": "stdout",
     "output_type": "stream",
     "text": [
      "Accuracy 0.9333333333333333\n",
      "\n",
      "Classification Report\n",
      "               precision    recall  f1-score   support\n",
      "\n",
      "           2       0.88      0.88      0.88        59\n",
      "           3       0.94      0.97      0.96       267\n",
      "           4       0.96      0.71      0.81        34\n",
      "\n",
      "    accuracy                           0.93       360\n",
      "   macro avg       0.93      0.85      0.88       360\n",
      "weighted avg       0.93      0.93      0.93       360\n",
      "\n",
      "\n",
      "Confusion Matrix\n",
      " [[ 52   7   0]\n",
      " [  6 260   1]\n",
      " [  1   9  24]]\n"
     ]
    }
   ],
   "source": [
    "print(\"Accuracy\", accuracy_score(y_test,pred))\n",
    "print(\"\\nClassification Report\\n\", classification_report(y_test,pred))\n",
    "print(\"\\nConfusion Matrix\\n\", confusion_matrix(y_test,pred))"
   ]
  },
  {
   "cell_type": "markdown",
   "metadata": {},
   "source": [
    "## Gradient Boosted Algorithm has 93.33% Accuracy"
   ]
  },
  {
   "cell_type": "markdown",
   "metadata": {},
   "source": [
    "### Feature Ranking in the Gradient Boosting Model"
   ]
  },
  {
   "cell_type": "markdown",
   "metadata": {},
   "source": [
    "### Scatter Plot "
   ]
  },
  {
   "cell_type": "code",
   "execution_count": 43,
   "metadata": {},
   "outputs": [
    {
     "data": {
      "application/vnd.plotly.v1+json": {
       "config": {
        "linkText": "Export to plot.ly",
        "plotlyServerURL": "https://plot.ly",
        "showLink": false
       },
       "data": [
        {
         "marker": {
          "color": [
           0.03268515120133168,
           0.005592011871856085,
           0.02875766831647813,
           0.049342816623943415,
           0.004055222460983255,
           0.021126620031054238,
           0.009982760984105986,
           0.2281525470413375,
           0.03379446744594127,
           0.011708820987912158,
           0.011276930721962002,
           0.017898265367965342,
           0.008186806825520407,
           0.26998517886031453,
           0.017872713310624025,
           0.021377203202175062,
           0.02478821608039774,
           0.037820150950448085,
           0.03705520114156334,
           0.10096948609125712,
           0.024424420827159312,
           0.003147339655669394
          ],
          "colorscale": [
           [
            0,
            "rgb(12,51,131)"
           ],
           [
            0.25,
            "rgb(10,136,186)"
           ],
           [
            0.5,
            "rgb(242,211,56)"
           ],
           [
            0.75,
            "rgb(242,143,56)"
           ],
           [
            1,
            "rgb(217,30,30)"
           ]
          ],
          "showscale": true,
          "size": 13,
          "sizemode": "diameter",
          "sizeref": 1
         },
         "mode": "markers",
         "text": [
          "Age",
          "MaritalStatus",
          "EmpDepartment",
          "EmpJobRole",
          "BusinessTravelFrequency",
          "DistanceFromHome",
          "EmpEducationLevel",
          "EmpEnvironmentSatisfaction",
          "EmpHourlyRate",
          "EmpJobInvolvement",
          "EmpJobLevel",
          "NumCompaniesWorked",
          "OverTime",
          "EmpLastSalaryHikePercent",
          "EmpRelationshipSatisfaction",
          "TotalWorkExperienceInYears",
          "EmpWorkLifeBalance",
          "ExperienceYearsAtThisCompany",
          "ExperienceYearsInCurrentRole",
          "YearsSinceLastPromotion",
          "YearsWithCurrManager",
          "Attrition",
          "PerformanceRating"
         ],
         "type": "scatter",
         "x": [
          "Age",
          "MaritalStatus",
          "EmpDepartment",
          "EmpJobRole",
          "BusinessTravelFrequency",
          "DistanceFromHome",
          "EmpEducationLevel",
          "EmpEnvironmentSatisfaction",
          "EmpHourlyRate",
          "EmpJobInvolvement",
          "EmpJobLevel",
          "NumCompaniesWorked",
          "OverTime",
          "EmpLastSalaryHikePercent",
          "EmpRelationshipSatisfaction",
          "TotalWorkExperienceInYears",
          "EmpWorkLifeBalance",
          "ExperienceYearsAtThisCompany",
          "ExperienceYearsInCurrentRole",
          "YearsSinceLastPromotion",
          "YearsWithCurrManager",
          "Attrition",
          "PerformanceRating"
         ],
         "y": [
          0.03268515120133168,
          0.005592011871856085,
          0.02875766831647813,
          0.049342816623943415,
          0.004055222460983255,
          0.021126620031054238,
          0.009982760984105986,
          0.2281525470413375,
          0.03379446744594127,
          0.011708820987912158,
          0.011276930721962002,
          0.017898265367965342,
          0.008186806825520407,
          0.26998517886031453,
          0.017872713310624025,
          0.021377203202175062,
          0.02478821608039774,
          0.037820150950448085,
          0.03705520114156334,
          0.10096948609125712,
          0.024424420827159312,
          0.003147339655669394
         ]
        }
       ],
       "layout": {
        "autosize": true,
        "hovermode": "closest",
        "showlegend": false,
        "template": {
         "data": {
          "bar": [
           {
            "error_x": {
             "color": "#2a3f5f"
            },
            "error_y": {
             "color": "#2a3f5f"
            },
            "marker": {
             "line": {
              "color": "#E5ECF6",
              "width": 0.5
             },
             "pattern": {
              "fillmode": "overlay",
              "size": 10,
              "solidity": 0.2
             }
            },
            "type": "bar"
           }
          ],
          "barpolar": [
           {
            "marker": {
             "line": {
              "color": "#E5ECF6",
              "width": 0.5
             },
             "pattern": {
              "fillmode": "overlay",
              "size": 10,
              "solidity": 0.2
             }
            },
            "type": "barpolar"
           }
          ],
          "carpet": [
           {
            "aaxis": {
             "endlinecolor": "#2a3f5f",
             "gridcolor": "white",
             "linecolor": "white",
             "minorgridcolor": "white",
             "startlinecolor": "#2a3f5f"
            },
            "baxis": {
             "endlinecolor": "#2a3f5f",
             "gridcolor": "white",
             "linecolor": "white",
             "minorgridcolor": "white",
             "startlinecolor": "#2a3f5f"
            },
            "type": "carpet"
           }
          ],
          "choropleth": [
           {
            "colorbar": {
             "outlinewidth": 0,
             "ticks": ""
            },
            "type": "choropleth"
           }
          ],
          "contour": [
           {
            "colorbar": {
             "outlinewidth": 0,
             "ticks": ""
            },
            "colorscale": [
             [
              0,
              "#0d0887"
             ],
             [
              0.1111111111111111,
              "#46039f"
             ],
             [
              0.2222222222222222,
              "#7201a8"
             ],
             [
              0.3333333333333333,
              "#9c179e"
             ],
             [
              0.4444444444444444,
              "#bd3786"
             ],
             [
              0.5555555555555556,
              "#d8576b"
             ],
             [
              0.6666666666666666,
              "#ed7953"
             ],
             [
              0.7777777777777778,
              "#fb9f3a"
             ],
             [
              0.8888888888888888,
              "#fdca26"
             ],
             [
              1,
              "#f0f921"
             ]
            ],
            "type": "contour"
           }
          ],
          "contourcarpet": [
           {
            "colorbar": {
             "outlinewidth": 0,
             "ticks": ""
            },
            "type": "contourcarpet"
           }
          ],
          "heatmap": [
           {
            "colorbar": {
             "outlinewidth": 0,
             "ticks": ""
            },
            "colorscale": [
             [
              0,
              "#0d0887"
             ],
             [
              0.1111111111111111,
              "#46039f"
             ],
             [
              0.2222222222222222,
              "#7201a8"
             ],
             [
              0.3333333333333333,
              "#9c179e"
             ],
             [
              0.4444444444444444,
              "#bd3786"
             ],
             [
              0.5555555555555556,
              "#d8576b"
             ],
             [
              0.6666666666666666,
              "#ed7953"
             ],
             [
              0.7777777777777778,
              "#fb9f3a"
             ],
             [
              0.8888888888888888,
              "#fdca26"
             ],
             [
              1,
              "#f0f921"
             ]
            ],
            "type": "heatmap"
           }
          ],
          "heatmapgl": [
           {
            "colorbar": {
             "outlinewidth": 0,
             "ticks": ""
            },
            "colorscale": [
             [
              0,
              "#0d0887"
             ],
             [
              0.1111111111111111,
              "#46039f"
             ],
             [
              0.2222222222222222,
              "#7201a8"
             ],
             [
              0.3333333333333333,
              "#9c179e"
             ],
             [
              0.4444444444444444,
              "#bd3786"
             ],
             [
              0.5555555555555556,
              "#d8576b"
             ],
             [
              0.6666666666666666,
              "#ed7953"
             ],
             [
              0.7777777777777778,
              "#fb9f3a"
             ],
             [
              0.8888888888888888,
              "#fdca26"
             ],
             [
              1,
              "#f0f921"
             ]
            ],
            "type": "heatmapgl"
           }
          ],
          "histogram": [
           {
            "marker": {
             "pattern": {
              "fillmode": "overlay",
              "size": 10,
              "solidity": 0.2
             }
            },
            "type": "histogram"
           }
          ],
          "histogram2d": [
           {
            "colorbar": {
             "outlinewidth": 0,
             "ticks": ""
            },
            "colorscale": [
             [
              0,
              "#0d0887"
             ],
             [
              0.1111111111111111,
              "#46039f"
             ],
             [
              0.2222222222222222,
              "#7201a8"
             ],
             [
              0.3333333333333333,
              "#9c179e"
             ],
             [
              0.4444444444444444,
              "#bd3786"
             ],
             [
              0.5555555555555556,
              "#d8576b"
             ],
             [
              0.6666666666666666,
              "#ed7953"
             ],
             [
              0.7777777777777778,
              "#fb9f3a"
             ],
             [
              0.8888888888888888,
              "#fdca26"
             ],
             [
              1,
              "#f0f921"
             ]
            ],
            "type": "histogram2d"
           }
          ],
          "histogram2dcontour": [
           {
            "colorbar": {
             "outlinewidth": 0,
             "ticks": ""
            },
            "colorscale": [
             [
              0,
              "#0d0887"
             ],
             [
              0.1111111111111111,
              "#46039f"
             ],
             [
              0.2222222222222222,
              "#7201a8"
             ],
             [
              0.3333333333333333,
              "#9c179e"
             ],
             [
              0.4444444444444444,
              "#bd3786"
             ],
             [
              0.5555555555555556,
              "#d8576b"
             ],
             [
              0.6666666666666666,
              "#ed7953"
             ],
             [
              0.7777777777777778,
              "#fb9f3a"
             ],
             [
              0.8888888888888888,
              "#fdca26"
             ],
             [
              1,
              "#f0f921"
             ]
            ],
            "type": "histogram2dcontour"
           }
          ],
          "mesh3d": [
           {
            "colorbar": {
             "outlinewidth": 0,
             "ticks": ""
            },
            "type": "mesh3d"
           }
          ],
          "parcoords": [
           {
            "line": {
             "colorbar": {
              "outlinewidth": 0,
              "ticks": ""
             }
            },
            "type": "parcoords"
           }
          ],
          "pie": [
           {
            "automargin": true,
            "type": "pie"
           }
          ],
          "scatter": [
           {
            "marker": {
             "colorbar": {
              "outlinewidth": 0,
              "ticks": ""
             }
            },
            "type": "scatter"
           }
          ],
          "scatter3d": [
           {
            "line": {
             "colorbar": {
              "outlinewidth": 0,
              "ticks": ""
             }
            },
            "marker": {
             "colorbar": {
              "outlinewidth": 0,
              "ticks": ""
             }
            },
            "type": "scatter3d"
           }
          ],
          "scattercarpet": [
           {
            "marker": {
             "colorbar": {
              "outlinewidth": 0,
              "ticks": ""
             }
            },
            "type": "scattercarpet"
           }
          ],
          "scattergeo": [
           {
            "marker": {
             "colorbar": {
              "outlinewidth": 0,
              "ticks": ""
             }
            },
            "type": "scattergeo"
           }
          ],
          "scattergl": [
           {
            "marker": {
             "colorbar": {
              "outlinewidth": 0,
              "ticks": ""
             }
            },
            "type": "scattergl"
           }
          ],
          "scattermapbox": [
           {
            "marker": {
             "colorbar": {
              "outlinewidth": 0,
              "ticks": ""
             }
            },
            "type": "scattermapbox"
           }
          ],
          "scatterpolar": [
           {
            "marker": {
             "colorbar": {
              "outlinewidth": 0,
              "ticks": ""
             }
            },
            "type": "scatterpolar"
           }
          ],
          "scatterpolargl": [
           {
            "marker": {
             "colorbar": {
              "outlinewidth": 0,
              "ticks": ""
             }
            },
            "type": "scatterpolargl"
           }
          ],
          "scatterternary": [
           {
            "marker": {
             "colorbar": {
              "outlinewidth": 0,
              "ticks": ""
             }
            },
            "type": "scatterternary"
           }
          ],
          "surface": [
           {
            "colorbar": {
             "outlinewidth": 0,
             "ticks": ""
            },
            "colorscale": [
             [
              0,
              "#0d0887"
             ],
             [
              0.1111111111111111,
              "#46039f"
             ],
             [
              0.2222222222222222,
              "#7201a8"
             ],
             [
              0.3333333333333333,
              "#9c179e"
             ],
             [
              0.4444444444444444,
              "#bd3786"
             ],
             [
              0.5555555555555556,
              "#d8576b"
             ],
             [
              0.6666666666666666,
              "#ed7953"
             ],
             [
              0.7777777777777778,
              "#fb9f3a"
             ],
             [
              0.8888888888888888,
              "#fdca26"
             ],
             [
              1,
              "#f0f921"
             ]
            ],
            "type": "surface"
           }
          ],
          "table": [
           {
            "cells": {
             "fill": {
              "color": "#EBF0F8"
             },
             "line": {
              "color": "white"
             }
            },
            "header": {
             "fill": {
              "color": "#C8D4E3"
             },
             "line": {
              "color": "white"
             }
            },
            "type": "table"
           }
          ]
         },
         "layout": {
          "annotationdefaults": {
           "arrowcolor": "#2a3f5f",
           "arrowhead": 0,
           "arrowwidth": 1
          },
          "autotypenumbers": "strict",
          "coloraxis": {
           "colorbar": {
            "outlinewidth": 0,
            "ticks": ""
           }
          },
          "colorscale": {
           "diverging": [
            [
             0,
             "#8e0152"
            ],
            [
             0.1,
             "#c51b7d"
            ],
            [
             0.2,
             "#de77ae"
            ],
            [
             0.3,
             "#f1b6da"
            ],
            [
             0.4,
             "#fde0ef"
            ],
            [
             0.5,
             "#f7f7f7"
            ],
            [
             0.6,
             "#e6f5d0"
            ],
            [
             0.7,
             "#b8e186"
            ],
            [
             0.8,
             "#7fbc41"
            ],
            [
             0.9,
             "#4d9221"
            ],
            [
             1,
             "#276419"
            ]
           ],
           "sequential": [
            [
             0,
             "#0d0887"
            ],
            [
             0.1111111111111111,
             "#46039f"
            ],
            [
             0.2222222222222222,
             "#7201a8"
            ],
            [
             0.3333333333333333,
             "#9c179e"
            ],
            [
             0.4444444444444444,
             "#bd3786"
            ],
            [
             0.5555555555555556,
             "#d8576b"
            ],
            [
             0.6666666666666666,
             "#ed7953"
            ],
            [
             0.7777777777777778,
             "#fb9f3a"
            ],
            [
             0.8888888888888888,
             "#fdca26"
            ],
            [
             1,
             "#f0f921"
            ]
           ],
           "sequentialminus": [
            [
             0,
             "#0d0887"
            ],
            [
             0.1111111111111111,
             "#46039f"
            ],
            [
             0.2222222222222222,
             "#7201a8"
            ],
            [
             0.3333333333333333,
             "#9c179e"
            ],
            [
             0.4444444444444444,
             "#bd3786"
            ],
            [
             0.5555555555555556,
             "#d8576b"
            ],
            [
             0.6666666666666666,
             "#ed7953"
            ],
            [
             0.7777777777777778,
             "#fb9f3a"
            ],
            [
             0.8888888888888888,
             "#fdca26"
            ],
            [
             1,
             "#f0f921"
            ]
           ]
          },
          "colorway": [
           "#636efa",
           "#EF553B",
           "#00cc96",
           "#ab63fa",
           "#FFA15A",
           "#19d3f3",
           "#FF6692",
           "#B6E880",
           "#FF97FF",
           "#FECB52"
          ],
          "font": {
           "color": "#2a3f5f"
          },
          "geo": {
           "bgcolor": "white",
           "lakecolor": "white",
           "landcolor": "#E5ECF6",
           "showlakes": true,
           "showland": true,
           "subunitcolor": "white"
          },
          "hoverlabel": {
           "align": "left"
          },
          "hovermode": "closest",
          "mapbox": {
           "style": "light"
          },
          "paper_bgcolor": "white",
          "plot_bgcolor": "#E5ECF6",
          "polar": {
           "angularaxis": {
            "gridcolor": "white",
            "linecolor": "white",
            "ticks": ""
           },
           "bgcolor": "#E5ECF6",
           "radialaxis": {
            "gridcolor": "white",
            "linecolor": "white",
            "ticks": ""
           }
          },
          "scene": {
           "xaxis": {
            "backgroundcolor": "#E5ECF6",
            "gridcolor": "white",
            "gridwidth": 2,
            "linecolor": "white",
            "showbackground": true,
            "ticks": "",
            "zerolinecolor": "white"
           },
           "yaxis": {
            "backgroundcolor": "#E5ECF6",
            "gridcolor": "white",
            "gridwidth": 2,
            "linecolor": "white",
            "showbackground": true,
            "ticks": "",
            "zerolinecolor": "white"
           },
           "zaxis": {
            "backgroundcolor": "#E5ECF6",
            "gridcolor": "white",
            "gridwidth": 2,
            "linecolor": "white",
            "showbackground": true,
            "ticks": "",
            "zerolinecolor": "white"
           }
          },
          "shapedefaults": {
           "line": {
            "color": "#2a3f5f"
           }
          },
          "ternary": {
           "aaxis": {
            "gridcolor": "white",
            "linecolor": "white",
            "ticks": ""
           },
           "baxis": {
            "gridcolor": "white",
            "linecolor": "white",
            "ticks": ""
           },
           "bgcolor": "#E5ECF6",
           "caxis": {
            "gridcolor": "white",
            "linecolor": "white",
            "ticks": ""
           }
          },
          "title": {
           "x": 0.05
          },
          "xaxis": {
           "automargin": true,
           "gridcolor": "white",
           "linecolor": "white",
           "ticks": "",
           "title": {
            "standoff": 15
           },
           "zerolinecolor": "white",
           "zerolinewidth": 2
          },
          "yaxis": {
           "automargin": true,
           "gridcolor": "white",
           "linecolor": "white",
           "ticks": "",
           "title": {
            "standoff": 15
           },
           "zerolinecolor": "white",
           "zerolinewidth": 2
          }
         }
        },
        "title": {
         "text": "Gradient Boosting Model Feature Importance"
        },
        "xaxis": {
         "showgrid": false,
         "showline": false,
         "ticklen": 5,
         "zeroline": false
        },
        "yaxis": {
         "gridwidth": 2,
         "showgrid": false,
         "ticklen": 5,
         "title": {
          "text": "Feature Importance Level"
         },
         "zeroline": false
        }
       }
      },
      "text/html": [
       "<div>                            <div id=\"709f08a2-15a8-44ab-a1a6-fc97dd349153\" class=\"plotly-graph-div\" style=\"height:525px; width:100%;\"></div>            <script type=\"text/javascript\">                require([\"plotly\"], function(Plotly) {                    window.PLOTLYENV=window.PLOTLYENV || {};                                    if (document.getElementById(\"709f08a2-15a8-44ab-a1a6-fc97dd349153\")) {                    Plotly.newPlot(                        \"709f08a2-15a8-44ab-a1a6-fc97dd349153\",                        [{\"marker\":{\"color\":[0.03268515120133168,0.005592011871856085,0.02875766831647813,0.049342816623943415,0.004055222460983255,0.021126620031054238,0.009982760984105986,0.2281525470413375,0.03379446744594127,0.011708820987912158,0.011276930721962002,0.017898265367965342,0.008186806825520407,0.26998517886031453,0.017872713310624025,0.021377203202175062,0.02478821608039774,0.037820150950448085,0.03705520114156334,0.10096948609125712,0.024424420827159312,0.003147339655669394],\"colorscale\":[[0.0,\"rgb(12,51,131)\"],[0.25,\"rgb(10,136,186)\"],[0.5,\"rgb(242,211,56)\"],[0.75,\"rgb(242,143,56)\"],[1.0,\"rgb(217,30,30)\"]],\"showscale\":true,\"size\":13,\"sizemode\":\"diameter\",\"sizeref\":1},\"mode\":\"markers\",\"text\":[\"Age\",\"MaritalStatus\",\"EmpDepartment\",\"EmpJobRole\",\"BusinessTravelFrequency\",\"DistanceFromHome\",\"EmpEducationLevel\",\"EmpEnvironmentSatisfaction\",\"EmpHourlyRate\",\"EmpJobInvolvement\",\"EmpJobLevel\",\"NumCompaniesWorked\",\"OverTime\",\"EmpLastSalaryHikePercent\",\"EmpRelationshipSatisfaction\",\"TotalWorkExperienceInYears\",\"EmpWorkLifeBalance\",\"ExperienceYearsAtThisCompany\",\"ExperienceYearsInCurrentRole\",\"YearsSinceLastPromotion\",\"YearsWithCurrManager\",\"Attrition\",\"PerformanceRating\"],\"x\":[\"Age\",\"MaritalStatus\",\"EmpDepartment\",\"EmpJobRole\",\"BusinessTravelFrequency\",\"DistanceFromHome\",\"EmpEducationLevel\",\"EmpEnvironmentSatisfaction\",\"EmpHourlyRate\",\"EmpJobInvolvement\",\"EmpJobLevel\",\"NumCompaniesWorked\",\"OverTime\",\"EmpLastSalaryHikePercent\",\"EmpRelationshipSatisfaction\",\"TotalWorkExperienceInYears\",\"EmpWorkLifeBalance\",\"ExperienceYearsAtThisCompany\",\"ExperienceYearsInCurrentRole\",\"YearsSinceLastPromotion\",\"YearsWithCurrManager\",\"Attrition\",\"PerformanceRating\"],\"y\":[0.03268515120133168,0.005592011871856085,0.02875766831647813,0.049342816623943415,0.004055222460983255,0.021126620031054238,0.009982760984105986,0.2281525470413375,0.03379446744594127,0.011708820987912158,0.011276930721962002,0.017898265367965342,0.008186806825520407,0.26998517886031453,0.017872713310624025,0.021377203202175062,0.02478821608039774,0.037820150950448085,0.03705520114156334,0.10096948609125712,0.024424420827159312,0.003147339655669394],\"type\":\"scatter\"}],                        {\"autosize\":true,\"hovermode\":\"closest\",\"showlegend\":false,\"template\":{\"data\":{\"barpolar\":[{\"marker\":{\"line\":{\"color\":\"#E5ECF6\",\"width\":0.5},\"pattern\":{\"fillmode\":\"overlay\",\"size\":10,\"solidity\":0.2}},\"type\":\"barpolar\"}],\"bar\":[{\"error_x\":{\"color\":\"#2a3f5f\"},\"error_y\":{\"color\":\"#2a3f5f\"},\"marker\":{\"line\":{\"color\":\"#E5ECF6\",\"width\":0.5},\"pattern\":{\"fillmode\":\"overlay\",\"size\":10,\"solidity\":0.2}},\"type\":\"bar\"}],\"carpet\":[{\"aaxis\":{\"endlinecolor\":\"#2a3f5f\",\"gridcolor\":\"white\",\"linecolor\":\"white\",\"minorgridcolor\":\"white\",\"startlinecolor\":\"#2a3f5f\"},\"baxis\":{\"endlinecolor\":\"#2a3f5f\",\"gridcolor\":\"white\",\"linecolor\":\"white\",\"minorgridcolor\":\"white\",\"startlinecolor\":\"#2a3f5f\"},\"type\":\"carpet\"}],\"choropleth\":[{\"colorbar\":{\"outlinewidth\":0,\"ticks\":\"\"},\"type\":\"choropleth\"}],\"contourcarpet\":[{\"colorbar\":{\"outlinewidth\":0,\"ticks\":\"\"},\"type\":\"contourcarpet\"}],\"contour\":[{\"colorbar\":{\"outlinewidth\":0,\"ticks\":\"\"},\"colorscale\":[[0.0,\"#0d0887\"],[0.1111111111111111,\"#46039f\"],[0.2222222222222222,\"#7201a8\"],[0.3333333333333333,\"#9c179e\"],[0.4444444444444444,\"#bd3786\"],[0.5555555555555556,\"#d8576b\"],[0.6666666666666666,\"#ed7953\"],[0.7777777777777778,\"#fb9f3a\"],[0.8888888888888888,\"#fdca26\"],[1.0,\"#f0f921\"]],\"type\":\"contour\"}],\"heatmapgl\":[{\"colorbar\":{\"outlinewidth\":0,\"ticks\":\"\"},\"colorscale\":[[0.0,\"#0d0887\"],[0.1111111111111111,\"#46039f\"],[0.2222222222222222,\"#7201a8\"],[0.3333333333333333,\"#9c179e\"],[0.4444444444444444,\"#bd3786\"],[0.5555555555555556,\"#d8576b\"],[0.6666666666666666,\"#ed7953\"],[0.7777777777777778,\"#fb9f3a\"],[0.8888888888888888,\"#fdca26\"],[1.0,\"#f0f921\"]],\"type\":\"heatmapgl\"}],\"heatmap\":[{\"colorbar\":{\"outlinewidth\":0,\"ticks\":\"\"},\"colorscale\":[[0.0,\"#0d0887\"],[0.1111111111111111,\"#46039f\"],[0.2222222222222222,\"#7201a8\"],[0.3333333333333333,\"#9c179e\"],[0.4444444444444444,\"#bd3786\"],[0.5555555555555556,\"#d8576b\"],[0.6666666666666666,\"#ed7953\"],[0.7777777777777778,\"#fb9f3a\"],[0.8888888888888888,\"#fdca26\"],[1.0,\"#f0f921\"]],\"type\":\"heatmap\"}],\"histogram2dcontour\":[{\"colorbar\":{\"outlinewidth\":0,\"ticks\":\"\"},\"colorscale\":[[0.0,\"#0d0887\"],[0.1111111111111111,\"#46039f\"],[0.2222222222222222,\"#7201a8\"],[0.3333333333333333,\"#9c179e\"],[0.4444444444444444,\"#bd3786\"],[0.5555555555555556,\"#d8576b\"],[0.6666666666666666,\"#ed7953\"],[0.7777777777777778,\"#fb9f3a\"],[0.8888888888888888,\"#fdca26\"],[1.0,\"#f0f921\"]],\"type\":\"histogram2dcontour\"}],\"histogram2d\":[{\"colorbar\":{\"outlinewidth\":0,\"ticks\":\"\"},\"colorscale\":[[0.0,\"#0d0887\"],[0.1111111111111111,\"#46039f\"],[0.2222222222222222,\"#7201a8\"],[0.3333333333333333,\"#9c179e\"],[0.4444444444444444,\"#bd3786\"],[0.5555555555555556,\"#d8576b\"],[0.6666666666666666,\"#ed7953\"],[0.7777777777777778,\"#fb9f3a\"],[0.8888888888888888,\"#fdca26\"],[1.0,\"#f0f921\"]],\"type\":\"histogram2d\"}],\"histogram\":[{\"marker\":{\"pattern\":{\"fillmode\":\"overlay\",\"size\":10,\"solidity\":0.2}},\"type\":\"histogram\"}],\"mesh3d\":[{\"colorbar\":{\"outlinewidth\":0,\"ticks\":\"\"},\"type\":\"mesh3d\"}],\"parcoords\":[{\"line\":{\"colorbar\":{\"outlinewidth\":0,\"ticks\":\"\"}},\"type\":\"parcoords\"}],\"pie\":[{\"automargin\":true,\"type\":\"pie\"}],\"scatter3d\":[{\"line\":{\"colorbar\":{\"outlinewidth\":0,\"ticks\":\"\"}},\"marker\":{\"colorbar\":{\"outlinewidth\":0,\"ticks\":\"\"}},\"type\":\"scatter3d\"}],\"scattercarpet\":[{\"marker\":{\"colorbar\":{\"outlinewidth\":0,\"ticks\":\"\"}},\"type\":\"scattercarpet\"}],\"scattergeo\":[{\"marker\":{\"colorbar\":{\"outlinewidth\":0,\"ticks\":\"\"}},\"type\":\"scattergeo\"}],\"scattergl\":[{\"marker\":{\"colorbar\":{\"outlinewidth\":0,\"ticks\":\"\"}},\"type\":\"scattergl\"}],\"scattermapbox\":[{\"marker\":{\"colorbar\":{\"outlinewidth\":0,\"ticks\":\"\"}},\"type\":\"scattermapbox\"}],\"scatterpolargl\":[{\"marker\":{\"colorbar\":{\"outlinewidth\":0,\"ticks\":\"\"}},\"type\":\"scatterpolargl\"}],\"scatterpolar\":[{\"marker\":{\"colorbar\":{\"outlinewidth\":0,\"ticks\":\"\"}},\"type\":\"scatterpolar\"}],\"scatter\":[{\"marker\":{\"colorbar\":{\"outlinewidth\":0,\"ticks\":\"\"}},\"type\":\"scatter\"}],\"scatterternary\":[{\"marker\":{\"colorbar\":{\"outlinewidth\":0,\"ticks\":\"\"}},\"type\":\"scatterternary\"}],\"surface\":[{\"colorbar\":{\"outlinewidth\":0,\"ticks\":\"\"},\"colorscale\":[[0.0,\"#0d0887\"],[0.1111111111111111,\"#46039f\"],[0.2222222222222222,\"#7201a8\"],[0.3333333333333333,\"#9c179e\"],[0.4444444444444444,\"#bd3786\"],[0.5555555555555556,\"#d8576b\"],[0.6666666666666666,\"#ed7953\"],[0.7777777777777778,\"#fb9f3a\"],[0.8888888888888888,\"#fdca26\"],[1.0,\"#f0f921\"]],\"type\":\"surface\"}],\"table\":[{\"cells\":{\"fill\":{\"color\":\"#EBF0F8\"},\"line\":{\"color\":\"white\"}},\"header\":{\"fill\":{\"color\":\"#C8D4E3\"},\"line\":{\"color\":\"white\"}},\"type\":\"table\"}]},\"layout\":{\"annotationdefaults\":{\"arrowcolor\":\"#2a3f5f\",\"arrowhead\":0,\"arrowwidth\":1},\"autotypenumbers\":\"strict\",\"coloraxis\":{\"colorbar\":{\"outlinewidth\":0,\"ticks\":\"\"}},\"colorscale\":{\"diverging\":[[0,\"#8e0152\"],[0.1,\"#c51b7d\"],[0.2,\"#de77ae\"],[0.3,\"#f1b6da\"],[0.4,\"#fde0ef\"],[0.5,\"#f7f7f7\"],[0.6,\"#e6f5d0\"],[0.7,\"#b8e186\"],[0.8,\"#7fbc41\"],[0.9,\"#4d9221\"],[1,\"#276419\"]],\"sequential\":[[0.0,\"#0d0887\"],[0.1111111111111111,\"#46039f\"],[0.2222222222222222,\"#7201a8\"],[0.3333333333333333,\"#9c179e\"],[0.4444444444444444,\"#bd3786\"],[0.5555555555555556,\"#d8576b\"],[0.6666666666666666,\"#ed7953\"],[0.7777777777777778,\"#fb9f3a\"],[0.8888888888888888,\"#fdca26\"],[1.0,\"#f0f921\"]],\"sequentialminus\":[[0.0,\"#0d0887\"],[0.1111111111111111,\"#46039f\"],[0.2222222222222222,\"#7201a8\"],[0.3333333333333333,\"#9c179e\"],[0.4444444444444444,\"#bd3786\"],[0.5555555555555556,\"#d8576b\"],[0.6666666666666666,\"#ed7953\"],[0.7777777777777778,\"#fb9f3a\"],[0.8888888888888888,\"#fdca26\"],[1.0,\"#f0f921\"]]},\"colorway\":[\"#636efa\",\"#EF553B\",\"#00cc96\",\"#ab63fa\",\"#FFA15A\",\"#19d3f3\",\"#FF6692\",\"#B6E880\",\"#FF97FF\",\"#FECB52\"],\"font\":{\"color\":\"#2a3f5f\"},\"geo\":{\"bgcolor\":\"white\",\"lakecolor\":\"white\",\"landcolor\":\"#E5ECF6\",\"showlakes\":true,\"showland\":true,\"subunitcolor\":\"white\"},\"hoverlabel\":{\"align\":\"left\"},\"hovermode\":\"closest\",\"mapbox\":{\"style\":\"light\"},\"paper_bgcolor\":\"white\",\"plot_bgcolor\":\"#E5ECF6\",\"polar\":{\"angularaxis\":{\"gridcolor\":\"white\",\"linecolor\":\"white\",\"ticks\":\"\"},\"bgcolor\":\"#E5ECF6\",\"radialaxis\":{\"gridcolor\":\"white\",\"linecolor\":\"white\",\"ticks\":\"\"}},\"scene\":{\"xaxis\":{\"backgroundcolor\":\"#E5ECF6\",\"gridcolor\":\"white\",\"gridwidth\":2,\"linecolor\":\"white\",\"showbackground\":true,\"ticks\":\"\",\"zerolinecolor\":\"white\"},\"yaxis\":{\"backgroundcolor\":\"#E5ECF6\",\"gridcolor\":\"white\",\"gridwidth\":2,\"linecolor\":\"white\",\"showbackground\":true,\"ticks\":\"\",\"zerolinecolor\":\"white\"},\"zaxis\":{\"backgroundcolor\":\"#E5ECF6\",\"gridcolor\":\"white\",\"gridwidth\":2,\"linecolor\":\"white\",\"showbackground\":true,\"ticks\":\"\",\"zerolinecolor\":\"white\"}},\"shapedefaults\":{\"line\":{\"color\":\"#2a3f5f\"}},\"ternary\":{\"aaxis\":{\"gridcolor\":\"white\",\"linecolor\":\"white\",\"ticks\":\"\"},\"baxis\":{\"gridcolor\":\"white\",\"linecolor\":\"white\",\"ticks\":\"\"},\"bgcolor\":\"#E5ECF6\",\"caxis\":{\"gridcolor\":\"white\",\"linecolor\":\"white\",\"ticks\":\"\"}},\"title\":{\"x\":0.05},\"xaxis\":{\"automargin\":true,\"gridcolor\":\"white\",\"linecolor\":\"white\",\"ticks\":\"\",\"title\":{\"standoff\":15},\"zerolinecolor\":\"white\",\"zerolinewidth\":2},\"yaxis\":{\"automargin\":true,\"gridcolor\":\"white\",\"linecolor\":\"white\",\"ticks\":\"\",\"title\":{\"standoff\":15},\"zerolinecolor\":\"white\",\"zerolinewidth\":2}}},\"title\":{\"text\":\"Gradient Boosting Model Feature Importance\"},\"xaxis\":{\"showgrid\":false,\"showline\":false,\"ticklen\":5,\"zeroline\":false},\"yaxis\":{\"gridwidth\":2,\"showgrid\":false,\"ticklen\":5,\"title\":{\"text\":\"Feature Importance Level\"},\"zeroline\":false}},                        {\"responsive\": true}                    ).then(function(){\n",
       "                            \n",
       "var gd = document.getElementById('709f08a2-15a8-44ab-a1a6-fc97dd349153');\n",
       "var x = new MutationObserver(function (mutations, observer) {{\n",
       "        var display = window.getComputedStyle(gd).display;\n",
       "        if (!display || display === 'none') {{\n",
       "            console.log([gd, 'removed!']);\n",
       "            Plotly.purge(gd);\n",
       "            observer.disconnect();\n",
       "        }}\n",
       "}});\n",
       "\n",
       "// Listen for the removal of the full notebook cells\n",
       "var notebookContainer = gd.closest('#notebook-container');\n",
       "if (notebookContainer) {{\n",
       "    x.observe(notebookContainer, {childList: true});\n",
       "}}\n",
       "\n",
       "// Listen for the clearing of the current output cell\n",
       "var outputEl = gd.closest('.output');\n",
       "if (outputEl) {{\n",
       "    x.observe(outputEl, {childList: true});\n",
       "}}\n",
       "\n",
       "                        })                };                });            </script>        </div>"
      ]
     },
     "metadata": {},
     "output_type": "display_data"
    }
   ],
   "source": [
    "trace = go.Scatter(\n",
    "    y = gb.feature_importances_,\n",
    "    x = emp_data.columns.values,\n",
    "    mode='markers',\n",
    "    marker=dict(\n",
    "        sizemode = 'diameter',\n",
    "        sizeref = 1,\n",
    "        size = 13,\n",
    "        #size= rf.feature_importances_,\n",
    "        #color = np.random.randn(500), #set color equal to a variable\n",
    "        color = gb.feature_importances_,\n",
    "        colorscale='Portland',\n",
    "        showscale=True\n",
    "    ),\n",
    "    text = emp_data.columns.values\n",
    ")\n",
    "data = [trace]\n",
    "\n",
    "layout= go.Layout(\n",
    "    autosize= True,\n",
    "    title= 'Gradient Boosting Model Feature Importance',\n",
    "    hovermode= 'closest',\n",
    "     xaxis= dict(\n",
    "         ticklen= 5,\n",
    "         showgrid=False,\n",
    "        zeroline=False,\n",
    "        showline=False\n",
    "     ),\n",
    "    yaxis=dict(\n",
    "        title= 'Feature Importance Level',\n",
    "        showgrid=False,\n",
    "        zeroline=False,\n",
    "        ticklen= 5,\n",
    "        gridwidth= 2\n",
    "    ),\n",
    "    showlegend= False\n",
    ")\n",
    "fig = go.Figure(data=data, layout=layout)\n",
    "py.iplot(fig,filename='scatter')"
   ]
  },
  {
   "cell_type": "markdown",
   "metadata": {},
   "source": [
    "# Department wise performance\n",
    "\n",
    "## In Employee department feature there are six departments available.\n",
    "\n",
    "### (1) Sales\n",
    "### (2) Human Resoruces\n",
    "### (3) Development\n",
    "### (4) Data Science\n",
    "### (5) Reserch & Devlopment\n",
    "### (6) Finance"
   ]
  },
  {
   "cell_type": "markdown",
   "metadata": {},
   "source": [
    "## 1. Sales Department\n",
    "### Slicing the all coloums of sales row"
   ]
  },
  {
   "cell_type": "code",
   "execution_count": 44,
   "metadata": {},
   "outputs": [
    {
     "data": {
      "text/html": [
       "<div>\n",
       "<style scoped>\n",
       "    .dataframe tbody tr th:only-of-type {\n",
       "        vertical-align: middle;\n",
       "    }\n",
       "\n",
       "    .dataframe tbody tr th {\n",
       "        vertical-align: top;\n",
       "    }\n",
       "\n",
       "    .dataframe thead th {\n",
       "        text-align: right;\n",
       "    }\n",
       "</style>\n",
       "<table border=\"1\" class=\"dataframe\">\n",
       "  <thead>\n",
       "    <tr style=\"text-align: right;\">\n",
       "      <th></th>\n",
       "      <th>EmpNumber</th>\n",
       "      <th>Age</th>\n",
       "      <th>Gender</th>\n",
       "      <th>EducationBackground</th>\n",
       "      <th>MaritalStatus</th>\n",
       "      <th>EmpDepartment</th>\n",
       "      <th>EmpJobRole</th>\n",
       "      <th>BusinessTravelFrequency</th>\n",
       "      <th>DistanceFromHome</th>\n",
       "      <th>EmpEducationLevel</th>\n",
       "      <th>...</th>\n",
       "      <th>EmpRelationshipSatisfaction</th>\n",
       "      <th>TotalWorkExperienceInYears</th>\n",
       "      <th>TrainingTimesLastYear</th>\n",
       "      <th>EmpWorkLifeBalance</th>\n",
       "      <th>ExperienceYearsAtThisCompany</th>\n",
       "      <th>ExperienceYearsInCurrentRole</th>\n",
       "      <th>YearsSinceLastPromotion</th>\n",
       "      <th>YearsWithCurrManager</th>\n",
       "      <th>Attrition</th>\n",
       "      <th>PerformanceRating</th>\n",
       "    </tr>\n",
       "  </thead>\n",
       "  <tbody>\n",
       "    <tr>\n",
       "      <th>0</th>\n",
       "      <td>E1001000</td>\n",
       "      <td>32</td>\n",
       "      <td>Male</td>\n",
       "      <td>Marketing</td>\n",
       "      <td>Single</td>\n",
       "      <td>Sales</td>\n",
       "      <td>Sales Executive</td>\n",
       "      <td>Travel_Rarely</td>\n",
       "      <td>10</td>\n",
       "      <td>3</td>\n",
       "      <td>...</td>\n",
       "      <td>4</td>\n",
       "      <td>10</td>\n",
       "      <td>2</td>\n",
       "      <td>2</td>\n",
       "      <td>10</td>\n",
       "      <td>7</td>\n",
       "      <td>0</td>\n",
       "      <td>8</td>\n",
       "      <td>No</td>\n",
       "      <td>3</td>\n",
       "    </tr>\n",
       "  </tbody>\n",
       "</table>\n",
       "<p>1 rows × 28 columns</p>\n",
       "</div>"
      ],
      "text/plain": [
       "  EmpNumber  Age Gender EducationBackground MaritalStatus EmpDepartment  \\\n",
       "0  E1001000   32   Male           Marketing        Single         Sales   \n",
       "\n",
       "        EmpJobRole BusinessTravelFrequency  DistanceFromHome  \\\n",
       "0  Sales Executive           Travel_Rarely                10   \n",
       "\n",
       "   EmpEducationLevel  ...  EmpRelationshipSatisfaction  \\\n",
       "0                  3  ...                            4   \n",
       "\n",
       "   TotalWorkExperienceInYears  TrainingTimesLastYear  EmpWorkLifeBalance  \\\n",
       "0                          10                      2                   2   \n",
       "\n",
       "   ExperienceYearsAtThisCompany  ExperienceYearsInCurrentRole  \\\n",
       "0                            10                             7   \n",
       "\n",
       "  YearsSinceLastPromotion  YearsWithCurrManager  Attrition  PerformanceRating  \n",
       "0                       0                     8         No                  3  \n",
       "\n",
       "[1 rows x 28 columns]"
      ]
     },
     "execution_count": 44,
     "metadata": {},
     "output_type": "execute_result"
    }
   ],
   "source": [
    "document='INX_Future_Inc_Employee_Performance_CDS_Project2_Data_V1.8.xls'\n",
    "emp_data=pd.read_excel(document)\n",
    "\n",
    "sales = emp_data[emp_data.EmpDepartment == \"Sales\"]\n",
    "sales.head(1)                    "
   ]
  },
  {
   "cell_type": "markdown",
   "metadata": {},
   "source": [
    "### (i) Performance Rating with respect to number of employees"
   ]
  },
  {
   "cell_type": "code",
   "execution_count": 45,
   "metadata": {},
   "outputs": [
    {
     "data": {
      "text/plain": [
       "<AxesSubplot:xlabel='count', ylabel='PerformanceRating'>"
      ]
     },
     "execution_count": 45,
     "metadata": {},
     "output_type": "execute_result"
    },
    {
     "data": {
      "image/png": "[encoded data removed]",
      "text/plain": [
       "<Figure size 432x288 with 1 Axes>"
      ]
     },
     "metadata": {
      "needs_background": "light"
     },
     "output_type": "display_data"
    }
   ],
   "source": [
    "sns.countplot(y='PerformanceRating', data=sales, palette=\"Greens_d\")"
   ]
  },
  {
   "cell_type": "markdown",
   "metadata": {},
   "source": [
    "### (ii) Performance Rating with respect to Age Group"
   ]
  },
  {
   "cell_type": "code",
   "execution_count": 46,
   "metadata": {},
   "outputs": [
    {
     "data": {
      "text/plain": [
       "<AxesSubplot:xlabel='PerformanceRating', ylabel='Age'>"
      ]
     },
     "execution_count": 46,
     "metadata": {},
     "output_type": "execute_result"
    },
    {
     "data": {
      "image/png": "[encoded data removed]",
      "text/plain": [
       "<Figure size 432x288 with 1 Axes>"
      ]
     },
     "metadata": {
      "needs_background": "light"
     },
     "output_type": "display_data"
    }
   ],
   "source": [
    "sns.boxplot(sales['PerformanceRating'], sales['Age'])"
   ]
  },
  {
   "cell_type": "markdown",
   "metadata": {},
   "source": [
    "### (iii) Performance based on Gender"
   ]
  },
  {
   "cell_type": "code",
   "execution_count": 47,
   "metadata": {},
   "outputs": [
    {
     "data": {
      "text/plain": [
       "<AxesSubplot:xlabel='Gender', ylabel='PerformanceRating'>"
      ]
     },
     "execution_count": 47,
     "metadata": {},
     "output_type": "execute_result"
    },
    {
     "data": {
      "image/png": "[encoded data removed]",
      "text/plain": [
       "<Figure size 432x288 with 1 Axes>"
      ]
     },
     "metadata": {
      "needs_background": "light"
     },
     "output_type": "display_data"
    }
   ],
   "source": [
    "sns.barplot(sales['Gender'], sales['PerformanceRating'])"
   ]
  },
  {
   "cell_type": "markdown",
   "metadata": {},
   "source": [
    "### (iv) Performance According to the Experience Level"
   ]
  },
  {
   "cell_type": "code",
   "execution_count": 48,
   "metadata": {},
   "outputs": [
    {
     "data": {
      "application/vnd.plotly.v1+json": {
       "config": {
        "linkText": "Export to plot.ly",
        "plotlyServerURL": "https://plot.ly",
        "showLink": false
       },
       "data": [
        {
         "boxmean": false,
         "marker": {
          "color": "#3D9970"
         },
         "name": "TotalWorkExperienceInYears",
         "orientation": "h",
         "type": "box",
         "x": [
          10,
          20,
          20,
          10,
          4,
          28,
          10,
          1,
          2,
          34,
          6,
          9,
          8,
          6,
          10,
          6,
          5,
          3,
          6,
          6,
          9,
          12,
          8,
          29,
          18,
          35,
          18,
          9,
          5,
          10,
          3,
          28,
          10,
          8,
          10,
          2,
          3,
          10,
          13,
          9,
          1,
          1,
          16,
          17,
          3,
          5,
          22,
          10,
          12,
          9,
          22,
          12,
          10,
          9,
          21,
          19,
          7,
          33,
          23,
          19,
          3,
          26,
          16,
          14,
          1,
          8,
          13,
          18,
          2,
          5,
          4,
          15,
          9,
          23,
          10,
          3,
          5,
          22,
          6,
          6,
          11,
          22,
          9,
          10,
          7,
          1,
          28,
          8,
          5,
          15,
          10,
          5,
          26,
          26,
          26,
          4,
          31,
          23,
          10,
          9,
          10,
          10,
          19,
          10,
          11,
          10,
          17,
          5,
          8,
          24,
          3,
          5,
          8,
          14,
          8,
          4,
          6,
          6,
          15,
          1,
          8,
          6,
          5,
          13,
          5,
          15,
          4,
          11,
          5,
          16,
          1,
          1,
          10,
          11,
          5,
          23,
          10,
          9,
          6,
          7,
          18,
          8,
          10,
          9,
          36,
          10,
          15,
          11,
          27,
          10,
          10,
          0,
          7,
          2,
          13,
          10,
          6,
          10,
          2,
          7,
          19,
          6,
          10,
          17,
          4,
          13,
          16,
          10,
          10,
          21,
          6,
          2,
          12,
          13,
          8,
          11,
          15,
          6,
          1,
          13,
          6,
          7,
          23,
          10,
          37,
          9,
          20,
          5,
          10,
          7,
          4,
          7,
          25,
          9,
          1,
          1,
          10,
          9,
          9,
          12,
          14,
          8,
          9,
          10,
          7,
          10,
          6,
          29,
          14,
          6,
          14,
          9,
          20,
          10,
          7,
          10,
          15,
          21,
          15,
          16,
          3,
          3,
          6,
          16,
          2,
          1,
          10,
          8,
          15,
          14,
          10,
          12,
          8,
          20,
          21,
          5,
          17,
          8,
          31,
          10,
          22,
          3,
          2,
          10,
          9,
          10,
          14,
          9,
          5,
          9,
          28,
          16,
          24,
          3,
          9,
          11,
          11,
          12,
          4,
          5,
          38,
          6,
          12,
          25,
          8,
          12,
          0,
          16,
          4,
          12,
          6,
          10,
          13,
          9,
          15,
          6,
          12,
          12,
          1,
          9,
          24,
          4,
          10,
          14,
          7,
          16,
          9,
          23,
          16,
          13,
          11,
          10,
          32,
          22,
          33,
          4,
          10,
          13,
          28,
          10,
          7,
          8,
          20,
          2,
          8,
          23,
          12,
          22,
          0,
          13,
          13,
          5,
          13,
          12,
          9,
          6,
          6,
          10,
          8,
          7,
          5,
          4,
          8,
          3,
          7,
          16,
          3,
          8,
          8,
          1,
          7,
          18,
          9,
          1,
          10,
          8,
          5,
          6,
          10,
          6,
          3,
          21,
          10,
          32,
          15,
          4,
          10,
          14,
          37,
          16,
          15,
          10,
          9,
          10,
          0,
          20,
          5,
          10,
          22,
          6,
          7,
          9,
          13,
          17,
          8,
          5,
          3,
          6,
          4,
          8,
          12,
          6,
          4
         ],
         "y": [
          3,
          3,
          4,
          3,
          3,
          3,
          4,
          3,
          3,
          4,
          4,
          3,
          3,
          4,
          3,
          3,
          3,
          3,
          3,
          3,
          3,
          3,
          3,
          3,
          3,
          3,
          3,
          3,
          3,
          3,
          3,
          3,
          3,
          4,
          3,
          3,
          3,
          3,
          3,
          3,
          3,
          3,
          3,
          2,
          3,
          3,
          3,
          3,
          3,
          3,
          3,
          3,
          3,
          3,
          4,
          3,
          2,
          2,
          3,
          3,
          2,
          3,
          3,
          3,
          4,
          3,
          3,
          3,
          3,
          3,
          3,
          2,
          3,
          2,
          3,
          3,
          3,
          3,
          3,
          2,
          2,
          3,
          4,
          3,
          2,
          3,
          4,
          3,
          3,
          3,
          3,
          3,
          2,
          2,
          3,
          3,
          4,
          3,
          3,
          3,
          2,
          3,
          3,
          3,
          2,
          3,
          2,
          3,
          4,
          2,
          3,
          3,
          2,
          2,
          2,
          3,
          2,
          3,
          3,
          3,
          3,
          2,
          3,
          2,
          3,
          3,
          3,
          3,
          2,
          2,
          3,
          3,
          3,
          3,
          3,
          3,
          3,
          2,
          2,
          4,
          3,
          2,
          2,
          3,
          4,
          3,
          3,
          3,
          3,
          2,
          3,
          3,
          2,
          3,
          4,
          3,
          3,
          3,
          3,
          4,
          3,
          3,
          3,
          3,
          3,
          3,
          2,
          3,
          3,
          2,
          4,
          2,
          3,
          3,
          3,
          4,
          3,
          3,
          3,
          2,
          2,
          3,
          3,
          2,
          2,
          2,
          3,
          3,
          4,
          2,
          3,
          3,
          2,
          2,
          3,
          3,
          2,
          3,
          3,
          2,
          4,
          3,
          3,
          3,
          3,
          2,
          3,
          3,
          3,
          2,
          2,
          3,
          3,
          3,
          3,
          3,
          2,
          2,
          2,
          3,
          2,
          2,
          3,
          3,
          3,
          3,
          2,
          4,
          4,
          3,
          2,
          4,
          3,
          3,
          2,
          3,
          3,
          2,
          2,
          3,
          2,
          3,
          3,
          3,
          3,
          2,
          3,
          2,
          3,
          2,
          2,
          3,
          3,
          3,
          3,
          3,
          3,
          2,
          3,
          4,
          3,
          3,
          3,
          3,
          3,
          2,
          3,
          3,
          2,
          3,
          2,
          3,
          2,
          2,
          3,
          3,
          2,
          4,
          4,
          3,
          2,
          3,
          2,
          3,
          3,
          3,
          3,
          3,
          3,
          2,
          2,
          4,
          3,
          4,
          2,
          3,
          3,
          3,
          3,
          3,
          4,
          4,
          2,
          3,
          3,
          3,
          3,
          3,
          3,
          3,
          3,
          3,
          3,
          3,
          4,
          3,
          3,
          3,
          3,
          3,
          3,
          3,
          3,
          2,
          3,
          2,
          2,
          2,
          3,
          3,
          3,
          3,
          3,
          3,
          2,
          3,
          2,
          2,
          3,
          3,
          3,
          3,
          3,
          3,
          3,
          3,
          2,
          2,
          2,
          3,
          2,
          3,
          3,
          4,
          3,
          3,
          3,
          3,
          2,
          3,
          3,
          3,
          2,
          3,
          3,
          3,
          3,
          3,
          4,
          4,
          3,
          4,
          2
         ]
        },
        {
         "boxmean": false,
         "marker": {
          "color": "#FF4136"
         },
         "name": "ExperienceYearsAtThisCompany",
         "orientation": "h",
         "type": "box",
         "x": [
          10,
          7,
          18,
          2,
          2,
          22,
          8,
          1,
          2,
          34,
          6,
          8,
          5,
          6,
          10,
          4,
          4,
          3,
          3,
          3,
          9,
          9,
          8,
          20,
          18,
          5,
          5,
          1,
          5,
          10,
          2,
          2,
          5,
          7,
          10,
          2,
          3,
          5,
          7,
          9,
          1,
          1,
          16,
          14,
          3,
          5,
          17,
          8,
          10,
          8,
          1,
          7,
          10,
          9,
          1,
          1,
          2,
          32,
          12,
          18,
          2,
          9,
          15,
          6,
          1,
          7,
          9,
          1,
          2,
          0,
          3,
          15,
          8,
          12,
          1,
          2,
          5,
          9,
          5,
          6,
          11,
          21,
          6,
          10,
          4,
          1,
          26,
          4,
          0,
          7,
          10,
          4,
          22,
          24,
          11,
          3,
          29,
          21,
          10,
          5,
          8,
          10,
          19,
          9,
          7,
          10,
          15,
          1,
          6,
          19,
          1,
          5,
          5,
          4,
          5,
          3,
          3,
          6,
          5,
          1,
          3,
          3,
          5,
          13,
          4,
          13,
          2,
          1,
          3,
          15,
          1,
          1,
          10,
          5,
          4,
          13,
          10,
          8,
          5,
          3,
          8,
          2,
          10,
          4,
          36,
          9,
          1,
          7,
          1,
          10,
          5,
          0,
          2,
          2,
          11,
          10,
          6,
          10,
          2,
          6,
          9,
          6,
          10,
          13,
          1,
          10,
          2,
          0,
          4,
          21,
          5,
          2,
          7,
          11,
          5,
          0,
          15,
          2,
          1,
          12,
          2,
          2,
          22,
          10,
          16,
          3,
          4,
          5,
          8,
          7,
          0,
          2,
          19,
          9,
          1,
          1,
          10,
          5,
          8,
          4,
          5,
          5,
          4,
          10,
          7,
          3,
          0,
          1,
          0,
          5,
          14,
          8,
          1,
          10,
          7,
          10,
          2,
          20,
          11,
          15,
          2,
          2,
          5,
          9,
          2,
          1,
          9,
          8,
          15,
          5,
          10,
          6,
          6,
          3,
          20,
          4,
          9,
          6,
          25,
          9,
          2,
          3,
          2,
          5,
          9,
          9,
          9,
          4,
          2,
          9,
          21,
          15,
          1,
          0,
          9,
          10,
          11,
          11,
          3,
          5,
          37,
          6,
          5,
          25,
          7,
          7,
          0,
          2,
          2,
          9,
          2,
          10,
          7,
          9,
          12,
          4,
          10,
          8,
          0,
          5,
          24,
          4,
          10,
          14,
          7,
          1,
          6,
          19,
          6,
          9,
          11,
          10,
          7,
          17,
          33,
          3,
          3,
          8,
          7,
          0,
          5,
          8,
          20,
          2,
          8,
          20,
          11,
          22,
          0,
          13,
          13,
          5,
          7,
          1,
          7,
          5,
          4,
          10,
          8,
          7,
          0,
          4,
          8,
          3,
          1,
          13,
          3,
          8,
          6,
          1,
          7,
          7,
          5,
          1,
          10,
          5,
          5,
          5,
          10,
          5,
          2,
          20,
          9,
          1,
          3,
          3,
          10,
          9,
          10,
          14,
          11,
          6,
          8,
          5,
          0,
          1,
          5,
          10,
          18,
          5,
          7,
          3,
          7,
          3,
          8,
          4,
          3,
          6,
          3,
          7,
          2,
          6,
          2
         ],
         "y": [
          3,
          3,
          4,
          3,
          3,
          3,
          4,
          3,
          3,
          4,
          4,
          3,
          3,
          4,
          3,
          3,
          3,
          3,
          3,
          3,
          3,
          3,
          3,
          3,
          3,
          3,
          3,
          3,
          3,
          3,
          3,
          3,
          3,
          4,
          3,
          3,
          3,
          3,
          3,
          3,
          3,
          3,
          3,
          2,
          3,
          3,
          3,
          3,
          3,
          3,
          3,
          3,
          3,
          3,
          4,
          3,
          2,
          2,
          3,
          3,
          2,
          3,
          3,
          3,
          4,
          3,
          3,
          3,
          3,
          3,
          3,
          2,
          3,
          2,
          3,
          3,
          3,
          3,
          3,
          2,
          2,
          3,
          4,
          3,
          2,
          3,
          4,
          3,
          3,
          3,
          3,
          3,
          2,
          2,
          3,
          3,
          4,
          3,
          3,
          3,
          2,
          3,
          3,
          3,
          2,
          3,
          2,
          3,
          4,
          2,
          3,
          3,
          2,
          2,
          2,
          3,
          2,
          3,
          3,
          3,
          3,
          2,
          3,
          2,
          3,
          3,
          3,
          3,
          2,
          2,
          3,
          3,
          3,
          3,
          3,
          3,
          3,
          2,
          2,
          4,
          3,
          2,
          2,
          3,
          4,
          3,
          3,
          3,
          3,
          2,
          3,
          3,
          2,
          3,
          4,
          3,
          3,
          3,
          3,
          4,
          3,
          3,
          3,
          3,
          3,
          3,
          2,
          3,
          3,
          2,
          4,
          2,
          3,
          3,
          3,
          4,
          3,
          3,
          3,
          2,
          2,
          3,
          3,
          2,
          2,
          2,
          3,
          3,
          4,
          2,
          3,
          3,
          2,
          2,
          3,
          3,
          2,
          3,
          3,
          2,
          4,
          3,
          3,
          3,
          3,
          2,
          3,
          3,
          3,
          2,
          2,
          3,
          3,
          3,
          3,
          3,
          2,
          2,
          2,
          3,
          2,
          2,
          3,
          3,
          3,
          3,
          2,
          4,
          4,
          3,
          2,
          4,
          3,
          3,
          2,
          3,
          3,
          2,
          2,
          3,
          2,
          3,
          3,
          3,
          3,
          2,
          3,
          2,
          3,
          2,
          2,
          3,
          3,
          3,
          3,
          3,
          3,
          2,
          3,
          4,
          3,
          3,
          3,
          3,
          3,
          2,
          3,
          3,
          2,
          3,
          2,
          3,
          2,
          2,
          3,
          3,
          2,
          4,
          4,
          3,
          2,
          3,
          2,
          3,
          3,
          3,
          3,
          3,
          3,
          2,
          2,
          4,
          3,
          4,
          2,
          3,
          3,
          3,
          3,
          3,
          4,
          4,
          2,
          3,
          3,
          3,
          3,
          3,
          3,
          3,
          3,
          3,
          3,
          3,
          4,
          3,
          3,
          3,
          3,
          3,
          3,
          3,
          3,
          2,
          3,
          2,
          2,
          2,
          3,
          3,
          3,
          3,
          3,
          3,
          2,
          3,
          2,
          2,
          3,
          3,
          3,
          3,
          3,
          3,
          3,
          3,
          2,
          2,
          2,
          3,
          2,
          3,
          3,
          4,
          3,
          3,
          3,
          3,
          2,
          3,
          3,
          3,
          2,
          3,
          3,
          3,
          3,
          3,
          4,
          4,
          3,
          4,
          2
         ]
        },
        {
         "boxmean": false,
         "marker": {
          "color": "#FF851B"
         },
         "name": "ExperienceYearsInCurrentRole",
         "orientation": "h",
         "type": "box",
         "x": [
          7,
          7,
          13,
          2,
          2,
          2,
          7,
          0,
          2,
          6,
          5,
          7,
          4,
          5,
          7,
          3,
          2,
          2,
          2,
          2,
          8,
          7,
          7,
          6,
          14,
          2,
          4,
          0,
          3,
          8,
          2,
          0,
          4,
          6,
          0,
          2,
          2,
          4,
          7,
          8,
          0,
          0,
          7,
          1,
          1,
          2,
          13,
          4,
          9,
          7,
          0,
          7,
          8,
          0,
          0,
          0,
          2,
          14,
          11,
          7,
          2,
          3,
          1,
          4,
          0,
          7,
          4,
          0,
          2,
          0,
          2,
          10,
          7,
          9,
          0,
          2,
          2,
          8,
          2,
          5,
          8,
          9,
          4,
          3,
          3,
          0,
          15,
          3,
          0,
          7,
          7,
          3,
          9,
          10,
          4,
          2,
          10,
          7,
          7,
          4,
          7,
          8,
          2,
          3,
          7,
          8,
          7,
          0,
          2,
          7,
          0,
          3,
          4,
          2,
          4,
          2,
          2,
          2,
          4,
          0,
          2,
          2,
          4,
          7,
          3,
          9,
          1,
          0,
          2,
          9,
          0,
          0,
          7,
          4,
          2,
          12,
          9,
          4,
          3,
          2,
          7,
          2,
          8,
          2,
          6,
          8,
          0,
          6,
          0,
          7,
          2,
          0,
          2,
          2,
          9,
          0,
          2,
          0,
          2,
          5,
          7,
          3,
          9,
          7,
          0,
          6,
          2,
          0,
          3,
          8,
          2,
          2,
          7,
          7,
          1,
          0,
          14,
          2,
          0,
          7,
          2,
          1,
          14,
          8,
          9,
          2,
          2,
          3,
          7,
          7,
          0,
          2,
          17,
          8,
          0,
          0,
          9,
          3,
          7,
          2,
          4,
          2,
          2,
          4,
          7,
          2,
          0,
          0,
          0,
          3,
          8,
          7,
          0,
          8,
          7,
          7,
          2,
          8,
          8,
          13,
          2,
          2,
          3,
          8,
          2,
          0,
          7,
          7,
          12,
          4,
          7,
          3,
          3,
          2,
          9,
          2,
          6,
          4,
          8,
          7,
          2,
          2,
          2,
          3,
          8,
          5,
          6,
          3,
          2,
          8,
          16,
          13,
          0,
          0,
          8,
          7,
          8,
          8,
          2,
          4,
          10,
          4,
          3,
          12,
          7,
          7,
          0,
          2,
          2,
          7,
          2,
          8,
          7,
          8,
          11,
          3,
          9,
          3,
          0,
          4,
          13,
          3,
          4,
          8,
          7,
          0,
          3,
          7,
          2,
          8,
          10,
          7,
          0,
          13,
          7,
          2,
          2,
          7,
          7,
          0,
          4,
          0,
          16,
          2,
          7,
          4,
          9,
          10,
          0,
          8,
          12,
          4,
          7,
          0,
          7,
          4,
          3,
          9,
          7,
          7,
          0,
          3,
          7,
          2,
          0,
          9,
          2,
          7,
          4,
          0,
          5,
          7,
          2,
          0,
          9,
          4,
          4,
          4,
          7,
          3,
          2,
          15,
          8,
          0,
          2,
          2,
          3,
          7,
          9,
          3,
          9,
          5,
          7,
          4,
          0,
          0,
          4,
          7,
          16,
          3,
          4,
          1,
          7,
          0,
          2,
          3,
          2,
          0,
          2,
          7,
          2,
          5,
          2
         ],
         "y": [
          3,
          3,
          4,
          3,
          3,
          3,
          4,
          3,
          3,
          4,
          4,
          3,
          3,
          4,
          3,
          3,
          3,
          3,
          3,
          3,
          3,
          3,
          3,
          3,
          3,
          3,
          3,
          3,
          3,
          3,
          3,
          3,
          3,
          4,
          3,
          3,
          3,
          3,
          3,
          3,
          3,
          3,
          3,
          2,
          3,
          3,
          3,
          3,
          3,
          3,
          3,
          3,
          3,
          3,
          4,
          3,
          2,
          2,
          3,
          3,
          2,
          3,
          3,
          3,
          4,
          3,
          3,
          3,
          3,
          3,
          3,
          2,
          3,
          2,
          3,
          3,
          3,
          3,
          3,
          2,
          2,
          3,
          4,
          3,
          2,
          3,
          4,
          3,
          3,
          3,
          3,
          3,
          2,
          2,
          3,
          3,
          4,
          3,
          3,
          3,
          2,
          3,
          3,
          3,
          2,
          3,
          2,
          3,
          4,
          2,
          3,
          3,
          2,
          2,
          2,
          3,
          2,
          3,
          3,
          3,
          3,
          2,
          3,
          2,
          3,
          3,
          3,
          3,
          2,
          2,
          3,
          3,
          3,
          3,
          3,
          3,
          3,
          2,
          2,
          4,
          3,
          2,
          2,
          3,
          4,
          3,
          3,
          3,
          3,
          2,
          3,
          3,
          2,
          3,
          4,
          3,
          3,
          3,
          3,
          4,
          3,
          3,
          3,
          3,
          3,
          3,
          2,
          3,
          3,
          2,
          4,
          2,
          3,
          3,
          3,
          4,
          3,
          3,
          3,
          2,
          2,
          3,
          3,
          2,
          2,
          2,
          3,
          3,
          4,
          2,
          3,
          3,
          2,
          2,
          3,
          3,
          2,
          3,
          3,
          2,
          4,
          3,
          3,
          3,
          3,
          2,
          3,
          3,
          3,
          2,
          2,
          3,
          3,
          3,
          3,
          3,
          2,
          2,
          2,
          3,
          2,
          2,
          3,
          3,
          3,
          3,
          2,
          4,
          4,
          3,
          2,
          4,
          3,
          3,
          2,
          3,
          3,
          2,
          2,
          3,
          2,
          3,
          3,
          3,
          3,
          2,
          3,
          2,
          3,
          2,
          2,
          3,
          3,
          3,
          3,
          3,
          3,
          2,
          3,
          4,
          3,
          3,
          3,
          3,
          3,
          2,
          3,
          3,
          2,
          3,
          2,
          3,
          2,
          2,
          3,
          3,
          2,
          4,
          4,
          3,
          2,
          3,
          2,
          3,
          3,
          3,
          3,
          3,
          3,
          2,
          2,
          4,
          3,
          4,
          2,
          3,
          3,
          3,
          3,
          3,
          4,
          4,
          2,
          3,
          3,
          3,
          3,
          3,
          3,
          3,
          3,
          3,
          3,
          3,
          4,
          3,
          3,
          3,
          3,
          3,
          3,
          3,
          3,
          2,
          3,
          2,
          2,
          2,
          3,
          3,
          3,
          3,
          3,
          3,
          2,
          3,
          2,
          2,
          3,
          3,
          3,
          3,
          3,
          3,
          3,
          3,
          2,
          2,
          2,
          3,
          2,
          3,
          3,
          4,
          3,
          3,
          3,
          3,
          2,
          3,
          3,
          3,
          2,
          3,
          3,
          3,
          3,
          3,
          4,
          4,
          3,
          4,
          2
         ]
        }
       ],
       "layout": {
        "boxmode": "group",
        "template": {
         "data": {
          "bar": [
           {
            "error_x": {
             "color": "#2a3f5f"
            },
            "error_y": {
             "color": "#2a3f5f"
            },
            "marker": {
             "line": {
              "color": "#E5ECF6",
              "width": 0.5
             },
             "pattern": {
              "fillmode": "overlay",
              "size": 10,
              "solidity": 0.2
             }
            },
            "type": "bar"
           }
          ],
          "barpolar": [
           {
            "marker": {
             "line": {
              "color": "#E5ECF6",
              "width": 0.5
             },
             "pattern": {
              "fillmode": "overlay",
              "size": 10,
              "solidity": 0.2
             }
            },
            "type": "barpolar"
           }
          ],
          "carpet": [
           {
            "aaxis": {
             "endlinecolor": "#2a3f5f",
             "gridcolor": "white",
             "linecolor": "white",
             "minorgridcolor": "white",
             "startlinecolor": "#2a3f5f"
            },
            "baxis": {
             "endlinecolor": "#2a3f5f",
             "gridcolor": "white",
             "linecolor": "white",
             "minorgridcolor": "white",
             "startlinecolor": "#2a3f5f"
            },
            "type": "carpet"
           }
          ],
          "choropleth": [
           {
            "colorbar": {
             "outlinewidth": 0,
             "ticks": ""
            },
            "type": "choropleth"
           }
          ],
          "contour": [
           {
            "colorbar": {
             "outlinewidth": 0,
             "ticks": ""
            },
            "colorscale": [
             [
              0,
              "#0d0887"
             ],
             [
              0.1111111111111111,
              "#46039f"
             ],
             [
              0.2222222222222222,
              "#7201a8"
             ],
             [
              0.3333333333333333,
              "#9c179e"
             ],
             [
              0.4444444444444444,
              "#bd3786"
             ],
             [
              0.5555555555555556,
              "#d8576b"
             ],
             [
              0.6666666666666666,
              "#ed7953"
             ],
             [
              0.7777777777777778,
              "#fb9f3a"
             ],
             [
              0.8888888888888888,
              "#fdca26"
             ],
             [
              1,
              "#f0f921"
             ]
            ],
            "type": "contour"
           }
          ],
          "contourcarpet": [
           {
            "colorbar": {
             "outlinewidth": 0,
             "ticks": ""
            },
            "type": "contourcarpet"
           }
          ],
          "heatmap": [
           {
            "colorbar": {
             "outlinewidth": 0,
             "ticks": ""
            },
            "colorscale": [
             [
              0,
              "#0d0887"
             ],
             [
              0.1111111111111111,
              "#46039f"
             ],
             [
              0.2222222222222222,
              "#7201a8"
             ],
             [
              0.3333333333333333,
              "#9c179e"
             ],
             [
              0.4444444444444444,
              "#bd3786"
             ],
             [
              0.5555555555555556,
              "#d8576b"
             ],
             [
              0.6666666666666666,
              "#ed7953"
             ],
             [
              0.7777777777777778,
              "#fb9f3a"
             ],
             [
              0.8888888888888888,
              "#fdca26"
             ],
             [
              1,
              "#f0f921"
             ]
            ],
            "type": "heatmap"
           }
          ],
          "heatmapgl": [
           {
            "colorbar": {
             "outlinewidth": 0,
             "ticks": ""
            },
            "colorscale": [
             [
              0,
              "#0d0887"
             ],
             [
              0.1111111111111111,
              "#46039f"
             ],
             [
              0.2222222222222222,
              "#7201a8"
             ],
             [
              0.3333333333333333,
              "#9c179e"
             ],
             [
              0.4444444444444444,
              "#bd3786"
             ],
             [
              0.5555555555555556,
              "#d8576b"
             ],
             [
              0.6666666666666666,
              "#ed7953"
             ],
             [
              0.7777777777777778,
              "#fb9f3a"
             ],
             [
              0.8888888888888888,
              "#fdca26"
             ],
             [
              1,
              "#f0f921"
             ]
            ],
            "type": "heatmapgl"
           }
          ],
          "histogram": [
           {
            "marker": {
             "pattern": {
              "fillmode": "overlay",
              "size": 10,
              "solidity": 0.2
             }
            },
            "type": "histogram"
           }
          ],
          "histogram2d": [
           {
            "colorbar": {
             "outlinewidth": 0,
             "ticks": ""
            },
            "colorscale": [
             [
              0,
              "#0d0887"
             ],
             [
              0.1111111111111111,
              "#46039f"
             ],
             [
              0.2222222222222222,
              "#7201a8"
             ],
             [
              0.3333333333333333,
              "#9c179e"
             ],
             [
              0.4444444444444444,
              "#bd3786"
             ],
             [
              0.5555555555555556,
              "#d8576b"
             ],
             [
              0.6666666666666666,
              "#ed7953"
             ],
             [
              0.7777777777777778,
              "#fb9f3a"
             ],
             [
              0.8888888888888888,
              "#fdca26"
             ],
             [
              1,
              "#f0f921"
             ]
            ],
            "type": "histogram2d"
           }
          ],
          "histogram2dcontour": [
           {
            "colorbar": {
             "outlinewidth": 0,
             "ticks": ""
            },
            "colorscale": [
             [
              0,
              "#0d0887"
             ],
             [
              0.1111111111111111,
              "#46039f"
             ],
             [
              0.2222222222222222,
              "#7201a8"
             ],
             [
              0.3333333333333333,
              "#9c179e"
             ],
             [
              0.4444444444444444,
              "#bd3786"
             ],
             [
              0.5555555555555556,
              "#d8576b"
             ],
             [
              0.6666666666666666,
              "#ed7953"
             ],
             [
              0.7777777777777778,
              "#fb9f3a"
             ],
             [
              0.8888888888888888,
              "#fdca26"
             ],
             [
              1,
              "#f0f921"
             ]
            ],
            "type": "histogram2dcontour"
           }
          ],
          "mesh3d": [
           {
            "colorbar": {
             "outlinewidth": 0,
             "ticks": ""
            },
            "type": "mesh3d"
           }
          ],
          "parcoords": [
           {
            "line": {
             "colorbar": {
              "outlinewidth": 0,
              "ticks": ""
             }
            },
            "type": "parcoords"
           }
          ],
          "pie": [
           {
            "automargin": true,
            "type": "pie"
           }
          ],
          "scatter": [
           {
            "marker": {
             "colorbar": {
              "outlinewidth": 0,
              "ticks": ""
             }
            },
            "type": "scatter"
           }
          ],
          "scatter3d": [
           {
            "line": {
             "colorbar": {
              "outlinewidth": 0,
              "ticks": ""
             }
            },
            "marker": {
             "colorbar": {
              "outlinewidth": 0,
              "ticks": ""
             }
            },
            "type": "scatter3d"
           }
          ],
          "scattercarpet": [
           {
            "marker": {
             "colorbar": {
              "outlinewidth": 0,
              "ticks": ""
             }
            },
            "type": "scattercarpet"
           }
          ],
          "scattergeo": [
           {
            "marker": {
             "colorbar": {
              "outlinewidth": 0,
              "ticks": ""
             }
            },
            "type": "scattergeo"
           }
          ],
          "scattergl": [
           {
            "marker": {
             "colorbar": {
              "outlinewidth": 0,
              "ticks": ""
             }
            },
            "type": "scattergl"
           }
          ],
          "scattermapbox": [
           {
            "marker": {
             "colorbar": {
              "outlinewidth": 0,
              "ticks": ""
             }
            },
            "type": "scattermapbox"
           }
          ],
          "scatterpolar": [
           {
            "marker": {
             "colorbar": {
              "outlinewidth": 0,
              "ticks": ""
             }
            },
            "type": "scatterpolar"
           }
          ],
          "scatterpolargl": [
           {
            "marker": {
             "colorbar": {
              "outlinewidth": 0,
              "ticks": ""
             }
            },
            "type": "scatterpolargl"
           }
          ],
          "scatterternary": [
           {
            "marker": {
             "colorbar": {
              "outlinewidth": 0,
              "ticks": ""
             }
            },
            "type": "scatterternary"
           }
          ],
          "surface": [
           {
            "colorbar": {
             "outlinewidth": 0,
             "ticks": ""
            },
            "colorscale": [
             [
              0,
              "#0d0887"
             ],
             [
              0.1111111111111111,
              "#46039f"
             ],
             [
              0.2222222222222222,
              "#7201a8"
             ],
             [
              0.3333333333333333,
              "#9c179e"
             ],
             [
              0.4444444444444444,
              "#bd3786"
             ],
             [
              0.5555555555555556,
              "#d8576b"
             ],
             [
              0.6666666666666666,
              "#ed7953"
             ],
             [
              0.7777777777777778,
              "#fb9f3a"
             ],
             [
              0.8888888888888888,
              "#fdca26"
             ],
             [
              1,
              "#f0f921"
             ]
            ],
            "type": "surface"
           }
          ],
          "table": [
           {
            "cells": {
             "fill": {
              "color": "#EBF0F8"
             },
             "line": {
              "color": "white"
             }
            },
            "header": {
             "fill": {
              "color": "#C8D4E3"
             },
             "line": {
              "color": "white"
             }
            },
            "type": "table"
           }
          ]
         },
         "layout": {
          "annotationdefaults": {
           "arrowcolor": "#2a3f5f",
           "arrowhead": 0,
           "arrowwidth": 1
          },
          "autotypenumbers": "strict",
          "coloraxis": {
           "colorbar": {
            "outlinewidth": 0,
            "ticks": ""
           }
          },
          "colorscale": {
           "diverging": [
            [
             0,
             "#8e0152"
            ],
            [
             0.1,
             "#c51b7d"
            ],
            [
             0.2,
             "#de77ae"
            ],
            [
             0.3,
             "#f1b6da"
            ],
            [
             0.4,
             "#fde0ef"
            ],
            [
             0.5,
             "#f7f7f7"
            ],
            [
             0.6,
             "#e6f5d0"
            ],
            [
             0.7,
             "#b8e186"
            ],
            [
             0.8,
             "#7fbc41"
            ],
            [
             0.9,
             "#4d9221"
            ],
            [
             1,
             "#276419"
            ]
           ],
           "sequential": [
            [
             0,
             "#0d0887"
            ],
            [
             0.1111111111111111,
             "#46039f"
            ],
            [
             0.2222222222222222,
             "#7201a8"
            ],
            [
             0.3333333333333333,
             "#9c179e"
            ],
            [
             0.4444444444444444,
             "#bd3786"
            ],
            [
             0.5555555555555556,
             "#d8576b"
            ],
            [
             0.6666666666666666,
             "#ed7953"
            ],
            [
             0.7777777777777778,
             "#fb9f3a"
            ],
            [
             0.8888888888888888,
             "#fdca26"
            ],
            [
             1,
             "#f0f921"
            ]
           ],
           "sequentialminus": [
            [
             0,
             "#0d0887"
            ],
            [
             0.1111111111111111,
             "#46039f"
            ],
            [
             0.2222222222222222,
             "#7201a8"
            ],
            [
             0.3333333333333333,
             "#9c179e"
            ],
            [
             0.4444444444444444,
             "#bd3786"
            ],
            [
             0.5555555555555556,
             "#d8576b"
            ],
            [
             0.6666666666666666,
             "#ed7953"
            ],
            [
             0.7777777777777778,
             "#fb9f3a"
            ],
            [
             0.8888888888888888,
             "#fdca26"
            ],
            [
             1,
             "#f0f921"
            ]
           ]
          },
          "colorway": [
           "#636efa",
           "#EF553B",
           "#00cc96",
           "#ab63fa",
           "#FFA15A",
           "#19d3f3",
           "#FF6692",
           "#B6E880",
           "#FF97FF",
           "#FECB52"
          ],
          "font": {
           "color": "#2a3f5f"
          },
          "geo": {
           "bgcolor": "white",
           "lakecolor": "white",
           "landcolor": "#E5ECF6",
           "showlakes": true,
           "showland": true,
           "subunitcolor": "white"
          },
          "hoverlabel": {
           "align": "left"
          },
          "hovermode": "closest",
          "mapbox": {
           "style": "light"
          },
          "paper_bgcolor": "white",
          "plot_bgcolor": "#E5ECF6",
          "polar": {
           "angularaxis": {
            "gridcolor": "white",
            "linecolor": "white",
            "ticks": ""
           },
           "bgcolor": "#E5ECF6",
           "radialaxis": {
            "gridcolor": "white",
            "linecolor": "white",
            "ticks": ""
           }
          },
          "scene": {
           "xaxis": {
            "backgroundcolor": "#E5ECF6",
            "gridcolor": "white",
            "gridwidth": 2,
            "linecolor": "white",
            "showbackground": true,
            "ticks": "",
            "zerolinecolor": "white"
           },
           "yaxis": {
            "backgroundcolor": "#E5ECF6",
            "gridcolor": "white",
            "gridwidth": 2,
            "linecolor": "white",
            "showbackground": true,
            "ticks": "",
            "zerolinecolor": "white"
           },
           "zaxis": {
            "backgroundcolor": "#E5ECF6",
            "gridcolor": "white",
            "gridwidth": 2,
            "linecolor": "white",
            "showbackground": true,
            "ticks": "",
            "zerolinecolor": "white"
           }
          },
          "shapedefaults": {
           "line": {
            "color": "#2a3f5f"
           }
          },
          "ternary": {
           "aaxis": {
            "gridcolor": "white",
            "linecolor": "white",
            "ticks": ""
           },
           "baxis": {
            "gridcolor": "white",
            "linecolor": "white",
            "ticks": ""
           },
           "bgcolor": "#E5ECF6",
           "caxis": {
            "gridcolor": "white",
            "linecolor": "white",
            "ticks": ""
           }
          },
          "title": {
           "x": 0.05
          },
          "xaxis": {
           "automargin": true,
           "gridcolor": "white",
           "linecolor": "white",
           "ticks": "",
           "title": {
            "standoff": 15
           },
           "zerolinecolor": "white",
           "zerolinewidth": 2
          },
          "yaxis": {
           "automargin": true,
           "gridcolor": "white",
           "linecolor": "white",
           "ticks": "",
           "title": {
            "standoff": 15
           },
           "zerolinecolor": "white",
           "zerolinewidth": 2
          }
         }
        },
        "title": {
         "text": "Performance According to the Experience Level - Sales"
        },
        "xaxis": {
         "title": {
          "text": "Number of Years"
         },
         "zeroline": false
        },
        "yaxis": {
         "title": {
          "text": "Performance Rating "
         },
         "zeroline": false
        }
       }
      },
      "text/html": [
       "<div>                            <div id=\"4d82d081-9e66-402d-ac1d-e499f3a21f33\" class=\"plotly-graph-div\" style=\"height:525px; width:100%;\"></div>            <script type=\"text/javascript\">                require([\"plotly\"], function(Plotly) {                    window.PLOTLYENV=window.PLOTLYENV || {};                                    if (document.getElementById(\"4d82d081-9e66-402d-ac1d-e499f3a21f33\")) {                    Plotly.newPlot(                        \"4d82d081-9e66-402d-ac1d-e499f3a21f33\",                        [{\"boxmean\":false,\"marker\":{\"color\":\"#3D9970\"},\"name\":\"TotalWorkExperienceInYears\",\"orientation\":\"h\",\"x\":[10,20,20,10,4,28,10,1,2,34,6,9,8,6,10,6,5,3,6,6,9,12,8,29,18,35,18,9,5,10,3,28,10,8,10,2,3,10,13,9,1,1,16,17,3,5,22,10,12,9,22,12,10,9,21,19,7,33,23,19,3,26,16,14,1,8,13,18,2,5,4,15,9,23,10,3,5,22,6,6,11,22,9,10,7,1,28,8,5,15,10,5,26,26,26,4,31,23,10,9,10,10,19,10,11,10,17,5,8,24,3,5,8,14,8,4,6,6,15,1,8,6,5,13,5,15,4,11,5,16,1,1,10,11,5,23,10,9,6,7,18,8,10,9,36,10,15,11,27,10,10,0,7,2,13,10,6,10,2,7,19,6,10,17,4,13,16,10,10,21,6,2,12,13,8,11,15,6,1,13,6,7,23,10,37,9,20,5,10,7,4,7,25,9,1,1,10,9,9,12,14,8,9,10,7,10,6,29,14,6,14,9,20,10,7,10,15,21,15,16,3,3,6,16,2,1,10,8,15,14,10,12,8,20,21,5,17,8,31,10,22,3,2,10,9,10,14,9,5,9,28,16,24,3,9,11,11,12,4,5,38,6,12,25,8,12,0,16,4,12,6,10,13,9,15,6,12,12,1,9,24,4,10,14,7,16,9,23,16,13,11,10,32,22,33,4,10,13,28,10,7,8,20,2,8,23,12,22,0,13,13,5,13,12,9,6,6,10,8,7,5,4,8,3,7,16,3,8,8,1,7,18,9,1,10,8,5,6,10,6,3,21,10,32,15,4,10,14,37,16,15,10,9,10,0,20,5,10,22,6,7,9,13,17,8,5,3,6,4,8,12,6,4],\"y\":[3,3,4,3,3,3,4,3,3,4,4,3,3,4,3,3,3,3,3,3,3,3,3,3,3,3,3,3,3,3,3,3,3,4,3,3,3,3,3,3,3,3,3,2,3,3,3,3,3,3,3,3,3,3,4,3,2,2,3,3,2,3,3,3,4,3,3,3,3,3,3,2,3,2,3,3,3,3,3,2,2,3,4,3,2,3,4,3,3,3,3,3,2,2,3,3,4,3,3,3,2,3,3,3,2,3,2,3,4,2,3,3,2,2,2,3,2,3,3,3,3,2,3,2,3,3,3,3,2,2,3,3,3,3,3,3,3,2,2,4,3,2,2,3,4,3,3,3,3,2,3,3,2,3,4,3,3,3,3,4,3,3,3,3,3,3,2,3,3,2,4,2,3,3,3,4,3,3,3,2,2,3,3,2,2,2,3,3,4,2,3,3,2,2,3,3,2,3,3,2,4,3,3,3,3,2,3,3,3,2,2,3,3,3,3,3,2,2,2,3,2,2,3,3,3,3,2,4,4,3,2,4,3,3,2,3,3,2,2,3,2,3,3,3,3,2,3,2,3,2,2,3,3,3,3,3,3,2,3,4,3,3,3,3,3,2,3,3,2,3,2,3,2,2,3,3,2,4,4,3,2,3,2,3,3,3,3,3,3,2,2,4,3,4,2,3,3,3,3,3,4,4,2,3,3,3,3,3,3,3,3,3,3,3,4,3,3,3,3,3,3,3,3,2,3,2,2,2,3,3,3,3,3,3,2,3,2,2,3,3,3,3,3,3,3,3,2,2,2,3,2,3,3,4,3,3,3,3,2,3,3,3,2,3,3,3,3,3,4,4,3,4,2],\"type\":\"box\"},{\"boxmean\":false,\"marker\":{\"color\":\"#FF4136\"},\"name\":\"ExperienceYearsAtThisCompany\",\"orientation\":\"h\",\"x\":[10,7,18,2,2,22,8,1,2,34,6,8,5,6,10,4,4,3,3,3,9,9,8,20,18,5,5,1,5,10,2,2,5,7,10,2,3,5,7,9,1,1,16,14,3,5,17,8,10,8,1,7,10,9,1,1,2,32,12,18,2,9,15,6,1,7,9,1,2,0,3,15,8,12,1,2,5,9,5,6,11,21,6,10,4,1,26,4,0,7,10,4,22,24,11,3,29,21,10,5,8,10,19,9,7,10,15,1,6,19,1,5,5,4,5,3,3,6,5,1,3,3,5,13,4,13,2,1,3,15,1,1,10,5,4,13,10,8,5,3,8,2,10,4,36,9,1,7,1,10,5,0,2,2,11,10,6,10,2,6,9,6,10,13,1,10,2,0,4,21,5,2,7,11,5,0,15,2,1,12,2,2,22,10,16,3,4,5,8,7,0,2,19,9,1,1,10,5,8,4,5,5,4,10,7,3,0,1,0,5,14,8,1,10,7,10,2,20,11,15,2,2,5,9,2,1,9,8,15,5,10,6,6,3,20,4,9,6,25,9,2,3,2,5,9,9,9,4,2,9,21,15,1,0,9,10,11,11,3,5,37,6,5,25,7,7,0,2,2,9,2,10,7,9,12,4,10,8,0,5,24,4,10,14,7,1,6,19,6,9,11,10,7,17,33,3,3,8,7,0,5,8,20,2,8,20,11,22,0,13,13,5,7,1,7,5,4,10,8,7,0,4,8,3,1,13,3,8,6,1,7,7,5,1,10,5,5,5,10,5,2,20,9,1,3,3,10,9,10,14,11,6,8,5,0,1,5,10,18,5,7,3,7,3,8,4,3,6,3,7,2,6,2],\"y\":[3,3,4,3,3,3,4,3,3,4,4,3,3,4,3,3,3,3,3,3,3,3,3,3,3,3,3,3,3,3,3,3,3,4,3,3,3,3,3,3,3,3,3,2,3,3,3,3,3,3,3,3,3,3,4,3,2,2,3,3,2,3,3,3,4,3,3,3,3,3,3,2,3,2,3,3,3,3,3,2,2,3,4,3,2,3,4,3,3,3,3,3,2,2,3,3,4,3,3,3,2,3,3,3,2,3,2,3,4,2,3,3,2,2,2,3,2,3,3,3,3,2,3,2,3,3,3,3,2,2,3,3,3,3,3,3,3,2,2,4,3,2,2,3,4,3,3,3,3,2,3,3,2,3,4,3,3,3,3,4,3,3,3,3,3,3,2,3,3,2,4,2,3,3,3,4,3,3,3,2,2,3,3,2,2,2,3,3,4,2,3,3,2,2,3,3,2,3,3,2,4,3,3,3,3,2,3,3,3,2,2,3,3,3,3,3,2,2,2,3,2,2,3,3,3,3,2,4,4,3,2,4,3,3,2,3,3,2,2,3,2,3,3,3,3,2,3,2,3,2,2,3,3,3,3,3,3,2,3,4,3,3,3,3,3,2,3,3,2,3,2,3,2,2,3,3,2,4,4,3,2,3,2,3,3,3,3,3,3,2,2,4,3,4,2,3,3,3,3,3,4,4,2,3,3,3,3,3,3,3,3,3,3,3,4,3,3,3,3,3,3,3,3,2,3,2,2,2,3,3,3,3,3,3,2,3,2,2,3,3,3,3,3,3,3,3,2,2,2,3,2,3,3,4,3,3,3,3,2,3,3,3,2,3,3,3,3,3,4,4,3,4,2],\"type\":\"box\"},{\"boxmean\":false,\"marker\":{\"color\":\"#FF851B\"},\"name\":\"ExperienceYearsInCurrentRole\",\"orientation\":\"h\",\"x\":[7,7,13,2,2,2,7,0,2,6,5,7,4,5,7,3,2,2,2,2,8,7,7,6,14,2,4,0,3,8,2,0,4,6,0,2,2,4,7,8,0,0,7,1,1,2,13,4,9,7,0,7,8,0,0,0,2,14,11,7,2,3,1,4,0,7,4,0,2,0,2,10,7,9,0,2,2,8,2,5,8,9,4,3,3,0,15,3,0,7,7,3,9,10,4,2,10,7,7,4,7,8,2,3,7,8,7,0,2,7,0,3,4,2,4,2,2,2,4,0,2,2,4,7,3,9,1,0,2,9,0,0,7,4,2,12,9,4,3,2,7,2,8,2,6,8,0,6,0,7,2,0,2,2,9,0,2,0,2,5,7,3,9,7,0,6,2,0,3,8,2,2,7,7,1,0,14,2,0,7,2,1,14,8,9,2,2,3,7,7,0,2,17,8,0,0,9,3,7,2,4,2,2,4,7,2,0,0,0,3,8,7,0,8,7,7,2,8,8,13,2,2,3,8,2,0,7,7,12,4,7,3,3,2,9,2,6,4,8,7,2,2,2,3,8,5,6,3,2,8,16,13,0,0,8,7,8,8,2,4,10,4,3,12,7,7,0,2,2,7,2,8,7,8,11,3,9,3,0,4,13,3,4,8,7,0,3,7,2,8,10,7,0,13,7,2,2,7,7,0,4,0,16,2,7,4,9,10,0,8,12,4,7,0,7,4,3,9,7,7,0,3,7,2,0,9,2,7,4,0,5,7,2,0,9,4,4,4,7,3,2,15,8,0,2,2,3,7,9,3,9,5,7,4,0,0,4,7,16,3,4,1,7,0,2,3,2,0,2,7,2,5,2],\"y\":[3,3,4,3,3,3,4,3,3,4,4,3,3,4,3,3,3,3,3,3,3,3,3,3,3,3,3,3,3,3,3,3,3,4,3,3,3,3,3,3,3,3,3,2,3,3,3,3,3,3,3,3,3,3,4,3,2,2,3,3,2,3,3,3,4,3,3,3,3,3,3,2,3,2,3,3,3,3,3,2,2,3,4,3,2,3,4,3,3,3,3,3,2,2,3,3,4,3,3,3,2,3,3,3,2,3,2,3,4,2,3,3,2,2,2,3,2,3,3,3,3,2,3,2,3,3,3,3,2,2,3,3,3,3,3,3,3,2,2,4,3,2,2,3,4,3,3,3,3,2,3,3,2,3,4,3,3,3,3,4,3,3,3,3,3,3,2,3,3,2,4,2,3,3,3,4,3,3,3,2,2,3,3,2,2,2,3,3,4,2,3,3,2,2,3,3,2,3,3,2,4,3,3,3,3,2,3,3,3,2,2,3,3,3,3,3,2,2,2,3,2,2,3,3,3,3,2,4,4,3,2,4,3,3,2,3,3,2,2,3,2,3,3,3,3,2,3,2,3,2,2,3,3,3,3,3,3,2,3,4,3,3,3,3,3,2,3,3,2,3,2,3,2,2,3,3,2,4,4,3,2,3,2,3,3,3,3,3,3,2,2,4,3,4,2,3,3,3,3,3,4,4,2,3,3,3,3,3,3,3,3,3,3,3,4,3,3,3,3,3,3,3,3,2,3,2,2,2,3,3,3,3,3,3,2,3,2,2,3,3,3,3,3,3,3,3,2,2,2,3,2,3,3,4,3,3,3,3,2,3,3,3,2,3,3,3,3,3,4,4,3,4,2],\"type\":\"box\"}],                        {\"boxmode\":\"group\",\"template\":{\"data\":{\"barpolar\":[{\"marker\":{\"line\":{\"color\":\"#E5ECF6\",\"width\":0.5},\"pattern\":{\"fillmode\":\"overlay\",\"size\":10,\"solidity\":0.2}},\"type\":\"barpolar\"}],\"bar\":[{\"error_x\":{\"color\":\"#2a3f5f\"},\"error_y\":{\"color\":\"#2a3f5f\"},\"marker\":{\"line\":{\"color\":\"#E5ECF6\",\"width\":0.5},\"pattern\":{\"fillmode\":\"overlay\",\"size\":10,\"solidity\":0.2}},\"type\":\"bar\"}],\"carpet\":[{\"aaxis\":{\"endlinecolor\":\"#2a3f5f\",\"gridcolor\":\"white\",\"linecolor\":\"white\",\"minorgridcolor\":\"white\",\"startlinecolor\":\"#2a3f5f\"},\"baxis\":{\"endlinecolor\":\"#2a3f5f\",\"gridcolor\":\"white\",\"linecolor\":\"white\",\"minorgridcolor\":\"white\",\"startlinecolor\":\"#2a3f5f\"},\"type\":\"carpet\"}],\"choropleth\":[{\"colorbar\":{\"outlinewidth\":0,\"ticks\":\"\"},\"type\":\"choropleth\"}],\"contourcarpet\":[{\"colorbar\":{\"outlinewidth\":0,\"ticks\":\"\"},\"type\":\"contourcarpet\"}],\"contour\":[{\"colorbar\":{\"outlinewidth\":0,\"ticks\":\"\"},\"colorscale\":[[0.0,\"#0d0887\"],[0.1111111111111111,\"#46039f\"],[0.2222222222222222,\"#7201a8\"],[0.3333333333333333,\"#9c179e\"],[0.4444444444444444,\"#bd3786\"],[0.5555555555555556,\"#d8576b\"],[0.6666666666666666,\"#ed7953\"],[0.7777777777777778,\"#fb9f3a\"],[0.8888888888888888,\"#fdca26\"],[1.0,\"#f0f921\"]],\"type\":\"contour\"}],\"heatmapgl\":[{\"colorbar\":{\"outlinewidth\":0,\"ticks\":\"\"},\"colorscale\":[[0.0,\"#0d0887\"],[0.1111111111111111,\"#46039f\"],[0.2222222222222222,\"#7201a8\"],[0.3333333333333333,\"#9c179e\"],[0.4444444444444444,\"#bd3786\"],[0.5555555555555556,\"#d8576b\"],[0.6666666666666666,\"#ed7953\"],[0.7777777777777778,\"#fb9f3a\"],[0.8888888888888888,\"#fdca26\"],[1.0,\"#f0f921\"]],\"type\":\"heatmapgl\"}],\"heatmap\":[{\"colorbar\":{\"outlinewidth\":0,\"ticks\":\"\"},\"colorscale\":[[0.0,\"#0d0887\"],[0.1111111111111111,\"#46039f\"],[0.2222222222222222,\"#7201a8\"],[0.3333333333333333,\"#9c179e\"],[0.4444444444444444,\"#bd3786\"],[0.5555555555555556,\"#d8576b\"],[0.6666666666666666,\"#ed7953\"],[0.7777777777777778,\"#fb9f3a\"],[0.8888888888888888,\"#fdca26\"],[1.0,\"#f0f921\"]],\"type\":\"heatmap\"}],\"histogram2dcontour\":[{\"colorbar\":{\"outlinewidth\":0,\"ticks\":\"\"},\"colorscale\":[[0.0,\"#0d0887\"],[0.1111111111111111,\"#46039f\"],[0.2222222222222222,\"#7201a8\"],[0.3333333333333333,\"#9c179e\"],[0.4444444444444444,\"#bd3786\"],[0.5555555555555556,\"#d8576b\"],[0.6666666666666666,\"#ed7953\"],[0.7777777777777778,\"#fb9f3a\"],[0.8888888888888888,\"#fdca26\"],[1.0,\"#f0f921\"]],\"type\":\"histogram2dcontour\"}],\"histogram2d\":[{\"colorbar\":{\"outlinewidth\":0,\"ticks\":\"\"},\"colorscale\":[[0.0,\"#0d0887\"],[0.1111111111111111,\"#46039f\"],[0.2222222222222222,\"#7201a8\"],[0.3333333333333333,\"#9c179e\"],[0.4444444444444444,\"#bd3786\"],[0.5555555555555556,\"#d8576b\"],[0.6666666666666666,\"#ed7953\"],[0.7777777777777778,\"#fb9f3a\"],[0.8888888888888888,\"#fdca26\"],[1.0,\"#f0f921\"]],\"type\":\"histogram2d\"}],\"histogram\":[{\"marker\":{\"pattern\":{\"fillmode\":\"overlay\",\"size\":10,\"solidity\":0.2}},\"type\":\"histogram\"}],\"mesh3d\":[{\"colorbar\":{\"outlinewidth\":0,\"ticks\":\"\"},\"type\":\"mesh3d\"}],\"parcoords\":[{\"line\":{\"colorbar\":{\"outlinewidth\":0,\"ticks\":\"\"}},\"type\":\"parcoords\"}],\"pie\":[{\"automargin\":true,\"type\":\"pie\"}],\"scatter3d\":[{\"line\":{\"colorbar\":{\"outlinewidth\":0,\"ticks\":\"\"}},\"marker\":{\"colorbar\":{\"outlinewidth\":0,\"ticks\":\"\"}},\"type\":\"scatter3d\"}],\"scattercarpet\":[{\"marker\":{\"colorbar\":{\"outlinewidth\":0,\"ticks\":\"\"}},\"type\":\"scattercarpet\"}],\"scattergeo\":[{\"marker\":{\"colorbar\":{\"outlinewidth\":0,\"ticks\":\"\"}},\"type\":\"scattergeo\"}],\"scattergl\":[{\"marker\":{\"colorbar\":{\"outlinewidth\":0,\"ticks\":\"\"}},\"type\":\"scattergl\"}],\"scattermapbox\":[{\"marker\":{\"colorbar\":{\"outlinewidth\":0,\"ticks\":\"\"}},\"type\":\"scattermapbox\"}],\"scatterpolargl\":[{\"marker\":{\"colorbar\":{\"outlinewidth\":0,\"ticks\":\"\"}},\"type\":\"scatterpolargl\"}],\"scatterpolar\":[{\"marker\":{\"colorbar\":{\"outlinewidth\":0,\"ticks\":\"\"}},\"type\":\"scatterpolar\"}],\"scatter\":[{\"marker\":{\"colorbar\":{\"outlinewidth\":0,\"ticks\":\"\"}},\"type\":\"scatter\"}],\"scatterternary\":[{\"marker\":{\"colorbar\":{\"outlinewidth\":0,\"ticks\":\"\"}},\"type\":\"scatterternary\"}],\"surface\":[{\"colorbar\":{\"outlinewidth\":0,\"ticks\":\"\"},\"colorscale\":[[0.0,\"#0d0887\"],[0.1111111111111111,\"#46039f\"],[0.2222222222222222,\"#7201a8\"],[0.3333333333333333,\"#9c179e\"],[0.4444444444444444,\"#bd3786\"],[0.5555555555555556,\"#d8576b\"],[0.6666666666666666,\"#ed7953\"],[0.7777777777777778,\"#fb9f3a\"],[0.8888888888888888,\"#fdca26\"],[1.0,\"#f0f921\"]],\"type\":\"surface\"}],\"table\":[{\"cells\":{\"fill\":{\"color\":\"#EBF0F8\"},\"line\":{\"color\":\"white\"}},\"header\":{\"fill\":{\"color\":\"#C8D4E3\"},\"line\":{\"color\":\"white\"}},\"type\":\"table\"}]},\"layout\":{\"annotationdefaults\":{\"arrowcolor\":\"#2a3f5f\",\"arrowhead\":0,\"arrowwidth\":1},\"autotypenumbers\":\"strict\",\"coloraxis\":{\"colorbar\":{\"outlinewidth\":0,\"ticks\":\"\"}},\"colorscale\":{\"diverging\":[[0,\"#8e0152\"],[0.1,\"#c51b7d\"],[0.2,\"#de77ae\"],[0.3,\"#f1b6da\"],[0.4,\"#fde0ef\"],[0.5,\"#f7f7f7\"],[0.6,\"#e6f5d0\"],[0.7,\"#b8e186\"],[0.8,\"#7fbc41\"],[0.9,\"#4d9221\"],[1,\"#276419\"]],\"sequential\":[[0.0,\"#0d0887\"],[0.1111111111111111,\"#46039f\"],[0.2222222222222222,\"#7201a8\"],[0.3333333333333333,\"#9c179e\"],[0.4444444444444444,\"#bd3786\"],[0.5555555555555556,\"#d8576b\"],[0.6666666666666666,\"#ed7953\"],[0.7777777777777778,\"#fb9f3a\"],[0.8888888888888888,\"#fdca26\"],[1.0,\"#f0f921\"]],\"sequentialminus\":[[0.0,\"#0d0887\"],[0.1111111111111111,\"#46039f\"],[0.2222222222222222,\"#7201a8\"],[0.3333333333333333,\"#9c179e\"],[0.4444444444444444,\"#bd3786\"],[0.5555555555555556,\"#d8576b\"],[0.6666666666666666,\"#ed7953\"],[0.7777777777777778,\"#fb9f3a\"],[0.8888888888888888,\"#fdca26\"],[1.0,\"#f0f921\"]]},\"colorway\":[\"#636efa\",\"#EF553B\",\"#00cc96\",\"#ab63fa\",\"#FFA15A\",\"#19d3f3\",\"#FF6692\",\"#B6E880\",\"#FF97FF\",\"#FECB52\"],\"font\":{\"color\":\"#2a3f5f\"},\"geo\":{\"bgcolor\":\"white\",\"lakecolor\":\"white\",\"landcolor\":\"#E5ECF6\",\"showlakes\":true,\"showland\":true,\"subunitcolor\":\"white\"},\"hoverlabel\":{\"align\":\"left\"},\"hovermode\":\"closest\",\"mapbox\":{\"style\":\"light\"},\"paper_bgcolor\":\"white\",\"plot_bgcolor\":\"#E5ECF6\",\"polar\":{\"angularaxis\":{\"gridcolor\":\"white\",\"linecolor\":\"white\",\"ticks\":\"\"},\"bgcolor\":\"#E5ECF6\",\"radialaxis\":{\"gridcolor\":\"white\",\"linecolor\":\"white\",\"ticks\":\"\"}},\"scene\":{\"xaxis\":{\"backgroundcolor\":\"#E5ECF6\",\"gridcolor\":\"white\",\"gridwidth\":2,\"linecolor\":\"white\",\"showbackground\":true,\"ticks\":\"\",\"zerolinecolor\":\"white\"},\"yaxis\":{\"backgroundcolor\":\"#E5ECF6\",\"gridcolor\":\"white\",\"gridwidth\":2,\"linecolor\":\"white\",\"showbackground\":true,\"ticks\":\"\",\"zerolinecolor\":\"white\"},\"zaxis\":{\"backgroundcolor\":\"#E5ECF6\",\"gridcolor\":\"white\",\"gridwidth\":2,\"linecolor\":\"white\",\"showbackground\":true,\"ticks\":\"\",\"zerolinecolor\":\"white\"}},\"shapedefaults\":{\"line\":{\"color\":\"#2a3f5f\"}},\"ternary\":{\"aaxis\":{\"gridcolor\":\"white\",\"linecolor\":\"white\",\"ticks\":\"\"},\"baxis\":{\"gridcolor\":\"white\",\"linecolor\":\"white\",\"ticks\":\"\"},\"bgcolor\":\"#E5ECF6\",\"caxis\":{\"gridcolor\":\"white\",\"linecolor\":\"white\",\"ticks\":\"\"}},\"title\":{\"x\":0.05},\"xaxis\":{\"automargin\":true,\"gridcolor\":\"white\",\"linecolor\":\"white\",\"ticks\":\"\",\"title\":{\"standoff\":15},\"zerolinecolor\":\"white\",\"zerolinewidth\":2},\"yaxis\":{\"automargin\":true,\"gridcolor\":\"white\",\"linecolor\":\"white\",\"ticks\":\"\",\"title\":{\"standoff\":15},\"zerolinecolor\":\"white\",\"zerolinewidth\":2}}},\"title\":{\"text\":\"Performance According to the Experience Level - Sales\"},\"xaxis\":{\"title\":{\"text\":\"Number of Years\"},\"zeroline\":false},\"yaxis\":{\"title\":{\"text\":\"Performance Rating \"},\"zeroline\":false}},                        {\"responsive\": true}                    ).then(function(){\n",
       "                            \n",
       "var gd = document.getElementById('4d82d081-9e66-402d-ac1d-e499f3a21f33');\n",
       "var x = new MutationObserver(function (mutations, observer) {{\n",
       "        var display = window.getComputedStyle(gd).display;\n",
       "        if (!display || display === 'none') {{\n",
       "            console.log([gd, 'removed!']);\n",
       "            Plotly.purge(gd);\n",
       "            observer.disconnect();\n",
       "        }}\n",
       "}});\n",
       "\n",
       "// Listen for the removal of the full notebook cells\n",
       "var notebookContainer = gd.closest('#notebook-container');\n",
       "if (notebookContainer) {{\n",
       "    x.observe(notebookContainer, {childList: true});\n",
       "}}\n",
       "\n",
       "// Listen for the clearing of the current output cell\n",
       "var outputEl = gd.closest('.output');\n",
       "if (outputEl) {{\n",
       "    x.observe(outputEl, {childList: true});\n",
       "}}\n",
       "\n",
       "                        })                };                });            </script>        </div>"
      ]
     },
     "metadata": {},
     "output_type": "display_data"
    }
   ],
   "source": [
    "data = [\n",
    "    {\n",
    "        'x': sales['TotalWorkExperienceInYears'],\n",
    "        'y': sales['PerformanceRating'],\n",
    "        'name':'TotalWorkExperienceInYears',\n",
    "        'marker': {\n",
    "            'color': '#3D9970'\n",
    "        },\n",
    "        'boxmean': False,\n",
    "        'orientation': 'h',\n",
    "        \"type\": \"box\",\n",
    "    },\n",
    "    {\n",
    "        'x':sales['ExperienceYearsAtThisCompany'],\n",
    "        'y':sales['PerformanceRating'],\n",
    "        'name': 'ExperienceYearsAtThisCompany',\n",
    "        'marker':{\n",
    "            'color': '#FF4136',\n",
    "        },\n",
    "        'boxmean': False,\n",
    "        'orientation': 'h',\n",
    "        \"type\": \"box\",\n",
    "    },\n",
    "    {\n",
    "        'x': sales['ExperienceYearsInCurrentRole'],\n",
    "        'y': sales['PerformanceRating'],\n",
    "        'name':'ExperienceYearsInCurrentRole',\n",
    "        'marker': {\n",
    "            'color': '#FF851B',\n",
    "        },\n",
    "        'boxmean': False,\n",
    "        'orientation': 'h',\n",
    "        \"type\": \"box\",\n",
    "    }\n",
    "]\n",
    "\n",
    "layout = {\n",
    "    'xaxis': {\n",
    "        'title': 'Number of Years',\n",
    "        'zeroline': False,\n",
    "    },\n",
    "    'yaxis': {\n",
    "        'title': 'Performance Rating ',\n",
    "        'zeroline': False,\n",
    "    },\n",
    "    'boxmode': 'group',\n",
    "    'title': 'Performance According to the Experience Level - Sales',\n",
    "}\n",
    "fig = go.Figure(data=data, layout=layout)\n",
    "\n",
    "py.iplot(fig)"
   ]
  },
  {
   "cell_type": "markdown",
   "metadata": {},
   "source": [
    "## 2. Human Resources Department\n"
   ]
  },
  {
   "cell_type": "markdown",
   "metadata": {},
   "source": [
    "### Slicing the all columns of HR Row "
   ]
  },
  {
   "cell_type": "code",
   "execution_count": 49,
   "metadata": {},
   "outputs": [
    {
     "data": {
      "text/html": [
       "<div>\n",
       "<style scoped>\n",
       "    .dataframe tbody tr th:only-of-type {\n",
       "        vertical-align: middle;\n",
       "    }\n",
       "\n",
       "    .dataframe tbody tr th {\n",
       "        vertical-align: top;\n",
       "    }\n",
       "\n",
       "    .dataframe thead th {\n",
       "        text-align: right;\n",
       "    }\n",
       "</style>\n",
       "<table border=\"1\" class=\"dataframe\">\n",
       "  <thead>\n",
       "    <tr style=\"text-align: right;\">\n",
       "      <th></th>\n",
       "      <th>EmpNumber</th>\n",
       "      <th>Age</th>\n",
       "      <th>Gender</th>\n",
       "      <th>EducationBackground</th>\n",
       "      <th>MaritalStatus</th>\n",
       "      <th>EmpDepartment</th>\n",
       "      <th>EmpJobRole</th>\n",
       "      <th>BusinessTravelFrequency</th>\n",
       "      <th>DistanceFromHome</th>\n",
       "      <th>EmpEducationLevel</th>\n",
       "      <th>...</th>\n",
       "      <th>EmpRelationshipSatisfaction</th>\n",
       "      <th>TotalWorkExperienceInYears</th>\n",
       "      <th>TrainingTimesLastYear</th>\n",
       "      <th>EmpWorkLifeBalance</th>\n",
       "      <th>ExperienceYearsAtThisCompany</th>\n",
       "      <th>ExperienceYearsInCurrentRole</th>\n",
       "      <th>YearsSinceLastPromotion</th>\n",
       "      <th>YearsWithCurrManager</th>\n",
       "      <th>Attrition</th>\n",
       "      <th>PerformanceRating</th>\n",
       "    </tr>\n",
       "  </thead>\n",
       "  <tbody>\n",
       "    <tr>\n",
       "      <th>3</th>\n",
       "      <td>E1001009</td>\n",
       "      <td>41</td>\n",
       "      <td>Male</td>\n",
       "      <td>Human Resources</td>\n",
       "      <td>Divorced</td>\n",
       "      <td>Human Resources</td>\n",
       "      <td>Manager</td>\n",
       "      <td>Travel_Rarely</td>\n",
       "      <td>10</td>\n",
       "      <td>4</td>\n",
       "      <td>...</td>\n",
       "      <td>2</td>\n",
       "      <td>23</td>\n",
       "      <td>2</td>\n",
       "      <td>2</td>\n",
       "      <td>21</td>\n",
       "      <td>6</td>\n",
       "      <td>12</td>\n",
       "      <td>6</td>\n",
       "      <td>No</td>\n",
       "      <td>3</td>\n",
       "    </tr>\n",
       "    <tr>\n",
       "      <th>16</th>\n",
       "      <td>E1001038</td>\n",
       "      <td>39</td>\n",
       "      <td>Female</td>\n",
       "      <td>Human Resources</td>\n",
       "      <td>Married</td>\n",
       "      <td>Human Resources</td>\n",
       "      <td>Human Resources</td>\n",
       "      <td>Travel_Rarely</td>\n",
       "      <td>3</td>\n",
       "      <td>3</td>\n",
       "      <td>...</td>\n",
       "      <td>3</td>\n",
       "      <td>12</td>\n",
       "      <td>3</td>\n",
       "      <td>1</td>\n",
       "      <td>8</td>\n",
       "      <td>3</td>\n",
       "      <td>3</td>\n",
       "      <td>6</td>\n",
       "      <td>No</td>\n",
       "      <td>3</td>\n",
       "    </tr>\n",
       "    <tr>\n",
       "      <th>58</th>\n",
       "      <td>E1001107</td>\n",
       "      <td>36</td>\n",
       "      <td>Male</td>\n",
       "      <td>Human Resources</td>\n",
       "      <td>Married</td>\n",
       "      <td>Human Resources</td>\n",
       "      <td>Human Resources</td>\n",
       "      <td>Travel_Rarely</td>\n",
       "      <td>13</td>\n",
       "      <td>3</td>\n",
       "      <td>...</td>\n",
       "      <td>2</td>\n",
       "      <td>8</td>\n",
       "      <td>2</td>\n",
       "      <td>3</td>\n",
       "      <td>5</td>\n",
       "      <td>2</td>\n",
       "      <td>0</td>\n",
       "      <td>4</td>\n",
       "      <td>No</td>\n",
       "      <td>3</td>\n",
       "    </tr>\n",
       "  </tbody>\n",
       "</table>\n",
       "<p>3 rows × 28 columns</p>\n",
       "</div>"
      ],
      "text/plain": [
       "   EmpNumber  Age  Gender EducationBackground MaritalStatus    EmpDepartment  \\\n",
       "3   E1001009   41    Male     Human Resources      Divorced  Human Resources   \n",
       "16  E1001038   39  Female     Human Resources       Married  Human Resources   \n",
       "58  E1001107   36    Male     Human Resources       Married  Human Resources   \n",
       "\n",
       "         EmpJobRole BusinessTravelFrequency  DistanceFromHome  \\\n",
       "3           Manager           Travel_Rarely                10   \n",
       "16  Human Resources           Travel_Rarely                 3   \n",
       "58  Human Resources           Travel_Rarely                13   \n",
       "\n",
       "    EmpEducationLevel  ...  EmpRelationshipSatisfaction  \\\n",
       "3                   4  ...                            2   \n",
       "16                  3  ...                            3   \n",
       "58                  3  ...                            2   \n",
       "\n",
       "    TotalWorkExperienceInYears  TrainingTimesLastYear  EmpWorkLifeBalance  \\\n",
       "3                           23                      2                   2   \n",
       "16                          12                      3                   1   \n",
       "58                           8                      2                   3   \n",
       "\n",
       "    ExperienceYearsAtThisCompany  ExperienceYearsInCurrentRole  \\\n",
       "3                             21                             6   \n",
       "16                             8                             3   \n",
       "58                             5                             2   \n",
       "\n",
       "   YearsSinceLastPromotion  YearsWithCurrManager  Attrition  PerformanceRating  \n",
       "3                       12                     6         No                  3  \n",
       "16                       3                     6         No                  3  \n",
       "58                       0                     4         No                  3  \n",
       "\n",
       "[3 rows x 28 columns]"
      ]
     },
     "execution_count": 49,
     "metadata": {},
     "output_type": "execute_result"
    }
   ],
   "source": [
    "HR = emp_data[emp_data.EmpDepartment == 'Human Resources']\n",
    "HR.head(3)"
   ]
  },
  {
   "cell_type": "markdown",
   "metadata": {},
   "source": [
    "### (i) Performance Rating with respect to number of employees\n"
   ]
  },
  {
   "cell_type": "code",
   "execution_count": 50,
   "metadata": {},
   "outputs": [
    {
     "data": {
      "image/png": "[encoded data removed]",
      "text/plain": [
       "<Figure size 432x288 with 1 Axes>"
      ]
     },
     "metadata": {
      "needs_background": "light"
     },
     "output_type": "display_data"
    }
   ],
   "source": [
    "sns.countplot(y=\"PerformanceRating\", data=HR, palette=\"Greens_d\");"
   ]
  },
  {
   "cell_type": "markdown",
   "metadata": {},
   "source": [
    "### (ii) Performance Rating with respect to Age Group"
   ]
  },
  {
   "cell_type": "code",
   "execution_count": 51,
   "metadata": {},
   "outputs": [
    {
     "data": {
      "text/plain": [
       "<AxesSubplot:xlabel='PerformanceRating', ylabel='Age'>"
      ]
     },
     "execution_count": 51,
     "metadata": {},
     "output_type": "execute_result"
    },
    {
     "data": {
      "image/png": "[encoded data removed]",
      "text/plain": [
       "<Figure size 432x288 with 1 Axes>"
      ]
     },
     "metadata": {
      "needs_background": "light"
     },
     "output_type": "display_data"
    }
   ],
   "source": [
    "sns.boxplot(HR['PerformanceRating'], HR['Age'])"
   ]
  },
  {
   "cell_type": "markdown",
   "metadata": {},
   "source": [
    "### (iii) Performance based on Gender"
   ]
  },
  {
   "cell_type": "code",
   "execution_count": 52,
   "metadata": {},
   "outputs": [
    {
     "data": {
      "text/plain": [
       "<AxesSubplot:xlabel='Gender', ylabel='PerformanceRating'>"
      ]
     },
     "execution_count": 52,
     "metadata": {},
     "output_type": "execute_result"
    },
    {
     "data": {
      "image/png": "[encoded data removed]",
      "text/plain": [
       "<Figure size 432x288 with 1 Axes>"
      ]
     },
     "metadata": {
      "needs_background": "light"
     },
     "output_type": "display_data"
    }
   ],
   "source": [
    "sns.barplot(HR['Gender'], HR['PerformanceRating'])"
   ]
  },
  {
   "cell_type": "markdown",
   "metadata": {},
   "source": [
    "### (iv) Performance According to the Experience Level\n"
   ]
  },
  {
   "cell_type": "code",
   "execution_count": 53,
   "metadata": {},
   "outputs": [
    {
     "data": {
      "application/vnd.plotly.v1+json": {
       "config": {
        "linkText": "Export to plot.ly",
        "plotlyServerURL": "https://plot.ly",
        "showLink": false
       },
       "data": [
        {
         "boxmean": false,
         "marker": {
          "color": "#3D9970"
         },
         "name": "TotalWorkExperienceInYears",
         "orientation": "h",
         "type": "box",
         "x": [
          23,
          12,
          8,
          6,
          6,
          13,
          7,
          6,
          24,
          6,
          5,
          10,
          14,
          10,
          36,
          33,
          21,
          10,
          8,
          2,
          21,
          10,
          27,
          14,
          8,
          10,
          9,
          3,
          6,
          10,
          19,
          13,
          2,
          3,
          1,
          10,
          1,
          7,
          35,
          6,
          9,
          16,
          7,
          23,
          8,
          12,
          7,
          9,
          4,
          1,
          11,
          32,
          10,
          16
         ],
         "y": [
          3,
          3,
          3,
          3,
          3,
          3,
          3,
          3,
          2,
          2,
          2,
          4,
          3,
          3,
          3,
          3,
          3,
          3,
          3,
          2,
          4,
          3,
          3,
          3,
          3,
          3,
          4,
          2,
          3,
          2,
          3,
          2,
          3,
          3,
          3,
          4,
          3,
          3,
          3,
          3,
          3,
          3,
          4,
          3,
          4,
          3,
          2,
          2,
          3,
          3,
          3,
          2,
          3,
          3
         ]
        },
        {
         "boxmean": false,
         "marker": {
          "color": "#FF4136"
         },
         "name": "ExperienceYearsAtThisCompany",
         "orientation": "h",
         "type": "box",
         "x": [
          21,
          8,
          5,
          5,
          5,
          5,
          4,
          6,
          20,
          5,
          5,
          4,
          10,
          7,
          7,
          33,
          20,
          10,
          3,
          2,
          21,
          6,
          5,
          10,
          2,
          3,
          5,
          2,
          4,
          9,
          10,
          11,
          1,
          3,
          1,
          10,
          1,
          6,
          10,
          2,
          9,
          4,
          3,
          5,
          8,
          11,
          2,
          2,
          3,
          1,
          3,
          32,
          2,
          9
         ],
         "y": [
          3,
          3,
          3,
          3,
          3,
          3,
          3,
          3,
          2,
          2,
          2,
          4,
          3,
          3,
          3,
          3,
          3,
          3,
          3,
          2,
          4,
          3,
          3,
          3,
          3,
          3,
          4,
          2,
          3,
          2,
          3,
          2,
          3,
          3,
          3,
          4,
          3,
          3,
          3,
          3,
          3,
          3,
          4,
          3,
          4,
          3,
          2,
          2,
          3,
          3,
          3,
          2,
          3,
          3
         ]
        },
        {
         "boxmean": false,
         "marker": {
          "color": "#FF851B"
         },
         "name": "ExperienceYearsInCurrentRole",
         "orientation": "h",
         "type": "box",
         "x": [
          6,
          3,
          2,
          1,
          4,
          4,
          3,
          3,
          6,
          4,
          4,
          3,
          9,
          6,
          3,
          9,
          7,
          9,
          2,
          2,
          7,
          3,
          2,
          7,
          2,
          2,
          0,
          2,
          2,
          7,
          0,
          10,
          0,
          2,
          0,
          1,
          0,
          2,
          9,
          0,
          0,
          2,
          2,
          3,
          7,
          9,
          2,
          2,
          2,
          0,
          2,
          5,
          2,
          7
         ],
         "y": [
          3,
          3,
          3,
          3,
          3,
          3,
          3,
          3,
          2,
          2,
          2,
          4,
          3,
          3,
          3,
          3,
          3,
          3,
          3,
          2,
          4,
          3,
          3,
          3,
          3,
          3,
          4,
          2,
          3,
          2,
          3,
          2,
          3,
          3,
          3,
          4,
          3,
          3,
          3,
          3,
          3,
          3,
          4,
          3,
          4,
          3,
          2,
          2,
          3,
          3,
          3,
          2,
          3,
          3
         ]
        }
       ],
       "layout": {
        "boxmode": "group",
        "template": {
         "data": {
          "bar": [
           {
            "error_x": {
             "color": "#2a3f5f"
            },
            "error_y": {
             "color": "#2a3f5f"
            },
            "marker": {
             "line": {
              "color": "#E5ECF6",
              "width": 0.5
             },
             "pattern": {
              "fillmode": "overlay",
              "size": 10,
              "solidity": 0.2
             }
            },
            "type": "bar"
           }
          ],
          "barpolar": [
           {
            "marker": {
             "line": {
              "color": "#E5ECF6",
              "width": 0.5
             },
             "pattern": {
              "fillmode": "overlay",
              "size": 10,
              "solidity": 0.2
             }
            },
            "type": "barpolar"
           }
          ],
          "carpet": [
           {
            "aaxis": {
             "endlinecolor": "#2a3f5f",
             "gridcolor": "white",
             "linecolor": "white",
             "minorgridcolor": "white",
             "startlinecolor": "#2a3f5f"
            },
            "baxis": {
             "endlinecolor": "#2a3f5f",
             "gridcolor": "white",
             "linecolor": "white",
             "minorgridcolor": "white",
             "startlinecolor": "#2a3f5f"
            },
            "type": "carpet"
           }
          ],
          "choropleth": [
           {
            "colorbar": {
             "outlinewidth": 0,
             "ticks": ""
            },
            "type": "choropleth"
           }
          ],
          "contour": [
           {
            "colorbar": {
             "outlinewidth": 0,
             "ticks": ""
            },
            "colorscale": [
             [
              0,
              "#0d0887"
             ],
             [
              0.1111111111111111,
              "#46039f"
             ],
             [
              0.2222222222222222,
              "#7201a8"
             ],
             [
              0.3333333333333333,
              "#9c179e"
             ],
             [
              0.4444444444444444,
              "#bd3786"
             ],
             [
              0.5555555555555556,
              "#d8576b"
             ],
             [
              0.6666666666666666,
              "#ed7953"
             ],
             [
              0.7777777777777778,
              "#fb9f3a"
             ],
             [
              0.8888888888888888,
              "#fdca26"
             ],
             [
              1,
              "#f0f921"
             ]
            ],
            "type": "contour"
           }
          ],
          "contourcarpet": [
           {
            "colorbar": {
             "outlinewidth": 0,
             "ticks": ""
            },
            "type": "contourcarpet"
           }
          ],
          "heatmap": [
           {
            "colorbar": {
             "outlinewidth": 0,
             "ticks": ""
            },
            "colorscale": [
             [
              0,
              "#0d0887"
             ],
             [
              0.1111111111111111,
              "#46039f"
             ],
             [
              0.2222222222222222,
              "#7201a8"
             ],
             [
              0.3333333333333333,
              "#9c179e"
             ],
             [
              0.4444444444444444,
              "#bd3786"
             ],
             [
              0.5555555555555556,
              "#d8576b"
             ],
             [
              0.6666666666666666,
              "#ed7953"
             ],
             [
              0.7777777777777778,
              "#fb9f3a"
             ],
             [
              0.8888888888888888,
              "#fdca26"
             ],
             [
              1,
              "#f0f921"
             ]
            ],
            "type": "heatmap"
           }
          ],
          "heatmapgl": [
           {
            "colorbar": {
             "outlinewidth": 0,
             "ticks": ""
            },
            "colorscale": [
             [
              0,
              "#0d0887"
             ],
             [
              0.1111111111111111,
              "#46039f"
             ],
             [
              0.2222222222222222,
              "#7201a8"
             ],
             [
              0.3333333333333333,
              "#9c179e"
             ],
             [
              0.4444444444444444,
              "#bd3786"
             ],
             [
              0.5555555555555556,
              "#d8576b"
             ],
             [
              0.6666666666666666,
              "#ed7953"
             ],
             [
              0.7777777777777778,
              "#fb9f3a"
             ],
             [
              0.8888888888888888,
              "#fdca26"
             ],
             [
              1,
              "#f0f921"
             ]
            ],
            "type": "heatmapgl"
           }
          ],
          "histogram": [
           {
            "marker": {
             "pattern": {
              "fillmode": "overlay",
              "size": 10,
              "solidity": 0.2
             }
            },
            "type": "histogram"
           }
          ],
          "histogram2d": [
           {
            "colorbar": {
             "outlinewidth": 0,
             "ticks": ""
            },
            "colorscale": [
             [
              0,
              "#0d0887"
             ],
             [
              0.1111111111111111,
              "#46039f"
             ],
             [
              0.2222222222222222,
              "#7201a8"
             ],
             [
              0.3333333333333333,
              "#9c179e"
             ],
             [
              0.4444444444444444,
              "#bd3786"
             ],
             [
              0.5555555555555556,
              "#d8576b"
             ],
             [
              0.6666666666666666,
              "#ed7953"
             ],
             [
              0.7777777777777778,
              "#fb9f3a"
             ],
             [
              0.8888888888888888,
              "#fdca26"
             ],
             [
              1,
              "#f0f921"
             ]
            ],
            "type": "histogram2d"
           }
          ],
          "histogram2dcontour": [
           {
            "colorbar": {
             "outlinewidth": 0,
             "ticks": ""
            },
            "colorscale": [
             [
              0,
              "#0d0887"
             ],
             [
              0.1111111111111111,
              "#46039f"
             ],
             [
              0.2222222222222222,
              "#7201a8"
             ],
             [
              0.3333333333333333,
              "#9c179e"
             ],
             [
              0.4444444444444444,
              "#bd3786"
             ],
             [
              0.5555555555555556,
              "#d8576b"
             ],
             [
              0.6666666666666666,
              "#ed7953"
             ],
             [
              0.7777777777777778,
              "#fb9f3a"
             ],
             [
              0.8888888888888888,
              "#fdca26"
             ],
             [
              1,
              "#f0f921"
             ]
            ],
            "type": "histogram2dcontour"
           }
          ],
          "mesh3d": [
           {
            "colorbar": {
             "outlinewidth": 0,
             "ticks": ""
            },
            "type": "mesh3d"
           }
          ],
          "parcoords": [
           {
            "line": {
             "colorbar": {
              "outlinewidth": 0,
              "ticks": ""
             }
            },
            "type": "parcoords"
           }
          ],
          "pie": [
           {
            "automargin": true,
            "type": "pie"
           }
          ],
          "scatter": [
           {
            "marker": {
             "colorbar": {
              "outlinewidth": 0,
              "ticks": ""
             }
            },
            "type": "scatter"
           }
          ],
          "scatter3d": [
           {
            "line": {
             "colorbar": {
              "outlinewidth": 0,
              "ticks": ""
             }
            },
            "marker": {
             "colorbar": {
              "outlinewidth": 0,
              "ticks": ""
             }
            },
            "type": "scatter3d"
           }
          ],
          "scattercarpet": [
           {
            "marker": {
             "colorbar": {
              "outlinewidth": 0,
              "ticks": ""
             }
            },
            "type": "scattercarpet"
           }
          ],
          "scattergeo": [
           {
            "marker": {
             "colorbar": {
              "outlinewidth": 0,
              "ticks": ""
             }
            },
            "type": "scattergeo"
           }
          ],
          "scattergl": [
           {
            "marker": {
             "colorbar": {
              "outlinewidth": 0,
              "ticks": ""
             }
            },
            "type": "scattergl"
           }
          ],
          "scattermapbox": [
           {
            "marker": {
             "colorbar": {
              "outlinewidth": 0,
              "ticks": ""
             }
            },
            "type": "scattermapbox"
           }
          ],
          "scatterpolar": [
           {
            "marker": {
             "colorbar": {
              "outlinewidth": 0,
              "ticks": ""
             }
            },
            "type": "scatterpolar"
           }
          ],
          "scatterpolargl": [
           {
            "marker": {
             "colorbar": {
              "outlinewidth": 0,
              "ticks": ""
             }
            },
            "type": "scatterpolargl"
           }
          ],
          "scatterternary": [
           {
            "marker": {
             "colorbar": {
              "outlinewidth": 0,
              "ticks": ""
             }
            },
            "type": "scatterternary"
           }
          ],
          "surface": [
           {
            "colorbar": {
             "outlinewidth": 0,
             "ticks": ""
            },
            "colorscale": [
             [
              0,
              "#0d0887"
             ],
             [
              0.1111111111111111,
              "#46039f"
             ],
             [
              0.2222222222222222,
              "#7201a8"
             ],
             [
              0.3333333333333333,
              "#9c179e"
             ],
             [
              0.4444444444444444,
              "#bd3786"
             ],
             [
              0.5555555555555556,
              "#d8576b"
             ],
             [
              0.6666666666666666,
              "#ed7953"
             ],
             [
              0.7777777777777778,
              "#fb9f3a"
             ],
             [
              0.8888888888888888,
              "#fdca26"
             ],
             [
              1,
              "#f0f921"
             ]
            ],
            "type": "surface"
           }
          ],
          "table": [
           {
            "cells": {
             "fill": {
              "color": "#EBF0F8"
             },
             "line": {
              "color": "white"
             }
            },
            "header": {
             "fill": {
              "color": "#C8D4E3"
             },
             "line": {
              "color": "white"
             }
            },
            "type": "table"
           }
          ]
         },
         "layout": {
          "annotationdefaults": {
           "arrowcolor": "#2a3f5f",
           "arrowhead": 0,
           "arrowwidth": 1
          },
          "autotypenumbers": "strict",
          "coloraxis": {
           "colorbar": {
            "outlinewidth": 0,
            "ticks": ""
           }
          },
          "colorscale": {
           "diverging": [
            [
             0,
             "#8e0152"
            ],
            [
             0.1,
             "#c51b7d"
            ],
            [
             0.2,
             "#de77ae"
            ],
            [
             0.3,
             "#f1b6da"
            ],
            [
             0.4,
             "#fde0ef"
            ],
            [
             0.5,
             "#f7f7f7"
            ],
            [
             0.6,
             "#e6f5d0"
            ],
            [
             0.7,
             "#b8e186"
            ],
            [
             0.8,
             "#7fbc41"
            ],
            [
             0.9,
             "#4d9221"
            ],
            [
             1,
             "#276419"
            ]
           ],
           "sequential": [
            [
             0,
             "#0d0887"
            ],
            [
             0.1111111111111111,
             "#46039f"
            ],
            [
             0.2222222222222222,
             "#7201a8"
            ],
            [
             0.3333333333333333,
             "#9c179e"
            ],
            [
             0.4444444444444444,
             "#bd3786"
            ],
            [
             0.5555555555555556,
             "#d8576b"
            ],
            [
             0.6666666666666666,
             "#ed7953"
            ],
            [
             0.7777777777777778,
             "#fb9f3a"
            ],
            [
             0.8888888888888888,
             "#fdca26"
            ],
            [
             1,
             "#f0f921"
            ]
           ],
           "sequentialminus": [
            [
             0,
             "#0d0887"
            ],
            [
             0.1111111111111111,
             "#46039f"
            ],
            [
             0.2222222222222222,
             "#7201a8"
            ],
            [
             0.3333333333333333,
             "#9c179e"
            ],
            [
             0.4444444444444444,
             "#bd3786"
            ],
            [
             0.5555555555555556,
             "#d8576b"
            ],
            [
             0.6666666666666666,
             "#ed7953"
            ],
            [
             0.7777777777777778,
             "#fb9f3a"
            ],
            [
             0.8888888888888888,
             "#fdca26"
            ],
            [
             1,
             "#f0f921"
            ]
           ]
          },
          "colorway": [
           "#636efa",
           "#EF553B",
           "#00cc96",
           "#ab63fa",
           "#FFA15A",
           "#19d3f3",
           "#FF6692",
           "#B6E880",
           "#FF97FF",
           "#FECB52"
          ],
          "font": {
           "color": "#2a3f5f"
          },
          "geo": {
           "bgcolor": "white",
           "lakecolor": "white",
           "landcolor": "#E5ECF6",
           "showlakes": true,
           "showland": true,
           "subunitcolor": "white"
          },
          "hoverlabel": {
           "align": "left"
          },
          "hovermode": "closest",
          "mapbox": {
           "style": "light"
          },
          "paper_bgcolor": "white",
          "plot_bgcolor": "#E5ECF6",
          "polar": {
           "angularaxis": {
            "gridcolor": "white",
            "linecolor": "white",
            "ticks": ""
           },
           "bgcolor": "#E5ECF6",
           "radialaxis": {
            "gridcolor": "white",
            "linecolor": "white",
            "ticks": ""
           }
          },
          "scene": {
           "xaxis": {
            "backgroundcolor": "#E5ECF6",
            "gridcolor": "white",
            "gridwidth": 2,
            "linecolor": "white",
            "showbackground": true,
            "ticks": "",
            "zerolinecolor": "white"
           },
           "yaxis": {
            "backgroundcolor": "#E5ECF6",
            "gridcolor": "white",
            "gridwidth": 2,
            "linecolor": "white",
            "showbackground": true,
            "ticks": "",
            "zerolinecolor": "white"
           },
           "zaxis": {
            "backgroundcolor": "#E5ECF6",
            "gridcolor": "white",
            "gridwidth": 2,
            "linecolor": "white",
            "showbackground": true,
            "ticks": "",
            "zerolinecolor": "white"
           }
          },
          "shapedefaults": {
           "line": {
            "color": "#2a3f5f"
           }
          },
          "ternary": {
           "aaxis": {
            "gridcolor": "white",
            "linecolor": "white",
            "ticks": ""
           },
           "baxis": {
            "gridcolor": "white",
            "linecolor": "white",
            "ticks": ""
           },
           "bgcolor": "#E5ECF6",
           "caxis": {
            "gridcolor": "white",
            "linecolor": "white",
            "ticks": ""
           }
          },
          "title": {
           "x": 0.05
          },
          "xaxis": {
           "automargin": true,
           "gridcolor": "white",
           "linecolor": "white",
           "ticks": "",
           "title": {
            "standoff": 15
           },
           "zerolinecolor": "white",
           "zerolinewidth": 2
          },
          "yaxis": {
           "automargin": true,
           "gridcolor": "white",
           "linecolor": "white",
           "ticks": "",
           "title": {
            "standoff": 15
           },
           "zerolinecolor": "white",
           "zerolinewidth": 2
          }
         }
        },
        "title": {
         "text": "Performance According to the Experience Level - HR "
        },
        "xaxis": {
         "title": {
          "text": "Number of Years"
         },
         "zeroline": false
        },
        "yaxis": {
         "title": {
          "text": "Performance Rating "
         },
         "zeroline": false
        }
       }
      },
      "text/html": [
       "<div>                            <div id=\"1f1709d3-06bf-4632-a9f0-b26a682c41b2\" class=\"plotly-graph-div\" style=\"height:525px; width:100%;\"></div>            <script type=\"text/javascript\">                require([\"plotly\"], function(Plotly) {                    window.PLOTLYENV=window.PLOTLYENV || {};                                    if (document.getElementById(\"1f1709d3-06bf-4632-a9f0-b26a682c41b2\")) {                    Plotly.newPlot(                        \"1f1709d3-06bf-4632-a9f0-b26a682c41b2\",                        [{\"boxmean\":false,\"marker\":{\"color\":\"#3D9970\"},\"name\":\"TotalWorkExperienceInYears\",\"orientation\":\"h\",\"x\":[23,12,8,6,6,13,7,6,24,6,5,10,14,10,36,33,21,10,8,2,21,10,27,14,8,10,9,3,6,10,19,13,2,3,1,10,1,7,35,6,9,16,7,23,8,12,7,9,4,1,11,32,10,16],\"y\":[3,3,3,3,3,3,3,3,2,2,2,4,3,3,3,3,3,3,3,2,4,3,3,3,3,3,4,2,3,2,3,2,3,3,3,4,3,3,3,3,3,3,4,3,4,3,2,2,3,3,3,2,3,3],\"type\":\"box\"},{\"boxmean\":false,\"marker\":{\"color\":\"#FF4136\"},\"name\":\"ExperienceYearsAtThisCompany\",\"orientation\":\"h\",\"x\":[21,8,5,5,5,5,4,6,20,5,5,4,10,7,7,33,20,10,3,2,21,6,5,10,2,3,5,2,4,9,10,11,1,3,1,10,1,6,10,2,9,4,3,5,8,11,2,2,3,1,3,32,2,9],\"y\":[3,3,3,3,3,3,3,3,2,2,2,4,3,3,3,3,3,3,3,2,4,3,3,3,3,3,4,2,3,2,3,2,3,3,3,4,3,3,3,3,3,3,4,3,4,3,2,2,3,3,3,2,3,3],\"type\":\"box\"},{\"boxmean\":false,\"marker\":{\"color\":\"#FF851B\"},\"name\":\"ExperienceYearsInCurrentRole\",\"orientation\":\"h\",\"x\":[6,3,2,1,4,4,3,3,6,4,4,3,9,6,3,9,7,9,2,2,7,3,2,7,2,2,0,2,2,7,0,10,0,2,0,1,0,2,9,0,0,2,2,3,7,9,2,2,2,0,2,5,2,7],\"y\":[3,3,3,3,3,3,3,3,2,2,2,4,3,3,3,3,3,3,3,2,4,3,3,3,3,3,4,2,3,2,3,2,3,3,3,4,3,3,3,3,3,3,4,3,4,3,2,2,3,3,3,2,3,3],\"type\":\"box\"}],                        {\"boxmode\":\"group\",\"template\":{\"data\":{\"barpolar\":[{\"marker\":{\"line\":{\"color\":\"#E5ECF6\",\"width\":0.5},\"pattern\":{\"fillmode\":\"overlay\",\"size\":10,\"solidity\":0.2}},\"type\":\"barpolar\"}],\"bar\":[{\"error_x\":{\"color\":\"#2a3f5f\"},\"error_y\":{\"color\":\"#2a3f5f\"},\"marker\":{\"line\":{\"color\":\"#E5ECF6\",\"width\":0.5},\"pattern\":{\"fillmode\":\"overlay\",\"size\":10,\"solidity\":0.2}},\"type\":\"bar\"}],\"carpet\":[{\"aaxis\":{\"endlinecolor\":\"#2a3f5f\",\"gridcolor\":\"white\",\"linecolor\":\"white\",\"minorgridcolor\":\"white\",\"startlinecolor\":\"#2a3f5f\"},\"baxis\":{\"endlinecolor\":\"#2a3f5f\",\"gridcolor\":\"white\",\"linecolor\":\"white\",\"minorgridcolor\":\"white\",\"startlinecolor\":\"#2a3f5f\"},\"type\":\"carpet\"}],\"choropleth\":[{\"colorbar\":{\"outlinewidth\":0,\"ticks\":\"\"},\"type\":\"choropleth\"}],\"contourcarpet\":[{\"colorbar\":{\"outlinewidth\":0,\"ticks\":\"\"},\"type\":\"contourcarpet\"}],\"contour\":[{\"colorbar\":{\"outlinewidth\":0,\"ticks\":\"\"},\"colorscale\":[[0.0,\"#0d0887\"],[0.1111111111111111,\"#46039f\"],[0.2222222222222222,\"#7201a8\"],[0.3333333333333333,\"#9c179e\"],[0.4444444444444444,\"#bd3786\"],[0.5555555555555556,\"#d8576b\"],[0.6666666666666666,\"#ed7953\"],[0.7777777777777778,\"#fb9f3a\"],[0.8888888888888888,\"#fdca26\"],[1.0,\"#f0f921\"]],\"type\":\"contour\"}],\"heatmapgl\":[{\"colorbar\":{\"outlinewidth\":0,\"ticks\":\"\"},\"colorscale\":[[0.0,\"#0d0887\"],[0.1111111111111111,\"#46039f\"],[0.2222222222222222,\"#7201a8\"],[0.3333333333333333,\"#9c179e\"],[0.4444444444444444,\"#bd3786\"],[0.5555555555555556,\"#d8576b\"],[0.6666666666666666,\"#ed7953\"],[0.7777777777777778,\"#fb9f3a\"],[0.8888888888888888,\"#fdca26\"],[1.0,\"#f0f921\"]],\"type\":\"heatmapgl\"}],\"heatmap\":[{\"colorbar\":{\"outlinewidth\":0,\"ticks\":\"\"},\"colorscale\":[[0.0,\"#0d0887\"],[0.1111111111111111,\"#46039f\"],[0.2222222222222222,\"#7201a8\"],[0.3333333333333333,\"#9c179e\"],[0.4444444444444444,\"#bd3786\"],[0.5555555555555556,\"#d8576b\"],[0.6666666666666666,\"#ed7953\"],[0.7777777777777778,\"#fb9f3a\"],[0.8888888888888888,\"#fdca26\"],[1.0,\"#f0f921\"]],\"type\":\"heatmap\"}],\"histogram2dcontour\":[{\"colorbar\":{\"outlinewidth\":0,\"ticks\":\"\"},\"colorscale\":[[0.0,\"#0d0887\"],[0.1111111111111111,\"#46039f\"],[0.2222222222222222,\"#7201a8\"],[0.3333333333333333,\"#9c179e\"],[0.4444444444444444,\"#bd3786\"],[0.5555555555555556,\"#d8576b\"],[0.6666666666666666,\"#ed7953\"],[0.7777777777777778,\"#fb9f3a\"],[0.8888888888888888,\"#fdca26\"],[1.0,\"#f0f921\"]],\"type\":\"histogram2dcontour\"}],\"histogram2d\":[{\"colorbar\":{\"outlinewidth\":0,\"ticks\":\"\"},\"colorscale\":[[0.0,\"#0d0887\"],[0.1111111111111111,\"#46039f\"],[0.2222222222222222,\"#7201a8\"],[0.3333333333333333,\"#9c179e\"],[0.4444444444444444,\"#bd3786\"],[0.5555555555555556,\"#d8576b\"],[0.6666666666666666,\"#ed7953\"],[0.7777777777777778,\"#fb9f3a\"],[0.8888888888888888,\"#fdca26\"],[1.0,\"#f0f921\"]],\"type\":\"histogram2d\"}],\"histogram\":[{\"marker\":{\"pattern\":{\"fillmode\":\"overlay\",\"size\":10,\"solidity\":0.2}},\"type\":\"histogram\"}],\"mesh3d\":[{\"colorbar\":{\"outlinewidth\":0,\"ticks\":\"\"},\"type\":\"mesh3d\"}],\"parcoords\":[{\"line\":{\"colorbar\":{\"outlinewidth\":0,\"ticks\":\"\"}},\"type\":\"parcoords\"}],\"pie\":[{\"automargin\":true,\"type\":\"pie\"}],\"scatter3d\":[{\"line\":{\"colorbar\":{\"outlinewidth\":0,\"ticks\":\"\"}},\"marker\":{\"colorbar\":{\"outlinewidth\":0,\"ticks\":\"\"}},\"type\":\"scatter3d\"}],\"scattercarpet\":[{\"marker\":{\"colorbar\":{\"outlinewidth\":0,\"ticks\":\"\"}},\"type\":\"scattercarpet\"}],\"scattergeo\":[{\"marker\":{\"colorbar\":{\"outlinewidth\":0,\"ticks\":\"\"}},\"type\":\"scattergeo\"}],\"scattergl\":[{\"marker\":{\"colorbar\":{\"outlinewidth\":0,\"ticks\":\"\"}},\"type\":\"scattergl\"}],\"scattermapbox\":[{\"marker\":{\"colorbar\":{\"outlinewidth\":0,\"ticks\":\"\"}},\"type\":\"scattermapbox\"}],\"scatterpolargl\":[{\"marker\":{\"colorbar\":{\"outlinewidth\":0,\"ticks\":\"\"}},\"type\":\"scatterpolargl\"}],\"scatterpolar\":[{\"marker\":{\"colorbar\":{\"outlinewidth\":0,\"ticks\":\"\"}},\"type\":\"scatterpolar\"}],\"scatter\":[{\"marker\":{\"colorbar\":{\"outlinewidth\":0,\"ticks\":\"\"}},\"type\":\"scatter\"}],\"scatterternary\":[{\"marker\":{\"colorbar\":{\"outlinewidth\":0,\"ticks\":\"\"}},\"type\":\"scatterternary\"}],\"surface\":[{\"colorbar\":{\"outlinewidth\":0,\"ticks\":\"\"},\"colorscale\":[[0.0,\"#0d0887\"],[0.1111111111111111,\"#46039f\"],[0.2222222222222222,\"#7201a8\"],[0.3333333333333333,\"#9c179e\"],[0.4444444444444444,\"#bd3786\"],[0.5555555555555556,\"#d8576b\"],[0.6666666666666666,\"#ed7953\"],[0.7777777777777778,\"#fb9f3a\"],[0.8888888888888888,\"#fdca26\"],[1.0,\"#f0f921\"]],\"type\":\"surface\"}],\"table\":[{\"cells\":{\"fill\":{\"color\":\"#EBF0F8\"},\"line\":{\"color\":\"white\"}},\"header\":{\"fill\":{\"color\":\"#C8D4E3\"},\"line\":{\"color\":\"white\"}},\"type\":\"table\"}]},\"layout\":{\"annotationdefaults\":{\"arrowcolor\":\"#2a3f5f\",\"arrowhead\":0,\"arrowwidth\":1},\"autotypenumbers\":\"strict\",\"coloraxis\":{\"colorbar\":{\"outlinewidth\":0,\"ticks\":\"\"}},\"colorscale\":{\"diverging\":[[0,\"#8e0152\"],[0.1,\"#c51b7d\"],[0.2,\"#de77ae\"],[0.3,\"#f1b6da\"],[0.4,\"#fde0ef\"],[0.5,\"#f7f7f7\"],[0.6,\"#e6f5d0\"],[0.7,\"#b8e186\"],[0.8,\"#7fbc41\"],[0.9,\"#4d9221\"],[1,\"#276419\"]],\"sequential\":[[0.0,\"#0d0887\"],[0.1111111111111111,\"#46039f\"],[0.2222222222222222,\"#7201a8\"],[0.3333333333333333,\"#9c179e\"],[0.4444444444444444,\"#bd3786\"],[0.5555555555555556,\"#d8576b\"],[0.6666666666666666,\"#ed7953\"],[0.7777777777777778,\"#fb9f3a\"],[0.8888888888888888,\"#fdca26\"],[1.0,\"#f0f921\"]],\"sequentialminus\":[[0.0,\"#0d0887\"],[0.1111111111111111,\"#46039f\"],[0.2222222222222222,\"#7201a8\"],[0.3333333333333333,\"#9c179e\"],[0.4444444444444444,\"#bd3786\"],[0.5555555555555556,\"#d8576b\"],[0.6666666666666666,\"#ed7953\"],[0.7777777777777778,\"#fb9f3a\"],[0.8888888888888888,\"#fdca26\"],[1.0,\"#f0f921\"]]},\"colorway\":[\"#636efa\",\"#EF553B\",\"#00cc96\",\"#ab63fa\",\"#FFA15A\",\"#19d3f3\",\"#FF6692\",\"#B6E880\",\"#FF97FF\",\"#FECB52\"],\"font\":{\"color\":\"#2a3f5f\"},\"geo\":{\"bgcolor\":\"white\",\"lakecolor\":\"white\",\"landcolor\":\"#E5ECF6\",\"showlakes\":true,\"showland\":true,\"subunitcolor\":\"white\"},\"hoverlabel\":{\"align\":\"left\"},\"hovermode\":\"closest\",\"mapbox\":{\"style\":\"light\"},\"paper_bgcolor\":\"white\",\"plot_bgcolor\":\"#E5ECF6\",\"polar\":{\"angularaxis\":{\"gridcolor\":\"white\",\"linecolor\":\"white\",\"ticks\":\"\"},\"bgcolor\":\"#E5ECF6\",\"radialaxis\":{\"gridcolor\":\"white\",\"linecolor\":\"white\",\"ticks\":\"\"}},\"scene\":{\"xaxis\":{\"backgroundcolor\":\"#E5ECF6\",\"gridcolor\":\"white\",\"gridwidth\":2,\"linecolor\":\"white\",\"showbackground\":true,\"ticks\":\"\",\"zerolinecolor\":\"white\"},\"yaxis\":{\"backgroundcolor\":\"#E5ECF6\",\"gridcolor\":\"white\",\"gridwidth\":2,\"linecolor\":\"white\",\"showbackground\":true,\"ticks\":\"\",\"zerolinecolor\":\"white\"},\"zaxis\":{\"backgroundcolor\":\"#E5ECF6\",\"gridcolor\":\"white\",\"gridwidth\":2,\"linecolor\":\"white\",\"showbackground\":true,\"ticks\":\"\",\"zerolinecolor\":\"white\"}},\"shapedefaults\":{\"line\":{\"color\":\"#2a3f5f\"}},\"ternary\":{\"aaxis\":{\"gridcolor\":\"white\",\"linecolor\":\"white\",\"ticks\":\"\"},\"baxis\":{\"gridcolor\":\"white\",\"linecolor\":\"white\",\"ticks\":\"\"},\"bgcolor\":\"#E5ECF6\",\"caxis\":{\"gridcolor\":\"white\",\"linecolor\":\"white\",\"ticks\":\"\"}},\"title\":{\"x\":0.05},\"xaxis\":{\"automargin\":true,\"gridcolor\":\"white\",\"linecolor\":\"white\",\"ticks\":\"\",\"title\":{\"standoff\":15},\"zerolinecolor\":\"white\",\"zerolinewidth\":2},\"yaxis\":{\"automargin\":true,\"gridcolor\":\"white\",\"linecolor\":\"white\",\"ticks\":\"\",\"title\":{\"standoff\":15},\"zerolinecolor\":\"white\",\"zerolinewidth\":2}}},\"title\":{\"text\":\"Performance According to the Experience Level - HR \"},\"xaxis\":{\"title\":{\"text\":\"Number of Years\"},\"zeroline\":false},\"yaxis\":{\"title\":{\"text\":\"Performance Rating \"},\"zeroline\":false}},                        {\"responsive\": true}                    ).then(function(){\n",
       "                            \n",
       "var gd = document.getElementById('1f1709d3-06bf-4632-a9f0-b26a682c41b2');\n",
       "var x = new MutationObserver(function (mutations, observer) {{\n",
       "        var display = window.getComputedStyle(gd).display;\n",
       "        if (!display || display === 'none') {{\n",
       "            console.log([gd, 'removed!']);\n",
       "            Plotly.purge(gd);\n",
       "            observer.disconnect();\n",
       "        }}\n",
       "}});\n",
       "\n",
       "// Listen for the removal of the full notebook cells\n",
       "var notebookContainer = gd.closest('#notebook-container');\n",
       "if (notebookContainer) {{\n",
       "    x.observe(notebookContainer, {childList: true});\n",
       "}}\n",
       "\n",
       "// Listen for the clearing of the current output cell\n",
       "var outputEl = gd.closest('.output');\n",
       "if (outputEl) {{\n",
       "    x.observe(outputEl, {childList: true});\n",
       "}}\n",
       "\n",
       "                        })                };                });            </script>        </div>"
      ]
     },
     "metadata": {},
     "output_type": "display_data"
    }
   ],
   "source": [
    "data = [\n",
    "    {\n",
    "        'x': HR['TotalWorkExperienceInYears'],\n",
    "        'y': HR['PerformanceRating'],\n",
    "        'name':'TotalWorkExperienceInYears',\n",
    "        'marker': {\n",
    "            'color': '#3D9970'\n",
    "        },\n",
    "        'boxmean': False,\n",
    "        'orientation': 'h',\n",
    "        \"type\": \"box\",\n",
    "    },\n",
    "    {\n",
    "        'x':HR['ExperienceYearsAtThisCompany'],\n",
    "        'y':HR['PerformanceRating'],\n",
    "        'name': 'ExperienceYearsAtThisCompany',\n",
    "        'marker':{\n",
    "            'color': '#FF4136',\n",
    "        },\n",
    "        'boxmean': False,\n",
    "        'orientation': 'h',\n",
    "        \"type\": \"box\",\n",
    "    },\n",
    "    {\n",
    "        'x': HR['ExperienceYearsInCurrentRole'],\n",
    "        'y': HR['PerformanceRating'],\n",
    "        'name':'ExperienceYearsInCurrentRole',\n",
    "        'marker': {\n",
    "            'color': '#FF851B',\n",
    "        },\n",
    "        'boxmean': False,\n",
    "        'orientation': 'h',\n",
    "        \"type\": \"box\",\n",
    "    }\n",
    "]\n",
    "layout = {\n",
    "    'xaxis': {\n",
    "        'title': 'Number of Years',\n",
    "        'zeroline': False,\n",
    "    },\n",
    "    'yaxis': {\n",
    "        'title': 'Performance Rating ',\n",
    "        'zeroline': False,\n",
    "    },\n",
    "    'boxmode': 'group',\n",
    "    'title': 'Performance According to the Experience Level - HR ',\n",
    "}\n",
    "fig = go.Figure(data=data, layout=layout)\n",
    "\n",
    "py.iplot(fig)"
   ]
  },
  {
   "cell_type": "markdown",
   "metadata": {},
   "source": [
    "## 3. Development Department"
   ]
  },
  {
   "cell_type": "markdown",
   "metadata": {},
   "source": [
    "### Slicing the all columns of Development Row "
   ]
  },
  {
   "cell_type": "code",
   "execution_count": 54,
   "metadata": {},
   "outputs": [
    {
     "data": {
      "text/html": [
       "<div>\n",
       "<style scoped>\n",
       "    .dataframe tbody tr th:only-of-type {\n",
       "        vertical-align: middle;\n",
       "    }\n",
       "\n",
       "    .dataframe tbody tr th {\n",
       "        vertical-align: top;\n",
       "    }\n",
       "\n",
       "    .dataframe thead th {\n",
       "        text-align: right;\n",
       "    }\n",
       "</style>\n",
       "<table border=\"1\" class=\"dataframe\">\n",
       "  <thead>\n",
       "    <tr style=\"text-align: right;\">\n",
       "      <th></th>\n",
       "      <th>EmpNumber</th>\n",
       "      <th>Age</th>\n",
       "      <th>Gender</th>\n",
       "      <th>EducationBackground</th>\n",
       "      <th>MaritalStatus</th>\n",
       "      <th>EmpDepartment</th>\n",
       "      <th>EmpJobRole</th>\n",
       "      <th>BusinessTravelFrequency</th>\n",
       "      <th>DistanceFromHome</th>\n",
       "      <th>EmpEducationLevel</th>\n",
       "      <th>...</th>\n",
       "      <th>EmpRelationshipSatisfaction</th>\n",
       "      <th>TotalWorkExperienceInYears</th>\n",
       "      <th>TrainingTimesLastYear</th>\n",
       "      <th>EmpWorkLifeBalance</th>\n",
       "      <th>ExperienceYearsAtThisCompany</th>\n",
       "      <th>ExperienceYearsInCurrentRole</th>\n",
       "      <th>YearsSinceLastPromotion</th>\n",
       "      <th>YearsWithCurrManager</th>\n",
       "      <th>Attrition</th>\n",
       "      <th>PerformanceRating</th>\n",
       "    </tr>\n",
       "  </thead>\n",
       "  <tbody>\n",
       "    <tr>\n",
       "      <th>5</th>\n",
       "      <td>E1001011</td>\n",
       "      <td>27</td>\n",
       "      <td>Male</td>\n",
       "      <td>Life Sciences</td>\n",
       "      <td>Divorced</td>\n",
       "      <td>Development</td>\n",
       "      <td>Developer</td>\n",
       "      <td>Travel_Frequently</td>\n",
       "      <td>10</td>\n",
       "      <td>2</td>\n",
       "      <td>...</td>\n",
       "      <td>3</td>\n",
       "      <td>9</td>\n",
       "      <td>4</td>\n",
       "      <td>2</td>\n",
       "      <td>9</td>\n",
       "      <td>7</td>\n",
       "      <td>1</td>\n",
       "      <td>7</td>\n",
       "      <td>No</td>\n",
       "      <td>4</td>\n",
       "    </tr>\n",
       "    <tr>\n",
       "      <th>7</th>\n",
       "      <td>E1001019</td>\n",
       "      <td>28</td>\n",
       "      <td>Female</td>\n",
       "      <td>Life Sciences</td>\n",
       "      <td>Single</td>\n",
       "      <td>Development</td>\n",
       "      <td>Developer</td>\n",
       "      <td>Travel_Rarely</td>\n",
       "      <td>1</td>\n",
       "      <td>2</td>\n",
       "      <td>...</td>\n",
       "      <td>4</td>\n",
       "      <td>10</td>\n",
       "      <td>4</td>\n",
       "      <td>3</td>\n",
       "      <td>7</td>\n",
       "      <td>7</td>\n",
       "      <td>3</td>\n",
       "      <td>7</td>\n",
       "      <td>Yes</td>\n",
       "      <td>3</td>\n",
       "    </tr>\n",
       "    <tr>\n",
       "      <th>8</th>\n",
       "      <td>E1001020</td>\n",
       "      <td>36</td>\n",
       "      <td>Female</td>\n",
       "      <td>Life Sciences</td>\n",
       "      <td>Married</td>\n",
       "      <td>Development</td>\n",
       "      <td>Developer</td>\n",
       "      <td>Non-Travel</td>\n",
       "      <td>8</td>\n",
       "      <td>3</td>\n",
       "      <td>...</td>\n",
       "      <td>1</td>\n",
       "      <td>10</td>\n",
       "      <td>2</td>\n",
       "      <td>3</td>\n",
       "      <td>8</td>\n",
       "      <td>7</td>\n",
       "      <td>0</td>\n",
       "      <td>5</td>\n",
       "      <td>No</td>\n",
       "      <td>3</td>\n",
       "    </tr>\n",
       "  </tbody>\n",
       "</table>\n",
       "<p>3 rows × 28 columns</p>\n",
       "</div>"
      ],
      "text/plain": [
       "  EmpNumber  Age  Gender EducationBackground MaritalStatus EmpDepartment  \\\n",
       "5  E1001011   27    Male       Life Sciences      Divorced   Development   \n",
       "7  E1001019   28  Female       Life Sciences        Single   Development   \n",
       "8  E1001020   36  Female       Life Sciences       Married   Development   \n",
       "\n",
       "  EmpJobRole BusinessTravelFrequency  DistanceFromHome  EmpEducationLevel  \\\n",
       "5  Developer       Travel_Frequently                10                  2   \n",
       "7  Developer           Travel_Rarely                 1                  2   \n",
       "8  Developer              Non-Travel                 8                  3   \n",
       "\n",
       "   ...  EmpRelationshipSatisfaction  TotalWorkExperienceInYears  \\\n",
       "5  ...                            3                           9   \n",
       "7  ...                            4                          10   \n",
       "8  ...                            1                          10   \n",
       "\n",
       "   TrainingTimesLastYear  EmpWorkLifeBalance  ExperienceYearsAtThisCompany  \\\n",
       "5                      4                   2                             9   \n",
       "7                      4                   3                             7   \n",
       "8                      2                   3                             8   \n",
       "\n",
       "   ExperienceYearsInCurrentRole YearsSinceLastPromotion  YearsWithCurrManager  \\\n",
       "5                             7                       1                     7   \n",
       "7                             7                       3                     7   \n",
       "8                             7                       0                     5   \n",
       "\n",
       "   Attrition  PerformanceRating  \n",
       "5         No                  4  \n",
       "7        Yes                  3  \n",
       "8         No                  3  \n",
       "\n",
       "[3 rows x 28 columns]"
      ]
     },
     "execution_count": 54,
     "metadata": {},
     "output_type": "execute_result"
    }
   ],
   "source": [
    "Development =emp_data[emp_data.EmpDepartment == 'Development']\n",
    "Development.head(3)"
   ]
  },
  {
   "cell_type": "markdown",
   "metadata": {},
   "source": [
    "### (i) Performance Rating with respect to number of employees"
   ]
  },
  {
   "cell_type": "code",
   "execution_count": 55,
   "metadata": {},
   "outputs": [
    {
     "data": {
      "image/png": "[encoded data removed]",
      "text/plain": [
       "<Figure size 432x288 with 1 Axes>"
      ]
     },
     "metadata": {
      "needs_background": "light"
     },
     "output_type": "display_data"
    }
   ],
   "source": [
    "sns.countplot(y=\"PerformanceRating\", data=Development, palette=\"Greens_d\");"
   ]
  },
  {
   "cell_type": "markdown",
   "metadata": {},
   "source": [
    "### (ii) Performance Rating with respect to Age Group\n"
   ]
  },
  {
   "cell_type": "code",
   "execution_count": 56,
   "metadata": {},
   "outputs": [
    {
     "data": {
      "text/plain": [
       "<AxesSubplot:xlabel='PerformanceRating', ylabel='Age'>"
      ]
     },
     "execution_count": 56,
     "metadata": {},
     "output_type": "execute_result"
    },
    {
     "data": {
      "image/png": "[encoded data removed]",
      "text/plain": [
       "<Figure size 432x288 with 1 Axes>"
      ]
     },
     "metadata": {
      "needs_background": "light"
     },
     "output_type": "display_data"
    }
   ],
   "source": [
    "sns.boxplot(Development['PerformanceRating'], Development['Age'])"
   ]
  },
  {
   "cell_type": "markdown",
   "metadata": {},
   "source": [
    "### (iii) Performance based on Gender"
   ]
  },
  {
   "cell_type": "code",
   "execution_count": 57,
   "metadata": {},
   "outputs": [
    {
     "data": {
      "text/plain": [
       "<AxesSubplot:xlabel='Gender', ylabel='PerformanceRating'>"
      ]
     },
     "execution_count": 57,
     "metadata": {},
     "output_type": "execute_result"
    },
    {
     "data": {
      "image/png": "[encoded data removed]",
      "text/plain": [
       "<Figure size 432x288 with 1 Axes>"
      ]
     },
     "metadata": {
      "needs_background": "light"
     },
     "output_type": "display_data"
    }
   ],
   "source": [
    "sns.barplot(Development['Gender'], Development['PerformanceRating'])"
   ]
  },
  {
   "cell_type": "markdown",
   "metadata": {},
   "source": [
    "### (iv) Performance According to the Experience Level"
   ]
  },
  {
   "cell_type": "code",
   "execution_count": 58,
   "metadata": {},
   "outputs": [
    {
     "data": {
      "application/vnd.plotly.v1+json": {
       "config": {
        "linkText": "Export to plot.ly",
        "plotlyServerURL": "https://plot.ly",
        "showLink": false
       },
       "data": [
        {
         "boxmean": false,
         "marker": {
          "color": "#3D9970"
         },
         "name": "TotalWorkExperienceInYears",
         "orientation": "h",
         "type": "box",
         "x": [
          9,
          10,
          10,
          10,
          9,
          7,
          10,
          30,
          5,
          9,
          19,
          16,
          10,
          7,
          10,
          2,
          5,
          5,
          11,
          10,
          9,
          6,
          17,
          6,
          8,
          1,
          9,
          30,
          1,
          14,
          26,
          10,
          10,
          7,
          8,
          5,
          10,
          12,
          1,
          10,
          13,
          22,
          9,
          17,
          8,
          0,
          10,
          6,
          6,
          9,
          4,
          10,
          8,
          10,
          4,
          6,
          8,
          33,
          12,
          31,
          1,
          8,
          3,
          4,
          6,
          8,
          1,
          1,
          6,
          24,
          10,
          8,
          15,
          5,
          20,
          16,
          1,
          10,
          9,
          26,
          20,
          4,
          3,
          5,
          8,
          32,
          6,
          21,
          9,
          7,
          22,
          6,
          8,
          12,
          1,
          17,
          6,
          5,
          3,
          6,
          10,
          1,
          6,
          5,
          13,
          8,
          26,
          10,
          24,
          7,
          9,
          6,
          6,
          6,
          1,
          1,
          1,
          12,
          8,
          1,
          23,
          2,
          10,
          15,
          4,
          10,
          7,
          9,
          10,
          29,
          17,
          6,
          25,
          5,
          2,
          6,
          1,
          10,
          5,
          11,
          10,
          6,
          17,
          5,
          11,
          22,
          21,
          17,
          1,
          16,
          17,
          28,
          2,
          1,
          9,
          6,
          12,
          14,
          7,
          23,
          5,
          40,
          3,
          16,
          18,
          7,
          18,
          9,
          19,
          5,
          8,
          7,
          1,
          20,
          10,
          9,
          6,
          5,
          12,
          1,
          21,
          13,
          8,
          6,
          13,
          12,
          19,
          4,
          1,
          2,
          9,
          5,
          5,
          8,
          21,
          10,
          21,
          34,
          7,
          8,
          7,
          22,
          8,
          10,
          11,
          14,
          9,
          6,
          7,
          5,
          15,
          17,
          4,
          8,
          5,
          7,
          16,
          10,
          6,
          4,
          6,
          22,
          8,
          13,
          4,
          9,
          2,
          13,
          17,
          9,
          17,
          20,
          10,
          5,
          10,
          1,
          5,
          9,
          5,
          6,
          21,
          37,
          5,
          3,
          15,
          10,
          28,
          21,
          5,
          17,
          19,
          10,
          5,
          22,
          4,
          0,
          4,
          13,
          19,
          11,
          19,
          6,
          24,
          3,
          12,
          21,
          9,
          25,
          4,
          10,
          11,
          21,
          10,
          12,
          7,
          8,
          12,
          11,
          17,
          8,
          16,
          13,
          15,
          10,
          3,
          6,
          10,
          26,
          6,
          30,
          7,
          2,
          3,
          18,
          18,
          25,
          20,
          24,
          13,
          8,
          15,
          4,
          21,
          10,
          6,
          28,
          8,
          19,
          11,
          33,
          3,
          9,
          10,
          6,
          28,
          20,
          26,
          6,
          19,
          14,
          13,
          15,
          8,
          10,
          12,
          4,
          8,
          10,
          10,
          10,
          1,
          12,
          28,
          18,
          8,
          31,
          6,
          1,
          6,
          6,
          6,
          10,
          21,
          8,
          10,
          21,
          26,
          3,
          6,
          1,
          10,
          3,
          10,
          17,
          13,
          1,
          10,
          5,
          10,
          4,
          20
         ],
         "y": [
          4,
          3,
          3,
          3,
          3,
          3,
          3,
          3,
          4,
          3,
          3,
          3,
          3,
          3,
          3,
          3,
          3,
          3,
          3,
          3,
          3,
          3,
          3,
          3,
          4,
          3,
          4,
          3,
          3,
          3,
          3,
          3,
          4,
          3,
          3,
          3,
          3,
          4,
          3,
          3,
          3,
          3,
          3,
          4,
          3,
          3,
          3,
          3,
          3,
          3,
          3,
          3,
          3,
          3,
          3,
          3,
          3,
          3,
          3,
          3,
          3,
          3,
          3,
          3,
          3,
          3,
          3,
          3,
          3,
          3,
          3,
          3,
          3,
          4,
          3,
          4,
          3,
          3,
          3,
          3,
          3,
          4,
          4,
          3,
          3,
          4,
          3,
          3,
          3,
          3,
          3,
          2,
          3,
          4,
          4,
          3,
          3,
          2,
          2,
          3,
          2,
          3,
          3,
          3,
          3,
          3,
          3,
          3,
          3,
          3,
          3,
          3,
          3,
          3,
          3,
          3,
          3,
          4,
          4,
          3,
          3,
          3,
          3,
          2,
          3,
          4,
          3,
          3,
          3,
          3,
          3,
          4,
          3,
          3,
          3,
          4,
          3,
          3,
          3,
          4,
          3,
          3,
          3,
          3,
          3,
          4,
          3,
          3,
          3,
          3,
          3,
          3,
          3,
          3,
          4,
          3,
          3,
          3,
          4,
          3,
          3,
          3,
          3,
          3,
          3,
          3,
          4,
          3,
          4,
          3,
          3,
          4,
          3,
          3,
          3,
          4,
          3,
          3,
          3,
          3,
          3,
          3,
          4,
          3,
          3,
          3,
          3,
          3,
          4,
          3,
          3,
          3,
          3,
          3,
          3,
          3,
          3,
          3,
          3,
          3,
          3,
          3,
          3,
          3,
          3,
          3,
          3,
          3,
          3,
          3,
          3,
          3,
          3,
          3,
          3,
          3,
          3,
          3,
          3,
          3,
          3,
          3,
          3,
          3,
          3,
          2,
          3,
          3,
          3,
          4,
          3,
          4,
          3,
          3,
          3,
          3,
          3,
          3,
          3,
          3,
          3,
          3,
          4,
          4,
          3,
          3,
          2,
          3,
          3,
          3,
          3,
          3,
          4,
          3,
          2,
          3,
          3,
          3,
          3,
          3,
          3,
          3,
          3,
          3,
          3,
          3,
          3,
          3,
          3,
          3,
          3,
          3,
          3,
          3,
          3,
          3,
          3,
          3,
          3,
          3,
          3,
          3,
          3,
          3,
          3,
          3,
          3,
          3,
          3,
          3,
          4,
          3,
          4,
          3,
          3,
          2,
          4,
          3,
          3,
          4,
          3,
          3,
          2,
          3,
          3,
          3,
          3,
          3,
          4,
          3,
          3,
          3,
          3,
          3,
          3,
          3,
          3,
          3,
          3,
          3,
          3,
          2,
          3,
          3,
          3,
          3,
          3,
          4,
          3,
          3,
          3,
          4,
          2,
          3,
          3,
          3,
          3,
          4,
          2,
          3,
          3,
          3,
          3,
          3,
          3,
          3,
          3,
          3,
          3,
          4,
          3,
          3,
          3,
          3,
          3,
          3,
          3,
          4,
          3,
          3,
          3
         ]
        },
        {
         "boxmean": false,
         "marker": {
          "color": "#FF4136"
         },
         "name": "ExperienceYearsAtThisCompany",
         "orientation": "h",
         "type": "box",
         "x": [
          9,
          7,
          8,
          1,
          5,
          2,
          5,
          10,
          4,
          7,
          2,
          1,
          10,
          0,
          10,
          2,
          4,
          2,
          8,
          4,
          5,
          5,
          15,
          6,
          8,
          1,
          5,
          4,
          1,
          13,
          26,
          9,
          10,
          2,
          4,
          2,
          1,
          0,
          1,
          9,
          4,
          4,
          9,
          8,
          8,
          0,
          5,
          4,
          6,
          5,
          2,
          3,
          2,
          10,
          3,
          5,
          6,
          12,
          5,
          31,
          1,
          8,
          1,
          3,
          2,
          2,
          1,
          1,
          3,
          6,
          10,
          6,
          15,
          3,
          18,
          11,
          1,
          9,
          9,
          9,
          19,
          3,
          0,
          3,
          5,
          5,
          6,
          18,
          9,
          5,
          12,
          2,
          7,
          1,
          1,
          7,
          5,
          5,
          2,
          4,
          10,
          1,
          3,
          4,
          12,
          4,
          14,
          10,
          22,
          1,
          4,
          2,
          5,
          1,
          1,
          1,
          1,
          12,
          1,
          1,
          1,
          2,
          4,
          15,
          2,
          7,
          7,
          9,
          10,
          27,
          17,
          6,
          1,
          3,
          1,
          5,
          1,
          10,
          1,
          11,
          10,
          6,
          13,
          5,
          11,
          22,
          10,
          3,
          1,
          16,
          1,
          8,
          2,
          0,
          9,
          5,
          1,
          11,
          1,
          20,
          5,
          40,
          2,
          15,
          3,
          3,
          4,
          6,
          3,
          5,
          3,
          5,
          1,
          17,
          10,
          1,
          2,
          5,
          5,
          1,
          5,
          9,
          5,
          5,
          8,
          12,
          2,
          3,
          1,
          2,
          3,
          3,
          4,
          8,
          20,
          10,
          7,
          33,
          7,
          1,
          5,
          20,
          8,
          6,
          5,
          1,
          7,
          2,
          7,
          5,
          7,
          1,
          4,
          8,
          3,
          6,
          13,
          10,
          5,
          4,
          2,
          22,
          5,
          9,
          3,
          2,
          2,
          11,
          3,
          3,
          1,
          19,
          3,
          4,
          9,
          1,
          5,
          6,
          0,
          6,
          20,
          36,
          5,
          3,
          5,
          7,
          10,
          5,
          5,
          17,
          1,
          2,
          5,
          3,
          4,
          0,
          1,
          4,
          18,
          9,
          10,
          5,
          24,
          2,
          10,
          21,
          8,
          7,
          4,
          7,
          10,
          21,
          1,
          10,
          7,
          6,
          11,
          11,
          16,
          5,
          1,
          7,
          3,
          7,
          2,
          3,
          1,
          5,
          2,
          5,
          6,
          2,
          1,
          18,
          1,
          25,
          1,
          4,
          13,
          3,
          13,
          4,
          21,
          10,
          2,
          5,
          2,
          5,
          5,
          29,
          3,
          5,
          10,
          2,
          27,
          5,
          3,
          5,
          1,
          7,
          13,
          7,
          4,
          8,
          1,
          2,
          8,
          10,
          6,
          8,
          1,
          6,
          2,
          10,
          6,
          31,
          6,
          1,
          6,
          6,
          5,
          10,
          1,
          0,
          8,
          3,
          2,
          2,
          6,
          1,
          10,
          3,
          10,
          17,
          3,
          1,
          10,
          3,
          10,
          1,
          20
         ],
         "y": [
          4,
          3,
          3,
          3,
          3,
          3,
          3,
          3,
          4,
          3,
          3,
          3,
          3,
          3,
          3,
          3,
          3,
          3,
          3,
          3,
          3,
          3,
          3,
          3,
          4,
          3,
          4,
          3,
          3,
          3,
          3,
          3,
          4,
          3,
          3,
          3,
          3,
          4,
          3,
          3,
          3,
          3,
          3,
          4,
          3,
          3,
          3,
          3,
          3,
          3,
          3,
          3,
          3,
          3,
          3,
          3,
          3,
          3,
          3,
          3,
          3,
          3,
          3,
          3,
          3,
          3,
          3,
          3,
          3,
          3,
          3,
          3,
          3,
          4,
          3,
          4,
          3,
          3,
          3,
          3,
          3,
          4,
          4,
          3,
          3,
          4,
          3,
          3,
          3,
          3,
          3,
          2,
          3,
          4,
          4,
          3,
          3,
          2,
          2,
          3,
          2,
          3,
          3,
          3,
          3,
          3,
          3,
          3,
          3,
          3,
          3,
          3,
          3,
          3,
          3,
          3,
          3,
          4,
          4,
          3,
          3,
          3,
          3,
          2,
          3,
          4,
          3,
          3,
          3,
          3,
          3,
          4,
          3,
          3,
          3,
          4,
          3,
          3,
          3,
          4,
          3,
          3,
          3,
          3,
          3,
          4,
          3,
          3,
          3,
          3,
          3,
          3,
          3,
          3,
          4,
          3,
          3,
          3,
          4,
          3,
          3,
          3,
          3,
          3,
          3,
          3,
          4,
          3,
          4,
          3,
          3,
          4,
          3,
          3,
          3,
          4,
          3,
          3,
          3,
          3,
          3,
          3,
          4,
          3,
          3,
          3,
          3,
          3,
          4,
          3,
          3,
          3,
          3,
          3,
          3,
          3,
          3,
          3,
          3,
          3,
          3,
          3,
          3,
          3,
          3,
          3,
          3,
          3,
          3,
          3,
          3,
          3,
          3,
          3,
          3,
          3,
          3,
          3,
          3,
          3,
          3,
          3,
          3,
          3,
          3,
          2,
          3,
          3,
          3,
          4,
          3,
          4,
          3,
          3,
          3,
          3,
          3,
          3,
          3,
          3,
          3,
          3,
          4,
          4,
          3,
          3,
          2,
          3,
          3,
          3,
          3,
          3,
          4,
          3,
          2,
          3,
          3,
          3,
          3,
          3,
          3,
          3,
          3,
          3,
          3,
          3,
          3,
          3,
          3,
          3,
          3,
          3,
          3,
          3,
          3,
          3,
          3,
          3,
          3,
          3,
          3,
          3,
          3,
          3,
          3,
          3,
          3,
          3,
          3,
          3,
          4,
          3,
          4,
          3,
          3,
          2,
          4,
          3,
          3,
          4,
          3,
          3,
          2,
          3,
          3,
          3,
          3,
          3,
          4,
          3,
          3,
          3,
          3,
          3,
          3,
          3,
          3,
          3,
          3,
          3,
          3,
          2,
          3,
          3,
          3,
          3,
          3,
          4,
          3,
          3,
          3,
          4,
          2,
          3,
          3,
          3,
          3,
          4,
          2,
          3,
          3,
          3,
          3,
          3,
          3,
          3,
          3,
          3,
          3,
          4,
          3,
          3,
          3,
          3,
          3,
          3,
          3,
          4,
          3,
          3,
          3
         ]
        },
        {
         "boxmean": false,
         "marker": {
          "color": "#FF851B"
         },
         "name": "ExperienceYearsInCurrentRole",
         "orientation": "h",
         "type": "box",
         "x": [
          7,
          7,
          7,
          0,
          2,
          2,
          1,
          7,
          2,
          6,
          2,
          0,
          8,
          0,
          9,
          2,
          3,
          2,
          7,
          2,
          3,
          3,
          7,
          5,
          7,
          0,
          2,
          3,
          0,
          9,
          14,
          7,
          7,
          2,
          3,
          2,
          0,
          0,
          0,
          8,
          3,
          1,
          8,
          5,
          7,
          0,
          2,
          3,
          5,
          3,
          2,
          2,
          1,
          2,
          0,
          2,
          4,
          9,
          2,
          6,
          0,
          7,
          0,
          2,
          2,
          2,
          1,
          0,
          2,
          0,
          6,
          2,
          12,
          0,
          13,
          8,
          0,
          7,
          7,
          8,
          10,
          2,
          0,
          2,
          3,
          4,
          5,
          16,
          8,
          2,
          11,
          2,
          7,
          0,
          0,
          7,
          4,
          2,
          2,
          2,
          9,
          0,
          2,
          2,
          6,
          2,
          13,
          2,
          6,
          1,
          2,
          0,
          3,
          1,
          0,
          0,
          0,
          8,
          0,
          0,
          0,
          2,
          0,
          14,
          2,
          7,
          5,
          8,
          3,
          3,
          14,
          5,
          0,
          2,
          0,
          4,
          1,
          4,
          0,
          7,
          8,
          4,
          11,
          2,
          10,
          3,
          9,
          2,
          0,
          13,
          0,
          3,
          2,
          0,
          7,
          3,
          0,
          10,
          0,
          18,
          4,
          10,
          1,
          11,
          2,
          2,
          2,
          5,
          2,
          4,
          2,
          0,
          0,
          9,
          7,
          0,
          2,
          2,
          3,
          1,
          4,
          8,
          4,
          2,
          7,
          9,
          2,
          1,
          0,
          2,
          2,
          2,
          2,
          7,
          8,
          9,
          7,
          18,
          7,
          0,
          4,
          8,
          7,
          2,
          3,
          0,
          7,
          2,
          7,
          3,
          2,
          0,
          2,
          1,
          2,
          2,
          11,
          8,
          4,
          3,
          2,
          17,
          4,
          7,
          2,
          2,
          2,
          9,
          1,
          2,
          0,
          6,
          2,
          2,
          6,
          0,
          1,
          2,
          0,
          3,
          7,
          10,
          2,
          2,
          2,
          7,
          4,
          3,
          3,
          12,
          0,
          2,
          3,
          2,
          2,
          0,
          0,
          1,
          10,
          8,
          8,
          2,
          9,
          2,
          6,
          9,
          7,
          1,
          3,
          7,
          8,
          9,
          0,
          9,
          7,
          2,
          10,
          9,
          6,
          4,
          0,
          7,
          2,
          7,
          2,
          2,
          1,
          2,
          2,
          4,
          4,
          1,
          0,
          7,
          0,
          10,
          0,
          2,
          10,
          2,
          11,
          2,
          8,
          0,
          2,
          4,
          2,
          4,
          4,
          8,
          2,
          3,
          2,
          2,
          10,
          0,
          2,
          4,
          0,
          3,
          8,
          6,
          3,
          7,
          0,
          2,
          3,
          9,
          1,
          7,
          0,
          5,
          2,
          9,
          5,
          9,
          5,
          0,
          3,
          5,
          3,
          2,
          0,
          0,
          7,
          2,
          2,
          2,
          4,
          0,
          9,
          2,
          7,
          11,
          2,
          0,
          8,
          2,
          7,
          0,
          8
         ],
         "y": [
          4,
          3,
          3,
          3,
          3,
          3,
          3,
          3,
          4,
          3,
          3,
          3,
          3,
          3,
          3,
          3,
          3,
          3,
          3,
          3,
          3,
          3,
          3,
          3,
          4,
          3,
          4,
          3,
          3,
          3,
          3,
          3,
          4,
          3,
          3,
          3,
          3,
          4,
          3,
          3,
          3,
          3,
          3,
          4,
          3,
          3,
          3,
          3,
          3,
          3,
          3,
          3,
          3,
          3,
          3,
          3,
          3,
          3,
          3,
          3,
          3,
          3,
          3,
          3,
          3,
          3,
          3,
          3,
          3,
          3,
          3,
          3,
          3,
          4,
          3,
          4,
          3,
          3,
          3,
          3,
          3,
          4,
          4,
          3,
          3,
          4,
          3,
          3,
          3,
          3,
          3,
          2,
          3,
          4,
          4,
          3,
          3,
          2,
          2,
          3,
          2,
          3,
          3,
          3,
          3,
          3,
          3,
          3,
          3,
          3,
          3,
          3,
          3,
          3,
          3,
          3,
          3,
          4,
          4,
          3,
          3,
          3,
          3,
          2,
          3,
          4,
          3,
          3,
          3,
          3,
          3,
          4,
          3,
          3,
          3,
          4,
          3,
          3,
          3,
          4,
          3,
          3,
          3,
          3,
          3,
          4,
          3,
          3,
          3,
          3,
          3,
          3,
          3,
          3,
          4,
          3,
          3,
          3,
          4,
          3,
          3,
          3,
          3,
          3,
          3,
          3,
          4,
          3,
          4,
          3,
          3,
          4,
          3,
          3,
          3,
          4,
          3,
          3,
          3,
          3,
          3,
          3,
          4,
          3,
          3,
          3,
          3,
          3,
          4,
          3,
          3,
          3,
          3,
          3,
          3,
          3,
          3,
          3,
          3,
          3,
          3,
          3,
          3,
          3,
          3,
          3,
          3,
          3,
          3,
          3,
          3,
          3,
          3,
          3,
          3,
          3,
          3,
          3,
          3,
          3,
          3,
          3,
          3,
          3,
          3,
          2,
          3,
          3,
          3,
          4,
          3,
          4,
          3,
          3,
          3,
          3,
          3,
          3,
          3,
          3,
          3,
          3,
          4,
          4,
          3,
          3,
          2,
          3,
          3,
          3,
          3,
          3,
          4,
          3,
          2,
          3,
          3,
          3,
          3,
          3,
          3,
          3,
          3,
          3,
          3,
          3,
          3,
          3,
          3,
          3,
          3,
          3,
          3,
          3,
          3,
          3,
          3,
          3,
          3,
          3,
          3,
          3,
          3,
          3,
          3,
          3,
          3,
          3,
          3,
          3,
          4,
          3,
          4,
          3,
          3,
          2,
          4,
          3,
          3,
          4,
          3,
          3,
          2,
          3,
          3,
          3,
          3,
          3,
          4,
          3,
          3,
          3,
          3,
          3,
          3,
          3,
          3,
          3,
          3,
          3,
          3,
          2,
          3,
          3,
          3,
          3,
          3,
          4,
          3,
          3,
          3,
          4,
          2,
          3,
          3,
          3,
          3,
          4,
          2,
          3,
          3,
          3,
          3,
          3,
          3,
          3,
          3,
          3,
          3,
          4,
          3,
          3,
          3,
          3,
          3,
          3,
          3,
          4,
          3,
          3,
          3
         ]
        }
       ],
       "layout": {
        "boxmode": "group",
        "template": {
         "data": {
          "bar": [
           {
            "error_x": {
             "color": "#2a3f5f"
            },
            "error_y": {
             "color": "#2a3f5f"
            },
            "marker": {
             "line": {
              "color": "#E5ECF6",
              "width": 0.5
             },
             "pattern": {
              "fillmode": "overlay",
              "size": 10,
              "solidity": 0.2
             }
            },
            "type": "bar"
           }
          ],
          "barpolar": [
           {
            "marker": {
             "line": {
              "color": "#E5ECF6",
              "width": 0.5
             },
             "pattern": {
              "fillmode": "overlay",
              "size": 10,
              "solidity": 0.2
             }
            },
            "type": "barpolar"
           }
          ],
          "carpet": [
           {
            "aaxis": {
             "endlinecolor": "#2a3f5f",
             "gridcolor": "white",
             "linecolor": "white",
             "minorgridcolor": "white",
             "startlinecolor": "#2a3f5f"
            },
            "baxis": {
             "endlinecolor": "#2a3f5f",
             "gridcolor": "white",
             "linecolor": "white",
             "minorgridcolor": "white",
             "startlinecolor": "#2a3f5f"
            },
            "type": "carpet"
           }
          ],
          "choropleth": [
           {
            "colorbar": {
             "outlinewidth": 0,
             "ticks": ""
            },
            "type": "choropleth"
           }
          ],
          "contour": [
           {
            "colorbar": {
             "outlinewidth": 0,
             "ticks": ""
            },
            "colorscale": [
             [
              0,
              "#0d0887"
             ],
             [
              0.1111111111111111,
              "#46039f"
             ],
             [
              0.2222222222222222,
              "#7201a8"
             ],
             [
              0.3333333333333333,
              "#9c179e"
             ],
             [
              0.4444444444444444,
              "#bd3786"
             ],
             [
              0.5555555555555556,
              "#d8576b"
             ],
             [
              0.6666666666666666,
              "#ed7953"
             ],
             [
              0.7777777777777778,
              "#fb9f3a"
             ],
             [
              0.8888888888888888,
              "#fdca26"
             ],
             [
              1,
              "#f0f921"
             ]
            ],
            "type": "contour"
           }
          ],
          "contourcarpet": [
           {
            "colorbar": {
             "outlinewidth": 0,
             "ticks": ""
            },
            "type": "contourcarpet"
           }
          ],
          "heatmap": [
           {
            "colorbar": {
             "outlinewidth": 0,
             "ticks": ""
            },
            "colorscale": [
             [
              0,
              "#0d0887"
             ],
             [
              0.1111111111111111,
              "#46039f"
             ],
             [
              0.2222222222222222,
              "#7201a8"
             ],
             [
              0.3333333333333333,
              "#9c179e"
             ],
             [
              0.4444444444444444,
              "#bd3786"
             ],
             [
              0.5555555555555556,
              "#d8576b"
             ],
             [
              0.6666666666666666,
              "#ed7953"
             ],
             [
              0.7777777777777778,
              "#fb9f3a"
             ],
             [
              0.8888888888888888,
              "#fdca26"
             ],
             [
              1,
              "#f0f921"
             ]
            ],
            "type": "heatmap"
           }
          ],
          "heatmapgl": [
           {
            "colorbar": {
             "outlinewidth": 0,
             "ticks": ""
            },
            "colorscale": [
             [
              0,
              "#0d0887"
             ],
             [
              0.1111111111111111,
              "#46039f"
             ],
             [
              0.2222222222222222,
              "#7201a8"
             ],
             [
              0.3333333333333333,
              "#9c179e"
             ],
             [
              0.4444444444444444,
              "#bd3786"
             ],
             [
              0.5555555555555556,
              "#d8576b"
             ],
             [
              0.6666666666666666,
              "#ed7953"
             ],
             [
              0.7777777777777778,
              "#fb9f3a"
             ],
             [
              0.8888888888888888,
              "#fdca26"
             ],
             [
              1,
              "#f0f921"
             ]
            ],
            "type": "heatmapgl"
           }
          ],
          "histogram": [
           {
            "marker": {
             "pattern": {
              "fillmode": "overlay",
              "size": 10,
              "solidity": 0.2
             }
            },
            "type": "histogram"
           }
          ],
          "histogram2d": [
           {
            "colorbar": {
             "outlinewidth": 0,
             "ticks": ""
            },
            "colorscale": [
             [
              0,
              "#0d0887"
             ],
             [
              0.1111111111111111,
              "#46039f"
             ],
             [
              0.2222222222222222,
              "#7201a8"
             ],
             [
              0.3333333333333333,
              "#9c179e"
             ],
             [
              0.4444444444444444,
              "#bd3786"
             ],
             [
              0.5555555555555556,
              "#d8576b"
             ],
             [
              0.6666666666666666,
              "#ed7953"
             ],
             [
              0.7777777777777778,
              "#fb9f3a"
             ],
             [
              0.8888888888888888,
              "#fdca26"
             ],
             [
              1,
              "#f0f921"
             ]
            ],
            "type": "histogram2d"
           }
          ],
          "histogram2dcontour": [
           {
            "colorbar": {
             "outlinewidth": 0,
             "ticks": ""
            },
            "colorscale": [
             [
              0,
              "#0d0887"
             ],
             [
              0.1111111111111111,
              "#46039f"
             ],
             [
              0.2222222222222222,
              "#7201a8"
             ],
             [
              0.3333333333333333,
              "#9c179e"
             ],
             [
              0.4444444444444444,
              "#bd3786"
             ],
             [
              0.5555555555555556,
              "#d8576b"
             ],
             [
              0.6666666666666666,
              "#ed7953"
             ],
             [
              0.7777777777777778,
              "#fb9f3a"
             ],
             [
              0.8888888888888888,
              "#fdca26"
             ],
             [
              1,
              "#f0f921"
             ]
            ],
            "type": "histogram2dcontour"
           }
          ],
          "mesh3d": [
           {
            "colorbar": {
             "outlinewidth": 0,
             "ticks": ""
            },
            "type": "mesh3d"
           }
          ],
          "parcoords": [
           {
            "line": {
             "colorbar": {
              "outlinewidth": 0,
              "ticks": ""
             }
            },
            "type": "parcoords"
           }
          ],
          "pie": [
           {
            "automargin": true,
            "type": "pie"
           }
          ],
          "scatter": [
           {
            "marker": {
             "colorbar": {
              "outlinewidth": 0,
              "ticks": ""
             }
            },
            "type": "scatter"
           }
          ],
          "scatter3d": [
           {
            "line": {
             "colorbar": {
              "outlinewidth": 0,
              "ticks": ""
             }
            },
            "marker": {
             "colorbar": {
              "outlinewidth": 0,
              "ticks": ""
             }
            },
            "type": "scatter3d"
           }
          ],
          "scattercarpet": [
           {
            "marker": {
             "colorbar": {
              "outlinewidth": 0,
              "ticks": ""
             }
            },
            "type": "scattercarpet"
           }
          ],
          "scattergeo": [
           {
            "marker": {
             "colorbar": {
              "outlinewidth": 0,
              "ticks": ""
             }
            },
            "type": "scattergeo"
           }
          ],
          "scattergl": [
           {
            "marker": {
             "colorbar": {
              "outlinewidth": 0,
              "ticks": ""
             }
            },
            "type": "scattergl"
           }
          ],
          "scattermapbox": [
           {
            "marker": {
             "colorbar": {
              "outlinewidth": 0,
              "ticks": ""
             }
            },
            "type": "scattermapbox"
           }
          ],
          "scatterpolar": [
           {
            "marker": {
             "colorbar": {
              "outlinewidth": 0,
              "ticks": ""
             }
            },
            "type": "scatterpolar"
           }
          ],
          "scatterpolargl": [
           {
            "marker": {
             "colorbar": {
              "outlinewidth": 0,
              "ticks": ""
             }
            },
            "type": "scatterpolargl"
           }
          ],
          "scatterternary": [
           {
            "marker": {
             "colorbar": {
              "outlinewidth": 0,
              "ticks": ""
             }
            },
            "type": "scatterternary"
           }
          ],
          "surface": [
           {
            "colorbar": {
             "outlinewidth": 0,
             "ticks": ""
            },
            "colorscale": [
             [
              0,
              "#0d0887"
             ],
             [
              0.1111111111111111,
              "#46039f"
             ],
             [
              0.2222222222222222,
              "#7201a8"
             ],
             [
              0.3333333333333333,
              "#9c179e"
             ],
             [
              0.4444444444444444,
              "#bd3786"
             ],
             [
              0.5555555555555556,
              "#d8576b"
             ],
             [
              0.6666666666666666,
              "#ed7953"
             ],
             [
              0.7777777777777778,
              "#fb9f3a"
             ],
             [
              0.8888888888888888,
              "#fdca26"
             ],
             [
              1,
              "#f0f921"
             ]
            ],
            "type": "surface"
           }
          ],
          "table": [
           {
            "cells": {
             "fill": {
              "color": "#EBF0F8"
             },
             "line": {
              "color": "white"
             }
            },
            "header": {
             "fill": {
              "color": "#C8D4E3"
             },
             "line": {
              "color": "white"
             }
            },
            "type": "table"
           }
          ]
         },
         "layout": {
          "annotationdefaults": {
           "arrowcolor": "#2a3f5f",
           "arrowhead": 0,
           "arrowwidth": 1
          },
          "autotypenumbers": "strict",
          "coloraxis": {
           "colorbar": {
            "outlinewidth": 0,
            "ticks": ""
           }
          },
          "colorscale": {
           "diverging": [
            [
             0,
             "#8e0152"
            ],
            [
             0.1,
             "#c51b7d"
            ],
            [
             0.2,
             "#de77ae"
            ],
            [
             0.3,
             "#f1b6da"
            ],
            [
             0.4,
             "#fde0ef"
            ],
            [
             0.5,
             "#f7f7f7"
            ],
            [
             0.6,
             "#e6f5d0"
            ],
            [
             0.7,
             "#b8e186"
            ],
            [
             0.8,
             "#7fbc41"
            ],
            [
             0.9,
             "#4d9221"
            ],
            [
             1,
             "#276419"
            ]
           ],
           "sequential": [
            [
             0,
             "#0d0887"
            ],
            [
             0.1111111111111111,
             "#46039f"
            ],
            [
             0.2222222222222222,
             "#7201a8"
            ],
            [
             0.3333333333333333,
             "#9c179e"
            ],
            [
             0.4444444444444444,
             "#bd3786"
            ],
            [
             0.5555555555555556,
             "#d8576b"
            ],
            [
             0.6666666666666666,
             "#ed7953"
            ],
            [
             0.7777777777777778,
             "#fb9f3a"
            ],
            [
             0.8888888888888888,
             "#fdca26"
            ],
            [
             1,
             "#f0f921"
            ]
           ],
           "sequentialminus": [
            [
             0,
             "#0d0887"
            ],
            [
             0.1111111111111111,
             "#46039f"
            ],
            [
             0.2222222222222222,
             "#7201a8"
            ],
            [
             0.3333333333333333,
             "#9c179e"
            ],
            [
             0.4444444444444444,
             "#bd3786"
            ],
            [
             0.5555555555555556,
             "#d8576b"
            ],
            [
             0.6666666666666666,
             "#ed7953"
            ],
            [
             0.7777777777777778,
             "#fb9f3a"
            ],
            [
             0.8888888888888888,
             "#fdca26"
            ],
            [
             1,
             "#f0f921"
            ]
           ]
          },
          "colorway": [
           "#636efa",
           "#EF553B",
           "#00cc96",
           "#ab63fa",
           "#FFA15A",
           "#19d3f3",
           "#FF6692",
           "#B6E880",
           "#FF97FF",
           "#FECB52"
          ],
          "font": {
           "color": "#2a3f5f"
          },
          "geo": {
           "bgcolor": "white",
           "lakecolor": "white",
           "landcolor": "#E5ECF6",
           "showlakes": true,
           "showland": true,
           "subunitcolor": "white"
          },
          "hoverlabel": {
           "align": "left"
          },
          "hovermode": "closest",
          "mapbox": {
           "style": "light"
          },
          "paper_bgcolor": "white",
          "plot_bgcolor": "#E5ECF6",
          "polar": {
           "angularaxis": {
            "gridcolor": "white",
            "linecolor": "white",
            "ticks": ""
           },
           "bgcolor": "#E5ECF6",
           "radialaxis": {
            "gridcolor": "white",
            "linecolor": "white",
            "ticks": ""
           }
          },
          "scene": {
           "xaxis": {
            "backgroundcolor": "#E5ECF6",
            "gridcolor": "white",
            "gridwidth": 2,
            "linecolor": "white",
            "showbackground": true,
            "ticks": "",
            "zerolinecolor": "white"
           },
           "yaxis": {
            "backgroundcolor": "#E5ECF6",
            "gridcolor": "white",
            "gridwidth": 2,
            "linecolor": "white",
            "showbackground": true,
            "ticks": "",
            "zerolinecolor": "white"
           },
           "zaxis": {
            "backgroundcolor": "#E5ECF6",
            "gridcolor": "white",
            "gridwidth": 2,
            "linecolor": "white",
            "showbackground": true,
            "ticks": "",
            "zerolinecolor": "white"
           }
          },
          "shapedefaults": {
           "line": {
            "color": "#2a3f5f"
           }
          },
          "ternary": {
           "aaxis": {
            "gridcolor": "white",
            "linecolor": "white",
            "ticks": ""
           },
           "baxis": {
            "gridcolor": "white",
            "linecolor": "white",
            "ticks": ""
           },
           "bgcolor": "#E5ECF6",
           "caxis": {
            "gridcolor": "white",
            "linecolor": "white",
            "ticks": ""
           }
          },
          "title": {
           "x": 0.05
          },
          "xaxis": {
           "automargin": true,
           "gridcolor": "white",
           "linecolor": "white",
           "ticks": "",
           "title": {
            "standoff": 15
           },
           "zerolinecolor": "white",
           "zerolinewidth": 2
          },
          "yaxis": {
           "automargin": true,
           "gridcolor": "white",
           "linecolor": "white",
           "ticks": "",
           "title": {
            "standoff": 15
           },
           "zerolinecolor": "white",
           "zerolinewidth": 2
          }
         }
        },
        "title": {
         "text": "Performance According to the Experience Level - Development "
        },
        "xaxis": {
         "title": {
          "text": "Number of Years"
         },
         "zeroline": false
        },
        "yaxis": {
         "title": {
          "text": "Performance Rating "
         },
         "zeroline": false
        }
       }
      },
      "text/html": [
       "<div>                            <div id=\"0c4258c0-f0de-422e-8b6a-f707c297df58\" class=\"plotly-graph-div\" style=\"height:525px; width:100%;\"></div>            <script type=\"text/javascript\">                require([\"plotly\"], function(Plotly) {                    window.PLOTLYENV=window.PLOTLYENV || {};                                    if (document.getElementById(\"0c4258c0-f0de-422e-8b6a-f707c297df58\")) {                    Plotly.newPlot(                        \"0c4258c0-f0de-422e-8b6a-f707c297df58\",                        [{\"boxmean\":false,\"marker\":{\"color\":\"#3D9970\"},\"name\":\"TotalWorkExperienceInYears\",\"orientation\":\"h\",\"x\":[9,10,10,10,9,7,10,30,5,9,19,16,10,7,10,2,5,5,11,10,9,6,17,6,8,1,9,30,1,14,26,10,10,7,8,5,10,12,1,10,13,22,9,17,8,0,10,6,6,9,4,10,8,10,4,6,8,33,12,31,1,8,3,4,6,8,1,1,6,24,10,8,15,5,20,16,1,10,9,26,20,4,3,5,8,32,6,21,9,7,22,6,8,12,1,17,6,5,3,6,10,1,6,5,13,8,26,10,24,7,9,6,6,6,1,1,1,12,8,1,23,2,10,15,4,10,7,9,10,29,17,6,25,5,2,6,1,10,5,11,10,6,17,5,11,22,21,17,1,16,17,28,2,1,9,6,12,14,7,23,5,40,3,16,18,7,18,9,19,5,8,7,1,20,10,9,6,5,12,1,21,13,8,6,13,12,19,4,1,2,9,5,5,8,21,10,21,34,7,8,7,22,8,10,11,14,9,6,7,5,15,17,4,8,5,7,16,10,6,4,6,22,8,13,4,9,2,13,17,9,17,20,10,5,10,1,5,9,5,6,21,37,5,3,15,10,28,21,5,17,19,10,5,22,4,0,4,13,19,11,19,6,24,3,12,21,9,25,4,10,11,21,10,12,7,8,12,11,17,8,16,13,15,10,3,6,10,26,6,30,7,2,3,18,18,25,20,24,13,8,15,4,21,10,6,28,8,19,11,33,3,9,10,6,28,20,26,6,19,14,13,15,8,10,12,4,8,10,10,10,1,12,28,18,8,31,6,1,6,6,6,10,21,8,10,21,26,3,6,1,10,3,10,17,13,1,10,5,10,4,20],\"y\":[4,3,3,3,3,3,3,3,4,3,3,3,3,3,3,3,3,3,3,3,3,3,3,3,4,3,4,3,3,3,3,3,4,3,3,3,3,4,3,3,3,3,3,4,3,3,3,3,3,3,3,3,3,3,3,3,3,3,3,3,3,3,3,3,3,3,3,3,3,3,3,3,3,4,3,4,3,3,3,3,3,4,4,3,3,4,3,3,3,3,3,2,3,4,4,3,3,2,2,3,2,3,3,3,3,3,3,3,3,3,3,3,3,3,3,3,3,4,4,3,3,3,3,2,3,4,3,3,3,3,3,4,3,3,3,4,3,3,3,4,3,3,3,3,3,4,3,3,3,3,3,3,3,3,4,3,3,3,4,3,3,3,3,3,3,3,4,3,4,3,3,4,3,3,3,4,3,3,3,3,3,3,4,3,3,3,3,3,4,3,3,3,3,3,3,3,3,3,3,3,3,3,3,3,3,3,3,3,3,3,3,3,3,3,3,3,3,3,3,3,3,3,3,3,3,2,3,3,3,4,3,4,3,3,3,3,3,3,3,3,3,3,4,4,3,3,2,3,3,3,3,3,4,3,2,3,3,3,3,3,3,3,3,3,3,3,3,3,3,3,3,3,3,3,3,3,3,3,3,3,3,3,3,3,3,3,3,3,3,3,4,3,4,3,3,2,4,3,3,4,3,3,2,3,3,3,3,3,4,3,3,3,3,3,3,3,3,3,3,3,3,2,3,3,3,3,3,4,3,3,3,4,2,3,3,3,3,4,2,3,3,3,3,3,3,3,3,3,3,4,3,3,3,3,3,3,3,4,3,3,3],\"type\":\"box\"},{\"boxmean\":false,\"marker\":{\"color\":\"#FF4136\"},\"name\":\"ExperienceYearsAtThisCompany\",\"orientation\":\"h\",\"x\":[9,7,8,1,5,2,5,10,4,7,2,1,10,0,10,2,4,2,8,4,5,5,15,6,8,1,5,4,1,13,26,9,10,2,4,2,1,0,1,9,4,4,9,8,8,0,5,4,6,5,2,3,2,10,3,5,6,12,5,31,1,8,1,3,2,2,1,1,3,6,10,6,15,3,18,11,1,9,9,9,19,3,0,3,5,5,6,18,9,5,12,2,7,1,1,7,5,5,2,4,10,1,3,4,12,4,14,10,22,1,4,2,5,1,1,1,1,12,1,1,1,2,4,15,2,7,7,9,10,27,17,6,1,3,1,5,1,10,1,11,10,6,13,5,11,22,10,3,1,16,1,8,2,0,9,5,1,11,1,20,5,40,2,15,3,3,4,6,3,5,3,5,1,17,10,1,2,5,5,1,5,9,5,5,8,12,2,3,1,2,3,3,4,8,20,10,7,33,7,1,5,20,8,6,5,1,7,2,7,5,7,1,4,8,3,6,13,10,5,4,2,22,5,9,3,2,2,11,3,3,1,19,3,4,9,1,5,6,0,6,20,36,5,3,5,7,10,5,5,17,1,2,5,3,4,0,1,4,18,9,10,5,24,2,10,21,8,7,4,7,10,21,1,10,7,6,11,11,16,5,1,7,3,7,2,3,1,5,2,5,6,2,1,18,1,25,1,4,13,3,13,4,21,10,2,5,2,5,5,29,3,5,10,2,27,5,3,5,1,7,13,7,4,8,1,2,8,10,6,8,1,6,2,10,6,31,6,1,6,6,5,10,1,0,8,3,2,2,6,1,10,3,10,17,3,1,10,3,10,1,20],\"y\":[4,3,3,3,3,3,3,3,4,3,3,3,3,3,3,3,3,3,3,3,3,3,3,3,4,3,4,3,3,3,3,3,4,3,3,3,3,4,3,3,3,3,3,4,3,3,3,3,3,3,3,3,3,3,3,3,3,3,3,3,3,3,3,3,3,3,3,3,3,3,3,3,3,4,3,4,3,3,3,3,3,4,4,3,3,4,3,3,3,3,3,2,3,4,4,3,3,2,2,3,2,3,3,3,3,3,3,3,3,3,3,3,3,3,3,3,3,4,4,3,3,3,3,2,3,4,3,3,3,3,3,4,3,3,3,4,3,3,3,4,3,3,3,3,3,4,3,3,3,3,3,3,3,3,4,3,3,3,4,3,3,3,3,3,3,3,4,3,4,3,3,4,3,3,3,4,3,3,3,3,3,3,4,3,3,3,3,3,4,3,3,3,3,3,3,3,3,3,3,3,3,3,3,3,3,3,3,3,3,3,3,3,3,3,3,3,3,3,3,3,3,3,3,3,3,2,3,3,3,4,3,4,3,3,3,3,3,3,3,3,3,3,4,4,3,3,2,3,3,3,3,3,4,3,2,3,3,3,3,3,3,3,3,3,3,3,3,3,3,3,3,3,3,3,3,3,3,3,3,3,3,3,3,3,3,3,3,3,3,3,4,3,4,3,3,2,4,3,3,4,3,3,2,3,3,3,3,3,4,3,3,3,3,3,3,3,3,3,3,3,3,2,3,3,3,3,3,4,3,3,3,4,2,3,3,3,3,4,2,3,3,3,3,3,3,3,3,3,3,4,3,3,3,3,3,3,3,4,3,3,3],\"type\":\"box\"},{\"boxmean\":false,\"marker\":{\"color\":\"#FF851B\"},\"name\":\"ExperienceYearsInCurrentRole\",\"orientation\":\"h\",\"x\":[7,7,7,0,2,2,1,7,2,6,2,0,8,0,9,2,3,2,7,2,3,3,7,5,7,0,2,3,0,9,14,7,7,2,3,2,0,0,0,8,3,1,8,5,7,0,2,3,5,3,2,2,1,2,0,2,4,9,2,6,0,7,0,2,2,2,1,0,2,0,6,2,12,0,13,8,0,7,7,8,10,2,0,2,3,4,5,16,8,2,11,2,7,0,0,7,4,2,2,2,9,0,2,2,6,2,13,2,6,1,2,0,3,1,0,0,0,8,0,0,0,2,0,14,2,7,5,8,3,3,14,5,0,2,0,4,1,4,0,7,8,4,11,2,10,3,9,2,0,13,0,3,2,0,7,3,0,10,0,18,4,10,1,11,2,2,2,5,2,4,2,0,0,9,7,0,2,2,3,1,4,8,4,2,7,9,2,1,0,2,2,2,2,7,8,9,7,18,7,0,4,8,7,2,3,0,7,2,7,3,2,0,2,1,2,2,11,8,4,3,2,17,4,7,2,2,2,9,1,2,0,6,2,2,6,0,1,2,0,3,7,10,2,2,2,7,4,3,3,12,0,2,3,2,2,0,0,1,10,8,8,2,9,2,6,9,7,1,3,7,8,9,0,9,7,2,10,9,6,4,0,7,2,7,2,2,1,2,2,4,4,1,0,7,0,10,0,2,10,2,11,2,8,0,2,4,2,4,4,8,2,3,2,2,10,0,2,4,0,3,8,6,3,7,0,2,3,9,1,7,0,5,2,9,5,9,5,0,3,5,3,2,0,0,7,2,2,2,4,0,9,2,7,11,2,0,8,2,7,0,8],\"y\":[4,3,3,3,3,3,3,3,4,3,3,3,3,3,3,3,3,3,3,3,3,3,3,3,4,3,4,3,3,3,3,3,4,3,3,3,3,4,3,3,3,3,3,4,3,3,3,3,3,3,3,3,3,3,3,3,3,3,3,3,3,3,3,3,3,3,3,3,3,3,3,3,3,4,3,4,3,3,3,3,3,4,4,3,3,4,3,3,3,3,3,2,3,4,4,3,3,2,2,3,2,3,3,3,3,3,3,3,3,3,3,3,3,3,3,3,3,4,4,3,3,3,3,2,3,4,3,3,3,3,3,4,3,3,3,4,3,3,3,4,3,3,3,3,3,4,3,3,3,3,3,3,3,3,4,3,3,3,4,3,3,3,3,3,3,3,4,3,4,3,3,4,3,3,3,4,3,3,3,3,3,3,4,3,3,3,3,3,4,3,3,3,3,3,3,3,3,3,3,3,3,3,3,3,3,3,3,3,3,3,3,3,3,3,3,3,3,3,3,3,3,3,3,3,3,2,3,3,3,4,3,4,3,3,3,3,3,3,3,3,3,3,4,4,3,3,2,3,3,3,3,3,4,3,2,3,3,3,3,3,3,3,3,3,3,3,3,3,3,3,3,3,3,3,3,3,3,3,3,3,3,3,3,3,3,3,3,3,3,3,4,3,4,3,3,2,4,3,3,4,3,3,2,3,3,3,3,3,4,3,3,3,3,3,3,3,3,3,3,3,3,2,3,3,3,3,3,4,3,3,3,4,2,3,3,3,3,4,2,3,3,3,3,3,3,3,3,3,3,4,3,3,3,3,3,3,3,4,3,3,3],\"type\":\"box\"}],                        {\"boxmode\":\"group\",\"template\":{\"data\":{\"barpolar\":[{\"marker\":{\"line\":{\"color\":\"#E5ECF6\",\"width\":0.5},\"pattern\":{\"fillmode\":\"overlay\",\"size\":10,\"solidity\":0.2}},\"type\":\"barpolar\"}],\"bar\":[{\"error_x\":{\"color\":\"#2a3f5f\"},\"error_y\":{\"color\":\"#2a3f5f\"},\"marker\":{\"line\":{\"color\":\"#E5ECF6\",\"width\":0.5},\"pattern\":{\"fillmode\":\"overlay\",\"size\":10,\"solidity\":0.2}},\"type\":\"bar\"}],\"carpet\":[{\"aaxis\":{\"endlinecolor\":\"#2a3f5f\",\"gridcolor\":\"white\",\"linecolor\":\"white\",\"minorgridcolor\":\"white\",\"startlinecolor\":\"#2a3f5f\"},\"baxis\":{\"endlinecolor\":\"#2a3f5f\",\"gridcolor\":\"white\",\"linecolor\":\"white\",\"minorgridcolor\":\"white\",\"startlinecolor\":\"#2a3f5f\"},\"type\":\"carpet\"}],\"choropleth\":[{\"colorbar\":{\"outlinewidth\":0,\"ticks\":\"\"},\"type\":\"choropleth\"}],\"contourcarpet\":[{\"colorbar\":{\"outlinewidth\":0,\"ticks\":\"\"},\"type\":\"contourcarpet\"}],\"contour\":[{\"colorbar\":{\"outlinewidth\":0,\"ticks\":\"\"},\"colorscale\":[[0.0,\"#0d0887\"],[0.1111111111111111,\"#46039f\"],[0.2222222222222222,\"#7201a8\"],[0.3333333333333333,\"#9c179e\"],[0.4444444444444444,\"#bd3786\"],[0.5555555555555556,\"#d8576b\"],[0.6666666666666666,\"#ed7953\"],[0.7777777777777778,\"#fb9f3a\"],[0.8888888888888888,\"#fdca26\"],[1.0,\"#f0f921\"]],\"type\":\"contour\"}],\"heatmapgl\":[{\"colorbar\":{\"outlinewidth\":0,\"ticks\":\"\"},\"colorscale\":[[0.0,\"#0d0887\"],[0.1111111111111111,\"#46039f\"],[0.2222222222222222,\"#7201a8\"],[0.3333333333333333,\"#9c179e\"],[0.4444444444444444,\"#bd3786\"],[0.5555555555555556,\"#d8576b\"],[0.6666666666666666,\"#ed7953\"],[0.7777777777777778,\"#fb9f3a\"],[0.8888888888888888,\"#fdca26\"],[1.0,\"#f0f921\"]],\"type\":\"heatmapgl\"}],\"heatmap\":[{\"colorbar\":{\"outlinewidth\":0,\"ticks\":\"\"},\"colorscale\":[[0.0,\"#0d0887\"],[0.1111111111111111,\"#46039f\"],[0.2222222222222222,\"#7201a8\"],[0.3333333333333333,\"#9c179e\"],[0.4444444444444444,\"#bd3786\"],[0.5555555555555556,\"#d8576b\"],[0.6666666666666666,\"#ed7953\"],[0.7777777777777778,\"#fb9f3a\"],[0.8888888888888888,\"#fdca26\"],[1.0,\"#f0f921\"]],\"type\":\"heatmap\"}],\"histogram2dcontour\":[{\"colorbar\":{\"outlinewidth\":0,\"ticks\":\"\"},\"colorscale\":[[0.0,\"#0d0887\"],[0.1111111111111111,\"#46039f\"],[0.2222222222222222,\"#7201a8\"],[0.3333333333333333,\"#9c179e\"],[0.4444444444444444,\"#bd3786\"],[0.5555555555555556,\"#d8576b\"],[0.6666666666666666,\"#ed7953\"],[0.7777777777777778,\"#fb9f3a\"],[0.8888888888888888,\"#fdca26\"],[1.0,\"#f0f921\"]],\"type\":\"histogram2dcontour\"}],\"histogram2d\":[{\"colorbar\":{\"outlinewidth\":0,\"ticks\":\"\"},\"colorscale\":[[0.0,\"#0d0887\"],[0.1111111111111111,\"#46039f\"],[0.2222222222222222,\"#7201a8\"],[0.3333333333333333,\"#9c179e\"],[0.4444444444444444,\"#bd3786\"],[0.5555555555555556,\"#d8576b\"],[0.6666666666666666,\"#ed7953\"],[0.7777777777777778,\"#fb9f3a\"],[0.8888888888888888,\"#fdca26\"],[1.0,\"#f0f921\"]],\"type\":\"histogram2d\"}],\"histogram\":[{\"marker\":{\"pattern\":{\"fillmode\":\"overlay\",\"size\":10,\"solidity\":0.2}},\"type\":\"histogram\"}],\"mesh3d\":[{\"colorbar\":{\"outlinewidth\":0,\"ticks\":\"\"},\"type\":\"mesh3d\"}],\"parcoords\":[{\"line\":{\"colorbar\":{\"outlinewidth\":0,\"ticks\":\"\"}},\"type\":\"parcoords\"}],\"pie\":[{\"automargin\":true,\"type\":\"pie\"}],\"scatter3d\":[{\"line\":{\"colorbar\":{\"outlinewidth\":0,\"ticks\":\"\"}},\"marker\":{\"colorbar\":{\"outlinewidth\":0,\"ticks\":\"\"}},\"type\":\"scatter3d\"}],\"scattercarpet\":[{\"marker\":{\"colorbar\":{\"outlinewidth\":0,\"ticks\":\"\"}},\"type\":\"scattercarpet\"}],\"scattergeo\":[{\"marker\":{\"colorbar\":{\"outlinewidth\":0,\"ticks\":\"\"}},\"type\":\"scattergeo\"}],\"scattergl\":[{\"marker\":{\"colorbar\":{\"outlinewidth\":0,\"ticks\":\"\"}},\"type\":\"scattergl\"}],\"scattermapbox\":[{\"marker\":{\"colorbar\":{\"outlinewidth\":0,\"ticks\":\"\"}},\"type\":\"scattermapbox\"}],\"scatterpolargl\":[{\"marker\":{\"colorbar\":{\"outlinewidth\":0,\"ticks\":\"\"}},\"type\":\"scatterpolargl\"}],\"scatterpolar\":[{\"marker\":{\"colorbar\":{\"outlinewidth\":0,\"ticks\":\"\"}},\"type\":\"scatterpolar\"}],\"scatter\":[{\"marker\":{\"colorbar\":{\"outlinewidth\":0,\"ticks\":\"\"}},\"type\":\"scatter\"}],\"scatterternary\":[{\"marker\":{\"colorbar\":{\"outlinewidth\":0,\"ticks\":\"\"}},\"type\":\"scatterternary\"}],\"surface\":[{\"colorbar\":{\"outlinewidth\":0,\"ticks\":\"\"},\"colorscale\":[[0.0,\"#0d0887\"],[0.1111111111111111,\"#46039f\"],[0.2222222222222222,\"#7201a8\"],[0.3333333333333333,\"#9c179e\"],[0.4444444444444444,\"#bd3786\"],[0.5555555555555556,\"#d8576b\"],[0.6666666666666666,\"#ed7953\"],[0.7777777777777778,\"#fb9f3a\"],[0.8888888888888888,\"#fdca26\"],[1.0,\"#f0f921\"]],\"type\":\"surface\"}],\"table\":[{\"cells\":{\"fill\":{\"color\":\"#EBF0F8\"},\"line\":{\"color\":\"white\"}},\"header\":{\"fill\":{\"color\":\"#C8D4E3\"},\"line\":{\"color\":\"white\"}},\"type\":\"table\"}]},\"layout\":{\"annotationdefaults\":{\"arrowcolor\":\"#2a3f5f\",\"arrowhead\":0,\"arrowwidth\":1},\"autotypenumbers\":\"strict\",\"coloraxis\":{\"colorbar\":{\"outlinewidth\":0,\"ticks\":\"\"}},\"colorscale\":{\"diverging\":[[0,\"#8e0152\"],[0.1,\"#c51b7d\"],[0.2,\"#de77ae\"],[0.3,\"#f1b6da\"],[0.4,\"#fde0ef\"],[0.5,\"#f7f7f7\"],[0.6,\"#e6f5d0\"],[0.7,\"#b8e186\"],[0.8,\"#7fbc41\"],[0.9,\"#4d9221\"],[1,\"#276419\"]],\"sequential\":[[0.0,\"#0d0887\"],[0.1111111111111111,\"#46039f\"],[0.2222222222222222,\"#7201a8\"],[0.3333333333333333,\"#9c179e\"],[0.4444444444444444,\"#bd3786\"],[0.5555555555555556,\"#d8576b\"],[0.6666666666666666,\"#ed7953\"],[0.7777777777777778,\"#fb9f3a\"],[0.8888888888888888,\"#fdca26\"],[1.0,\"#f0f921\"]],\"sequentialminus\":[[0.0,\"#0d0887\"],[0.1111111111111111,\"#46039f\"],[0.2222222222222222,\"#7201a8\"],[0.3333333333333333,\"#9c179e\"],[0.4444444444444444,\"#bd3786\"],[0.5555555555555556,\"#d8576b\"],[0.6666666666666666,\"#ed7953\"],[0.7777777777777778,\"#fb9f3a\"],[0.8888888888888888,\"#fdca26\"],[1.0,\"#f0f921\"]]},\"colorway\":[\"#636efa\",\"#EF553B\",\"#00cc96\",\"#ab63fa\",\"#FFA15A\",\"#19d3f3\",\"#FF6692\",\"#B6E880\",\"#FF97FF\",\"#FECB52\"],\"font\":{\"color\":\"#2a3f5f\"},\"geo\":{\"bgcolor\":\"white\",\"lakecolor\":\"white\",\"landcolor\":\"#E5ECF6\",\"showlakes\":true,\"showland\":true,\"subunitcolor\":\"white\"},\"hoverlabel\":{\"align\":\"left\"},\"hovermode\":\"closest\",\"mapbox\":{\"style\":\"light\"},\"paper_bgcolor\":\"white\",\"plot_bgcolor\":\"#E5ECF6\",\"polar\":{\"angularaxis\":{\"gridcolor\":\"white\",\"linecolor\":\"white\",\"ticks\":\"\"},\"bgcolor\":\"#E5ECF6\",\"radialaxis\":{\"gridcolor\":\"white\",\"linecolor\":\"white\",\"ticks\":\"\"}},\"scene\":{\"xaxis\":{\"backgroundcolor\":\"#E5ECF6\",\"gridcolor\":\"white\",\"gridwidth\":2,\"linecolor\":\"white\",\"showbackground\":true,\"ticks\":\"\",\"zerolinecolor\":\"white\"},\"yaxis\":{\"backgroundcolor\":\"#E5ECF6\",\"gridcolor\":\"white\",\"gridwidth\":2,\"linecolor\":\"white\",\"showbackground\":true,\"ticks\":\"\",\"zerolinecolor\":\"white\"},\"zaxis\":{\"backgroundcolor\":\"#E5ECF6\",\"gridcolor\":\"white\",\"gridwidth\":2,\"linecolor\":\"white\",\"showbackground\":true,\"ticks\":\"\",\"zerolinecolor\":\"white\"}},\"shapedefaults\":{\"line\":{\"color\":\"#2a3f5f\"}},\"ternary\":{\"aaxis\":{\"gridcolor\":\"white\",\"linecolor\":\"white\",\"ticks\":\"\"},\"baxis\":{\"gridcolor\":\"white\",\"linecolor\":\"white\",\"ticks\":\"\"},\"bgcolor\":\"#E5ECF6\",\"caxis\":{\"gridcolor\":\"white\",\"linecolor\":\"white\",\"ticks\":\"\"}},\"title\":{\"x\":0.05},\"xaxis\":{\"automargin\":true,\"gridcolor\":\"white\",\"linecolor\":\"white\",\"ticks\":\"\",\"title\":{\"standoff\":15},\"zerolinecolor\":\"white\",\"zerolinewidth\":2},\"yaxis\":{\"automargin\":true,\"gridcolor\":\"white\",\"linecolor\":\"white\",\"ticks\":\"\",\"title\":{\"standoff\":15},\"zerolinecolor\":\"white\",\"zerolinewidth\":2}}},\"title\":{\"text\":\"Performance According to the Experience Level - Development \"},\"xaxis\":{\"title\":{\"text\":\"Number of Years\"},\"zeroline\":false},\"yaxis\":{\"title\":{\"text\":\"Performance Rating \"},\"zeroline\":false}},                        {\"responsive\": true}                    ).then(function(){\n",
       "                            \n",
       "var gd = document.getElementById('0c4258c0-f0de-422e-8b6a-f707c297df58');\n",
       "var x = new MutationObserver(function (mutations, observer) {{\n",
       "        var display = window.getComputedStyle(gd).display;\n",
       "        if (!display || display === 'none') {{\n",
       "            console.log([gd, 'removed!']);\n",
       "            Plotly.purge(gd);\n",
       "            observer.disconnect();\n",
       "        }}\n",
       "}});\n",
       "\n",
       "// Listen for the removal of the full notebook cells\n",
       "var notebookContainer = gd.closest('#notebook-container');\n",
       "if (notebookContainer) {{\n",
       "    x.observe(notebookContainer, {childList: true});\n",
       "}}\n",
       "\n",
       "// Listen for the clearing of the current output cell\n",
       "var outputEl = gd.closest('.output');\n",
       "if (outputEl) {{\n",
       "    x.observe(outputEl, {childList: true});\n",
       "}}\n",
       "\n",
       "                        })                };                });            </script>        </div>"
      ]
     },
     "metadata": {},
     "output_type": "display_data"
    }
   ],
   "source": [
    "data = [\n",
    "    {\n",
    "        'x': Development['TotalWorkExperienceInYears'],\n",
    "        'y': Development['PerformanceRating'],\n",
    "        'name':'TotalWorkExperienceInYears',\n",
    "        'marker': {\n",
    "            'color': '#3D9970'\n",
    "        },\n",
    "        'boxmean': False,\n",
    "        'orientation': 'h',\n",
    "        \"type\": \"box\",\n",
    "    },\n",
    "    {\n",
    "        'x':Development['ExperienceYearsAtThisCompany'],\n",
    "        'y':Development['PerformanceRating'],\n",
    "        'name': 'ExperienceYearsAtThisCompany',\n",
    "        'marker':{\n",
    "            'color': '#FF4136',\n",
    "        },\n",
    "        'boxmean': False,\n",
    "        'orientation': 'h',\n",
    "        \"type\": \"box\",\n",
    "    },\n",
    "    {\n",
    "        'x': Development['ExperienceYearsInCurrentRole'],\n",
    "        'y': Development['PerformanceRating'],\n",
    "        'name':'ExperienceYearsInCurrentRole',\n",
    "        'marker': {\n",
    "            'color': '#FF851B',\n",
    "        },\n",
    "        'boxmean': False,\n",
    "        'orientation': 'h',\n",
    "        \"type\": \"box\",\n",
    "    }\n",
    "]\n",
    "layout = {\n",
    "    'xaxis': {\n",
    "        'title': 'Number of Years',\n",
    "        'zeroline': False,\n",
    "    },\n",
    "    'yaxis': {\n",
    "        'title': 'Performance Rating ',\n",
    "        'zeroline': False,\n",
    "    },\n",
    "    'boxmode': 'group',\n",
    "    'title': 'Performance According to the Experience Level - Development ',\n",
    "}\n",
    "fig = go.Figure(data=data, layout=layout)\n",
    "\n",
    "py.iplot(fig)"
   ]
  },
  {
   "cell_type": "markdown",
   "metadata": {},
   "source": [
    "## 4. Data Science Department"
   ]
  },
  {
   "cell_type": "markdown",
   "metadata": {},
   "source": [
    "### Slicing the all columns of Data Science Row "
   ]
  },
  {
   "cell_type": "code",
   "execution_count": 59,
   "metadata": {},
   "outputs": [
    {
     "data": {
      "text/html": [
       "<div>\n",
       "<style scoped>\n",
       "    .dataframe tbody tr th:only-of-type {\n",
       "        vertical-align: middle;\n",
       "    }\n",
       "\n",
       "    .dataframe tbody tr th {\n",
       "        vertical-align: top;\n",
       "    }\n",
       "\n",
       "    .dataframe thead th {\n",
       "        text-align: right;\n",
       "    }\n",
       "</style>\n",
       "<table border=\"1\" class=\"dataframe\">\n",
       "  <thead>\n",
       "    <tr style=\"text-align: right;\">\n",
       "      <th></th>\n",
       "      <th>EmpNumber</th>\n",
       "      <th>Age</th>\n",
       "      <th>Gender</th>\n",
       "      <th>EducationBackground</th>\n",
       "      <th>MaritalStatus</th>\n",
       "      <th>EmpDepartment</th>\n",
       "      <th>EmpJobRole</th>\n",
       "      <th>BusinessTravelFrequency</th>\n",
       "      <th>DistanceFromHome</th>\n",
       "      <th>EmpEducationLevel</th>\n",
       "      <th>...</th>\n",
       "      <th>EmpRelationshipSatisfaction</th>\n",
       "      <th>TotalWorkExperienceInYears</th>\n",
       "      <th>TrainingTimesLastYear</th>\n",
       "      <th>EmpWorkLifeBalance</th>\n",
       "      <th>ExperienceYearsAtThisCompany</th>\n",
       "      <th>ExperienceYearsInCurrentRole</th>\n",
       "      <th>YearsSinceLastPromotion</th>\n",
       "      <th>YearsWithCurrManager</th>\n",
       "      <th>Attrition</th>\n",
       "      <th>PerformanceRating</th>\n",
       "    </tr>\n",
       "  </thead>\n",
       "  <tbody>\n",
       "    <tr>\n",
       "      <th>89</th>\n",
       "      <td>E1001165</td>\n",
       "      <td>49</td>\n",
       "      <td>Female</td>\n",
       "      <td>Technical Degree</td>\n",
       "      <td>Married</td>\n",
       "      <td>Data Science</td>\n",
       "      <td>Data Scientist</td>\n",
       "      <td>Travel_Rarely</td>\n",
       "      <td>1</td>\n",
       "      <td>3</td>\n",
       "      <td>...</td>\n",
       "      <td>2</td>\n",
       "      <td>7</td>\n",
       "      <td>2</td>\n",
       "      <td>3</td>\n",
       "      <td>4</td>\n",
       "      <td>2</td>\n",
       "      <td>0</td>\n",
       "      <td>2</td>\n",
       "      <td>No</td>\n",
       "      <td>3</td>\n",
       "    </tr>\n",
       "    <tr>\n",
       "      <th>107</th>\n",
       "      <td>E1001201</td>\n",
       "      <td>21</td>\n",
       "      <td>Female</td>\n",
       "      <td>Other</td>\n",
       "      <td>Single</td>\n",
       "      <td>Data Science</td>\n",
       "      <td>Data Scientist</td>\n",
       "      <td>Travel_Rarely</td>\n",
       "      <td>18</td>\n",
       "      <td>1</td>\n",
       "      <td>...</td>\n",
       "      <td>1</td>\n",
       "      <td>1</td>\n",
       "      <td>3</td>\n",
       "      <td>2</td>\n",
       "      <td>1</td>\n",
       "      <td>0</td>\n",
       "      <td>0</td>\n",
       "      <td>0</td>\n",
       "      <td>Yes</td>\n",
       "      <td>3</td>\n",
       "    </tr>\n",
       "    <tr>\n",
       "      <th>108</th>\n",
       "      <td>E1001202</td>\n",
       "      <td>36</td>\n",
       "      <td>Male</td>\n",
       "      <td>Life Sciences</td>\n",
       "      <td>Married</td>\n",
       "      <td>Data Science</td>\n",
       "      <td>Data Scientist</td>\n",
       "      <td>Travel_Rarely</td>\n",
       "      <td>14</td>\n",
       "      <td>1</td>\n",
       "      <td>...</td>\n",
       "      <td>1</td>\n",
       "      <td>17</td>\n",
       "      <td>2</td>\n",
       "      <td>2</td>\n",
       "      <td>16</td>\n",
       "      <td>8</td>\n",
       "      <td>4</td>\n",
       "      <td>11</td>\n",
       "      <td>No</td>\n",
       "      <td>3</td>\n",
       "    </tr>\n",
       "  </tbody>\n",
       "</table>\n",
       "<p>3 rows × 28 columns</p>\n",
       "</div>"
      ],
      "text/plain": [
       "    EmpNumber  Age  Gender EducationBackground MaritalStatus EmpDepartment  \\\n",
       "89   E1001165   49  Female    Technical Degree       Married  Data Science   \n",
       "107  E1001201   21  Female               Other        Single  Data Science   \n",
       "108  E1001202   36    Male       Life Sciences       Married  Data Science   \n",
       "\n",
       "         EmpJobRole BusinessTravelFrequency  DistanceFromHome  \\\n",
       "89   Data Scientist           Travel_Rarely                 1   \n",
       "107  Data Scientist           Travel_Rarely                18   \n",
       "108  Data Scientist           Travel_Rarely                14   \n",
       "\n",
       "     EmpEducationLevel  ...  EmpRelationshipSatisfaction  \\\n",
       "89                   3  ...                            2   \n",
       "107                  1  ...                            1   \n",
       "108                  1  ...                            1   \n",
       "\n",
       "     TotalWorkExperienceInYears  TrainingTimesLastYear  EmpWorkLifeBalance  \\\n",
       "89                            7                      2                   3   \n",
       "107                           1                      3                   2   \n",
       "108                          17                      2                   2   \n",
       "\n",
       "     ExperienceYearsAtThisCompany  ExperienceYearsInCurrentRole  \\\n",
       "89                              4                             2   \n",
       "107                             1                             0   \n",
       "108                            16                             8   \n",
       "\n",
       "    YearsSinceLastPromotion  YearsWithCurrManager  Attrition  \\\n",
       "89                        0                     2         No   \n",
       "107                       0                     0        Yes   \n",
       "108                       4                    11         No   \n",
       "\n",
       "     PerformanceRating  \n",
       "89                   3  \n",
       "107                  3  \n",
       "108                  3  \n",
       "\n",
       "[3 rows x 28 columns]"
      ]
     },
     "execution_count": 59,
     "metadata": {},
     "output_type": "execute_result"
    }
   ],
   "source": [
    "Data_Science = emp_data[emp_data.EmpDepartment == 'Data Science'] \n",
    "Data_Science.head(3)"
   ]
  },
  {
   "cell_type": "markdown",
   "metadata": {},
   "source": [
    "### (i) Performance Rating with respect to number of employees"
   ]
  },
  {
   "cell_type": "code",
   "execution_count": 60,
   "metadata": {},
   "outputs": [
    {
     "data": {
      "image/png": "[encoded data removed]",
      "text/plain": [
       "<Figure size 432x288 with 1 Axes>"
      ]
     },
     "metadata": {
      "needs_background": "light"
     },
     "output_type": "display_data"
    }
   ],
   "source": [
    "sns.countplot(y=\"PerformanceRating\", data=Data_Science, palette=\"Greens_d\");"
   ]
  },
  {
   "cell_type": "markdown",
   "metadata": {},
   "source": [
    "### (ii) Performance Rating with respect to Age Group\n"
   ]
  },
  {
   "cell_type": "code",
   "execution_count": 61,
   "metadata": {},
   "outputs": [
    {
     "data": {
      "text/plain": [
       "<AxesSubplot:xlabel='PerformanceRating', ylabel='Age'>"
      ]
     },
     "execution_count": 61,
     "metadata": {},
     "output_type": "execute_result"
    },
    {
     "data": {
      "image/png": "[encoded data removed]",
      "text/plain": [
       "<Figure size 432x288 with 1 Axes>"
      ]
     },
     "metadata": {
      "needs_background": "light"
     },
     "output_type": "display_data"
    }
   ],
   "source": [
    "sns.boxplot(Data_Science['PerformanceRating'], Data_Science['Age'])"
   ]
  },
  {
   "cell_type": "markdown",
   "metadata": {},
   "source": [
    "### (iii) Performance based on Gender\n"
   ]
  },
  {
   "cell_type": "code",
   "execution_count": 62,
   "metadata": {},
   "outputs": [
    {
     "data": {
      "text/plain": [
       "<AxesSubplot:xlabel='Gender', ylabel='PerformanceRating'>"
      ]
     },
     "execution_count": 62,
     "metadata": {},
     "output_type": "execute_result"
    },
    {
     "data": {
      "image/png": "[encoded data removed]",
      "text/plain": [
       "<Figure size 432x288 with 1 Axes>"
      ]
     },
     "metadata": {
      "needs_background": "light"
     },
     "output_type": "display_data"
    }
   ],
   "source": [
    "sns.barplot(Data_Science['Gender'], Data_Science['PerformanceRating'])"
   ]
  },
  {
   "cell_type": "markdown",
   "metadata": {},
   "source": [
    "### (iv) Performance According to the Experience Level"
   ]
  },
  {
   "cell_type": "code",
   "execution_count": 63,
   "metadata": {},
   "outputs": [
    {
     "data": {
      "application/vnd.plotly.v1+json": {
       "config": {
        "linkText": "Export to plot.ly",
        "plotlyServerURL": "https://plot.ly",
        "showLink": false
       },
       "data": [
        {
         "boxmean": false,
         "marker": {
          "color": "#3D9970"
         },
         "name": "TotalWorkExperienceInYears",
         "orientation": "h",
         "type": "box",
         "x": [
          7,
          1,
          17,
          13,
          16,
          7,
          17,
          22,
          10,
          6,
          5,
          9,
          21,
          5,
          31,
          19,
          1,
          8,
          18,
          9
         ],
         "y": [
          3,
          3,
          3,
          3,
          3,
          3,
          3,
          2,
          4,
          3,
          3,
          3,
          3,
          3,
          3,
          3,
          4,
          3,
          3,
          3
         ]
        },
        {
         "boxmean": false,
         "marker": {
          "color": "#FF4136"
         },
         "name": "ExperienceYearsAtThisCompany",
         "orientation": "h",
         "type": "box",
         "x": [
          4,
          1,
          16,
          0,
          10,
          3,
          1,
          21,
          9,
          6,
          3,
          8,
          3,
          5,
          5,
          10,
          1,
          2,
          1,
          8
         ],
         "y": [
          3,
          3,
          3,
          3,
          3,
          3,
          3,
          2,
          4,
          3,
          3,
          3,
          3,
          3,
          3,
          3,
          4,
          3,
          3,
          3
         ]
        },
        {
         "boxmean": false,
         "marker": {
          "color": "#FF851B"
         },
         "name": "ExperienceYearsInCurrentRole",
         "orientation": "h",
         "type": "box",
         "x": [
          2,
          0,
          8,
          0,
          9,
          2,
          0,
          7,
          0,
          5,
          2,
          3,
          2,
          2,
          2,
          7,
          0,
          2,
          0,
          7
         ],
         "y": [
          3,
          3,
          3,
          3,
          3,
          3,
          3,
          2,
          4,
          3,
          3,
          3,
          3,
          3,
          3,
          3,
          4,
          3,
          3,
          3
         ]
        }
       ],
       "layout": {
        "boxmode": "group",
        "template": {
         "data": {
          "bar": [
           {
            "error_x": {
             "color": "#2a3f5f"
            },
            "error_y": {
             "color": "#2a3f5f"
            },
            "marker": {
             "line": {
              "color": "#E5ECF6",
              "width": 0.5
             },
             "pattern": {
              "fillmode": "overlay",
              "size": 10,
              "solidity": 0.2
             }
            },
            "type": "bar"
           }
          ],
          "barpolar": [
           {
            "marker": {
             "line": {
              "color": "#E5ECF6",
              "width": 0.5
             },
             "pattern": {
              "fillmode": "overlay",
              "size": 10,
              "solidity": 0.2
             }
            },
            "type": "barpolar"
           }
          ],
          "carpet": [
           {
            "aaxis": {
             "endlinecolor": "#2a3f5f",
             "gridcolor": "white",
             "linecolor": "white",
             "minorgridcolor": "white",
             "startlinecolor": "#2a3f5f"
            },
            "baxis": {
             "endlinecolor": "#2a3f5f",
             "gridcolor": "white",
             "linecolor": "white",
             "minorgridcolor": "white",
             "startlinecolor": "#2a3f5f"
            },
            "type": "carpet"
           }
          ],
          "choropleth": [
           {
            "colorbar": {
             "outlinewidth": 0,
             "ticks": ""
            },
            "type": "choropleth"
           }
          ],
          "contour": [
           {
            "colorbar": {
             "outlinewidth": 0,
             "ticks": ""
            },
            "colorscale": [
             [
              0,
              "#0d0887"
             ],
             [
              0.1111111111111111,
              "#46039f"
             ],
             [
              0.2222222222222222,
              "#7201a8"
             ],
             [
              0.3333333333333333,
              "#9c179e"
             ],
             [
              0.4444444444444444,
              "#bd3786"
             ],
             [
              0.5555555555555556,
              "#d8576b"
             ],
             [
              0.6666666666666666,
              "#ed7953"
             ],
             [
              0.7777777777777778,
              "#fb9f3a"
             ],
             [
              0.8888888888888888,
              "#fdca26"
             ],
             [
              1,
              "#f0f921"
             ]
            ],
            "type": "contour"
           }
          ],
          "contourcarpet": [
           {
            "colorbar": {
             "outlinewidth": 0,
             "ticks": ""
            },
            "type": "contourcarpet"
           }
          ],
          "heatmap": [
           {
            "colorbar": {
             "outlinewidth": 0,
             "ticks": ""
            },
            "colorscale": [
             [
              0,
              "#0d0887"
             ],
             [
              0.1111111111111111,
              "#46039f"
             ],
             [
              0.2222222222222222,
              "#7201a8"
             ],
             [
              0.3333333333333333,
              "#9c179e"
             ],
             [
              0.4444444444444444,
              "#bd3786"
             ],
             [
              0.5555555555555556,
              "#d8576b"
             ],
             [
              0.6666666666666666,
              "#ed7953"
             ],
             [
              0.7777777777777778,
              "#fb9f3a"
             ],
             [
              0.8888888888888888,
              "#fdca26"
             ],
             [
              1,
              "#f0f921"
             ]
            ],
            "type": "heatmap"
           }
          ],
          "heatmapgl": [
           {
            "colorbar": {
             "outlinewidth": 0,
             "ticks": ""
            },
            "colorscale": [
             [
              0,
              "#0d0887"
             ],
             [
              0.1111111111111111,
              "#46039f"
             ],
             [
              0.2222222222222222,
              "#7201a8"
             ],
             [
              0.3333333333333333,
              "#9c179e"
             ],
             [
              0.4444444444444444,
              "#bd3786"
             ],
             [
              0.5555555555555556,
              "#d8576b"
             ],
             [
              0.6666666666666666,
              "#ed7953"
             ],
             [
              0.7777777777777778,
              "#fb9f3a"
             ],
             [
              0.8888888888888888,
              "#fdca26"
             ],
             [
              1,
              "#f0f921"
             ]
            ],
            "type": "heatmapgl"
           }
          ],
          "histogram": [
           {
            "marker": {
             "pattern": {
              "fillmode": "overlay",
              "size": 10,
              "solidity": 0.2
             }
            },
            "type": "histogram"
           }
          ],
          "histogram2d": [
           {
            "colorbar": {
             "outlinewidth": 0,
             "ticks": ""
            },
            "colorscale": [
             [
              0,
              "#0d0887"
             ],
             [
              0.1111111111111111,
              "#46039f"
             ],
             [
              0.2222222222222222,
              "#7201a8"
             ],
             [
              0.3333333333333333,
              "#9c179e"
             ],
             [
              0.4444444444444444,
              "#bd3786"
             ],
             [
              0.5555555555555556,
              "#d8576b"
             ],
             [
              0.6666666666666666,
              "#ed7953"
             ],
             [
              0.7777777777777778,
              "#fb9f3a"
             ],
             [
              0.8888888888888888,
              "#fdca26"
             ],
             [
              1,
              "#f0f921"
             ]
            ],
            "type": "histogram2d"
           }
          ],
          "histogram2dcontour": [
           {
            "colorbar": {
             "outlinewidth": 0,
             "ticks": ""
            },
            "colorscale": [
             [
              0,
              "#0d0887"
             ],
             [
              0.1111111111111111,
              "#46039f"
             ],
             [
              0.2222222222222222,
              "#7201a8"
             ],
             [
              0.3333333333333333,
              "#9c179e"
             ],
             [
              0.4444444444444444,
              "#bd3786"
             ],
             [
              0.5555555555555556,
              "#d8576b"
             ],
             [
              0.6666666666666666,
              "#ed7953"
             ],
             [
              0.7777777777777778,
              "#fb9f3a"
             ],
             [
              0.8888888888888888,
              "#fdca26"
             ],
             [
              1,
              "#f0f921"
             ]
            ],
            "type": "histogram2dcontour"
           }
          ],
          "mesh3d": [
           {
            "colorbar": {
             "outlinewidth": 0,
             "ticks": ""
            },
            "type": "mesh3d"
           }
          ],
          "parcoords": [
           {
            "line": {
             "colorbar": {
              "outlinewidth": 0,
              "ticks": ""
             }
            },
            "type": "parcoords"
           }
          ],
          "pie": [
           {
            "automargin": true,
            "type": "pie"
           }
          ],
          "scatter": [
           {
            "marker": {
             "colorbar": {
              "outlinewidth": 0,
              "ticks": ""
             }
            },
            "type": "scatter"
           }
          ],
          "scatter3d": [
           {
            "line": {
             "colorbar": {
              "outlinewidth": 0,
              "ticks": ""
             }
            },
            "marker": {
             "colorbar": {
              "outlinewidth": 0,
              "ticks": ""
             }
            },
            "type": "scatter3d"
           }
          ],
          "scattercarpet": [
           {
            "marker": {
             "colorbar": {
              "outlinewidth": 0,
              "ticks": ""
             }
            },
            "type": "scattercarpet"
           }
          ],
          "scattergeo": [
           {
            "marker": {
             "colorbar": {
              "outlinewidth": 0,
              "ticks": ""
             }
            },
            "type": "scattergeo"
           }
          ],
          "scattergl": [
           {
            "marker": {
             "colorbar": {
              "outlinewidth": 0,
              "ticks": ""
             }
            },
            "type": "scattergl"
           }
          ],
          "scattermapbox": [
           {
            "marker": {
             "colorbar": {
              "outlinewidth": 0,
              "ticks": ""
             }
            },
            "type": "scattermapbox"
           }
          ],
          "scatterpolar": [
           {
            "marker": {
             "colorbar": {
              "outlinewidth": 0,
              "ticks": ""
             }
            },
            "type": "scatterpolar"
           }
          ],
          "scatterpolargl": [
           {
            "marker": {
             "colorbar": {
              "outlinewidth": 0,
              "ticks": ""
             }
            },
            "type": "scatterpolargl"
           }
          ],
          "scatterternary": [
           {
            "marker": {
             "colorbar": {
              "outlinewidth": 0,
              "ticks": ""
             }
            },
            "type": "scatterternary"
           }
          ],
          "surface": [
           {
            "colorbar": {
             "outlinewidth": 0,
             "ticks": ""
            },
            "colorscale": [
             [
              0,
              "#0d0887"
             ],
             [
              0.1111111111111111,
              "#46039f"
             ],
             [
              0.2222222222222222,
              "#7201a8"
             ],
             [
              0.3333333333333333,
              "#9c179e"
             ],
             [
              0.4444444444444444,
              "#bd3786"
             ],
             [
              0.5555555555555556,
              "#d8576b"
             ],
             [
              0.6666666666666666,
              "#ed7953"
             ],
             [
              0.7777777777777778,
              "#fb9f3a"
             ],
             [
              0.8888888888888888,
              "#fdca26"
             ],
             [
              1,
              "#f0f921"
             ]
            ],
            "type": "surface"
           }
          ],
          "table": [
           {
            "cells": {
             "fill": {
              "color": "#EBF0F8"
             },
             "line": {
              "color": "white"
             }
            },
            "header": {
             "fill": {
              "color": "#C8D4E3"
             },
             "line": {
              "color": "white"
             }
            },
            "type": "table"
           }
          ]
         },
         "layout": {
          "annotationdefaults": {
           "arrowcolor": "#2a3f5f",
           "arrowhead": 0,
           "arrowwidth": 1
          },
          "autotypenumbers": "strict",
          "coloraxis": {
           "colorbar": {
            "outlinewidth": 0,
            "ticks": ""
           }
          },
          "colorscale": {
           "diverging": [
            [
             0,
             "#8e0152"
            ],
            [
             0.1,
             "#c51b7d"
            ],
            [
             0.2,
             "#de77ae"
            ],
            [
             0.3,
             "#f1b6da"
            ],
            [
             0.4,
             "#fde0ef"
            ],
            [
             0.5,
             "#f7f7f7"
            ],
            [
             0.6,
             "#e6f5d0"
            ],
            [
             0.7,
             "#b8e186"
            ],
            [
             0.8,
             "#7fbc41"
            ],
            [
             0.9,
             "#4d9221"
            ],
            [
             1,
             "#276419"
            ]
           ],
           "sequential": [
            [
             0,
             "#0d0887"
            ],
            [
             0.1111111111111111,
             "#46039f"
            ],
            [
             0.2222222222222222,
             "#7201a8"
            ],
            [
             0.3333333333333333,
             "#9c179e"
            ],
            [
             0.4444444444444444,
             "#bd3786"
            ],
            [
             0.5555555555555556,
             "#d8576b"
            ],
            [
             0.6666666666666666,
             "#ed7953"
            ],
            [
             0.7777777777777778,
             "#fb9f3a"
            ],
            [
             0.8888888888888888,
             "#fdca26"
            ],
            [
             1,
             "#f0f921"
            ]
           ],
           "sequentialminus": [
            [
             0,
             "#0d0887"
            ],
            [
             0.1111111111111111,
             "#46039f"
            ],
            [
             0.2222222222222222,
             "#7201a8"
            ],
            [
             0.3333333333333333,
             "#9c179e"
            ],
            [
             0.4444444444444444,
             "#bd3786"
            ],
            [
             0.5555555555555556,
             "#d8576b"
            ],
            [
             0.6666666666666666,
             "#ed7953"
            ],
            [
             0.7777777777777778,
             "#fb9f3a"
            ],
            [
             0.8888888888888888,
             "#fdca26"
            ],
            [
             1,
             "#f0f921"
            ]
           ]
          },
          "colorway": [
           "#636efa",
           "#EF553B",
           "#00cc96",
           "#ab63fa",
           "#FFA15A",
           "#19d3f3",
           "#FF6692",
           "#B6E880",
           "#FF97FF",
           "#FECB52"
          ],
          "font": {
           "color": "#2a3f5f"
          },
          "geo": {
           "bgcolor": "white",
           "lakecolor": "white",
           "landcolor": "#E5ECF6",
           "showlakes": true,
           "showland": true,
           "subunitcolor": "white"
          },
          "hoverlabel": {
           "align": "left"
          },
          "hovermode": "closest",
          "mapbox": {
           "style": "light"
          },
          "paper_bgcolor": "white",
          "plot_bgcolor": "#E5ECF6",
          "polar": {
           "angularaxis": {
            "gridcolor": "white",
            "linecolor": "white",
            "ticks": ""
           },
           "bgcolor": "#E5ECF6",
           "radialaxis": {
            "gridcolor": "white",
            "linecolor": "white",
            "ticks": ""
           }
          },
          "scene": {
           "xaxis": {
            "backgroundcolor": "#E5ECF6",
            "gridcolor": "white",
            "gridwidth": 2,
            "linecolor": "white",
            "showbackground": true,
            "ticks": "",
            "zerolinecolor": "white"
           },
           "yaxis": {
            "backgroundcolor": "#E5ECF6",
            "gridcolor": "white",
            "gridwidth": 2,
            "linecolor": "white",
            "showbackground": true,
            "ticks": "",
            "zerolinecolor": "white"
           },
           "zaxis": {
            "backgroundcolor": "#E5ECF6",
            "gridcolor": "white",
            "gridwidth": 2,
            "linecolor": "white",
            "showbackground": true,
            "ticks": "",
            "zerolinecolor": "white"
           }
          },
          "shapedefaults": {
           "line": {
            "color": "#2a3f5f"
           }
          },
          "ternary": {
           "aaxis": {
            "gridcolor": "white",
            "linecolor": "white",
            "ticks": ""
           },
           "baxis": {
            "gridcolor": "white",
            "linecolor": "white",
            "ticks": ""
           },
           "bgcolor": "#E5ECF6",
           "caxis": {
            "gridcolor": "white",
            "linecolor": "white",
            "ticks": ""
           }
          },
          "title": {
           "x": 0.05
          },
          "xaxis": {
           "automargin": true,
           "gridcolor": "white",
           "linecolor": "white",
           "ticks": "",
           "title": {
            "standoff": 15
           },
           "zerolinecolor": "white",
           "zerolinewidth": 2
          },
          "yaxis": {
           "automargin": true,
           "gridcolor": "white",
           "linecolor": "white",
           "ticks": "",
           "title": {
            "standoff": 15
           },
           "zerolinecolor": "white",
           "zerolinewidth": 2
          }
         }
        },
        "title": {
         "text": "Performance According to the Experience Level - Data Science "
        },
        "xaxis": {
         "title": {
          "text": "Number of Years"
         },
         "zeroline": false
        },
        "yaxis": {
         "title": {
          "text": "Performance Rating "
         },
         "zeroline": false
        }
       }
      },
      "text/html": [
       "<div>                            <div id=\"b93cdd66-be78-4659-aabb-82a4fb0578c4\" class=\"plotly-graph-div\" style=\"height:525px; width:100%;\"></div>            <script type=\"text/javascript\">                require([\"plotly\"], function(Plotly) {                    window.PLOTLYENV=window.PLOTLYENV || {};                                    if (document.getElementById(\"b93cdd66-be78-4659-aabb-82a4fb0578c4\")) {                    Plotly.newPlot(                        \"b93cdd66-be78-4659-aabb-82a4fb0578c4\",                        [{\"boxmean\":false,\"marker\":{\"color\":\"#3D9970\"},\"name\":\"TotalWorkExperienceInYears\",\"orientation\":\"h\",\"x\":[7,1,17,13,16,7,17,22,10,6,5,9,21,5,31,19,1,8,18,9],\"y\":[3,3,3,3,3,3,3,2,4,3,3,3,3,3,3,3,4,3,3,3],\"type\":\"box\"},{\"boxmean\":false,\"marker\":{\"color\":\"#FF4136\"},\"name\":\"ExperienceYearsAtThisCompany\",\"orientation\":\"h\",\"x\":[4,1,16,0,10,3,1,21,9,6,3,8,3,5,5,10,1,2,1,8],\"y\":[3,3,3,3,3,3,3,2,4,3,3,3,3,3,3,3,4,3,3,3],\"type\":\"box\"},{\"boxmean\":false,\"marker\":{\"color\":\"#FF851B\"},\"name\":\"ExperienceYearsInCurrentRole\",\"orientation\":\"h\",\"x\":[2,0,8,0,9,2,0,7,0,5,2,3,2,2,2,7,0,2,0,7],\"y\":[3,3,3,3,3,3,3,2,4,3,3,3,3,3,3,3,4,3,3,3],\"type\":\"box\"}],                        {\"boxmode\":\"group\",\"template\":{\"data\":{\"barpolar\":[{\"marker\":{\"line\":{\"color\":\"#E5ECF6\",\"width\":0.5},\"pattern\":{\"fillmode\":\"overlay\",\"size\":10,\"solidity\":0.2}},\"type\":\"barpolar\"}],\"bar\":[{\"error_x\":{\"color\":\"#2a3f5f\"},\"error_y\":{\"color\":\"#2a3f5f\"},\"marker\":{\"line\":{\"color\":\"#E5ECF6\",\"width\":0.5},\"pattern\":{\"fillmode\":\"overlay\",\"size\":10,\"solidity\":0.2}},\"type\":\"bar\"}],\"carpet\":[{\"aaxis\":{\"endlinecolor\":\"#2a3f5f\",\"gridcolor\":\"white\",\"linecolor\":\"white\",\"minorgridcolor\":\"white\",\"startlinecolor\":\"#2a3f5f\"},\"baxis\":{\"endlinecolor\":\"#2a3f5f\",\"gridcolor\":\"white\",\"linecolor\":\"white\",\"minorgridcolor\":\"white\",\"startlinecolor\":\"#2a3f5f\"},\"type\":\"carpet\"}],\"choropleth\":[{\"colorbar\":{\"outlinewidth\":0,\"ticks\":\"\"},\"type\":\"choropleth\"}],\"contourcarpet\":[{\"colorbar\":{\"outlinewidth\":0,\"ticks\":\"\"},\"type\":\"contourcarpet\"}],\"contour\":[{\"colorbar\":{\"outlinewidth\":0,\"ticks\":\"\"},\"colorscale\":[[0.0,\"#0d0887\"],[0.1111111111111111,\"#46039f\"],[0.2222222222222222,\"#7201a8\"],[0.3333333333333333,\"#9c179e\"],[0.4444444444444444,\"#bd3786\"],[0.5555555555555556,\"#d8576b\"],[0.6666666666666666,\"#ed7953\"],[0.7777777777777778,\"#fb9f3a\"],[0.8888888888888888,\"#fdca26\"],[1.0,\"#f0f921\"]],\"type\":\"contour\"}],\"heatmapgl\":[{\"colorbar\":{\"outlinewidth\":0,\"ticks\":\"\"},\"colorscale\":[[0.0,\"#0d0887\"],[0.1111111111111111,\"#46039f\"],[0.2222222222222222,\"#7201a8\"],[0.3333333333333333,\"#9c179e\"],[0.4444444444444444,\"#bd3786\"],[0.5555555555555556,\"#d8576b\"],[0.6666666666666666,\"#ed7953\"],[0.7777777777777778,\"#fb9f3a\"],[0.8888888888888888,\"#fdca26\"],[1.0,\"#f0f921\"]],\"type\":\"heatmapgl\"}],\"heatmap\":[{\"colorbar\":{\"outlinewidth\":0,\"ticks\":\"\"},\"colorscale\":[[0.0,\"#0d0887\"],[0.1111111111111111,\"#46039f\"],[0.2222222222222222,\"#7201a8\"],[0.3333333333333333,\"#9c179e\"],[0.4444444444444444,\"#bd3786\"],[0.5555555555555556,\"#d8576b\"],[0.6666666666666666,\"#ed7953\"],[0.7777777777777778,\"#fb9f3a\"],[0.8888888888888888,\"#fdca26\"],[1.0,\"#f0f921\"]],\"type\":\"heatmap\"}],\"histogram2dcontour\":[{\"colorbar\":{\"outlinewidth\":0,\"ticks\":\"\"},\"colorscale\":[[0.0,\"#0d0887\"],[0.1111111111111111,\"#46039f\"],[0.2222222222222222,\"#7201a8\"],[0.3333333333333333,\"#9c179e\"],[0.4444444444444444,\"#bd3786\"],[0.5555555555555556,\"#d8576b\"],[0.6666666666666666,\"#ed7953\"],[0.7777777777777778,\"#fb9f3a\"],[0.8888888888888888,\"#fdca26\"],[1.0,\"#f0f921\"]],\"type\":\"histogram2dcontour\"}],\"histogram2d\":[{\"colorbar\":{\"outlinewidth\":0,\"ticks\":\"\"},\"colorscale\":[[0.0,\"#0d0887\"],[0.1111111111111111,\"#46039f\"],[0.2222222222222222,\"#7201a8\"],[0.3333333333333333,\"#9c179e\"],[0.4444444444444444,\"#bd3786\"],[0.5555555555555556,\"#d8576b\"],[0.6666666666666666,\"#ed7953\"],[0.7777777777777778,\"#fb9f3a\"],[0.8888888888888888,\"#fdca26\"],[1.0,\"#f0f921\"]],\"type\":\"histogram2d\"}],\"histogram\":[{\"marker\":{\"pattern\":{\"fillmode\":\"overlay\",\"size\":10,\"solidity\":0.2}},\"type\":\"histogram\"}],\"mesh3d\":[{\"colorbar\":{\"outlinewidth\":0,\"ticks\":\"\"},\"type\":\"mesh3d\"}],\"parcoords\":[{\"line\":{\"colorbar\":{\"outlinewidth\":0,\"ticks\":\"\"}},\"type\":\"parcoords\"}],\"pie\":[{\"automargin\":true,\"type\":\"pie\"}],\"scatter3d\":[{\"line\":{\"colorbar\":{\"outlinewidth\":0,\"ticks\":\"\"}},\"marker\":{\"colorbar\":{\"outlinewidth\":0,\"ticks\":\"\"}},\"type\":\"scatter3d\"}],\"scattercarpet\":[{\"marker\":{\"colorbar\":{\"outlinewidth\":0,\"ticks\":\"\"}},\"type\":\"scattercarpet\"}],\"scattergeo\":[{\"marker\":{\"colorbar\":{\"outlinewidth\":0,\"ticks\":\"\"}},\"type\":\"scattergeo\"}],\"scattergl\":[{\"marker\":{\"colorbar\":{\"outlinewidth\":0,\"ticks\":\"\"}},\"type\":\"scattergl\"}],\"scattermapbox\":[{\"marker\":{\"colorbar\":{\"outlinewidth\":0,\"ticks\":\"\"}},\"type\":\"scattermapbox\"}],\"scatterpolargl\":[{\"marker\":{\"colorbar\":{\"outlinewidth\":0,\"ticks\":\"\"}},\"type\":\"scatterpolargl\"}],\"scatterpolar\":[{\"marker\":{\"colorbar\":{\"outlinewidth\":0,\"ticks\":\"\"}},\"type\":\"scatterpolar\"}],\"scatter\":[{\"marker\":{\"colorbar\":{\"outlinewidth\":0,\"ticks\":\"\"}},\"type\":\"scatter\"}],\"scatterternary\":[{\"marker\":{\"colorbar\":{\"outlinewidth\":0,\"ticks\":\"\"}},\"type\":\"scatterternary\"}],\"surface\":[{\"colorbar\":{\"outlinewidth\":0,\"ticks\":\"\"},\"colorscale\":[[0.0,\"#0d0887\"],[0.1111111111111111,\"#46039f\"],[0.2222222222222222,\"#7201a8\"],[0.3333333333333333,\"#9c179e\"],[0.4444444444444444,\"#bd3786\"],[0.5555555555555556,\"#d8576b\"],[0.6666666666666666,\"#ed7953\"],[0.7777777777777778,\"#fb9f3a\"],[0.8888888888888888,\"#fdca26\"],[1.0,\"#f0f921\"]],\"type\":\"surface\"}],\"table\":[{\"cells\":{\"fill\":{\"color\":\"#EBF0F8\"},\"line\":{\"color\":\"white\"}},\"header\":{\"fill\":{\"color\":\"#C8D4E3\"},\"line\":{\"color\":\"white\"}},\"type\":\"table\"}]},\"layout\":{\"annotationdefaults\":{\"arrowcolor\":\"#2a3f5f\",\"arrowhead\":0,\"arrowwidth\":1},\"autotypenumbers\":\"strict\",\"coloraxis\":{\"colorbar\":{\"outlinewidth\":0,\"ticks\":\"\"}},\"colorscale\":{\"diverging\":[[0,\"#8e0152\"],[0.1,\"#c51b7d\"],[0.2,\"#de77ae\"],[0.3,\"#f1b6da\"],[0.4,\"#fde0ef\"],[0.5,\"#f7f7f7\"],[0.6,\"#e6f5d0\"],[0.7,\"#b8e186\"],[0.8,\"#7fbc41\"],[0.9,\"#4d9221\"],[1,\"#276419\"]],\"sequential\":[[0.0,\"#0d0887\"],[0.1111111111111111,\"#46039f\"],[0.2222222222222222,\"#7201a8\"],[0.3333333333333333,\"#9c179e\"],[0.4444444444444444,\"#bd3786\"],[0.5555555555555556,\"#d8576b\"],[0.6666666666666666,\"#ed7953\"],[0.7777777777777778,\"#fb9f3a\"],[0.8888888888888888,\"#fdca26\"],[1.0,\"#f0f921\"]],\"sequentialminus\":[[0.0,\"#0d0887\"],[0.1111111111111111,\"#46039f\"],[0.2222222222222222,\"#7201a8\"],[0.3333333333333333,\"#9c179e\"],[0.4444444444444444,\"#bd3786\"],[0.5555555555555556,\"#d8576b\"],[0.6666666666666666,\"#ed7953\"],[0.7777777777777778,\"#fb9f3a\"],[0.8888888888888888,\"#fdca26\"],[1.0,\"#f0f921\"]]},\"colorway\":[\"#636efa\",\"#EF553B\",\"#00cc96\",\"#ab63fa\",\"#FFA15A\",\"#19d3f3\",\"#FF6692\",\"#B6E880\",\"#FF97FF\",\"#FECB52\"],\"font\":{\"color\":\"#2a3f5f\"},\"geo\":{\"bgcolor\":\"white\",\"lakecolor\":\"white\",\"landcolor\":\"#E5ECF6\",\"showlakes\":true,\"showland\":true,\"subunitcolor\":\"white\"},\"hoverlabel\":{\"align\":\"left\"},\"hovermode\":\"closest\",\"mapbox\":{\"style\":\"light\"},\"paper_bgcolor\":\"white\",\"plot_bgcolor\":\"#E5ECF6\",\"polar\":{\"angularaxis\":{\"gridcolor\":\"white\",\"linecolor\":\"white\",\"ticks\":\"\"},\"bgcolor\":\"#E5ECF6\",\"radialaxis\":{\"gridcolor\":\"white\",\"linecolor\":\"white\",\"ticks\":\"\"}},\"scene\":{\"xaxis\":{\"backgroundcolor\":\"#E5ECF6\",\"gridcolor\":\"white\",\"gridwidth\":2,\"linecolor\":\"white\",\"showbackground\":true,\"ticks\":\"\",\"zerolinecolor\":\"white\"},\"yaxis\":{\"backgroundcolor\":\"#E5ECF6\",\"gridcolor\":\"white\",\"gridwidth\":2,\"linecolor\":\"white\",\"showbackground\":true,\"ticks\":\"\",\"zerolinecolor\":\"white\"},\"zaxis\":{\"backgroundcolor\":\"#E5ECF6\",\"gridcolor\":\"white\",\"gridwidth\":2,\"linecolor\":\"white\",\"showbackground\":true,\"ticks\":\"\",\"zerolinecolor\":\"white\"}},\"shapedefaults\":{\"line\":{\"color\":\"#2a3f5f\"}},\"ternary\":{\"aaxis\":{\"gridcolor\":\"white\",\"linecolor\":\"white\",\"ticks\":\"\"},\"baxis\":{\"gridcolor\":\"white\",\"linecolor\":\"white\",\"ticks\":\"\"},\"bgcolor\":\"#E5ECF6\",\"caxis\":{\"gridcolor\":\"white\",\"linecolor\":\"white\",\"ticks\":\"\"}},\"title\":{\"x\":0.05},\"xaxis\":{\"automargin\":true,\"gridcolor\":\"white\",\"linecolor\":\"white\",\"ticks\":\"\",\"title\":{\"standoff\":15},\"zerolinecolor\":\"white\",\"zerolinewidth\":2},\"yaxis\":{\"automargin\":true,\"gridcolor\":\"white\",\"linecolor\":\"white\",\"ticks\":\"\",\"title\":{\"standoff\":15},\"zerolinecolor\":\"white\",\"zerolinewidth\":2}}},\"title\":{\"text\":\"Performance According to the Experience Level - Data Science \"},\"xaxis\":{\"title\":{\"text\":\"Number of Years\"},\"zeroline\":false},\"yaxis\":{\"title\":{\"text\":\"Performance Rating \"},\"zeroline\":false}},                        {\"responsive\": true}                    ).then(function(){\n",
       "                            \n",
       "var gd = document.getElementById('b93cdd66-be78-4659-aabb-82a4fb0578c4');\n",
       "var x = new MutationObserver(function (mutations, observer) {{\n",
       "        var display = window.getComputedStyle(gd).display;\n",
       "        if (!display || display === 'none') {{\n",
       "            console.log([gd, 'removed!']);\n",
       "            Plotly.purge(gd);\n",
       "            observer.disconnect();\n",
       "        }}\n",
       "}});\n",
       "\n",
       "// Listen for the removal of the full notebook cells\n",
       "var notebookContainer = gd.closest('#notebook-container');\n",
       "if (notebookContainer) {{\n",
       "    x.observe(notebookContainer, {childList: true});\n",
       "}}\n",
       "\n",
       "// Listen for the clearing of the current output cell\n",
       "var outputEl = gd.closest('.output');\n",
       "if (outputEl) {{\n",
       "    x.observe(outputEl, {childList: true});\n",
       "}}\n",
       "\n",
       "                        })                };                });            </script>        </div>"
      ]
     },
     "metadata": {},
     "output_type": "display_data"
    }
   ],
   "source": [
    "data = [\n",
    "    {\n",
    "        'x': Data_Science['TotalWorkExperienceInYears'],\n",
    "        'y': Data_Science['PerformanceRating'],\n",
    "        'name':'TotalWorkExperienceInYears',\n",
    "        'marker': {\n",
    "            'color': '#3D9970'\n",
    "        },\n",
    "        'boxmean': False,\n",
    "        'orientation': 'h',\n",
    "        \"type\": \"box\",\n",
    "    },\n",
    "    {\n",
    "        'x':Data_Science['ExperienceYearsAtThisCompany'],\n",
    "        'y':Data_Science['PerformanceRating'],\n",
    "        'name': 'ExperienceYearsAtThisCompany',\n",
    "        'marker':{\n",
    "            'color': '#FF4136',\n",
    "        },\n",
    "        'boxmean': False,\n",
    "        'orientation': 'h',\n",
    "        \"type\": \"box\",\n",
    "     },\n",
    "    {\n",
    "        'x': Data_Science['ExperienceYearsInCurrentRole'],\n",
    "        'y': Data_Science['PerformanceRating'],\n",
    "        'name':'ExperienceYearsInCurrentRole',\n",
    "        'marker': {\n",
    "            'color': '#FF851B',\n",
    "        },\n",
    "        'boxmean': False,\n",
    "        'orientation': 'h',\n",
    "        \"type\": \"box\",\n",
    "    }\n",
    "]\n",
    "layout = {\n",
    "    'xaxis': {\n",
    "        'title': 'Number of Years',\n",
    "        'zeroline': False,\n",
    "    },\n",
    "    'yaxis': {\n",
    "        'title': 'Performance Rating ',\n",
    "        'zeroline': False,\n",
    "    },\n",
    "    'boxmode': 'group',\n",
    "    'title': 'Performance According to the Experience Level - Data Science ',\n",
    "}\n",
    "fig = go.Figure(data=data, layout=layout)\n",
    "\n",
    "py.iplot(fig)        "
   ]
  },
  {
   "cell_type": "markdown",
   "metadata": {},
   "source": [
    "## 5. Research & Development Department"
   ]
  },
  {
   "cell_type": "markdown",
   "metadata": {},
   "source": [
    "### Slicing the all columns of R & D Row "
   ]
  },
  {
   "cell_type": "code",
   "execution_count": 64,
   "metadata": {},
   "outputs": [
    {
     "data": {
      "text/html": [
       "<div>\n",
       "<style scoped>\n",
       "    .dataframe tbody tr th:only-of-type {\n",
       "        vertical-align: middle;\n",
       "    }\n",
       "\n",
       "    .dataframe tbody tr th {\n",
       "        vertical-align: top;\n",
       "    }\n",
       "\n",
       "    .dataframe thead th {\n",
       "        text-align: right;\n",
       "    }\n",
       "</style>\n",
       "<table border=\"1\" class=\"dataframe\">\n",
       "  <thead>\n",
       "    <tr style=\"text-align: right;\">\n",
       "      <th></th>\n",
       "      <th>EmpNumber</th>\n",
       "      <th>Age</th>\n",
       "      <th>Gender</th>\n",
       "      <th>EducationBackground</th>\n",
       "      <th>MaritalStatus</th>\n",
       "      <th>EmpDepartment</th>\n",
       "      <th>EmpJobRole</th>\n",
       "      <th>BusinessTravelFrequency</th>\n",
       "      <th>DistanceFromHome</th>\n",
       "      <th>EmpEducationLevel</th>\n",
       "      <th>...</th>\n",
       "      <th>EmpRelationshipSatisfaction</th>\n",
       "      <th>TotalWorkExperienceInYears</th>\n",
       "      <th>TrainingTimesLastYear</th>\n",
       "      <th>EmpWorkLifeBalance</th>\n",
       "      <th>ExperienceYearsAtThisCompany</th>\n",
       "      <th>ExperienceYearsInCurrentRole</th>\n",
       "      <th>YearsSinceLastPromotion</th>\n",
       "      <th>YearsWithCurrManager</th>\n",
       "      <th>Attrition</th>\n",
       "      <th>PerformanceRating</th>\n",
       "    </tr>\n",
       "  </thead>\n",
       "  <tbody>\n",
       "    <tr>\n",
       "      <th>156</th>\n",
       "      <td>E1001284</td>\n",
       "      <td>38</td>\n",
       "      <td>Male</td>\n",
       "      <td>Medical</td>\n",
       "      <td>Married</td>\n",
       "      <td>Research &amp; Development</td>\n",
       "      <td>Senior Manager R&amp;D</td>\n",
       "      <td>Travel_Frequently</td>\n",
       "      <td>10</td>\n",
       "      <td>1</td>\n",
       "      <td>...</td>\n",
       "      <td>2</td>\n",
       "      <td>3</td>\n",
       "      <td>0</td>\n",
       "      <td>2</td>\n",
       "      <td>2</td>\n",
       "      <td>1</td>\n",
       "      <td>0</td>\n",
       "      <td>2</td>\n",
       "      <td>No</td>\n",
       "      <td>3</td>\n",
       "    </tr>\n",
       "    <tr>\n",
       "      <th>157</th>\n",
       "      <td>E1001288</td>\n",
       "      <td>35</td>\n",
       "      <td>Male</td>\n",
       "      <td>Other</td>\n",
       "      <td>Divorced</td>\n",
       "      <td>Research &amp; Development</td>\n",
       "      <td>Laboratory Technician</td>\n",
       "      <td>Travel_Rarely</td>\n",
       "      <td>14</td>\n",
       "      <td>4</td>\n",
       "      <td>...</td>\n",
       "      <td>4</td>\n",
       "      <td>5</td>\n",
       "      <td>2</td>\n",
       "      <td>1</td>\n",
       "      <td>4</td>\n",
       "      <td>2</td>\n",
       "      <td>0</td>\n",
       "      <td>2</td>\n",
       "      <td>Yes</td>\n",
       "      <td>3</td>\n",
       "    </tr>\n",
       "    <tr>\n",
       "      <th>158</th>\n",
       "      <td>E1001289</td>\n",
       "      <td>31</td>\n",
       "      <td>Female</td>\n",
       "      <td>Life Sciences</td>\n",
       "      <td>Married</td>\n",
       "      <td>Research &amp; Development</td>\n",
       "      <td>Manufacturing Director</td>\n",
       "      <td>Travel_Frequently</td>\n",
       "      <td>1</td>\n",
       "      <td>1</td>\n",
       "      <td>...</td>\n",
       "      <td>3</td>\n",
       "      <td>4</td>\n",
       "      <td>1</td>\n",
       "      <td>3</td>\n",
       "      <td>4</td>\n",
       "      <td>3</td>\n",
       "      <td>0</td>\n",
       "      <td>3</td>\n",
       "      <td>No</td>\n",
       "      <td>3</td>\n",
       "    </tr>\n",
       "  </tbody>\n",
       "</table>\n",
       "<p>3 rows × 28 columns</p>\n",
       "</div>"
      ],
      "text/plain": [
       "    EmpNumber  Age  Gender EducationBackground MaritalStatus  \\\n",
       "156  E1001284   38    Male             Medical       Married   \n",
       "157  E1001288   35    Male               Other      Divorced   \n",
       "158  E1001289   31  Female       Life Sciences       Married   \n",
       "\n",
       "              EmpDepartment              EmpJobRole BusinessTravelFrequency  \\\n",
       "156  Research & Development      Senior Manager R&D       Travel_Frequently   \n",
       "157  Research & Development   Laboratory Technician           Travel_Rarely   \n",
       "158  Research & Development  Manufacturing Director       Travel_Frequently   \n",
       "\n",
       "     DistanceFromHome  EmpEducationLevel  ...  EmpRelationshipSatisfaction  \\\n",
       "156                10                  1  ...                            2   \n",
       "157                14                  4  ...                            4   \n",
       "158                 1                  1  ...                            3   \n",
       "\n",
       "     TotalWorkExperienceInYears  TrainingTimesLastYear  EmpWorkLifeBalance  \\\n",
       "156                           3                      0                   2   \n",
       "157                           5                      2                   1   \n",
       "158                           4                      1                   3   \n",
       "\n",
       "     ExperienceYearsAtThisCompany  ExperienceYearsInCurrentRole  \\\n",
       "156                             2                             1   \n",
       "157                             4                             2   \n",
       "158                             4                             3   \n",
       "\n",
       "    YearsSinceLastPromotion  YearsWithCurrManager  Attrition  \\\n",
       "156                       0                     2         No   \n",
       "157                       0                     2        Yes   \n",
       "158                       0                     3         No   \n",
       "\n",
       "     PerformanceRating  \n",
       "156                  3  \n",
       "157                  3  \n",
       "158                  3  \n",
       "\n",
       "[3 rows x 28 columns]"
      ]
     },
     "execution_count": 64,
     "metadata": {},
     "output_type": "execute_result"
    }
   ],
   "source": [
    "RD = emp_data[emp_data.EmpDepartment == 'Research & Development'] \n",
    "RD.head(3)"
   ]
  },
  {
   "cell_type": "markdown",
   "metadata": {},
   "source": [
    "### (i) Performance Rating with respect to number of employees\n"
   ]
  },
  {
   "cell_type": "code",
   "execution_count": 65,
   "metadata": {},
   "outputs": [
    {
     "data": {
      "image/png": "[encoded data removed]",
      "text/plain": [
       "<Figure size 432x288 with 1 Axes>"
      ]
     },
     "metadata": {
      "needs_background": "light"
     },
     "output_type": "display_data"
    }
   ],
   "source": [
    "sns.countplot(y=\"PerformanceRating\", data=RD, palette=\"Greens_d\");\n"
   ]
  },
  {
   "cell_type": "markdown",
   "metadata": {},
   "source": [
    "### (ii) Performance Rating with respect to Age Group"
   ]
  },
  {
   "cell_type": "code",
   "execution_count": 66,
   "metadata": {},
   "outputs": [
    {
     "data": {
      "text/plain": [
       "<AxesSubplot:xlabel='PerformanceRating', ylabel='Age'>"
      ]
     },
     "execution_count": 66,
     "metadata": {},
     "output_type": "execute_result"
    },
    {
     "data": {
      "image/png": "[encoded data removed]",
      "text/plain": [
       "<Figure size 432x288 with 1 Axes>"
      ]
     },
     "metadata": {
      "needs_background": "light"
     },
     "output_type": "display_data"
    }
   ],
   "source": [
    "sns.boxplot(RD['PerformanceRating'], RD['Age'])"
   ]
  },
  {
   "cell_type": "markdown",
   "metadata": {},
   "source": [
    "### (iii) Performance based on Gender"
   ]
  },
  {
   "cell_type": "code",
   "execution_count": 67,
   "metadata": {},
   "outputs": [
    {
     "data": {
      "text/plain": [
       "<AxesSubplot:xlabel='Gender', ylabel='PerformanceRating'>"
      ]
     },
     "execution_count": 67,
     "metadata": {},
     "output_type": "execute_result"
    },
    {
     "data": {
      "image/png": "[encoded data removed]",
      "text/plain": [
       "<Figure size 432x288 with 1 Axes>"
      ]
     },
     "metadata": {
      "needs_background": "light"
     },
     "output_type": "display_data"
    }
   ],
   "source": [
    "sns.barplot(RD['Gender'], RD['PerformanceRating'])"
   ]
  },
  {
   "cell_type": "markdown",
   "metadata": {},
   "source": [
    "### (iv) Performance according to the Experience Level"
   ]
  },
  {
   "cell_type": "code",
   "execution_count": 68,
   "metadata": {},
   "outputs": [
    {
     "data": {
      "application/vnd.plotly.v1+json": {
       "config": {
        "linkText": "Export to plot.ly",
        "plotlyServerURL": "https://plot.ly",
        "showLink": false
       },
       "data": [
        {
         "boxmean": false,
         "marker": {
          "color": "#3D9970"
         },
         "name": "TotalWorkExperienceInYears",
         "orientation": "h",
         "type": "box",
         "x": [
          3,
          5,
          4,
          0,
          22,
          16,
          9,
          8,
          4,
          19,
          27,
          8,
          21,
          4,
          3,
          8,
          30,
          17,
          21,
          21,
          10,
          9,
          6,
          8,
          29,
          8,
          5,
          18,
          15,
          31,
          1,
          19,
          10,
          6,
          7,
          20,
          14,
          3,
          23,
          14,
          7,
          7,
          1,
          23,
          1,
          6,
          27,
          18,
          11,
          10,
          21,
          21,
          9,
          18,
          6,
          5,
          8,
          16,
          10,
          3,
          0,
          6,
          2,
          9,
          4,
          20,
          6,
          1,
          8,
          16,
          15,
          14,
          2,
          28,
          10,
          1,
          7,
          14,
          6,
          26,
          1,
          6,
          32,
          25,
          1,
          7,
          20,
          2,
          10,
          17,
          15,
          20,
          9,
          33,
          10,
          1,
          36,
          6,
          25,
          23,
          12,
          7,
          6,
          25,
          9,
          1,
          8,
          34,
          2,
          25,
          15,
          5,
          26,
          4,
          18,
          18,
          2,
          8,
          10,
          10,
          5,
          2,
          22,
          21,
          2,
          10,
          10,
          10,
          25,
          23,
          6,
          10,
          9,
          7,
          31,
          7,
          11,
          29,
          0,
          10,
          33,
          5,
          15,
          10,
          4,
          14,
          12,
          13,
          24,
          20,
          8,
          5,
          8,
          10,
          7,
          20,
          29,
          32,
          9,
          10,
          1,
          6,
          10,
          17,
          7,
          5,
          7,
          7,
          11,
          11,
          10,
          24,
          10,
          16,
          7,
          20,
          8,
          6,
          12,
          1,
          13,
          29,
          16,
          16,
          4,
          8,
          8,
          1,
          10,
          4,
          8,
          14,
          10,
          26,
          11,
          11,
          5,
          15,
          32,
          4,
          10,
          9,
          5,
          8,
          24,
          15,
          2,
          8,
          10,
          1,
          34,
          7,
          10,
          1,
          9,
          10,
          10,
          15,
          19,
          10,
          9,
          9,
          25,
          3,
          21,
          6,
          18,
          6,
          19,
          10,
          9,
          9,
          10,
          6,
          10,
          6,
          9,
          12,
          15,
          6,
          34,
          11,
          5,
          27,
          5,
          1,
          24,
          15,
          6,
          14,
          7,
          15,
          11,
          7,
          11,
          6,
          28,
          15,
          14,
          23,
          0,
          15,
          6,
          11,
          10,
          7,
          12,
          11,
          8,
          29,
          1,
          19,
          1,
          11,
          16,
          4,
          10,
          22,
          1,
          24,
          10,
          5,
          5,
          18,
          4,
          8,
          12,
          6,
          16,
          16,
          20,
          8,
          10,
          28,
          5,
          4,
          5,
          8,
          9,
          6,
          8,
          9,
          9,
          10,
          1,
          20,
          13,
          9,
          4,
          5,
          10,
          12,
          7,
          25,
          9,
          12,
          14,
          5,
          4,
          10,
          10,
          6,
          8,
          18,
          20,
          16,
          6,
          18,
          13,
          4,
          14,
          21,
          4,
          8,
          10,
          20,
          4,
          10,
          5,
          10,
          9,
          6,
          6
         ],
         "y": [
          3,
          3,
          3,
          3,
          3,
          3,
          2,
          3,
          2,
          2,
          3,
          3,
          3,
          2,
          2,
          3,
          3,
          3,
          2,
          3,
          3,
          3,
          2,
          3,
          3,
          3,
          2,
          3,
          3,
          4,
          3,
          4,
          2,
          2,
          3,
          3,
          2,
          2,
          3,
          2,
          3,
          3,
          4,
          3,
          3,
          3,
          2,
          2,
          4,
          3,
          2,
          3,
          3,
          3,
          3,
          3,
          3,
          3,
          2,
          3,
          3,
          3,
          3,
          3,
          3,
          2,
          4,
          3,
          3,
          3,
          3,
          4,
          3,
          3,
          3,
          4,
          3,
          3,
          3,
          3,
          3,
          3,
          4,
          3,
          3,
          3,
          4,
          4,
          3,
          4,
          2,
          3,
          2,
          3,
          2,
          4,
          3,
          3,
          3,
          3,
          3,
          3,
          3,
          4,
          3,
          4,
          4,
          3,
          2,
          3,
          3,
          3,
          3,
          3,
          3,
          3,
          3,
          3,
          3,
          2,
          3,
          3,
          4,
          3,
          2,
          3,
          3,
          3,
          3,
          3,
          3,
          3,
          3,
          3,
          3,
          3,
          3,
          3,
          4,
          3,
          3,
          3,
          2,
          2,
          3,
          3,
          3,
          4,
          3,
          2,
          3,
          3,
          3,
          3,
          3,
          3,
          3,
          4,
          3,
          3,
          3,
          3,
          2,
          2,
          3,
          4,
          3,
          3,
          3,
          4,
          3,
          3,
          3,
          3,
          3,
          2,
          4,
          3,
          2,
          3,
          2,
          3,
          2,
          2,
          3,
          3,
          3,
          3,
          4,
          3,
          3,
          3,
          3,
          2,
          3,
          3,
          2,
          3,
          3,
          3,
          2,
          3,
          3,
          4,
          3,
          2,
          3,
          3,
          2,
          3,
          3,
          3,
          3,
          3,
          2,
          2,
          3,
          2,
          4,
          2,
          3,
          3,
          4,
          3,
          3,
          3,
          3,
          2,
          3,
          3,
          4,
          3,
          3,
          3,
          3,
          3,
          3,
          3,
          3,
          3,
          3,
          3,
          4,
          3,
          3,
          3,
          3,
          3,
          3,
          3,
          3,
          2,
          3,
          2,
          2,
          3,
          3,
          2,
          3,
          2,
          3,
          4,
          3,
          3,
          4,
          2,
          3,
          3,
          3,
          3,
          4,
          3,
          4,
          3,
          4,
          3,
          2,
          2,
          3,
          3,
          3,
          4,
          2,
          3,
          2,
          3,
          3,
          2,
          3,
          3,
          3,
          3,
          4,
          2,
          3,
          3,
          3,
          3,
          3,
          3,
          4,
          2,
          4,
          3,
          3,
          3,
          4,
          3,
          2,
          3,
          3,
          3,
          3,
          2,
          3,
          4,
          2,
          3,
          3,
          3,
          2,
          3,
          3,
          2,
          2,
          4,
          2,
          3,
          4,
          2,
          2,
          3,
          3,
          3,
          3,
          3,
          3,
          3,
          2,
          2,
          3,
          3,
          3
         ]
        },
        {
         "boxmean": false,
         "marker": {
          "color": "#FF4136"
         },
         "name": "ExperienceYearsAtThisCompany",
         "orientation": "h",
         "type": "box",
         "x": [
          2,
          4,
          4,
          0,
          10,
          16,
          8,
          8,
          4,
          2,
          15,
          2,
          21,
          3,
          3,
          1,
          5,
          8,
          21,
          21,
          8,
          1,
          3,
          2,
          8,
          4,
          5,
          5,
          14,
          9,
          1,
          16,
          10,
          5,
          6,
          19,
          11,
          3,
          3,
          13,
          6,
          7,
          1,
          22,
          1,
          0,
          5,
          8,
          7,
          9,
          18,
          20,
          5,
          11,
          5,
          3,
          7,
          1,
          10,
          3,
          0,
          1,
          2,
          6,
          4,
          18,
          4,
          1,
          8,
          1,
          7,
          13,
          2,
          5,
          10,
          1,
          3,
          14,
          6,
          7,
          0,
          0,
          2,
          4,
          1,
          7,
          20,
          2,
          8,
          7,
          14,
          1,
          9,
          5,
          10,
          1,
          10,
          6,
          8,
          1,
          11,
          1,
          6,
          1,
          7,
          1,
          8,
          33,
          2,
          9,
          11,
          4,
          25,
          3,
          1,
          16,
          2,
          7,
          8,
          7,
          3,
          2,
          0,
          19,
          2,
          10,
          7,
          9,
          3,
          19,
          4,
          9,
          9,
          3,
          10,
          4,
          10,
          5,
          0,
          9,
          19,
          5,
          12,
          8,
          4,
          14,
          6,
          6,
          5,
          20,
          8,
          4,
          3,
          2,
          3,
          4,
          20,
          9,
          3,
          4,
          1,
          5,
          10,
          6,
          6,
          3,
          5,
          4,
          8,
          1,
          10,
          7,
          3,
          9,
          5,
          3,
          3,
          5,
          12,
          1,
          12,
          8,
          14,
          2,
          3,
          5,
          0,
          1,
          3,
          3,
          8,
          0,
          5,
          14,
          9,
          11,
          4,
          5,
          32,
          1,
          10,
          7,
          5,
          5,
          20,
          15,
          1,
          2,
          10,
          1,
          33,
          5,
          8,
          1,
          2,
          10,
          5,
          15,
          1,
          10,
          8,
          5,
          23,
          3,
          21,
          5,
          1,
          6,
          10,
          10,
          5,
          9,
          9,
          6,
          3,
          5,
          6,
          7,
          1,
          1,
          1,
          9,
          5,
          3,
          5,
          1,
          2,
          12,
          5,
          10,
          4,
          7,
          7,
          3,
          3,
          5,
          22,
          7,
          7,
          2,
          0,
          1,
          5,
          11,
          6,
          2,
          9,
          7,
          0,
          22,
          1,
          5,
          1,
          3,
          5,
          3,
          9,
          19,
          1,
          22,
          2,
          5,
          4,
          13,
          2,
          7,
          4,
          5,
          15,
          8,
          20,
          4,
          5,
          5,
          5,
          4,
          5,
          7,
          5,
          4,
          1,
          4,
          9,
          10,
          1,
          20,
          11,
          5,
          4,
          5,
          10,
          12,
          2,
          17,
          4,
          5,
          13,
          2,
          3,
          10,
          9,
          6,
          1,
          7,
          18,
          16,
          4,
          4,
          13,
          2,
          10,
          20,
          4,
          2,
          10,
          5,
          4,
          4,
          5,
          9,
          7,
          6,
          4
         ],
         "y": [
          3,
          3,
          3,
          3,
          3,
          3,
          2,
          3,
          2,
          2,
          3,
          3,
          3,
          2,
          2,
          3,
          3,
          3,
          2,
          3,
          3,
          3,
          2,
          3,
          3,
          3,
          2,
          3,
          3,
          4,
          3,
          4,
          2,
          2,
          3,
          3,
          2,
          2,
          3,
          2,
          3,
          3,
          4,
          3,
          3,
          3,
          2,
          2,
          4,
          3,
          2,
          3,
          3,
          3,
          3,
          3,
          3,
          3,
          2,
          3,
          3,
          3,
          3,
          3,
          3,
          2,
          4,
          3,
          3,
          3,
          3,
          4,
          3,
          3,
          3,
          4,
          3,
          3,
          3,
          3,
          3,
          3,
          4,
          3,
          3,
          3,
          4,
          4,
          3,
          4,
          2,
          3,
          2,
          3,
          2,
          4,
          3,
          3,
          3,
          3,
          3,
          3,
          3,
          4,
          3,
          4,
          4,
          3,
          2,
          3,
          3,
          3,
          3,
          3,
          3,
          3,
          3,
          3,
          3,
          2,
          3,
          3,
          4,
          3,
          2,
          3,
          3,
          3,
          3,
          3,
          3,
          3,
          3,
          3,
          3,
          3,
          3,
          3,
          4,
          3,
          3,
          3,
          2,
          2,
          3,
          3,
          3,
          4,
          3,
          2,
          3,
          3,
          3,
          3,
          3,
          3,
          3,
          4,
          3,
          3,
          3,
          3,
          2,
          2,
          3,
          4,
          3,
          3,
          3,
          4,
          3,
          3,
          3,
          3,
          3,
          2,
          4,
          3,
          2,
          3,
          2,
          3,
          2,
          2,
          3,
          3,
          3,
          3,
          4,
          3,
          3,
          3,
          3,
          2,
          3,
          3,
          2,
          3,
          3,
          3,
          2,
          3,
          3,
          4,
          3,
          2,
          3,
          3,
          2,
          3,
          3,
          3,
          3,
          3,
          2,
          2,
          3,
          2,
          4,
          2,
          3,
          3,
          4,
          3,
          3,
          3,
          3,
          2,
          3,
          3,
          4,
          3,
          3,
          3,
          3,
          3,
          3,
          3,
          3,
          3,
          3,
          3,
          4,
          3,
          3,
          3,
          3,
          3,
          3,
          3,
          3,
          2,
          3,
          2,
          2,
          3,
          3,
          2,
          3,
          2,
          3,
          4,
          3,
          3,
          4,
          2,
          3,
          3,
          3,
          3,
          4,
          3,
          4,
          3,
          4,
          3,
          2,
          2,
          3,
          3,
          3,
          4,
          2,
          3,
          2,
          3,
          3,
          2,
          3,
          3,
          3,
          3,
          4,
          2,
          3,
          3,
          3,
          3,
          3,
          3,
          4,
          2,
          4,
          3,
          3,
          3,
          4,
          3,
          2,
          3,
          3,
          3,
          3,
          2,
          3,
          4,
          2,
          3,
          3,
          3,
          2,
          3,
          3,
          2,
          2,
          4,
          2,
          3,
          4,
          2,
          2,
          3,
          3,
          3,
          3,
          3,
          3,
          3,
          2,
          2,
          3,
          3,
          3
         ]
        },
        {
         "boxmean": false,
         "marker": {
          "color": "#FF851B"
         },
         "name": "ExperienceYearsInCurrentRole",
         "orientation": "h",
         "type": "box",
         "x": [
          1,
          2,
          3,
          0,
          7,
          10,
          7,
          7,
          3,
          2,
          11,
          2,
          6,
          2,
          2,
          0,
          3,
          7,
          16,
          6,
          7,
          0,
          2,
          2,
          1,
          3,
          3,
          4,
          8,
          7,
          0,
          13,
          7,
          3,
          2,
          9,
          10,
          2,
          2,
          7,
          2,
          7,
          1,
          6,
          0,
          0,
          4,
          6,
          5,
          7,
          7,
          7,
          4,
          9,
          3,
          2,
          5,
          0,
          7,
          1,
          0,
          0,
          2,
          2,
          2,
          7,
          3,
          1,
          7,
          1,
          7,
          9,
          2,
          2,
          8,
          1,
          2,
          8,
          4,
          7,
          0,
          0,
          2,
          2,
          0,
          7,
          11,
          2,
          7,
          7,
          10,
          0,
          7,
          4,
          5,
          1,
          9,
          5,
          7,
          0,
          10,
          0,
          0,
          0,
          7,
          0,
          5,
          9,
          2,
          7,
          8,
          2,
          9,
          2,
          0,
          14,
          2,
          0,
          4,
          7,
          2,
          2,
          0,
          9,
          2,
          4,
          7,
          8,
          2,
          9,
          2,
          7,
          6,
          2,
          9,
          2,
          9,
          2,
          0,
          7,
          16,
          4,
          11,
          7,
          2,
          11,
          2,
          4,
          3,
          7,
          2,
          3,
          2,
          2,
          2,
          3,
          7,
          8,
          2,
          3,
          0,
          0,
          4,
          5,
          5,
          2,
          4,
          2,
          7,
          0,
          8,
          7,
          1,
          8,
          2,
          2,
          1,
          2,
          9,
          0,
          9,
          7,
          8,
          2,
          2,
          4,
          0,
          0,
          2,
          2,
          6,
          0,
          2,
          9,
          7,
          8,
          3,
          4,
          6,
          0,
          8,
          7,
          3,
          4,
          8,
          14,
          1,
          2,
          8,
          0,
          7,
          2,
          2,
          0,
          2,
          9,
          2,
          10,
          0,
          9,
          7,
          3,
          15,
          2,
          6,
          2,
          0,
          2,
          7,
          0,
          4,
          8,
          7,
          2,
          2,
          0,
          1,
          7,
          0,
          0,
          0,
          8,
          3,
          2,
          4,
          0,
          1,
          8,
          3,
          8,
          3,
          7,
          1,
          2,
          2,
          4,
          11,
          4,
          1,
          2,
          0,
          0,
          4,
          8,
          3,
          2,
          8,
          0,
          0,
          10,
          0,
          2,
          0,
          2,
          3,
          2,
          8,
          7,
          0,
          17,
          0,
          2,
          2,
          7,
          2,
          7,
          2,
          3,
          10,
          7,
          11,
          1,
          2,
          4,
          3,
          2,
          4,
          7,
          1,
          1,
          0,
          3,
          7,
          9,
          0,
          9,
          7,
          2,
          3,
          2,
          9,
          8,
          2,
          14,
          3,
          3,
          8,
          2,
          2,
          7,
          7,
          2,
          0,
          7,
          16,
          11,
          3,
          2,
          12,
          2,
          9,
          7,
          2,
          2,
          2,
          3,
          3,
          3,
          4,
          4,
          7,
          2,
          3
         ],
         "y": [
          3,
          3,
          3,
          3,
          3,
          3,
          2,
          3,
          2,
          2,
          3,
          3,
          3,
          2,
          2,
          3,
          3,
          3,
          2,
          3,
          3,
          3,
          2,
          3,
          3,
          3,
          2,
          3,
          3,
          4,
          3,
          4,
          2,
          2,
          3,
          3,
          2,
          2,
          3,
          2,
          3,
          3,
          4,
          3,
          3,
          3,
          2,
          2,
          4,
          3,
          2,
          3,
          3,
          3,
          3,
          3,
          3,
          3,
          2,
          3,
          3,
          3,
          3,
          3,
          3,
          2,
          4,
          3,
          3,
          3,
          3,
          4,
          3,
          3,
          3,
          4,
          3,
          3,
          3,
          3,
          3,
          3,
          4,
          3,
          3,
          3,
          4,
          4,
          3,
          4,
          2,
          3,
          2,
          3,
          2,
          4,
          3,
          3,
          3,
          3,
          3,
          3,
          3,
          4,
          3,
          4,
          4,
          3,
          2,
          3,
          3,
          3,
          3,
          3,
          3,
          3,
          3,
          3,
          3,
          2,
          3,
          3,
          4,
          3,
          2,
          3,
          3,
          3,
          3,
          3,
          3,
          3,
          3,
          3,
          3,
          3,
          3,
          3,
          4,
          3,
          3,
          3,
          2,
          2,
          3,
          3,
          3,
          4,
          3,
          2,
          3,
          3,
          3,
          3,
          3,
          3,
          3,
          4,
          3,
          3,
          3,
          3,
          2,
          2,
          3,
          4,
          3,
          3,
          3,
          4,
          3,
          3,
          3,
          3,
          3,
          2,
          4,
          3,
          2,
          3,
          2,
          3,
          2,
          2,
          3,
          3,
          3,
          3,
          4,
          3,
          3,
          3,
          3,
          2,
          3,
          3,
          2,
          3,
          3,
          3,
          2,
          3,
          3,
          4,
          3,
          2,
          3,
          3,
          2,
          3,
          3,
          3,
          3,
          3,
          2,
          2,
          3,
          2,
          4,
          2,
          3,
          3,
          4,
          3,
          3,
          3,
          3,
          2,
          3,
          3,
          4,
          3,
          3,
          3,
          3,
          3,
          3,
          3,
          3,
          3,
          3,
          3,
          4,
          3,
          3,
          3,
          3,
          3,
          3,
          3,
          3,
          2,
          3,
          2,
          2,
          3,
          3,
          2,
          3,
          2,
          3,
          4,
          3,
          3,
          4,
          2,
          3,
          3,
          3,
          3,
          4,
          3,
          4,
          3,
          4,
          3,
          2,
          2,
          3,
          3,
          3,
          4,
          2,
          3,
          2,
          3,
          3,
          2,
          3,
          3,
          3,
          3,
          4,
          2,
          3,
          3,
          3,
          3,
          3,
          3,
          4,
          2,
          4,
          3,
          3,
          3,
          4,
          3,
          2,
          3,
          3,
          3,
          3,
          2,
          3,
          4,
          2,
          3,
          3,
          3,
          2,
          3,
          3,
          2,
          2,
          4,
          2,
          3,
          4,
          2,
          2,
          3,
          3,
          3,
          3,
          3,
          3,
          3,
          2,
          2,
          3,
          3,
          3
         ]
        }
       ],
       "layout": {
        "boxmode": "group",
        "template": {
         "data": {
          "bar": [
           {
            "error_x": {
             "color": "#2a3f5f"
            },
            "error_y": {
             "color": "#2a3f5f"
            },
            "marker": {
             "line": {
              "color": "#E5ECF6",
              "width": 0.5
             },
             "pattern": {
              "fillmode": "overlay",
              "size": 10,
              "solidity": 0.2
             }
            },
            "type": "bar"
           }
          ],
          "barpolar": [
           {
            "marker": {
             "line": {
              "color": "#E5ECF6",
              "width": 0.5
             },
             "pattern": {
              "fillmode": "overlay",
              "size": 10,
              "solidity": 0.2
             }
            },
            "type": "barpolar"
           }
          ],
          "carpet": [
           {
            "aaxis": {
             "endlinecolor": "#2a3f5f",
             "gridcolor": "white",
             "linecolor": "white",
             "minorgridcolor": "white",
             "startlinecolor": "#2a3f5f"
            },
            "baxis": {
             "endlinecolor": "#2a3f5f",
             "gridcolor": "white",
             "linecolor": "white",
             "minorgridcolor": "white",
             "startlinecolor": "#2a3f5f"
            },
            "type": "carpet"
           }
          ],
          "choropleth": [
           {
            "colorbar": {
             "outlinewidth": 0,
             "ticks": ""
            },
            "type": "choropleth"
           }
          ],
          "contour": [
           {
            "colorbar": {
             "outlinewidth": 0,
             "ticks": ""
            },
            "colorscale": [
             [
              0,
              "#0d0887"
             ],
             [
              0.1111111111111111,
              "#46039f"
             ],
             [
              0.2222222222222222,
              "#7201a8"
             ],
             [
              0.3333333333333333,
              "#9c179e"
             ],
             [
              0.4444444444444444,
              "#bd3786"
             ],
             [
              0.5555555555555556,
              "#d8576b"
             ],
             [
              0.6666666666666666,
              "#ed7953"
             ],
             [
              0.7777777777777778,
              "#fb9f3a"
             ],
             [
              0.8888888888888888,
              "#fdca26"
             ],
             [
              1,
              "#f0f921"
             ]
            ],
            "type": "contour"
           }
          ],
          "contourcarpet": [
           {
            "colorbar": {
             "outlinewidth": 0,
             "ticks": ""
            },
            "type": "contourcarpet"
           }
          ],
          "heatmap": [
           {
            "colorbar": {
             "outlinewidth": 0,
             "ticks": ""
            },
            "colorscale": [
             [
              0,
              "#0d0887"
             ],
             [
              0.1111111111111111,
              "#46039f"
             ],
             [
              0.2222222222222222,
              "#7201a8"
             ],
             [
              0.3333333333333333,
              "#9c179e"
             ],
             [
              0.4444444444444444,
              "#bd3786"
             ],
             [
              0.5555555555555556,
              "#d8576b"
             ],
             [
              0.6666666666666666,
              "#ed7953"
             ],
             [
              0.7777777777777778,
              "#fb9f3a"
             ],
             [
              0.8888888888888888,
              "#fdca26"
             ],
             [
              1,
              "#f0f921"
             ]
            ],
            "type": "heatmap"
           }
          ],
          "heatmapgl": [
           {
            "colorbar": {
             "outlinewidth": 0,
             "ticks": ""
            },
            "colorscale": [
             [
              0,
              "#0d0887"
             ],
             [
              0.1111111111111111,
              "#46039f"
             ],
             [
              0.2222222222222222,
              "#7201a8"
             ],
             [
              0.3333333333333333,
              "#9c179e"
             ],
             [
              0.4444444444444444,
              "#bd3786"
             ],
             [
              0.5555555555555556,
              "#d8576b"
             ],
             [
              0.6666666666666666,
              "#ed7953"
             ],
             [
              0.7777777777777778,
              "#fb9f3a"
             ],
             [
              0.8888888888888888,
              "#fdca26"
             ],
             [
              1,
              "#f0f921"
             ]
            ],
            "type": "heatmapgl"
           }
          ],
          "histogram": [
           {
            "marker": {
             "pattern": {
              "fillmode": "overlay",
              "size": 10,
              "solidity": 0.2
             }
            },
            "type": "histogram"
           }
          ],
          "histogram2d": [
           {
            "colorbar": {
             "outlinewidth": 0,
             "ticks": ""
            },
            "colorscale": [
             [
              0,
              "#0d0887"
             ],
             [
              0.1111111111111111,
              "#46039f"
             ],
             [
              0.2222222222222222,
              "#7201a8"
             ],
             [
              0.3333333333333333,
              "#9c179e"
             ],
             [
              0.4444444444444444,
              "#bd3786"
             ],
             [
              0.5555555555555556,
              "#d8576b"
             ],
             [
              0.6666666666666666,
              "#ed7953"
             ],
             [
              0.7777777777777778,
              "#fb9f3a"
             ],
             [
              0.8888888888888888,
              "#fdca26"
             ],
             [
              1,
              "#f0f921"
             ]
            ],
            "type": "histogram2d"
           }
          ],
          "histogram2dcontour": [
           {
            "colorbar": {
             "outlinewidth": 0,
             "ticks": ""
            },
            "colorscale": [
             [
              0,
              "#0d0887"
             ],
             [
              0.1111111111111111,
              "#46039f"
             ],
             [
              0.2222222222222222,
              "#7201a8"
             ],
             [
              0.3333333333333333,
              "#9c179e"
             ],
             [
              0.4444444444444444,
              "#bd3786"
             ],
             [
              0.5555555555555556,
              "#d8576b"
             ],
             [
              0.6666666666666666,
              "#ed7953"
             ],
             [
              0.7777777777777778,
              "#fb9f3a"
             ],
             [
              0.8888888888888888,
              "#fdca26"
             ],
             [
              1,
              "#f0f921"
             ]
            ],
            "type": "histogram2dcontour"
           }
          ],
          "mesh3d": [
           {
            "colorbar": {
             "outlinewidth": 0,
             "ticks": ""
            },
            "type": "mesh3d"
           }
          ],
          "parcoords": [
           {
            "line": {
             "colorbar": {
              "outlinewidth": 0,
              "ticks": ""
             }
            },
            "type": "parcoords"
           }
          ],
          "pie": [
           {
            "automargin": true,
            "type": "pie"
           }
          ],
          "scatter": [
           {
            "marker": {
             "colorbar": {
              "outlinewidth": 0,
              "ticks": ""
             }
            },
            "type": "scatter"
           }
          ],
          "scatter3d": [
           {
            "line": {
             "colorbar": {
              "outlinewidth": 0,
              "ticks": ""
             }
            },
            "marker": {
             "colorbar": {
              "outlinewidth": 0,
              "ticks": ""
             }
            },
            "type": "scatter3d"
           }
          ],
          "scattercarpet": [
           {
            "marker": {
             "colorbar": {
              "outlinewidth": 0,
              "ticks": ""
             }
            },
            "type": "scattercarpet"
           }
          ],
          "scattergeo": [
           {
            "marker": {
             "colorbar": {
              "outlinewidth": 0,
              "ticks": ""
             }
            },
            "type": "scattergeo"
           }
          ],
          "scattergl": [
           {
            "marker": {
             "colorbar": {
              "outlinewidth": 0,
              "ticks": ""
             }
            },
            "type": "scattergl"
           }
          ],
          "scattermapbox": [
           {
            "marker": {
             "colorbar": {
              "outlinewidth": 0,
              "ticks": ""
             }
            },
            "type": "scattermapbox"
           }
          ],
          "scatterpolar": [
           {
            "marker": {
             "colorbar": {
              "outlinewidth": 0,
              "ticks": ""
             }
            },
            "type": "scatterpolar"
           }
          ],
          "scatterpolargl": [
           {
            "marker": {
             "colorbar": {
              "outlinewidth": 0,
              "ticks": ""
             }
            },
            "type": "scatterpolargl"
           }
          ],
          "scatterternary": [
           {
            "marker": {
             "colorbar": {
              "outlinewidth": 0,
              "ticks": ""
             }
            },
            "type": "scatterternary"
           }
          ],
          "surface": [
           {
            "colorbar": {
             "outlinewidth": 0,
             "ticks": ""
            },
            "colorscale": [
             [
              0,
              "#0d0887"
             ],
             [
              0.1111111111111111,
              "#46039f"
             ],
             [
              0.2222222222222222,
              "#7201a8"
             ],
             [
              0.3333333333333333,
              "#9c179e"
             ],
             [
              0.4444444444444444,
              "#bd3786"
             ],
             [
              0.5555555555555556,
              "#d8576b"
             ],
             [
              0.6666666666666666,
              "#ed7953"
             ],
             [
              0.7777777777777778,
              "#fb9f3a"
             ],
             [
              0.8888888888888888,
              "#fdca26"
             ],
             [
              1,
              "#f0f921"
             ]
            ],
            "type": "surface"
           }
          ],
          "table": [
           {
            "cells": {
             "fill": {
              "color": "#EBF0F8"
             },
             "line": {
              "color": "white"
             }
            },
            "header": {
             "fill": {
              "color": "#C8D4E3"
             },
             "line": {
              "color": "white"
             }
            },
            "type": "table"
           }
          ]
         },
         "layout": {
          "annotationdefaults": {
           "arrowcolor": "#2a3f5f",
           "arrowhead": 0,
           "arrowwidth": 1
          },
          "autotypenumbers": "strict",
          "coloraxis": {
           "colorbar": {
            "outlinewidth": 0,
            "ticks": ""
           }
          },
          "colorscale": {
           "diverging": [
            [
             0,
             "#8e0152"
            ],
            [
             0.1,
             "#c51b7d"
            ],
            [
             0.2,
             "#de77ae"
            ],
            [
             0.3,
             "#f1b6da"
            ],
            [
             0.4,
             "#fde0ef"
            ],
            [
             0.5,
             "#f7f7f7"
            ],
            [
             0.6,
             "#e6f5d0"
            ],
            [
             0.7,
             "#b8e186"
            ],
            [
             0.8,
             "#7fbc41"
            ],
            [
             0.9,
             "#4d9221"
            ],
            [
             1,
             "#276419"
            ]
           ],
           "sequential": [
            [
             0,
             "#0d0887"
            ],
            [
             0.1111111111111111,
             "#46039f"
            ],
            [
             0.2222222222222222,
             "#7201a8"
            ],
            [
             0.3333333333333333,
             "#9c179e"
            ],
            [
             0.4444444444444444,
             "#bd3786"
            ],
            [
             0.5555555555555556,
             "#d8576b"
            ],
            [
             0.6666666666666666,
             "#ed7953"
            ],
            [
             0.7777777777777778,
             "#fb9f3a"
            ],
            [
             0.8888888888888888,
             "#fdca26"
            ],
            [
             1,
             "#f0f921"
            ]
           ],
           "sequentialminus": [
            [
             0,
             "#0d0887"
            ],
            [
             0.1111111111111111,
             "#46039f"
            ],
            [
             0.2222222222222222,
             "#7201a8"
            ],
            [
             0.3333333333333333,
             "#9c179e"
            ],
            [
             0.4444444444444444,
             "#bd3786"
            ],
            [
             0.5555555555555556,
             "#d8576b"
            ],
            [
             0.6666666666666666,
             "#ed7953"
            ],
            [
             0.7777777777777778,
             "#fb9f3a"
            ],
            [
             0.8888888888888888,
             "#fdca26"
            ],
            [
             1,
             "#f0f921"
            ]
           ]
          },
          "colorway": [
           "#636efa",
           "#EF553B",
           "#00cc96",
           "#ab63fa",
           "#FFA15A",
           "#19d3f3",
           "#FF6692",
           "#B6E880",
           "#FF97FF",
           "#FECB52"
          ],
          "font": {
           "color": "#2a3f5f"
          },
          "geo": {
           "bgcolor": "white",
           "lakecolor": "white",
           "landcolor": "#E5ECF6",
           "showlakes": true,
           "showland": true,
           "subunitcolor": "white"
          },
          "hoverlabel": {
           "align": "left"
          },
          "hovermode": "closest",
          "mapbox": {
           "style": "light"
          },
          "paper_bgcolor": "white",
          "plot_bgcolor": "#E5ECF6",
          "polar": {
           "angularaxis": {
            "gridcolor": "white",
            "linecolor": "white",
            "ticks": ""
           },
           "bgcolor": "#E5ECF6",
           "radialaxis": {
            "gridcolor": "white",
            "linecolor": "white",
            "ticks": ""
           }
          },
          "scene": {
           "xaxis": {
            "backgroundcolor": "#E5ECF6",
            "gridcolor": "white",
            "gridwidth": 2,
            "linecolor": "white",
            "showbackground": true,
            "ticks": "",
            "zerolinecolor": "white"
           },
           "yaxis": {
            "backgroundcolor": "#E5ECF6",
            "gridcolor": "white",
            "gridwidth": 2,
            "linecolor": "white",
            "showbackground": true,
            "ticks": "",
            "zerolinecolor": "white"
           },
           "zaxis": {
            "backgroundcolor": "#E5ECF6",
            "gridcolor": "white",
            "gridwidth": 2,
            "linecolor": "white",
            "showbackground": true,
            "ticks": "",
            "zerolinecolor": "white"
           }
          },
          "shapedefaults": {
           "line": {
            "color": "#2a3f5f"
           }
          },
          "ternary": {
           "aaxis": {
            "gridcolor": "white",
            "linecolor": "white",
            "ticks": ""
           },
           "baxis": {
            "gridcolor": "white",
            "linecolor": "white",
            "ticks": ""
           },
           "bgcolor": "#E5ECF6",
           "caxis": {
            "gridcolor": "white",
            "linecolor": "white",
            "ticks": ""
           }
          },
          "title": {
           "x": 0.05
          },
          "xaxis": {
           "automargin": true,
           "gridcolor": "white",
           "linecolor": "white",
           "ticks": "",
           "title": {
            "standoff": 15
           },
           "zerolinecolor": "white",
           "zerolinewidth": 2
          },
          "yaxis": {
           "automargin": true,
           "gridcolor": "white",
           "linecolor": "white",
           "ticks": "",
           "title": {
            "standoff": 15
           },
           "zerolinecolor": "white",
           "zerolinewidth": 2
          }
         }
        },
        "title": {
         "text": "Performance According to the Experience Level - R & D"
        },
        "xaxis": {
         "title": {
          "text": "Number of Years"
         },
         "zeroline": false
        },
        "yaxis": {
         "title": {
          "text": "Performance Rating "
         },
         "zeroline": false
        }
       }
      },
      "text/html": [
       "<div>                            <div id=\"cb98ea52-db7b-40e1-8adf-c516ddc67752\" class=\"plotly-graph-div\" style=\"height:525px; width:100%;\"></div>            <script type=\"text/javascript\">                require([\"plotly\"], function(Plotly) {                    window.PLOTLYENV=window.PLOTLYENV || {};                                    if (document.getElementById(\"cb98ea52-db7b-40e1-8adf-c516ddc67752\")) {                    Plotly.newPlot(                        \"cb98ea52-db7b-40e1-8adf-c516ddc67752\",                        [{\"boxmean\":false,\"marker\":{\"color\":\"#3D9970\"},\"name\":\"TotalWorkExperienceInYears\",\"orientation\":\"h\",\"x\":[3,5,4,0,22,16,9,8,4,19,27,8,21,4,3,8,30,17,21,21,10,9,6,8,29,8,5,18,15,31,1,19,10,6,7,20,14,3,23,14,7,7,1,23,1,6,27,18,11,10,21,21,9,18,6,5,8,16,10,3,0,6,2,9,4,20,6,1,8,16,15,14,2,28,10,1,7,14,6,26,1,6,32,25,1,7,20,2,10,17,15,20,9,33,10,1,36,6,25,23,12,7,6,25,9,1,8,34,2,25,15,5,26,4,18,18,2,8,10,10,5,2,22,21,2,10,10,10,25,23,6,10,9,7,31,7,11,29,0,10,33,5,15,10,4,14,12,13,24,20,8,5,8,10,7,20,29,32,9,10,1,6,10,17,7,5,7,7,11,11,10,24,10,16,7,20,8,6,12,1,13,29,16,16,4,8,8,1,10,4,8,14,10,26,11,11,5,15,32,4,10,9,5,8,24,15,2,8,10,1,34,7,10,1,9,10,10,15,19,10,9,9,25,3,21,6,18,6,19,10,9,9,10,6,10,6,9,12,15,6,34,11,5,27,5,1,24,15,6,14,7,15,11,7,11,6,28,15,14,23,0,15,6,11,10,7,12,11,8,29,1,19,1,11,16,4,10,22,1,24,10,5,5,18,4,8,12,6,16,16,20,8,10,28,5,4,5,8,9,6,8,9,9,10,1,20,13,9,4,5,10,12,7,25,9,12,14,5,4,10,10,6,8,18,20,16,6,18,13,4,14,21,4,8,10,20,4,10,5,10,9,6,6],\"y\":[3,3,3,3,3,3,2,3,2,2,3,3,3,2,2,3,3,3,2,3,3,3,2,3,3,3,2,3,3,4,3,4,2,2,3,3,2,2,3,2,3,3,4,3,3,3,2,2,4,3,2,3,3,3,3,3,3,3,2,3,3,3,3,3,3,2,4,3,3,3,3,4,3,3,3,4,3,3,3,3,3,3,4,3,3,3,4,4,3,4,2,3,2,3,2,4,3,3,3,3,3,3,3,4,3,4,4,3,2,3,3,3,3,3,3,3,3,3,3,2,3,3,4,3,2,3,3,3,3,3,3,3,3,3,3,3,3,3,4,3,3,3,2,2,3,3,3,4,3,2,3,3,3,3,3,3,3,4,3,3,3,3,2,2,3,4,3,3,3,4,3,3,3,3,3,2,4,3,2,3,2,3,2,2,3,3,3,3,4,3,3,3,3,2,3,3,2,3,3,3,2,3,3,4,3,2,3,3,2,3,3,3,3,3,2,2,3,2,4,2,3,3,4,3,3,3,3,2,3,3,4,3,3,3,3,3,3,3,3,3,3,3,4,3,3,3,3,3,3,3,3,2,3,2,2,3,3,2,3,2,3,4,3,3,4,2,3,3,3,3,4,3,4,3,4,3,2,2,3,3,3,4,2,3,2,3,3,2,3,3,3,3,4,2,3,3,3,3,3,3,4,2,4,3,3,3,4,3,2,3,3,3,3,2,3,4,2,3,3,3,2,3,3,2,2,4,2,3,4,2,2,3,3,3,3,3,3,3,2,2,3,3,3],\"type\":\"box\"},{\"boxmean\":false,\"marker\":{\"color\":\"#FF4136\"},\"name\":\"ExperienceYearsAtThisCompany\",\"orientation\":\"h\",\"x\":[2,4,4,0,10,16,8,8,4,2,15,2,21,3,3,1,5,8,21,21,8,1,3,2,8,4,5,5,14,9,1,16,10,5,6,19,11,3,3,13,6,7,1,22,1,0,5,8,7,9,18,20,5,11,5,3,7,1,10,3,0,1,2,6,4,18,4,1,8,1,7,13,2,5,10,1,3,14,6,7,0,0,2,4,1,7,20,2,8,7,14,1,9,5,10,1,10,6,8,1,11,1,6,1,7,1,8,33,2,9,11,4,25,3,1,16,2,7,8,7,3,2,0,19,2,10,7,9,3,19,4,9,9,3,10,4,10,5,0,9,19,5,12,8,4,14,6,6,5,20,8,4,3,2,3,4,20,9,3,4,1,5,10,6,6,3,5,4,8,1,10,7,3,9,5,3,3,5,12,1,12,8,14,2,3,5,0,1,3,3,8,0,5,14,9,11,4,5,32,1,10,7,5,5,20,15,1,2,10,1,33,5,8,1,2,10,5,15,1,10,8,5,23,3,21,5,1,6,10,10,5,9,9,6,3,5,6,7,1,1,1,9,5,3,5,1,2,12,5,10,4,7,7,3,3,5,22,7,7,2,0,1,5,11,6,2,9,7,0,22,1,5,1,3,5,3,9,19,1,22,2,5,4,13,2,7,4,5,15,8,20,4,5,5,5,4,5,7,5,4,1,4,9,10,1,20,11,5,4,5,10,12,2,17,4,5,13,2,3,10,9,6,1,7,18,16,4,4,13,2,10,20,4,2,10,5,4,4,5,9,7,6,4],\"y\":[3,3,3,3,3,3,2,3,2,2,3,3,3,2,2,3,3,3,2,3,3,3,2,3,3,3,2,3,3,4,3,4,2,2,3,3,2,2,3,2,3,3,4,3,3,3,2,2,4,3,2,3,3,3,3,3,3,3,2,3,3,3,3,3,3,2,4,3,3,3,3,4,3,3,3,4,3,3,3,3,3,3,4,3,3,3,4,4,3,4,2,3,2,3,2,4,3,3,3,3,3,3,3,4,3,4,4,3,2,3,3,3,3,3,3,3,3,3,3,2,3,3,4,3,2,3,3,3,3,3,3,3,3,3,3,3,3,3,4,3,3,3,2,2,3,3,3,4,3,2,3,3,3,3,3,3,3,4,3,3,3,3,2,2,3,4,3,3,3,4,3,3,3,3,3,2,4,3,2,3,2,3,2,2,3,3,3,3,4,3,3,3,3,2,3,3,2,3,3,3,2,3,3,4,3,2,3,3,2,3,3,3,3,3,2,2,3,2,4,2,3,3,4,3,3,3,3,2,3,3,4,3,3,3,3,3,3,3,3,3,3,3,4,3,3,3,3,3,3,3,3,2,3,2,2,3,3,2,3,2,3,4,3,3,4,2,3,3,3,3,4,3,4,3,4,3,2,2,3,3,3,4,2,3,2,3,3,2,3,3,3,3,4,2,3,3,3,3,3,3,4,2,4,3,3,3,4,3,2,3,3,3,3,2,3,4,2,3,3,3,2,3,3,2,2,4,2,3,4,2,2,3,3,3,3,3,3,3,2,2,3,3,3],\"type\":\"box\"},{\"boxmean\":false,\"marker\":{\"color\":\"#FF851B\"},\"name\":\"ExperienceYearsInCurrentRole\",\"orientation\":\"h\",\"x\":[1,2,3,0,7,10,7,7,3,2,11,2,6,2,2,0,3,7,16,6,7,0,2,2,1,3,3,4,8,7,0,13,7,3,2,9,10,2,2,7,2,7,1,6,0,0,4,6,5,7,7,7,4,9,3,2,5,0,7,1,0,0,2,2,2,7,3,1,7,1,7,9,2,2,8,1,2,8,4,7,0,0,2,2,0,7,11,2,7,7,10,0,7,4,5,1,9,5,7,0,10,0,0,0,7,0,5,9,2,7,8,2,9,2,0,14,2,0,4,7,2,2,0,9,2,4,7,8,2,9,2,7,6,2,9,2,9,2,0,7,16,4,11,7,2,11,2,4,3,7,2,3,2,2,2,3,7,8,2,3,0,0,4,5,5,2,4,2,7,0,8,7,1,8,2,2,1,2,9,0,9,7,8,2,2,4,0,0,2,2,6,0,2,9,7,8,3,4,6,0,8,7,3,4,8,14,1,2,8,0,7,2,2,0,2,9,2,10,0,9,7,3,15,2,6,2,0,2,7,0,4,8,7,2,2,0,1,7,0,0,0,8,3,2,4,0,1,8,3,8,3,7,1,2,2,4,11,4,1,2,0,0,4,8,3,2,8,0,0,10,0,2,0,2,3,2,8,7,0,17,0,2,2,7,2,7,2,3,10,7,11,1,2,4,3,2,4,7,1,1,0,3,7,9,0,9,7,2,3,2,9,8,2,14,3,3,8,2,2,7,7,2,0,7,16,11,3,2,12,2,9,7,2,2,2,3,3,3,4,4,7,2,3],\"y\":[3,3,3,3,3,3,2,3,2,2,3,3,3,2,2,3,3,3,2,3,3,3,2,3,3,3,2,3,3,4,3,4,2,2,3,3,2,2,3,2,3,3,4,3,3,3,2,2,4,3,2,3,3,3,3,3,3,3,2,3,3,3,3,3,3,2,4,3,3,3,3,4,3,3,3,4,3,3,3,3,3,3,4,3,3,3,4,4,3,4,2,3,2,3,2,4,3,3,3,3,3,3,3,4,3,4,4,3,2,3,3,3,3,3,3,3,3,3,3,2,3,3,4,3,2,3,3,3,3,3,3,3,3,3,3,3,3,3,4,3,3,3,2,2,3,3,3,4,3,2,3,3,3,3,3,3,3,4,3,3,3,3,2,2,3,4,3,3,3,4,3,3,3,3,3,2,4,3,2,3,2,3,2,2,3,3,3,3,4,3,3,3,3,2,3,3,2,3,3,3,2,3,3,4,3,2,3,3,2,3,3,3,3,3,2,2,3,2,4,2,3,3,4,3,3,3,3,2,3,3,4,3,3,3,3,3,3,3,3,3,3,3,4,3,3,3,3,3,3,3,3,2,3,2,2,3,3,2,3,2,3,4,3,3,4,2,3,3,3,3,4,3,4,3,4,3,2,2,3,3,3,4,2,3,2,3,3,2,3,3,3,3,4,2,3,3,3,3,3,3,4,2,4,3,3,3,4,3,2,3,3,3,3,2,3,4,2,3,3,3,2,3,3,2,2,4,2,3,4,2,2,3,3,3,3,3,3,3,2,2,3,3,3],\"type\":\"box\"}],                        {\"boxmode\":\"group\",\"template\":{\"data\":{\"barpolar\":[{\"marker\":{\"line\":{\"color\":\"#E5ECF6\",\"width\":0.5},\"pattern\":{\"fillmode\":\"overlay\",\"size\":10,\"solidity\":0.2}},\"type\":\"barpolar\"}],\"bar\":[{\"error_x\":{\"color\":\"#2a3f5f\"},\"error_y\":{\"color\":\"#2a3f5f\"},\"marker\":{\"line\":{\"color\":\"#E5ECF6\",\"width\":0.5},\"pattern\":{\"fillmode\":\"overlay\",\"size\":10,\"solidity\":0.2}},\"type\":\"bar\"}],\"carpet\":[{\"aaxis\":{\"endlinecolor\":\"#2a3f5f\",\"gridcolor\":\"white\",\"linecolor\":\"white\",\"minorgridcolor\":\"white\",\"startlinecolor\":\"#2a3f5f\"},\"baxis\":{\"endlinecolor\":\"#2a3f5f\",\"gridcolor\":\"white\",\"linecolor\":\"white\",\"minorgridcolor\":\"white\",\"startlinecolor\":\"#2a3f5f\"},\"type\":\"carpet\"}],\"choropleth\":[{\"colorbar\":{\"outlinewidth\":0,\"ticks\":\"\"},\"type\":\"choropleth\"}],\"contourcarpet\":[{\"colorbar\":{\"outlinewidth\":0,\"ticks\":\"\"},\"type\":\"contourcarpet\"}],\"contour\":[{\"colorbar\":{\"outlinewidth\":0,\"ticks\":\"\"},\"colorscale\":[[0.0,\"#0d0887\"],[0.1111111111111111,\"#46039f\"],[0.2222222222222222,\"#7201a8\"],[0.3333333333333333,\"#9c179e\"],[0.4444444444444444,\"#bd3786\"],[0.5555555555555556,\"#d8576b\"],[0.6666666666666666,\"#ed7953\"],[0.7777777777777778,\"#fb9f3a\"],[0.8888888888888888,\"#fdca26\"],[1.0,\"#f0f921\"]],\"type\":\"contour\"}],\"heatmapgl\":[{\"colorbar\":{\"outlinewidth\":0,\"ticks\":\"\"},\"colorscale\":[[0.0,\"#0d0887\"],[0.1111111111111111,\"#46039f\"],[0.2222222222222222,\"#7201a8\"],[0.3333333333333333,\"#9c179e\"],[0.4444444444444444,\"#bd3786\"],[0.5555555555555556,\"#d8576b\"],[0.6666666666666666,\"#ed7953\"],[0.7777777777777778,\"#fb9f3a\"],[0.8888888888888888,\"#fdca26\"],[1.0,\"#f0f921\"]],\"type\":\"heatmapgl\"}],\"heatmap\":[{\"colorbar\":{\"outlinewidth\":0,\"ticks\":\"\"},\"colorscale\":[[0.0,\"#0d0887\"],[0.1111111111111111,\"#46039f\"],[0.2222222222222222,\"#7201a8\"],[0.3333333333333333,\"#9c179e\"],[0.4444444444444444,\"#bd3786\"],[0.5555555555555556,\"#d8576b\"],[0.6666666666666666,\"#ed7953\"],[0.7777777777777778,\"#fb9f3a\"],[0.8888888888888888,\"#fdca26\"],[1.0,\"#f0f921\"]],\"type\":\"heatmap\"}],\"histogram2dcontour\":[{\"colorbar\":{\"outlinewidth\":0,\"ticks\":\"\"},\"colorscale\":[[0.0,\"#0d0887\"],[0.1111111111111111,\"#46039f\"],[0.2222222222222222,\"#7201a8\"],[0.3333333333333333,\"#9c179e\"],[0.4444444444444444,\"#bd3786\"],[0.5555555555555556,\"#d8576b\"],[0.6666666666666666,\"#ed7953\"],[0.7777777777777778,\"#fb9f3a\"],[0.8888888888888888,\"#fdca26\"],[1.0,\"#f0f921\"]],\"type\":\"histogram2dcontour\"}],\"histogram2d\":[{\"colorbar\":{\"outlinewidth\":0,\"ticks\":\"\"},\"colorscale\":[[0.0,\"#0d0887\"],[0.1111111111111111,\"#46039f\"],[0.2222222222222222,\"#7201a8\"],[0.3333333333333333,\"#9c179e\"],[0.4444444444444444,\"#bd3786\"],[0.5555555555555556,\"#d8576b\"],[0.6666666666666666,\"#ed7953\"],[0.7777777777777778,\"#fb9f3a\"],[0.8888888888888888,\"#fdca26\"],[1.0,\"#f0f921\"]],\"type\":\"histogram2d\"}],\"histogram\":[{\"marker\":{\"pattern\":{\"fillmode\":\"overlay\",\"size\":10,\"solidity\":0.2}},\"type\":\"histogram\"}],\"mesh3d\":[{\"colorbar\":{\"outlinewidth\":0,\"ticks\":\"\"},\"type\":\"mesh3d\"}],\"parcoords\":[{\"line\":{\"colorbar\":{\"outlinewidth\":0,\"ticks\":\"\"}},\"type\":\"parcoords\"}],\"pie\":[{\"automargin\":true,\"type\":\"pie\"}],\"scatter3d\":[{\"line\":{\"colorbar\":{\"outlinewidth\":0,\"ticks\":\"\"}},\"marker\":{\"colorbar\":{\"outlinewidth\":0,\"ticks\":\"\"}},\"type\":\"scatter3d\"}],\"scattercarpet\":[{\"marker\":{\"colorbar\":{\"outlinewidth\":0,\"ticks\":\"\"}},\"type\":\"scattercarpet\"}],\"scattergeo\":[{\"marker\":{\"colorbar\":{\"outlinewidth\":0,\"ticks\":\"\"}},\"type\":\"scattergeo\"}],\"scattergl\":[{\"marker\":{\"colorbar\":{\"outlinewidth\":0,\"ticks\":\"\"}},\"type\":\"scattergl\"}],\"scattermapbox\":[{\"marker\":{\"colorbar\":{\"outlinewidth\":0,\"ticks\":\"\"}},\"type\":\"scattermapbox\"}],\"scatterpolargl\":[{\"marker\":{\"colorbar\":{\"outlinewidth\":0,\"ticks\":\"\"}},\"type\":\"scatterpolargl\"}],\"scatterpolar\":[{\"marker\":{\"colorbar\":{\"outlinewidth\":0,\"ticks\":\"\"}},\"type\":\"scatterpolar\"}],\"scatter\":[{\"marker\":{\"colorbar\":{\"outlinewidth\":0,\"ticks\":\"\"}},\"type\":\"scatter\"}],\"scatterternary\":[{\"marker\":{\"colorbar\":{\"outlinewidth\":0,\"ticks\":\"\"}},\"type\":\"scatterternary\"}],\"surface\":[{\"colorbar\":{\"outlinewidth\":0,\"ticks\":\"\"},\"colorscale\":[[0.0,\"#0d0887\"],[0.1111111111111111,\"#46039f\"],[0.2222222222222222,\"#7201a8\"],[0.3333333333333333,\"#9c179e\"],[0.4444444444444444,\"#bd3786\"],[0.5555555555555556,\"#d8576b\"],[0.6666666666666666,\"#ed7953\"],[0.7777777777777778,\"#fb9f3a\"],[0.8888888888888888,\"#fdca26\"],[1.0,\"#f0f921\"]],\"type\":\"surface\"}],\"table\":[{\"cells\":{\"fill\":{\"color\":\"#EBF0F8\"},\"line\":{\"color\":\"white\"}},\"header\":{\"fill\":{\"color\":\"#C8D4E3\"},\"line\":{\"color\":\"white\"}},\"type\":\"table\"}]},\"layout\":{\"annotationdefaults\":{\"arrowcolor\":\"#2a3f5f\",\"arrowhead\":0,\"arrowwidth\":1},\"autotypenumbers\":\"strict\",\"coloraxis\":{\"colorbar\":{\"outlinewidth\":0,\"ticks\":\"\"}},\"colorscale\":{\"diverging\":[[0,\"#8e0152\"],[0.1,\"#c51b7d\"],[0.2,\"#de77ae\"],[0.3,\"#f1b6da\"],[0.4,\"#fde0ef\"],[0.5,\"#f7f7f7\"],[0.6,\"#e6f5d0\"],[0.7,\"#b8e186\"],[0.8,\"#7fbc41\"],[0.9,\"#4d9221\"],[1,\"#276419\"]],\"sequential\":[[0.0,\"#0d0887\"],[0.1111111111111111,\"#46039f\"],[0.2222222222222222,\"#7201a8\"],[0.3333333333333333,\"#9c179e\"],[0.4444444444444444,\"#bd3786\"],[0.5555555555555556,\"#d8576b\"],[0.6666666666666666,\"#ed7953\"],[0.7777777777777778,\"#fb9f3a\"],[0.8888888888888888,\"#fdca26\"],[1.0,\"#f0f921\"]],\"sequentialminus\":[[0.0,\"#0d0887\"],[0.1111111111111111,\"#46039f\"],[0.2222222222222222,\"#7201a8\"],[0.3333333333333333,\"#9c179e\"],[0.4444444444444444,\"#bd3786\"],[0.5555555555555556,\"#d8576b\"],[0.6666666666666666,\"#ed7953\"],[0.7777777777777778,\"#fb9f3a\"],[0.8888888888888888,\"#fdca26\"],[1.0,\"#f0f921\"]]},\"colorway\":[\"#636efa\",\"#EF553B\",\"#00cc96\",\"#ab63fa\",\"#FFA15A\",\"#19d3f3\",\"#FF6692\",\"#B6E880\",\"#FF97FF\",\"#FECB52\"],\"font\":{\"color\":\"#2a3f5f\"},\"geo\":{\"bgcolor\":\"white\",\"lakecolor\":\"white\",\"landcolor\":\"#E5ECF6\",\"showlakes\":true,\"showland\":true,\"subunitcolor\":\"white\"},\"hoverlabel\":{\"align\":\"left\"},\"hovermode\":\"closest\",\"mapbox\":{\"style\":\"light\"},\"paper_bgcolor\":\"white\",\"plot_bgcolor\":\"#E5ECF6\",\"polar\":{\"angularaxis\":{\"gridcolor\":\"white\",\"linecolor\":\"white\",\"ticks\":\"\"},\"bgcolor\":\"#E5ECF6\",\"radialaxis\":{\"gridcolor\":\"white\",\"linecolor\":\"white\",\"ticks\":\"\"}},\"scene\":{\"xaxis\":{\"backgroundcolor\":\"#E5ECF6\",\"gridcolor\":\"white\",\"gridwidth\":2,\"linecolor\":\"white\",\"showbackground\":true,\"ticks\":\"\",\"zerolinecolor\":\"white\"},\"yaxis\":{\"backgroundcolor\":\"#E5ECF6\",\"gridcolor\":\"white\",\"gridwidth\":2,\"linecolor\":\"white\",\"showbackground\":true,\"ticks\":\"\",\"zerolinecolor\":\"white\"},\"zaxis\":{\"backgroundcolor\":\"#E5ECF6\",\"gridcolor\":\"white\",\"gridwidth\":2,\"linecolor\":\"white\",\"showbackground\":true,\"ticks\":\"\",\"zerolinecolor\":\"white\"}},\"shapedefaults\":{\"line\":{\"color\":\"#2a3f5f\"}},\"ternary\":{\"aaxis\":{\"gridcolor\":\"white\",\"linecolor\":\"white\",\"ticks\":\"\"},\"baxis\":{\"gridcolor\":\"white\",\"linecolor\":\"white\",\"ticks\":\"\"},\"bgcolor\":\"#E5ECF6\",\"caxis\":{\"gridcolor\":\"white\",\"linecolor\":\"white\",\"ticks\":\"\"}},\"title\":{\"x\":0.05},\"xaxis\":{\"automargin\":true,\"gridcolor\":\"white\",\"linecolor\":\"white\",\"ticks\":\"\",\"title\":{\"standoff\":15},\"zerolinecolor\":\"white\",\"zerolinewidth\":2},\"yaxis\":{\"automargin\":true,\"gridcolor\":\"white\",\"linecolor\":\"white\",\"ticks\":\"\",\"title\":{\"standoff\":15},\"zerolinecolor\":\"white\",\"zerolinewidth\":2}}},\"title\":{\"text\":\"Performance According to the Experience Level - R & D\"},\"xaxis\":{\"title\":{\"text\":\"Number of Years\"},\"zeroline\":false},\"yaxis\":{\"title\":{\"text\":\"Performance Rating \"},\"zeroline\":false}},                        {\"responsive\": true}                    ).then(function(){\n",
       "                            \n",
       "var gd = document.getElementById('cb98ea52-db7b-40e1-8adf-c516ddc67752');\n",
       "var x = new MutationObserver(function (mutations, observer) {{\n",
       "        var display = window.getComputedStyle(gd).display;\n",
       "        if (!display || display === 'none') {{\n",
       "            console.log([gd, 'removed!']);\n",
       "            Plotly.purge(gd);\n",
       "            observer.disconnect();\n",
       "        }}\n",
       "}});\n",
       "\n",
       "// Listen for the removal of the full notebook cells\n",
       "var notebookContainer = gd.closest('#notebook-container');\n",
       "if (notebookContainer) {{\n",
       "    x.observe(notebookContainer, {childList: true});\n",
       "}}\n",
       "\n",
       "// Listen for the clearing of the current output cell\n",
       "var outputEl = gd.closest('.output');\n",
       "if (outputEl) {{\n",
       "    x.observe(outputEl, {childList: true});\n",
       "}}\n",
       "\n",
       "                        })                };                });            </script>        </div>"
      ]
     },
     "metadata": {},
     "output_type": "display_data"
    }
   ],
   "source": [
    "data = [\n",
    "    {\n",
    "        'x': RD['TotalWorkExperienceInYears'],\n",
    "        'y': RD['PerformanceRating'],\n",
    "        'name':'TotalWorkExperienceInYears',\n",
    "        'marker': {\n",
    "            'color': '#3D9970'\n",
    "        },\n",
    "        'boxmean': False,\n",
    "        'orientation': 'h',\n",
    "        \"type\": \"box\",\n",
    "    },\n",
    "    {\n",
    "        'x':RD['ExperienceYearsAtThisCompany'],\n",
    "        'y':RD['PerformanceRating'],\n",
    "        'name': 'ExperienceYearsAtThisCompany',\n",
    "        'marker':{\n",
    "            'color': '#FF4136',\n",
    "        },\n",
    "        'boxmean': False,\n",
    "        'orientation': 'h',\n",
    "        \"type\": \"box\",\n",
    "    },\n",
    "    {\n",
    "        'x': RD['ExperienceYearsInCurrentRole'],\n",
    "        'y': RD['PerformanceRating'],\n",
    "        'name':'ExperienceYearsInCurrentRole',\n",
    "        'marker': {\n",
    "            'color': '#FF851B',\n",
    "        },\n",
    "        'boxmean': False,\n",
    "        'orientation': 'h',\n",
    "                \"type\": \"box\",\n",
    "    }\n",
    "]\n",
    "layout = {\n",
    "    'xaxis': {\n",
    "        'title': 'Number of Years',\n",
    "        'zeroline': False,\n",
    "    },\n",
    "    'yaxis': {\n",
    "        'title': 'Performance Rating ',\n",
    "        'zeroline': False,\n",
    "    },\n",
    "    'boxmode': 'group',\n",
    "    'title': 'Performance According to the Experience Level - R & D',\n",
    "}\n",
    "fig = go.Figure(data=data, layout=layout)\n",
    "\n",
    "py.iplot(fig)"
   ]
  },
  {
   "cell_type": "markdown",
   "metadata": {},
   "source": [
    "## 6. Finance Department\n"
   ]
  },
  {
   "cell_type": "markdown",
   "metadata": {},
   "source": [
    "### Slicing the all columns of Finance Row "
   ]
  },
  {
   "cell_type": "code",
   "execution_count": 69,
   "metadata": {},
   "outputs": [
    {
     "data": {
      "text/html": [
       "<div>\n",
       "<style scoped>\n",
       "    .dataframe tbody tr th:only-of-type {\n",
       "        vertical-align: middle;\n",
       "    }\n",
       "\n",
       "    .dataframe tbody tr th {\n",
       "        vertical-align: top;\n",
       "    }\n",
       "\n",
       "    .dataframe thead th {\n",
       "        text-align: right;\n",
       "    }\n",
       "</style>\n",
       "<table border=\"1\" class=\"dataframe\">\n",
       "  <thead>\n",
       "    <tr style=\"text-align: right;\">\n",
       "      <th></th>\n",
       "      <th>EmpNumber</th>\n",
       "      <th>Age</th>\n",
       "      <th>Gender</th>\n",
       "      <th>EducationBackground</th>\n",
       "      <th>MaritalStatus</th>\n",
       "      <th>EmpDepartment</th>\n",
       "      <th>EmpJobRole</th>\n",
       "      <th>BusinessTravelFrequency</th>\n",
       "      <th>DistanceFromHome</th>\n",
       "      <th>EmpEducationLevel</th>\n",
       "      <th>...</th>\n",
       "      <th>EmpRelationshipSatisfaction</th>\n",
       "      <th>TotalWorkExperienceInYears</th>\n",
       "      <th>TrainingTimesLastYear</th>\n",
       "      <th>EmpWorkLifeBalance</th>\n",
       "      <th>ExperienceYearsAtThisCompany</th>\n",
       "      <th>ExperienceYearsInCurrentRole</th>\n",
       "      <th>YearsSinceLastPromotion</th>\n",
       "      <th>YearsWithCurrManager</th>\n",
       "      <th>Attrition</th>\n",
       "      <th>PerformanceRating</th>\n",
       "    </tr>\n",
       "  </thead>\n",
       "  <tbody>\n",
       "    <tr>\n",
       "      <th>482</th>\n",
       "      <td>E1001868</td>\n",
       "      <td>29</td>\n",
       "      <td>Male</td>\n",
       "      <td>Life Sciences</td>\n",
       "      <td>Divorced</td>\n",
       "      <td>Finance</td>\n",
       "      <td>Finance Manager</td>\n",
       "      <td>Travel_Frequently</td>\n",
       "      <td>2</td>\n",
       "      <td>1</td>\n",
       "      <td>...</td>\n",
       "      <td>4</td>\n",
       "      <td>6</td>\n",
       "      <td>0</td>\n",
       "      <td>4</td>\n",
       "      <td>6</td>\n",
       "      <td>4</td>\n",
       "      <td>1</td>\n",
       "      <td>3</td>\n",
       "      <td>No</td>\n",
       "      <td>2</td>\n",
       "    </tr>\n",
       "    <tr>\n",
       "      <th>484</th>\n",
       "      <td>E1001870</td>\n",
       "      <td>23</td>\n",
       "      <td>Male</td>\n",
       "      <td>Technical Degree</td>\n",
       "      <td>Married</td>\n",
       "      <td>Finance</td>\n",
       "      <td>Finance Manager</td>\n",
       "      <td>Travel_Rarely</td>\n",
       "      <td>10</td>\n",
       "      <td>3</td>\n",
       "      <td>...</td>\n",
       "      <td>4</td>\n",
       "      <td>4</td>\n",
       "      <td>2</td>\n",
       "      <td>3</td>\n",
       "      <td>2</td>\n",
       "      <td>2</td>\n",
       "      <td>2</td>\n",
       "      <td>2</td>\n",
       "      <td>No</td>\n",
       "      <td>3</td>\n",
       "    </tr>\n",
       "    <tr>\n",
       "      <th>485</th>\n",
       "      <td>E1001874</td>\n",
       "      <td>35</td>\n",
       "      <td>Male</td>\n",
       "      <td>Life Sciences</td>\n",
       "      <td>Married</td>\n",
       "      <td>Finance</td>\n",
       "      <td>Finance Manager</td>\n",
       "      <td>Travel_Rarely</td>\n",
       "      <td>28</td>\n",
       "      <td>3</td>\n",
       "      <td>...</td>\n",
       "      <td>4</td>\n",
       "      <td>10</td>\n",
       "      <td>3</td>\n",
       "      <td>2</td>\n",
       "      <td>10</td>\n",
       "      <td>9</td>\n",
       "      <td>6</td>\n",
       "      <td>8</td>\n",
       "      <td>No</td>\n",
       "      <td>2</td>\n",
       "    </tr>\n",
       "  </tbody>\n",
       "</table>\n",
       "<p>3 rows × 28 columns</p>\n",
       "</div>"
      ],
      "text/plain": [
       "    EmpNumber  Age Gender EducationBackground MaritalStatus EmpDepartment  \\\n",
       "482  E1001868   29   Male       Life Sciences      Divorced       Finance   \n",
       "484  E1001870   23   Male    Technical Degree       Married       Finance   \n",
       "485  E1001874   35   Male       Life Sciences       Married       Finance   \n",
       "\n",
       "          EmpJobRole BusinessTravelFrequency  DistanceFromHome  \\\n",
       "482  Finance Manager       Travel_Frequently                 2   \n",
       "484  Finance Manager           Travel_Rarely                10   \n",
       "485  Finance Manager           Travel_Rarely                28   \n",
       "\n",
       "     EmpEducationLevel  ...  EmpRelationshipSatisfaction  \\\n",
       "482                  1  ...                            4   \n",
       "484                  3  ...                            4   \n",
       "485                  3  ...                            4   \n",
       "\n",
       "     TotalWorkExperienceInYears  TrainingTimesLastYear  EmpWorkLifeBalance  \\\n",
       "482                           6                      0                   4   \n",
       "484                           4                      2                   3   \n",
       "485                          10                      3                   2   \n",
       "\n",
       "     ExperienceYearsAtThisCompany  ExperienceYearsInCurrentRole  \\\n",
       "482                             6                             4   \n",
       "484                             2                             2   \n",
       "485                            10                             9   \n",
       "\n",
       "    YearsSinceLastPromotion  YearsWithCurrManager  Attrition  \\\n",
       "482                       1                     3         No   \n",
       "484                       2                     2         No   \n",
       "485                       6                     8         No   \n",
       "\n",
       "     PerformanceRating  \n",
       "482                  2  \n",
       "484                  3  \n",
       "485                  2  \n",
       "\n",
       "[3 rows x 28 columns]"
      ]
     },
     "execution_count": 69,
     "metadata": {},
     "output_type": "execute_result"
    }
   ],
   "source": [
    "Finance = emp_data[emp_data.EmpDepartment == 'Finance'] \n",
    "Finance.head(3)"
   ]
  },
  {
   "cell_type": "markdown",
   "metadata": {},
   "source": [
    "### (i) Performance Rating with respect to number of employees"
   ]
  },
  {
   "cell_type": "code",
   "execution_count": 70,
   "metadata": {},
   "outputs": [
    {
     "data": {
      "image/png": "[encoded data removed]",
      "text/plain": [
       "<Figure size 432x288 with 1 Axes>"
      ]
     },
     "metadata": {
      "needs_background": "light"
     },
     "output_type": "display_data"
    }
   ],
   "source": [
    "sns.countplot(y=\"PerformanceRating\", data=Finance, palette=\"Greens_d\");"
   ]
  },
  {
   "cell_type": "markdown",
   "metadata": {},
   "source": [
    "### (ii) Performance Rating with respect to Age Group"
   ]
  },
  {
   "cell_type": "code",
   "execution_count": 71,
   "metadata": {},
   "outputs": [
    {
     "data": {
      "text/plain": [
       "<AxesSubplot:xlabel='PerformanceRating', ylabel='Age'>"
      ]
     },
     "execution_count": 71,
     "metadata": {},
     "output_type": "execute_result"
    },
    {
     "data": {
      "image/png": "[encoded data removed]",
      "text/plain": [
       "<Figure size 432x288 with 1 Axes>"
      ]
     },
     "metadata": {
      "needs_background": "light"
     },
     "output_type": "display_data"
    }
   ],
   "source": [
    "sns.boxplot(Finance['PerformanceRating'], Finance['Age'])"
   ]
  },
  {
   "cell_type": "markdown",
   "metadata": {},
   "source": [
    "### (iii) Performance based on Gender"
   ]
  },
  {
   "cell_type": "code",
   "execution_count": 72,
   "metadata": {},
   "outputs": [
    {
     "data": {
      "text/plain": [
       "<AxesSubplot:xlabel='Gender', ylabel='PerformanceRating'>"
      ]
     },
     "execution_count": 72,
     "metadata": {},
     "output_type": "execute_result"
    },
    {
     "data": {
      "image/png": "[encoded data removed]",
      "text/plain": [
       "<Figure size 432x288 with 1 Axes>"
      ]
     },
     "metadata": {
      "needs_background": "light"
     },
     "output_type": "display_data"
    }
   ],
   "source": [
    "sns.barplot(Finance['Gender'], Finance['PerformanceRating'])"
   ]
  },
  {
   "cell_type": "markdown",
   "metadata": {},
   "source": [
    "### (iv) Performance according to the Experience Level"
   ]
  },
  {
   "cell_type": "code",
   "execution_count": 73,
   "metadata": {},
   "outputs": [
    {
     "data": {
      "application/vnd.plotly.v1+json": {
       "config": {
        "linkText": "Export to plot.ly",
        "plotlyServerURL": "https://plot.ly",
        "showLink": false
       },
       "data": [
        {
         "boxmean": false,
         "marker": {
          "color": "#3D9970"
         },
         "name": "TotalWorkExperienceInYears",
         "orientation": "h",
         "type": "box",
         "x": [
          6,
          4,
          10,
          8,
          8,
          1,
          4,
          32,
          6,
          23,
          6,
          10,
          7,
          9,
          10,
          7,
          16,
          6,
          3,
          11,
          15,
          9,
          10,
          10,
          8,
          18,
          6,
          5,
          6,
          7,
          7,
          27,
          19,
          11,
          15,
          30,
          4,
          13,
          36,
          14,
          10,
          17,
          10,
          5,
          7,
          11,
          1,
          7,
          8
         ],
         "y": [
          2,
          3,
          2,
          3,
          3,
          3,
          2,
          2,
          3,
          2,
          2,
          3,
          3,
          3,
          3,
          3,
          2,
          3,
          3,
          3,
          3,
          3,
          2,
          3,
          2,
          3,
          2,
          3,
          3,
          3,
          4,
          2,
          3,
          3,
          2,
          3,
          3,
          4,
          2,
          4,
          3,
          3,
          3,
          3,
          3,
          2,
          3,
          4,
          2
         ]
        },
        {
         "boxmean": false,
         "marker": {
          "color": "#FF4136"
         },
         "name": "ExperienceYearsAtThisCompany",
         "orientation": "h",
         "type": "box",
         "x": [
          6,
          2,
          10,
          8,
          6,
          1,
          4,
          30,
          3,
          22,
          6,
          10,
          3,
          9,
          9,
          7,
          16,
          5,
          2,
          10,
          14,
          4,
          9,
          5,
          8,
          4,
          6,
          3,
          4,
          7,
          5,
          4,
          14,
          11,
          4,
          15,
          3,
          5,
          10,
          14,
          9,
          2,
          3,
          5,
          0,
          4,
          1,
          7,
          4
         ],
         "y": [
          2,
          3,
          2,
          3,
          3,
          3,
          2,
          2,
          3,
          2,
          2,
          3,
          3,
          3,
          3,
          3,
          2,
          3,
          3,
          3,
          3,
          3,
          2,
          3,
          2,
          3,
          2,
          3,
          3,
          3,
          4,
          2,
          3,
          3,
          2,
          3,
          3,
          4,
          2,
          4,
          3,
          3,
          3,
          3,
          3,
          2,
          3,
          4,
          2
         ]
        },
        {
         "boxmean": false,
         "marker": {
          "color": "#FF851B"
         },
         "name": "ExperienceYearsInCurrentRole",
         "orientation": "h",
         "type": "box",
         "x": [
          4,
          2,
          9,
          2,
          4,
          1,
          2,
          8,
          2,
          7,
          4,
          7,
          2,
          7,
          6,
          7,
          15,
          3,
          2,
          8,
          11,
          3,
          2,
          4,
          4,
          2,
          3,
          2,
          2,
          7,
          4,
          2,
          11,
          8,
          3,
          11,
          2,
          4,
          8,
          10,
          5,
          2,
          2,
          4,
          0,
          3,
          0,
          7,
          2
         ],
         "y": [
          2,
          3,
          2,
          3,
          3,
          3,
          2,
          2,
          3,
          2,
          2,
          3,
          3,
          3,
          3,
          3,
          2,
          3,
          3,
          3,
          3,
          3,
          2,
          3,
          2,
          3,
          2,
          3,
          3,
          3,
          4,
          2,
          3,
          3,
          2,
          3,
          3,
          4,
          2,
          4,
          3,
          3,
          3,
          3,
          3,
          2,
          3,
          4,
          2
         ]
        }
       ],
       "layout": {
        "boxmode": "group",
        "template": {
         "data": {
          "bar": [
           {
            "error_x": {
             "color": "#2a3f5f"
            },
            "error_y": {
             "color": "#2a3f5f"
            },
            "marker": {
             "line": {
              "color": "#E5ECF6",
              "width": 0.5
             },
             "pattern": {
              "fillmode": "overlay",
              "size": 10,
              "solidity": 0.2
             }
            },
            "type": "bar"
           }
          ],
          "barpolar": [
           {
            "marker": {
             "line": {
              "color": "#E5ECF6",
              "width": 0.5
             },
             "pattern": {
              "fillmode": "overlay",
              "size": 10,
              "solidity": 0.2
             }
            },
            "type": "barpolar"
           }
          ],
          "carpet": [
           {
            "aaxis": {
             "endlinecolor": "#2a3f5f",
             "gridcolor": "white",
             "linecolor": "white",
             "minorgridcolor": "white",
             "startlinecolor": "#2a3f5f"
            },
            "baxis": {
             "endlinecolor": "#2a3f5f",
             "gridcolor": "white",
             "linecolor": "white",
             "minorgridcolor": "white",
             "startlinecolor": "#2a3f5f"
            },
            "type": "carpet"
           }
          ],
          "choropleth": [
           {
            "colorbar": {
             "outlinewidth": 0,
             "ticks": ""
            },
            "type": "choropleth"
           }
          ],
          "contour": [
           {
            "colorbar": {
             "outlinewidth": 0,
             "ticks": ""
            },
            "colorscale": [
             [
              0,
              "#0d0887"
             ],
             [
              0.1111111111111111,
              "#46039f"
             ],
             [
              0.2222222222222222,
              "#7201a8"
             ],
             [
              0.3333333333333333,
              "#9c179e"
             ],
             [
              0.4444444444444444,
              "#bd3786"
             ],
             [
              0.5555555555555556,
              "#d8576b"
             ],
             [
              0.6666666666666666,
              "#ed7953"
             ],
             [
              0.7777777777777778,
              "#fb9f3a"
             ],
             [
              0.8888888888888888,
              "#fdca26"
             ],
             [
              1,
              "#f0f921"
             ]
            ],
            "type": "contour"
           }
          ],
          "contourcarpet": [
           {
            "colorbar": {
             "outlinewidth": 0,
             "ticks": ""
            },
            "type": "contourcarpet"
           }
          ],
          "heatmap": [
           {
            "colorbar": {
             "outlinewidth": 0,
             "ticks": ""
            },
            "colorscale": [
             [
              0,
              "#0d0887"
             ],
             [
              0.1111111111111111,
              "#46039f"
             ],
             [
              0.2222222222222222,
              "#7201a8"
             ],
             [
              0.3333333333333333,
              "#9c179e"
             ],
             [
              0.4444444444444444,
              "#bd3786"
             ],
             [
              0.5555555555555556,
              "#d8576b"
             ],
             [
              0.6666666666666666,
              "#ed7953"
             ],
             [
              0.7777777777777778,
              "#fb9f3a"
             ],
             [
              0.8888888888888888,
              "#fdca26"
             ],
             [
              1,
              "#f0f921"
             ]
            ],
            "type": "heatmap"
           }
          ],
          "heatmapgl": [
           {
            "colorbar": {
             "outlinewidth": 0,
             "ticks": ""
            },
            "colorscale": [
             [
              0,
              "#0d0887"
             ],
             [
              0.1111111111111111,
              "#46039f"
             ],
             [
              0.2222222222222222,
              "#7201a8"
             ],
             [
              0.3333333333333333,
              "#9c179e"
             ],
             [
              0.4444444444444444,
              "#bd3786"
             ],
             [
              0.5555555555555556,
              "#d8576b"
             ],
             [
              0.6666666666666666,
              "#ed7953"
             ],
             [
              0.7777777777777778,
              "#fb9f3a"
             ],
             [
              0.8888888888888888,
              "#fdca26"
             ],
             [
              1,
              "#f0f921"
             ]
            ],
            "type": "heatmapgl"
           }
          ],
          "histogram": [
           {
            "marker": {
             "pattern": {
              "fillmode": "overlay",
              "size": 10,
              "solidity": 0.2
             }
            },
            "type": "histogram"
           }
          ],
          "histogram2d": [
           {
            "colorbar": {
             "outlinewidth": 0,
             "ticks": ""
            },
            "colorscale": [
             [
              0,
              "#0d0887"
             ],
             [
              0.1111111111111111,
              "#46039f"
             ],
             [
              0.2222222222222222,
              "#7201a8"
             ],
             [
              0.3333333333333333,
              "#9c179e"
             ],
             [
              0.4444444444444444,
              "#bd3786"
             ],
             [
              0.5555555555555556,
              "#d8576b"
             ],
             [
              0.6666666666666666,
              "#ed7953"
             ],
             [
              0.7777777777777778,
              "#fb9f3a"
             ],
             [
              0.8888888888888888,
              "#fdca26"
             ],
             [
              1,
              "#f0f921"
             ]
            ],
            "type": "histogram2d"
           }
          ],
          "histogram2dcontour": [
           {
            "colorbar": {
             "outlinewidth": 0,
             "ticks": ""
            },
            "colorscale": [
             [
              0,
              "#0d0887"
             ],
             [
              0.1111111111111111,
              "#46039f"
             ],
             [
              0.2222222222222222,
              "#7201a8"
             ],
             [
              0.3333333333333333,
              "#9c179e"
             ],
             [
              0.4444444444444444,
              "#bd3786"
             ],
             [
              0.5555555555555556,
              "#d8576b"
             ],
             [
              0.6666666666666666,
              "#ed7953"
             ],
             [
              0.7777777777777778,
              "#fb9f3a"
             ],
             [
              0.8888888888888888,
              "#fdca26"
             ],
             [
              1,
              "#f0f921"
             ]
            ],
            "type": "histogram2dcontour"
           }
          ],
          "mesh3d": [
           {
            "colorbar": {
             "outlinewidth": 0,
             "ticks": ""
            },
            "type": "mesh3d"
           }
          ],
          "parcoords": [
           {
            "line": {
             "colorbar": {
              "outlinewidth": 0,
              "ticks": ""
             }
            },
            "type": "parcoords"
           }
          ],
          "pie": [
           {
            "automargin": true,
            "type": "pie"
           }
          ],
          "scatter": [
           {
            "marker": {
             "colorbar": {
              "outlinewidth": 0,
              "ticks": ""
             }
            },
            "type": "scatter"
           }
          ],
          "scatter3d": [
           {
            "line": {
             "colorbar": {
              "outlinewidth": 0,
              "ticks": ""
             }
            },
            "marker": {
             "colorbar": {
              "outlinewidth": 0,
              "ticks": ""
             }
            },
            "type": "scatter3d"
           }
          ],
          "scattercarpet": [
           {
            "marker": {
             "colorbar": {
              "outlinewidth": 0,
              "ticks": ""
             }
            },
            "type": "scattercarpet"
           }
          ],
          "scattergeo": [
           {
            "marker": {
             "colorbar": {
              "outlinewidth": 0,
              "ticks": ""
             }
            },
            "type": "scattergeo"
           }
          ],
          "scattergl": [
           {
            "marker": {
             "colorbar": {
              "outlinewidth": 0,
              "ticks": ""
             }
            },
            "type": "scattergl"
           }
          ],
          "scattermapbox": [
           {
            "marker": {
             "colorbar": {
              "outlinewidth": 0,
              "ticks": ""
             }
            },
            "type": "scattermapbox"
           }
          ],
          "scatterpolar": [
           {
            "marker": {
             "colorbar": {
              "outlinewidth": 0,
              "ticks": ""
             }
            },
            "type": "scatterpolar"
           }
          ],
          "scatterpolargl": [
           {
            "marker": {
             "colorbar": {
              "outlinewidth": 0,
              "ticks": ""
             }
            },
            "type": "scatterpolargl"
           }
          ],
          "scatterternary": [
           {
            "marker": {
             "colorbar": {
              "outlinewidth": 0,
              "ticks": ""
             }
            },
            "type": "scatterternary"
           }
          ],
          "surface": [
           {
            "colorbar": {
             "outlinewidth": 0,
             "ticks": ""
            },
            "colorscale": [
             [
              0,
              "#0d0887"
             ],
             [
              0.1111111111111111,
              "#46039f"
             ],
             [
              0.2222222222222222,
              "#7201a8"
             ],
             [
              0.3333333333333333,
              "#9c179e"
             ],
             [
              0.4444444444444444,
              "#bd3786"
             ],
             [
              0.5555555555555556,
              "#d8576b"
             ],
             [
              0.6666666666666666,
              "#ed7953"
             ],
             [
              0.7777777777777778,
              "#fb9f3a"
             ],
             [
              0.8888888888888888,
              "#fdca26"
             ],
             [
              1,
              "#f0f921"
             ]
            ],
            "type": "surface"
           }
          ],
          "table": [
           {
            "cells": {
             "fill": {
              "color": "#EBF0F8"
             },
             "line": {
              "color": "white"
             }
            },
            "header": {
             "fill": {
              "color": "#C8D4E3"
             },
             "line": {
              "color": "white"
             }
            },
            "type": "table"
           }
          ]
         },
         "layout": {
          "annotationdefaults": {
           "arrowcolor": "#2a3f5f",
           "arrowhead": 0,
           "arrowwidth": 1
          },
          "autotypenumbers": "strict",
          "coloraxis": {
           "colorbar": {
            "outlinewidth": 0,
            "ticks": ""
           }
          },
          "colorscale": {
           "diverging": [
            [
             0,
             "#8e0152"
            ],
            [
             0.1,
             "#c51b7d"
            ],
            [
             0.2,
             "#de77ae"
            ],
            [
             0.3,
             "#f1b6da"
            ],
            [
             0.4,
             "#fde0ef"
            ],
            [
             0.5,
             "#f7f7f7"
            ],
            [
             0.6,
             "#e6f5d0"
            ],
            [
             0.7,
             "#b8e186"
            ],
            [
             0.8,
             "#7fbc41"
            ],
            [
             0.9,
             "#4d9221"
            ],
            [
             1,
             "#276419"
            ]
           ],
           "sequential": [
            [
             0,
             "#0d0887"
            ],
            [
             0.1111111111111111,
             "#46039f"
            ],
            [
             0.2222222222222222,
             "#7201a8"
            ],
            [
             0.3333333333333333,
             "#9c179e"
            ],
            [
             0.4444444444444444,
             "#bd3786"
            ],
            [
             0.5555555555555556,
             "#d8576b"
            ],
            [
             0.6666666666666666,
             "#ed7953"
            ],
            [
             0.7777777777777778,
             "#fb9f3a"
            ],
            [
             0.8888888888888888,
             "#fdca26"
            ],
            [
             1,
             "#f0f921"
            ]
           ],
           "sequentialminus": [
            [
             0,
             "#0d0887"
            ],
            [
             0.1111111111111111,
             "#46039f"
            ],
            [
             0.2222222222222222,
             "#7201a8"
            ],
            [
             0.3333333333333333,
             "#9c179e"
            ],
            [
             0.4444444444444444,
             "#bd3786"
            ],
            [
             0.5555555555555556,
             "#d8576b"
            ],
            [
             0.6666666666666666,
             "#ed7953"
            ],
            [
             0.7777777777777778,
             "#fb9f3a"
            ],
            [
             0.8888888888888888,
             "#fdca26"
            ],
            [
             1,
             "#f0f921"
            ]
           ]
          },
          "colorway": [
           "#636efa",
           "#EF553B",
           "#00cc96",
           "#ab63fa",
           "#FFA15A",
           "#19d3f3",
           "#FF6692",
           "#B6E880",
           "#FF97FF",
           "#FECB52"
          ],
          "font": {
           "color": "#2a3f5f"
          },
          "geo": {
           "bgcolor": "white",
           "lakecolor": "white",
           "landcolor": "#E5ECF6",
           "showlakes": true,
           "showland": true,
           "subunitcolor": "white"
          },
          "hoverlabel": {
           "align": "left"
          },
          "hovermode": "closest",
          "mapbox": {
           "style": "light"
          },
          "paper_bgcolor": "white",
          "plot_bgcolor": "#E5ECF6",
          "polar": {
           "angularaxis": {
            "gridcolor": "white",
            "linecolor": "white",
            "ticks": ""
           },
           "bgcolor": "#E5ECF6",
           "radialaxis": {
            "gridcolor": "white",
            "linecolor": "white",
            "ticks": ""
           }
          },
          "scene": {
           "xaxis": {
            "backgroundcolor": "#E5ECF6",
            "gridcolor": "white",
            "gridwidth": 2,
            "linecolor": "white",
            "showbackground": true,
            "ticks": "",
            "zerolinecolor": "white"
           },
           "yaxis": {
            "backgroundcolor": "#E5ECF6",
            "gridcolor": "white",
            "gridwidth": 2,
            "linecolor": "white",
            "showbackground": true,
            "ticks": "",
            "zerolinecolor": "white"
           },
           "zaxis": {
            "backgroundcolor": "#E5ECF6",
            "gridcolor": "white",
            "gridwidth": 2,
            "linecolor": "white",
            "showbackground": true,
            "ticks": "",
            "zerolinecolor": "white"
           }
          },
          "shapedefaults": {
           "line": {
            "color": "#2a3f5f"
           }
          },
          "ternary": {
           "aaxis": {
            "gridcolor": "white",
            "linecolor": "white",
            "ticks": ""
           },
           "baxis": {
            "gridcolor": "white",
            "linecolor": "white",
            "ticks": ""
           },
           "bgcolor": "#E5ECF6",
           "caxis": {
            "gridcolor": "white",
            "linecolor": "white",
            "ticks": ""
           }
          },
          "title": {
           "x": 0.05
          },
          "xaxis": {
           "automargin": true,
           "gridcolor": "white",
           "linecolor": "white",
           "ticks": "",
           "title": {
            "standoff": 15
           },
           "zerolinecolor": "white",
           "zerolinewidth": 2
          },
          "yaxis": {
           "automargin": true,
           "gridcolor": "white",
           "linecolor": "white",
           "ticks": "",
           "title": {
            "standoff": 15
           },
           "zerolinecolor": "white",
           "zerolinewidth": 2
          }
         }
        },
        "title": {
         "text": "Performance According to the Experience Level - Finance "
        },
        "xaxis": {
         "title": {
          "text": "Number of Years"
         },
         "zeroline": false
        },
        "yaxis": {
         "title": {
          "text": "Performance Rating "
         },
         "zeroline": false
        }
       }
      },
      "text/html": [
       "<div>                            <div id=\"61813714-2f98-49eb-851f-bd582285e0a9\" class=\"plotly-graph-div\" style=\"height:525px; width:100%;\"></div>            <script type=\"text/javascript\">                require([\"plotly\"], function(Plotly) {                    window.PLOTLYENV=window.PLOTLYENV || {};                                    if (document.getElementById(\"61813714-2f98-49eb-851f-bd582285e0a9\")) {                    Plotly.newPlot(                        \"61813714-2f98-49eb-851f-bd582285e0a9\",                        [{\"boxmean\":false,\"marker\":{\"color\":\"#3D9970\"},\"name\":\"TotalWorkExperienceInYears\",\"orientation\":\"h\",\"x\":[6,4,10,8,8,1,4,32,6,23,6,10,7,9,10,7,16,6,3,11,15,9,10,10,8,18,6,5,6,7,7,27,19,11,15,30,4,13,36,14,10,17,10,5,7,11,1,7,8],\"y\":[2,3,2,3,3,3,2,2,3,2,2,3,3,3,3,3,2,3,3,3,3,3,2,3,2,3,2,3,3,3,4,2,3,3,2,3,3,4,2,4,3,3,3,3,3,2,3,4,2],\"type\":\"box\"},{\"boxmean\":false,\"marker\":{\"color\":\"#FF4136\"},\"name\":\"ExperienceYearsAtThisCompany\",\"orientation\":\"h\",\"x\":[6,2,10,8,6,1,4,30,3,22,6,10,3,9,9,7,16,5,2,10,14,4,9,5,8,4,6,3,4,7,5,4,14,11,4,15,3,5,10,14,9,2,3,5,0,4,1,7,4],\"y\":[2,3,2,3,3,3,2,2,3,2,2,3,3,3,3,3,2,3,3,3,3,3,2,3,2,3,2,3,3,3,4,2,3,3,2,3,3,4,2,4,3,3,3,3,3,2,3,4,2],\"type\":\"box\"},{\"boxmean\":false,\"marker\":{\"color\":\"#FF851B\"},\"name\":\"ExperienceYearsInCurrentRole\",\"orientation\":\"h\",\"x\":[4,2,9,2,4,1,2,8,2,7,4,7,2,7,6,7,15,3,2,8,11,3,2,4,4,2,3,2,2,7,4,2,11,8,3,11,2,4,8,10,5,2,2,4,0,3,0,7,2],\"y\":[2,3,2,3,3,3,2,2,3,2,2,3,3,3,3,3,2,3,3,3,3,3,2,3,2,3,2,3,3,3,4,2,3,3,2,3,3,4,2,4,3,3,3,3,3,2,3,4,2],\"type\":\"box\"}],                        {\"boxmode\":\"group\",\"template\":{\"data\":{\"barpolar\":[{\"marker\":{\"line\":{\"color\":\"#E5ECF6\",\"width\":0.5},\"pattern\":{\"fillmode\":\"overlay\",\"size\":10,\"solidity\":0.2}},\"type\":\"barpolar\"}],\"bar\":[{\"error_x\":{\"color\":\"#2a3f5f\"},\"error_y\":{\"color\":\"#2a3f5f\"},\"marker\":{\"line\":{\"color\":\"#E5ECF6\",\"width\":0.5},\"pattern\":{\"fillmode\":\"overlay\",\"size\":10,\"solidity\":0.2}},\"type\":\"bar\"}],\"carpet\":[{\"aaxis\":{\"endlinecolor\":\"#2a3f5f\",\"gridcolor\":\"white\",\"linecolor\":\"white\",\"minorgridcolor\":\"white\",\"startlinecolor\":\"#2a3f5f\"},\"baxis\":{\"endlinecolor\":\"#2a3f5f\",\"gridcolor\":\"white\",\"linecolor\":\"white\",\"minorgridcolor\":\"white\",\"startlinecolor\":\"#2a3f5f\"},\"type\":\"carpet\"}],\"choropleth\":[{\"colorbar\":{\"outlinewidth\":0,\"ticks\":\"\"},\"type\":\"choropleth\"}],\"contourcarpet\":[{\"colorbar\":{\"outlinewidth\":0,\"ticks\":\"\"},\"type\":\"contourcarpet\"}],\"contour\":[{\"colorbar\":{\"outlinewidth\":0,\"ticks\":\"\"},\"colorscale\":[[0.0,\"#0d0887\"],[0.1111111111111111,\"#46039f\"],[0.2222222222222222,\"#7201a8\"],[0.3333333333333333,\"#9c179e\"],[0.4444444444444444,\"#bd3786\"],[0.5555555555555556,\"#d8576b\"],[0.6666666666666666,\"#ed7953\"],[0.7777777777777778,\"#fb9f3a\"],[0.8888888888888888,\"#fdca26\"],[1.0,\"#f0f921\"]],\"type\":\"contour\"}],\"heatmapgl\":[{\"colorbar\":{\"outlinewidth\":0,\"ticks\":\"\"},\"colorscale\":[[0.0,\"#0d0887\"],[0.1111111111111111,\"#46039f\"],[0.2222222222222222,\"#7201a8\"],[0.3333333333333333,\"#9c179e\"],[0.4444444444444444,\"#bd3786\"],[0.5555555555555556,\"#d8576b\"],[0.6666666666666666,\"#ed7953\"],[0.7777777777777778,\"#fb9f3a\"],[0.8888888888888888,\"#fdca26\"],[1.0,\"#f0f921\"]],\"type\":\"heatmapgl\"}],\"heatmap\":[{\"colorbar\":{\"outlinewidth\":0,\"ticks\":\"\"},\"colorscale\":[[0.0,\"#0d0887\"],[0.1111111111111111,\"#46039f\"],[0.2222222222222222,\"#7201a8\"],[0.3333333333333333,\"#9c179e\"],[0.4444444444444444,\"#bd3786\"],[0.5555555555555556,\"#d8576b\"],[0.6666666666666666,\"#ed7953\"],[0.7777777777777778,\"#fb9f3a\"],[0.8888888888888888,\"#fdca26\"],[1.0,\"#f0f921\"]],\"type\":\"heatmap\"}],\"histogram2dcontour\":[{\"colorbar\":{\"outlinewidth\":0,\"ticks\":\"\"},\"colorscale\":[[0.0,\"#0d0887\"],[0.1111111111111111,\"#46039f\"],[0.2222222222222222,\"#7201a8\"],[0.3333333333333333,\"#9c179e\"],[0.4444444444444444,\"#bd3786\"],[0.5555555555555556,\"#d8576b\"],[0.6666666666666666,\"#ed7953\"],[0.7777777777777778,\"#fb9f3a\"],[0.8888888888888888,\"#fdca26\"],[1.0,\"#f0f921\"]],\"type\":\"histogram2dcontour\"}],\"histogram2d\":[{\"colorbar\":{\"outlinewidth\":0,\"ticks\":\"\"},\"colorscale\":[[0.0,\"#0d0887\"],[0.1111111111111111,\"#46039f\"],[0.2222222222222222,\"#7201a8\"],[0.3333333333333333,\"#9c179e\"],[0.4444444444444444,\"#bd3786\"],[0.5555555555555556,\"#d8576b\"],[0.6666666666666666,\"#ed7953\"],[0.7777777777777778,\"#fb9f3a\"],[0.8888888888888888,\"#fdca26\"],[1.0,\"#f0f921\"]],\"type\":\"histogram2d\"}],\"histogram\":[{\"marker\":{\"pattern\":{\"fillmode\":\"overlay\",\"size\":10,\"solidity\":0.2}},\"type\":\"histogram\"}],\"mesh3d\":[{\"colorbar\":{\"outlinewidth\":0,\"ticks\":\"\"},\"type\":\"mesh3d\"}],\"parcoords\":[{\"line\":{\"colorbar\":{\"outlinewidth\":0,\"ticks\":\"\"}},\"type\":\"parcoords\"}],\"pie\":[{\"automargin\":true,\"type\":\"pie\"}],\"scatter3d\":[{\"line\":{\"colorbar\":{\"outlinewidth\":0,\"ticks\":\"\"}},\"marker\":{\"colorbar\":{\"outlinewidth\":0,\"ticks\":\"\"}},\"type\":\"scatter3d\"}],\"scattercarpet\":[{\"marker\":{\"colorbar\":{\"outlinewidth\":0,\"ticks\":\"\"}},\"type\":\"scattercarpet\"}],\"scattergeo\":[{\"marker\":{\"colorbar\":{\"outlinewidth\":0,\"ticks\":\"\"}},\"type\":\"scattergeo\"}],\"scattergl\":[{\"marker\":{\"colorbar\":{\"outlinewidth\":0,\"ticks\":\"\"}},\"type\":\"scattergl\"}],\"scattermapbox\":[{\"marker\":{\"colorbar\":{\"outlinewidth\":0,\"ticks\":\"\"}},\"type\":\"scattermapbox\"}],\"scatterpolargl\":[{\"marker\":{\"colorbar\":{\"outlinewidth\":0,\"ticks\":\"\"}},\"type\":\"scatterpolargl\"}],\"scatterpolar\":[{\"marker\":{\"colorbar\":{\"outlinewidth\":0,\"ticks\":\"\"}},\"type\":\"scatterpolar\"}],\"scatter\":[{\"marker\":{\"colorbar\":{\"outlinewidth\":0,\"ticks\":\"\"}},\"type\":\"scatter\"}],\"scatterternary\":[{\"marker\":{\"colorbar\":{\"outlinewidth\":0,\"ticks\":\"\"}},\"type\":\"scatterternary\"}],\"surface\":[{\"colorbar\":{\"outlinewidth\":0,\"ticks\":\"\"},\"colorscale\":[[0.0,\"#0d0887\"],[0.1111111111111111,\"#46039f\"],[0.2222222222222222,\"#7201a8\"],[0.3333333333333333,\"#9c179e\"],[0.4444444444444444,\"#bd3786\"],[0.5555555555555556,\"#d8576b\"],[0.6666666666666666,\"#ed7953\"],[0.7777777777777778,\"#fb9f3a\"],[0.8888888888888888,\"#fdca26\"],[1.0,\"#f0f921\"]],\"type\":\"surface\"}],\"table\":[{\"cells\":{\"fill\":{\"color\":\"#EBF0F8\"},\"line\":{\"color\":\"white\"}},\"header\":{\"fill\":{\"color\":\"#C8D4E3\"},\"line\":{\"color\":\"white\"}},\"type\":\"table\"}]},\"layout\":{\"annotationdefaults\":{\"arrowcolor\":\"#2a3f5f\",\"arrowhead\":0,\"arrowwidth\":1},\"autotypenumbers\":\"strict\",\"coloraxis\":{\"colorbar\":{\"outlinewidth\":0,\"ticks\":\"\"}},\"colorscale\":{\"diverging\":[[0,\"#8e0152\"],[0.1,\"#c51b7d\"],[0.2,\"#de77ae\"],[0.3,\"#f1b6da\"],[0.4,\"#fde0ef\"],[0.5,\"#f7f7f7\"],[0.6,\"#e6f5d0\"],[0.7,\"#b8e186\"],[0.8,\"#7fbc41\"],[0.9,\"#4d9221\"],[1,\"#276419\"]],\"sequential\":[[0.0,\"#0d0887\"],[0.1111111111111111,\"#46039f\"],[0.2222222222222222,\"#7201a8\"],[0.3333333333333333,\"#9c179e\"],[0.4444444444444444,\"#bd3786\"],[0.5555555555555556,\"#d8576b\"],[0.6666666666666666,\"#ed7953\"],[0.7777777777777778,\"#fb9f3a\"],[0.8888888888888888,\"#fdca26\"],[1.0,\"#f0f921\"]],\"sequentialminus\":[[0.0,\"#0d0887\"],[0.1111111111111111,\"#46039f\"],[0.2222222222222222,\"#7201a8\"],[0.3333333333333333,\"#9c179e\"],[0.4444444444444444,\"#bd3786\"],[0.5555555555555556,\"#d8576b\"],[0.6666666666666666,\"#ed7953\"],[0.7777777777777778,\"#fb9f3a\"],[0.8888888888888888,\"#fdca26\"],[1.0,\"#f0f921\"]]},\"colorway\":[\"#636efa\",\"#EF553B\",\"#00cc96\",\"#ab63fa\",\"#FFA15A\",\"#19d3f3\",\"#FF6692\",\"#B6E880\",\"#FF97FF\",\"#FECB52\"],\"font\":{\"color\":\"#2a3f5f\"},\"geo\":{\"bgcolor\":\"white\",\"lakecolor\":\"white\",\"landcolor\":\"#E5ECF6\",\"showlakes\":true,\"showland\":true,\"subunitcolor\":\"white\"},\"hoverlabel\":{\"align\":\"left\"},\"hovermode\":\"closest\",\"mapbox\":{\"style\":\"light\"},\"paper_bgcolor\":\"white\",\"plot_bgcolor\":\"#E5ECF6\",\"polar\":{\"angularaxis\":{\"gridcolor\":\"white\",\"linecolor\":\"white\",\"ticks\":\"\"},\"bgcolor\":\"#E5ECF6\",\"radialaxis\":{\"gridcolor\":\"white\",\"linecolor\":\"white\",\"ticks\":\"\"}},\"scene\":{\"xaxis\":{\"backgroundcolor\":\"#E5ECF6\",\"gridcolor\":\"white\",\"gridwidth\":2,\"linecolor\":\"white\",\"showbackground\":true,\"ticks\":\"\",\"zerolinecolor\":\"white\"},\"yaxis\":{\"backgroundcolor\":\"#E5ECF6\",\"gridcolor\":\"white\",\"gridwidth\":2,\"linecolor\":\"white\",\"showbackground\":true,\"ticks\":\"\",\"zerolinecolor\":\"white\"},\"zaxis\":{\"backgroundcolor\":\"#E5ECF6\",\"gridcolor\":\"white\",\"gridwidth\":2,\"linecolor\":\"white\",\"showbackground\":true,\"ticks\":\"\",\"zerolinecolor\":\"white\"}},\"shapedefaults\":{\"line\":{\"color\":\"#2a3f5f\"}},\"ternary\":{\"aaxis\":{\"gridcolor\":\"white\",\"linecolor\":\"white\",\"ticks\":\"\"},\"baxis\":{\"gridcolor\":\"white\",\"linecolor\":\"white\",\"ticks\":\"\"},\"bgcolor\":\"#E5ECF6\",\"caxis\":{\"gridcolor\":\"white\",\"linecolor\":\"white\",\"ticks\":\"\"}},\"title\":{\"x\":0.05},\"xaxis\":{\"automargin\":true,\"gridcolor\":\"white\",\"linecolor\":\"white\",\"ticks\":\"\",\"title\":{\"standoff\":15},\"zerolinecolor\":\"white\",\"zerolinewidth\":2},\"yaxis\":{\"automargin\":true,\"gridcolor\":\"white\",\"linecolor\":\"white\",\"ticks\":\"\",\"title\":{\"standoff\":15},\"zerolinecolor\":\"white\",\"zerolinewidth\":2}}},\"title\":{\"text\":\"Performance According to the Experience Level - Finance \"},\"xaxis\":{\"title\":{\"text\":\"Number of Years\"},\"zeroline\":false},\"yaxis\":{\"title\":{\"text\":\"Performance Rating \"},\"zeroline\":false}},                        {\"responsive\": true}                    ).then(function(){\n",
       "                            \n",
       "var gd = document.getElementById('61813714-2f98-49eb-851f-bd582285e0a9');\n",
       "var x = new MutationObserver(function (mutations, observer) {{\n",
       "        var display = window.getComputedStyle(gd).display;\n",
       "        if (!display || display === 'none') {{\n",
       "            console.log([gd, 'removed!']);\n",
       "            Plotly.purge(gd);\n",
       "            observer.disconnect();\n",
       "        }}\n",
       "}});\n",
       "\n",
       "// Listen for the removal of the full notebook cells\n",
       "var notebookContainer = gd.closest('#notebook-container');\n",
       "if (notebookContainer) {{\n",
       "    x.observe(notebookContainer, {childList: true});\n",
       "}}\n",
       "\n",
       "// Listen for the clearing of the current output cell\n",
       "var outputEl = gd.closest('.output');\n",
       "if (outputEl) {{\n",
       "    x.observe(outputEl, {childList: true});\n",
       "}}\n",
       "\n",
       "                        })                };                });            </script>        </div>"
      ]
     },
     "metadata": {},
     "output_type": "display_data"
    }
   ],
   "source": [
    "data = [\n",
    "    {\n",
    "        'x': Finance['TotalWorkExperienceInYears'],\n",
    "        'y': Finance['PerformanceRating'],\n",
    "        'name':'TotalWorkExperienceInYears',\n",
    "        'marker': {\n",
    "            'color': '#3D9970'\n",
    "        },\n",
    "        'boxmean': False,\n",
    "        'orientation': 'h',\n",
    "        \"type\": \"box\",\n",
    "    },\n",
    "    {\n",
    "        'x':Finance['ExperienceYearsAtThisCompany'],\n",
    "        'y':Finance['PerformanceRating'],\n",
    "        'name': 'ExperienceYearsAtThisCompany',\n",
    "        'marker':{\n",
    "            'color': '#FF4136',\n",
    "        },\n",
    "        'boxmean': False,\n",
    "        'orientation': 'h',\n",
    "        \"type\": \"box\",\n",
    "    },\n",
    "    {\n",
    "        'x': Finance['ExperienceYearsInCurrentRole'],\n",
    "        'y': Finance['PerformanceRating'],\n",
    "        'name':'ExperienceYearsInCurrentRole',\n",
    "        'marker': {\n",
    "            'color': '#FF851B',\n",
    "        },\n",
    "        'boxmean': False,\n",
    "        'orientation': 'h',\n",
    "        \"type\": \"box\",\n",
    "    }\n",
    "]\n",
    "layout = {\n",
    "    'xaxis': {\n",
    "        'title': 'Number of Years',\n",
    "        'zeroline': False,\n",
    "    },\n",
    "    'yaxis': {\n",
    "        'title': 'Performance Rating ',\n",
    "        'zeroline': False,\n",
    "    },\n",
    "    'boxmode': 'group',\n",
    "    'title': 'Performance According to the Experience Level - Finance ',\n",
    "}\n",
    "fig = go.Figure(data=data, layout=layout)\n",
    "\n",
    "py.iplot(fig)\n"
   ]
  },
  {
   "cell_type": "markdown",
   "metadata": {},
   "source": [
    "# INSIGHT - 1\n",
    "\n",
    "## The 3 Important factors affecting the employee performance\n",
    "\n",
    "### (1) Emp Environment Satisfaction\n",
    "### (2) Emp Last Salary Hike Percent\n",
    "### (3) Years Since Last Promotion"
   ]
  },
  {
   "cell_type": "markdown",
   "metadata": {},
   "source": [
    "# INSIGHT - 2\n",
    "\n",
    "## Department wise performance : Analysis given below\n",
    "\n",
    "### (1) Sales : \n",
    "#####       * Most of the employees are working in level 3 performance\n",
    "#####       * The performance of male employees is slightly higher than the female employees \n",
    "#####        * The total work experience doesn't count performance rating\n",
    "\n",
    "### (2) Human Resoruces :\n",
    "#####        * Most of the employees are working in level 3 performance\n",
    "#####        * Work experience matters for employee performance\n",
    "#####        * Female employees have good performance\n",
    "#####        * Older people have low performance\n",
    "\n",
    "### (3) Development : \n",
    "#####        * Most of the employees are working in level 3 performance\n",
    "#####        * All age group and both gender of employees are working in level 3 performance\n",
    "        \n",
    "### (4) Data Science : \n",
    "#####        * The highest average of level 3 performance is in data science department\n",
    "#####        * There are very less employees working in level 2 performance\n",
    "#####        * Overall performance of this department is comparitively better than all other departments\n",
    "#####        * Age is not an important criteria for employee performance\n",
    "#####        * Male employee are doing better than female employees\n",
    "#####        * Work experience matters for employee performance\n",
    "\n",
    "### (5) Research & Devlopment :\n",
    "#####        * Level of performance is not affected due to age criteria\n",
    "#####        * Female employees have good performance\n",
    "\n",
    "### (6) Finance :\n",
    "#####        * Performance is affected as the age of the employees increases\n",
    "#####        * Male employees have good performance"
   ]
  },
  {
   "cell_type": "markdown",
   "metadata": {},
   "source": [
    "# INSIGHT - 3\n",
    "\n",
    "## A trained model which can predict the performance of employees based on the factors that will be used to hire the employees\n",
    "\n",
    "### The trained model gives the accuracy as given below: \n",
    "#### (1) Random Forest Algorithm: 93.33% Accuracy\n",
    "#### (2) Gradient Boosted Algorithm: 93.33% Accuracy"
   ]
  },
  {
   "cell_type": "markdown",
   "metadata": {},
   "source": [
    "# INSIGHT - 4\n",
    "\n",
    "## Recommendations to improve the employee performance based on insights from analysis\n",
    "\n",
    "#### (1) The company has to focus more employee environment satisfaction to improve the employee performance\n",
    "\n",
    "#### (2) The company should provide a hike in salaries to enhance / boost the employees to perform well both mentally and physically\n",
    "\n",
    "#### (3) The company should promote the employees performing exceptional in order to motivate the low performing employees\n",
    " \n",
    "#### (4) To hire new employees, the criteria of experience in the role need to be revised\n",
    "\n",
    "#### (5) Employee's work-life balance affects the performance rating\n",
    "\n",
    "#### (6) While recruiting for certain departments the company needs to consider the type of candidates suitable for the role"
   ]
  },
  {
   "cell_type": "markdown",
   "metadata": {},
   "source": [
    "### -------------------------------------------------------- End Of File ------------------------------------------------------------------------------"
   ]
  },
  {
   "cell_type": "markdown",
   "metadata": {},
   "source": [
    "### -------------------------------------------------------  THANK YOU  ----------------------------------------------------------------------------"
   ]
  }
 ],
 "metadata": {
  "kernelspec": {
   "display_name": "Python 3",
   "language": "python",
   "name": "python3"
  },
  "language_info": {
   "codemirror_mode": {
    "name": "ipython",
    "version": 3
   },
   "file_extension": ".py",
   "mimetype": "text/x-python",
   "name": "python",
   "nbconvert_exporter": "python",
   "pygments_lexer": "ipython3",
   "version": "3.8.5"
  }
 },
 "nbformat": 4,
 "nbformat_minor": 4
}
